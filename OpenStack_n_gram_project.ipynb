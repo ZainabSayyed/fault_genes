{
 "cells": [
  {
   "cell_type": "markdown",
   "metadata": {},
   "source": [
    "# OpenStack_Project_Machine Learning Model"
   ]
  },
  {
   "cell_type": "code",
   "execution_count": null,
   "metadata": {
    "collapsed": true
   },
   "outputs": [],
   "source": [
    "import pandas as pd\n",
    "from nltk.corpus import stopwords \n",
    "import nltk\n",
    "from nltk.corpus import treebank\n",
    "import nltk.stem \n",
    "from nltk import stem\n",
    "import numpy as np\n",
    "import string\n",
    "import re\n",
    "import random\n",
    "from nltk.stem.porter import PorterStemmer\n",
    "from nltk.stem.snowball import SnowballStemmer\n",
    "import warnings\n",
    "import operator\n",
    "warnings.filterwarnings(action='ignore', category=UserWarning, module='gensim')\n",
    "from nltk.stem import WordNetLemmatizer\n",
    "import os\n",
    "#import re\n",
    "#import operator\n",
    "import matplotlib.pyplot as plt\n",
    "import warnings\n",
    "import gensim\n",
    "import numpy as np\n",
    "warnings.filterwarnings('ignore')  # Let's not pay heed to them right now\n",
    "from gensim.models import LdaModel, LsiModel, HdpModel, LsiModel,CoherenceModel\n",
    "#from gensim.models.wrappers import LdaMallet\n",
    "from gensim.corpora import Dictionary\n",
    "from gensim.models.wrappers import LdaMallet\n",
    "\n",
    "#from pprint import pprint\n",
    "import nltk\n",
    "#nltk.download('stopwords') # Let's make sure the 'stopword' package is downloaded & updated\n",
    "#nltk.download('wordnet') # \n",
    "from gensim.utils import lemmatize\n"
   ]
  },
  {
   "cell_type": "code",
   "execution_count": null,
   "metadata": {
    "collapsed": true
   },
   "outputs": [],
   "source": [
    "import pyLDAvis.gensim\n",
    "from optparse import OptionParser"
   ]
  },
  {
   "cell_type": "code",
   "execution_count": null,
   "metadata": {
    "collapsed": true
   },
   "outputs": [],
   "source": [
    "#Randomly select 1000 from bugslist and report (launch pad and stack over flow)\n",
    "from nltk.stem import PorterStemmer\n",
    "ps = PorterStemmer()"
   ]
  },
  {
   "cell_type": "code",
   "execution_count": null,
   "metadata": {
    "collapsed": true
   },
   "outputs": [],
   "source": [
    "#Projects in Open-Stacks"
   ]
  },
  {
   "cell_type": "code",
   "execution_count": null,
   "metadata": {},
   "outputs": [],
   "source": [
    "Project=[\"NOVA\"]\n",
    "'''\"NOVA\",\"NEUTRON\",\"NEUTRON\",\"GLANCE\",\"IRONIC\",\"MAGNUM\",\"STORLETS\",\"ZUN\",\"SWIFT\",\"CINDER\",\"MANILA\",\"KARBOR\",\"FREEZER\",\"DESIGNATE\",\"DRAGONFLOW\",\"KURYR\",\"OCTAVIA\",\"TACKER\",\"TRICIRCLE\",\"TROVE\",\"SAHARA\",\"SEARCHLIGHT\",\"KEYSTONE\",\"BARBICAN\",\"CONGRESS\",\"MISTRAL\",\"HORIZON\",\"OSCLIENT (CLI)\",\"RALLY\",\"SENLIN\",\"VITRAGE\",\"WATCHER\",\"CHEF OPENSTACK\",\"KOLLA\",\"OPENSTACK CHARMS\",\"OPENSTACK-ANSIBLE\",\"PUPPET OPENSTACK\",\"TRIPLEO\",\"HEAT\",\"ZAQAR\",\"MURANO\",\"SOLUM\",\"CEILOMETER\",\"CLOUDKITTY\",\"MONASCA\",\"AODH\",\"PANKO\"]'''"
   ]
  },
  {
   "cell_type": "code",
   "execution_count": null,
   "metadata": {},
   "outputs": [],
   "source": [
    "#Assigned categories for OpenStack Project\n",
    "print Project"
   ]
  },
  {
   "cell_type": "code",
   "execution_count": null,
   "metadata": {
    "collapsed": true
   },
   "outputs": [],
   "source": [
    "Category={\"COMPUTE\":[\"NOVA\",\"GLANCE\",\"IRONIC\",\"MAGNUM\",\"STORLETS\",\"ZUN\"],\"STORAGE,BACKUP AND RECOVERY\":[\"SWIFT\",\"CINDER\",\"MANILA\",\"KARBOR\",\"FREEZER\"],\"NETWORKING AND CONTENT DELIVERY\":[\"NEUTRON\",\"DESIGNATE\",\"DRAGONFLOW\",\"KURYR\",\"OCTAVIA\",\"TACKER\",\"TRICIRCLE\"],\"DATA AND ANALYTICS\":[\"TROVE\",\"SAHARA\",\"SEARCHLIGHT\"],\"SECURITY AND IDENTITY COMPLIANCE\":[\"KEYSTONE\",\"BARBICAN\",\"CONGRESS\",\"MISTRAL\"],\"MANAGEMENT TOOLS\":[\"HORIZON\",\"OSCLIENT (CLI)\",\n",
    "\"RALLY\",\"SENLIN\",\"VITRAGE\",\"WATCHER\"],\"DEPLOYMENT TOOLS\":[\"CHEF OPENSTACK\",\"KOLLA\",\"OPENSTACK CHARMS\",\"OPENSTACK-ANSIBLE\",\"PUPPET OPENSTACK\",\"TRIPLEO\"],\"APPLICATION SERVICES\":[\"HEAT\",\"ZAQAR\",\"MURANO\",\"SOLUM\"],\"MONITORING AND METERING\":[\"CEILOMETER\",\n",
    "\"CLOUDKITTY\",\"MONASCA\",\"AODH\",\"PANKO\"]}"
   ]
  },
  {
   "cell_type": "code",
   "execution_count": null,
   "metadata": {
    "collapsed": true
   },
   "outputs": [],
   "source": [
    "Project_OpenStack=[\"NOVA\",\"GLANCE\",\"IRONIC\",\"MAGNUM\",\"STORLETS\",\"ZUN\",\"SWIFT\",\"CINDER\",\"MANILA\",\"KARBOR\",\"FREEZER\",\n",
    "\"NEUTRON\",\"DESIGNATE\",\"DRAGONFLOW\",\"KURYR\",\"OCTAVIA\",\"TACKER\",\"TRICIRCLE\",\"TROVE\",\"SAHARA\",\"SEARCHLIGHT\",\"KEYSTONE\",\"BARBICAN\",\"CONGRESS\",\"MISTRAL\",\"HORIZON\",\"OSCLIENT (CLI)\",\"RALLY\",\"SENLIN\",\"VITRAGE\",\"WATCHER\",\"CHEF OPENSTACK\",\"KOLLA\",\"OPENSTACK CHARMS\",\"OPENSTACK-ANSIBLE\",\"PUPPET OPENSTACK\",\"TRIPLEO\",\"HEAT\",\"ZAQAR\",\"MURANO\",\"SOLUM\",\"CEILOMETER\",\"CLOUDKITTY\",\"MONASCA\",\"AODH\",\"PANKO\"]"
   ]
  },
  {
   "cell_type": "code",
   "execution_count": null,
   "metadata": {},
   "outputs": [],
   "source": [
    "len(Project)"
   ]
  },
  {
   "cell_type": "code",
   "execution_count": null,
   "metadata": {
    "collapsed": true
   },
   "outputs": [],
   "source": [
    "filename = \"D:\\\\OpenStack\\\\buglist_NOVA.xlsx\"\n",
    "df_launchpad=pd.read_excel(filename)\n",
    "df=pd.DataFrame(df_launchpad)\n",
    "del(df_launchpad)\n",
    "field=[]\n",
    "for i in df.project:\n",
    "    i=str(i)\n",
    "    if i.upper() in Project:\n",
    "        field.append(i.upper())\n",
    "    else:\n",
    "        field.append(i.upper())\n",
    "df=df.drop(['project','component','version','fault_class','fault_type','fault_symptom','severity','priority','status','mitigation','log','repro','submitter','assignee','created','deployment'], axis=1)\n",
    "df=df.assign(Project=pd.Series(field))\n",
    "field=[]\n",
    "count=0\n",
    "for i in df.Project:\n",
    "    count=count+1\n",
    "    for k,v in Category.items():\n",
    "        if i in v:\n",
    "            field.append(k)\n",
    "            break\n",
    "    if len(field)<count:\n",
    "        field.append('Others')\n",
    "#df.set_index=df.bug\n",
    "df=df.assign(Category=pd.Series(field))"
   ]
  },
  {
   "cell_type": "code",
   "execution_count": null,
   "metadata": {},
   "outputs": [],
   "source": [
    "len(df)"
   ]
  },
  {
   "cell_type": "code",
   "execution_count": null,
   "metadata": {
    "collapsed": true
   },
   "outputs": [],
   "source": [
    "filename = \"D:\\\\OpenStack\\\\ask_os.csv\"\n",
    "df_ask_os = pd.read_csv(filename)\n",
    "df_ask=pd.DataFrame(df_ask_os)\n",
    "del(df_ask_os)"
   ]
  },
  {
   "cell_type": "code",
   "execution_count": null,
   "metadata": {
    "collapsed": true
   },
   "outputs": [],
   "source": [
    "#Add Project column into ask_os\n",
    "field=[]\n",
    "for i in df_ask.answer:\n",
    "    if type(i)== int or type(i)== float:  \n",
    "        continue\n",
    "    i = re.sub(r'[^\\x00-\\x7f]','',i)\n",
    "    if type(i) == type(u''):\n",
    "        i = i.encode(\"utf-8\",'ignore')\n",
    "    data=str(i).split()\n",
    "    for j in data:\n",
    "        if j.upper() in Project:\n",
    "            field.append(j.upper())   \n",
    "df_ask=df_ask.assign(Project=pd.Series(field))\n",
    "field=[]\n",
    "count=0\n",
    "for i in df_ask.Project:\n",
    "    count= count +1\n",
    "    for k,v in Category.items():\n",
    "        if i in v:\n",
    "            field.append(k)\n",
    "            break\n",
    "    if len(field)< count:\n",
    "        field.append('Other')\n",
    "#df.set_index=df.bug\n",
    "df_ask=df_ask.assign(Category=pd.Series(field))"
   ]
  },
  {
   "cell_type": "code",
   "execution_count": null,
   "metadata": {
    "collapsed": true
   },
   "outputs": [],
   "source": [
    "df_ask=df_ask[df_ask.Project=='NOVA']"
   ]
  },
  {
   "cell_type": "code",
   "execution_count": null,
   "metadata": {
    "collapsed": true
   },
   "outputs": [],
   "source": [
    "#df_ask.set_index=df_ask.url\n",
    "df_ask=df_ask.drop(['answer'],axis=1)"
   ]
  },
  {
   "cell_type": "code",
   "execution_count": null,
   "metadata": {
    "collapsed": true
   },
   "outputs": [],
   "source": [
    "filename = \"D:\\\\OpenStack\\\\report_NOVA.xlsx\"\n",
    "df_st =pd.DataFrame( pd.read_excel(filename))\n"
   ]
  },
  {
   "cell_type": "code",
   "execution_count": null,
   "metadata": {
    "collapsed": true
   },
   "outputs": [],
   "source": [
    "field=[]\n",
    "for i in df_st.Project:\n",
    "    if i.upper() in Project:\n",
    "        field.append(i.upper())\n",
    "df_st=df_st.drop(['Project','answers','link','date','votes','fetch_url'],axis=1)\n",
    "df_st=df_st.assign(Project=pd.Series(field))\n",
    "#df_st.set_index=df_st.id\n",
    "field=[]\n",
    "count=0\n",
    "for i in df_st.Project:\n",
    "    count = count + 1\n",
    "    for k,v in Category.items():\n",
    "        if i in v:\n",
    "            field.append(k)\n",
    "            break\n",
    "    if len(field)<count:\n",
    "        field.append('Other')\n",
    "#df.set_index=df.bug\n",
    "df_st=df_st.assign(Category=pd.Series(field))"
   ]
  },
  {
   "cell_type": "code",
   "execution_count": null,
   "metadata": {
    "collapsed": true
   },
   "outputs": [],
   "source": [
    "stop_words=stopwords.words('english')\n",
    "stop_word_dict=[]\n",
    "for i in stop_words:\n",
    "    stop_word_dict.append(str(i.encode(\"utf-8\")))\n",
    "common_words=['',\"aren't\",'ffffffffff','hi','Hi','hello','the','',' ','\\t','\\n',':','openstack','OpenStack','instance','trace','error','file','compute','line','volume']\n",
    "mylist=map(lambda x:x.lower(),Project)\n",
    "stop_word_dict=stop_word_dict + common_words+mylist+Project"
   ]
  },
  {
   "cell_type": "code",
   "execution_count": null,
   "metadata": {
    "collapsed": true
   },
   "outputs": [],
   "source": [
    "#Create tokens and filter out unwanted characters from string"
   ]
  },
  {
   "cell_type": "code",
   "execution_count": null,
   "metadata": {
    "collapsed": true
   },
   "outputs": [],
   "source": [
    "import nltk\n",
    "from nltk.util import ngrams\n",
    "def word_grams(words, min=1,max =4):\n",
    "    s = []\n",
    "    for n in range(min, max+1):\n",
    "        for ngram in ngrams(words, n):\n",
    "            s.append(' '.join(str(i) for i in ngram))\n",
    "    return s\n",
    "\n",
    "def create_dict(dataframe,field,stop_word_dict):\n",
    "    #create n-grams for each record in dataframe\n",
    "    new_corpus=[]\n",
    "    ngram_corpus=[]\n",
    "    lemmatizer = WordNetLemmatizer()\n",
    "    newDetailsList=[]   \n",
    "    #n-gram for analysis:\n",
    "    for i in field:\n",
    "        temp_corpus=[]\n",
    "        if type(i) == type(u''):\n",
    "            i = i.encode(\"utf-8\",'ignore')\n",
    "        i=str(i)\n",
    "        words=re.split(r'[^A-Za-z]',i)\n",
    "        words=[x.lower() for x in words]\n",
    "        words = [lemmatizer.lemmatize(j, pos='v') for j in words]\n",
    "        for j in range(0,len(words)):\n",
    "            if len(words[j].strip())<= 3 or len(words[j].strip())>= 30 or words[j].strip() in stop_word_dict:\n",
    "                continue\n",
    "            temp_corpus.append(words[j].strip())\n",
    "        max=len(temp_corpus)\n",
    "        ngram_corpus.append(word_grams(temp_corpus,1,3))\n",
    "        newDetailsList.append(word_grams(temp_corpus,1,1))\n",
    "    tempList=[]\n",
    "    for k in newDetailsList:\n",
    "        temp=''\n",
    "        for l in k:\n",
    "            temp= temp+' '+l\n",
    "        tempList.append(temp.strip())\n",
    "    dataframe.newDetails=pd.Series(tempList)\n",
    "    \n",
    "    ngram_dic={}    \n",
    "    for i in ngram_corpus:\n",
    "        for words in i:\n",
    "            ngram_dic[words]=ngram_dic.get(words,0)+1 \n",
    "    Key=[]\n",
    "    Value=[]\n",
    "    for k,v in ngram_dic.items():\n",
    "        if k in stop_word_dict or len(k)<=3 or len(k)>=30:\n",
    "            del ngram_dic[k]\n",
    "      \n",
    "        Key.append(k)\n",
    "        Value.append(v)\n",
    "    temp=pd.DataFrame()\n",
    "    temp=temp.assign(Key=Key)\n",
    "    temp=temp.assign(Value=Value)\n",
    "    temp.to_csv('D:\\\\OpenStack\\\\n_gram_dictionary.csv')\n",
    "    del temp\n",
    "    del Key\n",
    "    del Value\n",
    "    del ngram_dic\n",
    "    \n",
    "    \n",
    "    for line in field:\n",
    "        temp_corpus=[]\n",
    "        if type(line) == type(u''):\n",
    "            line = line.encode(\"utf-8\",'ignore')\n",
    "        line=str(line)\n",
    "        words=re.split(r'[^A-Za-z]',line)\n",
    "        words=[x.lower() for x in words]\n",
    "        words = [lemmatizer.lemmatize(j, pos='v') for j in words]\n",
    "        for j in range(0,len(words)):\n",
    "            if len(words[j].strip())<= 3 or len(words[j].strip())>= 30 or words[j].strip() in stop_word_dict:\n",
    "                continue\n",
    "            temp_corpus.append(words[j].strip())\n",
    "        max=len(temp_corpus)\n",
    "        new_corpus.append(word_grams(temp_corpus,1,1))\n",
    "        \n",
    "    dataframe.field_words_bag=pd.Series(new_corpus)\n",
    "    #search for unique key and add into dict with it's count\n",
    "    field_words_count={}\n",
    "    for i in dataframe.field_words_bag:\n",
    "        for words in i:\n",
    "            field_words_count[words]=field_words_count.get(words,0)+1 \n",
    "  \n",
    "    for k,v in field_words_count.items():\n",
    "        for k1,v1 in field_words_count.items():\n",
    "            if k1!=k and k1 in k and len(k)>len(k1) and v1<=v:              \n",
    "                del field_words_count[k1] \n",
    "                \n",
    "    for k,v in field_words_count.items():\n",
    "        count=0\n",
    "        for k1,v1 in field_words_count.items():\n",
    "            if k1!=k and k in k1 and len(k1)>len(k):  \n",
    "                count=count+v1       \n",
    "        if count>=v:\n",
    "            del field_words_count[k]\n",
    "            \n",
    "    for k,v in field_words_count.items():\n",
    "        if k in stop_word_dict or len(k)<=3 or len(k)>=30:\n",
    "            del field_words_count[k]   \n",
    "            \n",
    "         \n",
    "    return field_words_count,dataframe.field_words_bag,dataframe.newDetails"
   ]
  },
  {
   "cell_type": "code",
   "execution_count": null,
   "metadata": {
    "collapsed": true
   },
   "outputs": [],
   "source": [
    "#Complie and Run piece of script for each project seprately\n",
    "#For testing it's generated for only 3 project Nova, Neutron and Horizon\n",
    "#Extend script to run for all project available on Project field\n",
    "for i in range(0,len(Project)):\n",
    "        globals() ['%s'%Project[i]]= {}"
   ]
  },
  {
   "cell_type": "code",
   "execution_count": null,
   "metadata": {
    "collapsed": true
   },
   "outputs": [],
   "source": [
    "def Project_dict(dataframe,Project):\n",
    "    for i in range(0,len(Project)):\n",
    "        for j in range(0,len(dataframe)):\n",
    "            if Project[i]==dataframe.Project[j]:\n",
    "                for word in dataframe.field_words_bag[j]:\n",
    "                    #dict[key]=dic.get(key,0)+1\n",
    "                    exec ('%s'%Project[i]+'[\"'+'%s'%word+'\"] = '+'%s'%Project[i]+'.get(\"'+'%s'%word+'\",0)+1')\n",
    "                    #vars()['%s'%Project[i]][word] = vars()['%s'%Project[i]].get(word,0)+1"
   ]
  },
  {
   "cell_type": "code",
   "execution_count": 111,
   "metadata": {
    "collapsed": true
   },
   "outputs": [],
   "source": [
    "Fault_Details_lp= pd.Series(df.fault_description+df.req)\n",
    "#df=df.drop(['fault_description','req'],axis=1)\n",
    "df=df.assign(Fault_Details_lp=Fault_Details_lp.values)\n",
    "df=df.assign(field_words_bag='')\n",
    "df=df.assign(newDetails='')\n",
    "#field_words_count,dataframe.field_words_bag,dataframe.newDetails\n",
    "launchpad_words_count={}\n",
    "launchpad_words_count,df.field_words_bag,df.newDetails=create_dict(df,df.Fault_Details_lp,stop_word_dict)\n",
    "#df=df.drop(['Fault_Details_lp'],axis=1)\n",
    "Project_dict(df,Project)\n",
    "del(launchpad_words_count)"
   ]
  },
  {
   "cell_type": "code",
   "execution_count": 112,
   "metadata": {},
   "outputs": [],
   "source": [
    "for i in range(0,len(df_st.longtext)):\n",
    "    corpus=[]\n",
    "    if type(df_st.longtext[i])== int or type(df_st.longtext[i])== float:  \n",
    "        continue\n",
    "    df_st.longtext[i] = re.sub(r'[^\\x00-\\x7f]','',df_st.longtext[i])\n",
    "    line=[]\n",
    "    data=df_st.longtext[i].split(' ')\n",
    "    for k in data:\n",
    "        if type(k) == type(u''):\n",
    "            k = k.encode(\"utf-8\",'ignore')\n",
    "        line.append(k)\n",
    "    temp=''\n",
    "    for l in line:\n",
    "        temp=temp+' '+l\n",
    "    df_st.longtext[i] = str(temp)\n",
    "        \n",
    "df_st.longtext=df_st.longtext.astype(str)"
   ]
  },
  {
   "cell_type": "code",
   "execution_count": 113,
   "metadata": {},
   "outputs": [],
   "source": [
    "Fault_Details_st= pd.Series(df_st.title+df_st.id+df_st.longtext)\n",
    "df_st=df_st.assign(Fault_Details_st=Fault_Details_st.values)\n",
    "df_st=df_st.assign(field_words_bag='')\n",
    "df_st=df_st.assign(newDetails='')\n",
    "#field_words_count,dataframe.field_words_bag,dataframe.newDetails\n",
    "#launchpad_words_count={}\n",
    "#launchpad_words_count,df_st.field_words_bag,df_st.newDetails=create_dict(df_st,df.Fault_Details_lp,stop_word_dict)\n",
    "\n",
    "\n",
    "#df_st=df_st.drop(['tags','title','longtext'],axis=1)\n",
    "#df_st=df_st.assign(Fault_Details_st=Fault_Details_st.values)\n",
    "#df_st=df_st.assign(field_words_bag='')\n",
    "#df_st=df_st.assign(newDetails='')\n",
    "stackoverflow_words_count={}\n",
    "stackoverflow_words_count,df_st.field_words_bag,df_st.newDetails=create_dict(df_st,df_st.Fault_Details_st,stop_word_dict)\n",
    "#df_st=df_st.drop(['Fault_Details_st'],axis=1)\n",
    "Project_dict(df_st,Project)\n",
    "del(stackoverflow_words_count)"
   ]
  },
  {
   "cell_type": "code",
   "execution_count": 114,
   "metadata": {},
   "outputs": [],
   "source": [
    "Fault_Details_ask = pd.Series(df_ask.summary+df_ask.title)\n",
    "#df_ask=df_ask.drop(['summary','title'],axis=1)\n",
    "df_ask=df_ask.assign(Fault_Details_ask=Fault_Details_ask.values)\n",
    "df_ask=df_ask.assign(field_words_bag='')\n",
    "df_ask=df_ask.assign(newDetails='')\n",
    "ask_words_count={}\n",
    "ask_words_count,df_ask.field_words_bag,df_ask.newDetails=create_dict(df_ask,df_ask.Fault_Details_ask,stop_word_dict)\n",
    "\n",
    "#df_ask=df_ask.drop(['Fault_Details_ask'],axis=1)\n",
    "'''for k,v in ask_words_count.items():\n",
    "    my_words_count[k]=my_words_count.get(k,1)+v\n",
    "for j in range(0,len(df_ask)):\n",
    "    if df_ask.Project[j] == 'HORIZON':\n",
    "        for k in df_ask.field_words_bag[j]:\n",
    "            HORIZON[k]=HORIZON.get(k,0)+1'''\n",
    "Project_dict(df_ask,Project)\n",
    "del(ask_words_count)"
   ]
  },
  {
   "cell_type": "code",
   "execution_count": 115,
   "metadata": {
    "collapsed": true
   },
   "outputs": [],
   "source": [
    "#Create combined unique wordlist from all 3 data scources for each project"
   ]
  },
  {
   "cell_type": "code",
   "execution_count": 116,
   "metadata": {},
   "outputs": [
    {
     "name": "stdout",
     "output_type": "stream",
     "text": [
      "NOVA {'brqc': 1, 'func': 145, 'foud': 1, 'four': 2, 'prefix': 24, 'firt': 1, 'fddfc': 2, 'connmgr': 1, 'typeerror': 20, 'subquestion': 1, 'ramdisk': 38, 'virtio': 87, 'rational': 1, 'dell': 6, 'cgmanager': 1, 'lscpu': 1, 'kpxe': 1, 'macaddress': 1, 'qlen': 16, 'basics': 1, 'internally': 2, 'gitdb': 1, 'rabbitmq': 54, 'djoreilly': 1, 'straight': 1, 'specially': 2, 'myusername': 1, 'second': 115, 'fece': 1, 'feca': 7, 'bccadb': 1, 'enstack': 2, 'errors': 71, 'instancefaultadd': 1, 'minimize': 3, 'groupid': 5, 'reporter': 1, 'journalctl': 9, 'granularity': 1, 'dorm': 1, 'klvnqa': 2, 'controler': 2, 'expander': 40, 'waitconditiontimeout': 2, 'opentack': 2, 'appropriately': 1, 'divide': 1, 'macvtap': 4, 'xlarge': 5, 'pycparser': 1, 'requestsexceptions': 1, 'replace': 34, 'unix': 7, 'uniq': 25, 'unit': 75, 'httpsconnectionpool': 2, 'syntaxpy': 1, 'therefore': 13, 'suspendserver': 1, 'rootwrap': 87, 'excp': 1, 'successful': 32, 'somehting': 1, 'hurt': 2, 'fweb': 1, 'hole': 1, 'hold': 14, 'unpack': 3, 'circumstances': 2, 'writelines': 4, 'drwxrwxrwx': 1, 'samfira': 1, 'blade': 1, 'shelve': 74, 'rework': 1, 'example': 141, 'multinic': 2, 'wand': 2, 'instancecreating': 1, 'networkempty': 1, 'respose': 2, 'absolute': 10, 'clould': 1, 'connectx': 1, 'gremlins': 1, 'feature': 81, 'revisit': 1, 'machine': 251, 'addfloatingip': 1, 'significance': 1, 'serverrescuenegativetestjson': 31, 'preferable': 2, 'credential': 5, 'lxcqkfpff': 1, 'openvswitch': 82, 'diagram': 3, 'wrong': 78, 'ungracefully': 3, 'opensack': 1, 'constants': 1, 'effective': 5, 'alias': 56, 'objectactionerror': 1, 'timers': 3, 'lambda': 7, 'restriction': 3, 'statedir': 1, 'feedback': 3, 'uninstalling': 2, 'vary': 40, 'concurrency': 54, 'bootstrapped': 1, 'artifactid': 6, 'uuid': 410, 'sharednet': 2, 'mewald': 2, 'virmacaddr': 1, 'ipcontroller': 2, 'easier': 5, 'pfsp': 1, 'icdecd': 2, 'detachment': 6, 'streamhandler': 1, 'interrupt': 4, 'timeout': 135, 'debug': 422, 'series': 8, 'whic': 1, 'devref': 1, 'pluigin': 1, 'xxxxxxxxxxxxxxxx': 1, 'distrib': 8, 'reachidentity': 1, 'overwrite': 19, 'attachement': 2, 'inplace': 1, 'encourage': 1, 'adapt': 2, 'networkvmware': 1, 'foundation': 2, 'strato': 7, 'gunicorn': 1, 'beeab': 2, 'yesterday': 3, 'sensors': 1, 'universally': 1, 'xargs': 21, 'opsnestck': 1, 'unserializable': 1, 'stripe': 4, 'killmode': 3, 'volumetype': 8, 'misplace': 6, 'instruct': 1, 'jichenvm': 1, 'testrepository': 1, 'service': 1145, 'nickname': 1, 'engagement': 1, 'execstartpre': 2, 'master': 197, 'infamous': 1, 'underlie': 2, 'listen': 44, 'rslvyzb': 2, 'convention': 6, 'predictable': 3, 'iommu': 3, 'tree': 42, 'project': 321, 'myfile': 4, 'ccbc': 1, 'recheck': 1, 'websocket': 1, 'runner': 27, 'increment': 2, 'runned': 2, 'dozen': 2, 'concrete': 2, 'responsible': 1, 'assertequal': 2, 'castellan': 5, 'memebers': 1, 'shall': 1, 'bfca': 6, 'object': 310, 'doit': 24, 'consistencynova': 1, 'sheving': 1, 'letter': 6, 'breakpoint': 1, 'dummy': 9, 'initiator': 20, 'avaiable': 1, 'spiceconn': 1, 'tautology': 2, 'tecs': 17, 'conducutor': 1, 'incomplete': 2, 'lbaasv': 2, 'signatures': 1, 'prim': 4, 'prio': 2, 'edbdce': 1, 'effc': 3, 'effb': 2, 'reschedule': 20, 'gauge': 2, 'unmanaged': 4, 'busy': 14, 'layout': 1, 'menu': 3, 'novacompute': 1, 'bust': 1, 'modprobing': 1, 'theme': 5, 'sfvmskwspzsy': 1, 'recreatable': 1, 'ceil': 1, 'addrs': 1, 'altogether': 1, 'keeplive': 1, 'defdf': 1, 'dbcea': 65, 'nicely': 2, 'patch': 60, 'corrent': 2, 'eaabe': 2, 'release': 154, 'stackbuilderrorexception': 1, 'respond': 18, 'respone': 2, 'mandatory': 2, 'disaster': 1, 'fair': 1, 'fdae': 1, 'sensitivity': 1, 'vmwarevcdriver': 3, 'fdab': 3, 'unexpectedly': 7, 'hostinstances': 1, 'result': 455, 'fail': 874, 'vport': 1, 'alternative': 10, 'best': 19, 'dadee': 2, 'invalidvolume': 3, 'wikipedia': 3, 'score': 1, 'preserve': 10, 'instancerecreatenotsupported': 2, 'extend': 73, 'debb': 1, 'deba': 1, 'downgrade': 6, 'topology': 38, 'listservice': 2, 'adapter': 22, 'vbox': 1, 'logic': 32, 'login': 54, 'argue': 1, 'virdomainmigratetouri': 2, 'conseqent': 1, 'compuet': 2, 'genmask': 5, 'diff': 6, 'inode': 1, 'ibvirterror': 1, 'iterable': 2, 'fabswapping': 1, 'testenv': 1, 'chrome': 3, 'neutronapi': 1, 'advert': 5, 'mutilple': 1, 'mitigation': 1, 'privilege': 8, 'efbbe': 1, 'efbbb': 3, 'dynamically': 3, 'life': 2, 'spit': 1, 'worker': 4, 'telnet': 1, 'wish': 4, 'pytz': 1, 'chile': 1, 'child': 41, 'spin': 19, 'hostbinding': 1, 'snat': 14, 'invaliddiskformat': 1, 'employ': 1, 'nonconflicting': 1, 'servergroupantiaffinityfilter': 1, 'destory': 1, 'wanghao': 1, 'cmdline': 5, 'dests': 1, 'nnya': 2, 'severity': 3, 'things': 35, 'bootfile': 2, 'split': 11, 'codename': 2, 'cpuallocationpolicy': 1, 'templates': 43, 'fairly': 4, 'openstacknetwork': 2, 'topo': 5, 'tpln': 1, 'ownership': 17, 'netev': 1, 'tune': 3, 'gzip': 2, 'oixz': 2, 'bellow': 3, 'distribute': 20, 'datapath': 11, 'previous': 22, 'requiredopterror': 1, 'drvie': 1, 'ptte': 1, 'collections': 2, 'easy': 10, 'east': 1, 'eventlets': 1, 'possible': 137, 'possibly': 4, 'socktype': 1, 'shadow': 3, 'unique': 33, 'desire': 8, 'virdomainmanagedsave': 3, 'alice': 1, 'networknotfoundforbridge': 2, 'mstdout': 1, 'beneficial': 1, 'right': 36, 'instancesfailing': 1, 'people': 10, 'luksopen': 2, 'volumebackendapiexception': 4, 'bottom': 3, 'circumvent': 2, 'tornado': 2, 'timestamps': 1, 'jsonlint': 1, 'trampoline': 1, 'sshd': 1, 'adec': 2, 'ifversion': 6, 'slightly': 1, 'statements': 3, 'rationale': 1, 'dashboards': 3, 'stacklight': 1, 'administer': 3, 'wrap': 96, 'fabric': 2, 'support': 204, 'constantly': 1, 'offie': 1, 'avail': 11, 'width': 1, 'wordpress': 7, 'overhead': 3, 'availabilityzones': 1, 'happy': 3, 'offer': 4, 'refcount': 1, 'evrytime': 1, 'notifications': 18, 'understandable': 1, 'hxxp': 1, 'openauth': 2, 'selfservice': 12, 'duel': 1, 'inside': 40, 'devices': 78, 'complications': 1, 'rerun': 2, 'vmsphere': 1, 'powershell': 2, 'holdback': 3, 'achive': 1, 'instancemapping': 3, 'instancevmware': 1, 'exist': 167, 'pcpus': 5, 'slideshare': 6, 'relay': 2, 'eventual': 1, 'accomodating': 1, 'role': 32, 'blockdevicemappingv': 1, 'jenkins': 65, 'snaphost': 3, 'becuase': 1, 'roll': 14, 'futurewarning': 12, 'cephx': 2, 'intend': 6, 'outage': 5, 'portbinding': 1, 'variable': 16, 'kuubuntu': 1, 'opetstack': 1, 'packets': 22, 'cacerts': 2, 'time': 285, 'push': 4, 'idna': 1, 'newbie': 4, 'disassociate': 1, 'hpet': 3, 'reviewers': 1, 'petrutlucian': 1, 'pnoa': 1, 'programmatically': 4, 'devopsapp': 2, 'openrc': 11, 'choice': 4, 'powervm': 5, 'abstractbuildexecution': 1, 'exact': 28, 'minute': 5, 'tear': 2, 'leave': 61, 'unsupport': 1, 'team': 16, 'multiprocessing': 1, 'netfilter': 4, 'prevent': 23, 'occurrence': 1, 'httpresponseimpl': 4, 'sign': 16, 'anaconda': 1, 'efda': 5, 'efdd': 2, 'efdf': 1, 'optiplex': 4, 'ohter': 1, 'current': 117, 'unintentionally': 1, 'pfusg': 1, 'honour': 4, 'supprim': 2, 'mdebug': 1, 'linuxbridge': 43, 'address': 403, 'alone': 2, 'along': 11, 'intension': 1, 'resultsconvert': 1, 'enroll': 1, 'transition': 6, 'brilliant': 1, 'checksum': 11, 'queue': 27, 'nzac': 2, 'reclaim': 11, 'love': 2, 'prefer': 37, 'logical': 12, 'novadocker': 3, 'logically': 1, 'fake': 23, 'testscenarios': 1, 'instal': 196, 'bookmarks': 1, 'hhbmrszv': 1, 'positive': 1, 'dangle': 2, 'scope': 47, 'fallocate': 5, 'swiftsekretpassword': 1, 'validity': 1, 'visual': 1, 'appendix': 6, 'everywhere': 1, 'afff': 1, 'easiest': 8, 'affa': 1, 'lowercase': 1, 'exensions': 1, 'originally': 4, 'descriptor': 5, 'remaning': 2, 'pyinotify': 1, 'logon': 1, 'want': 184, 'vernum': 4, 'chroot': 1, 'uuidfields': 6, 'novasecgroup': 1, 'invalidinput': 4, 'pkgcloud': 11, 'possiable': 1, 'parameter': 69, 'reconfigured': 1, 'adminsocket': 1, 'directoryresizing': 1, 'explorer': 2, 'spot': 2, 'applications': 8, 'ioctl': 7, 'date': 95, 'data': 346, 'stress': 2, 'natural': 1, 'correlate': 2, 'stdin': 4, 'sandbox': 2, 'xsnippet': 1, 'lookupvar': 1, 'definitions': 17, 'discoveryfailure': 3, 'webpage': 3, 'unacceptable': 1, 'damage': 1, 'course': 9, 'fasteners': 1, 'multipath': 29, 'pbnrlcnzhbci': 2, 'disconnect': 37, 'haproxies': 1, 'standarderror': 4, 'mapper': 24, 'matcher': 6, 'aprox': 1, 'mecache': 1, 'matchee': 5, 'tcpdum': 1, 'livirt': 1, 'revert': 42, 'enginefacade': 5, 'ztbhjidvxgk': 1, 'nouniquematch': 1, 'deletionvmware': 1, 'randomstring': 1, 'turtle': 1, 'retrieve': 33, 'receipt': 1, 'maxcpus': 36, 'predefined': 2, 'container': 107, 'clientvmware': 1, 'investigation': 5, 'internet': 42, 'formula': 1, 'folowing': 1, 'kubernets': 1, 'possibility': 2, 'quite': 12, 'anoop': 1, 'addresswhen': 1, 'emulation': 1, 'besides': 4, 'byte': 7, 'bootloader': 1, 'remainder': 1, 'qvbbfc': 1, 'initiate': 11, 'vmlinuz': 4, 'bothersome': 1, 'router': 80, 'neglect': 1, 'cryptsetup': 15, 'extensionserror': 1, 'xles': 1, 'aarch': 6, 'reopen': 3, 'submit': 5, 'periodical': 1, 'vote': 2, 'open': 137, 'parame': 1, 'operable': 1, 'teardown': 17, 'reconciler': 8, 'bite': 28, 'fbccf': 6, 'indicate': 15, 'draft': 1, 'bits': 1, 'uris': 1, 'novaexception': 15, 'cpuset': 11, 'netmask': 14, 'connections': 41, 'errordescription': 1, 'bddbb': 2, 'future': 35, 'freedesktop': 5, 'arun': 1, 'attachements': 1, 'nicer': 1, 'argument': 31, 'dbapi': 6, 'note': 72, 'take': 102, 'iscsidriver': 1, 'mcastprefix': 1, 'destroy': 59, 'offload': 27, 'opposite': 2, 'buffer': 3, 'compress': 3, 'alibvirt': 2, 'ethernet': 5, 'evaluator': 2, 'operate': 13, 'xffff': 3, 'objectclass': 2, 'average': 4, 'drive': 114, 'testcase': 12, 'headerlist': 1, 'badc': 3, 'bada': 2, 'bracnh': 1, 'salt': 8, 'rtstoolerror': 1, 'ddaf': 2, 'synchronous': 5, 'subprocess': 4, 'iproute': 1, 'inconsistent': 18, 'slot': 31, 'userdata': 2, 'slow': 7, 'vars': 1, 'outside': 19, 'nutshell': 1, 'mynode': 3, 'oversubscription': 1, 'osnailyfacter': 1, 'zipfile': 1, 'zsbub': 1, 'nolock': 2, 'krishna': 1, 'resource': 278, 'settings': 50, 'borrow': 1, 'admins': 1, 'notice': 41, 'noconnection': 1, 'ostensibly': 1, 'listinfo': 5, 'shutdownguest': 6, 'logins': 1, 'screen': 72, 'serialization': 2, 'domu': 1, 'many': 46, 'freeable': 1, 'expression': 2, 'clusternode': 3, 'poiteranvaji': 2, 'anti': 13, 'instanace': 1, 'vram': 3, 'west': 1, 'locally': 17, 'bootfs': 1, 'prototype': 1, 'enable': 272, 'gist': 5, 'gibwr': 1, 'observe': 27, 'former': 1, 'char': 3, 'bootable': 65, 'keygen': 9, 'npid': 1, 'policies': 21, 'situation': 18, 'diskimage': 17, 'ctrl': 6, 'gftkyinvgfchj': 2, 'fdea': 1, 'blah': 1, 'fdeb': 5, 'fdef': 1, 'ascii': 3, 'binary': 23, 'xenbits': 1, 'rzxlciibbtkqgbwvzc': 1, 'hostname': 106, 'subunit': 11, 'nfsdriver': 1, 'consistencygroup': 3, 'immutableset': 1, 'lmvg': 1, 'deflate': 2, 'allocation': 40, 'undefined': 1, 'tenancy': 1, 'rootwrapdaemonhelper': 2, 'nosql': 1, 'mypassword': 1, 'ress': 1, 'resp': 156, 'rest': 91, 'lsul': 2, 'disperse': 2, 'attachdeviceflags': 18, 'generator': 9, 'haystack': 1, 'netapp': 15, 'eadd': 2, 'connectionrefused': 1, 'aspects': 2, 'around': 19, 'rejoin': 6, 'exernal': 3, 'traffic': 33, 'darn': 1, 'securitygroupcannotbeapplied': 3, 'bcec': 1, 'enums': 2, 'libv': 1, 'confine': 1, 'intel': 23, 'shutted': 2, 'devcompute': 1, 'abstractbuild': 2, 'inter': 1, 'keypairs': 17, 'grub': 7, 'conditional': 1, 'iuaxtw': 1, 'udev': 2, 'myproxy': 3, 'assertionerror': 1, 'authenticate': 18, 'plase': 1, 'grafana': 2, 'exit': 311, 'installable': 4, 'refer': 18, 'power': 166, 'equirement': 1, 'libvirtbasevolumedriver': 1, 'filterscheduler': 4, 'ofzn': 1, 'package': 2105, 'luck': 4, 'image': 1256, 'fdafd': 2, 'essex': 9, 'pivot': 5, 'minram': 2, 'technically': 2, 'configdisk': 1, 'glean': 1, 'redirection': 1, 'detachments': 2, 'kolla': 96, 'media': 15, 'complete': 73, 'errorvalue': 4, 'queryclient': 2, 'epilog': 1, 'pull': 9, 'edbec': 3, 'htmltransport': 1, 'xxxxxxx': 1, 'virsh': 36, 'dirty': 3, 'resourceclassexists': 1, 'site': 988, 'agree': 2, 'engine': 87, 'creat': 2, 'migrate': 221, 'certain': 13, 'watcher': 3, 'catchup': 4, 'jargon': 1, 'sepcify': 1, 'fuelmaster': 1, 'ideally': 11, 'collector': 4, 'novice': 1, 'graduate': 1, 'osic': 1, 'hacluster': 3, 'acdfa': 2, 'puppy': 2, 'openid': 2, 'pagesmemory': 1, 'poweron': 2, 'tricky': 1, 'mask': 12, 'dtes': 4, 'webssotests': 1, 'dcffd': 1, 'adam': 1, 'livesnapshot': 6, 'adab': 5, 'adac': 1, 'metager': 1, 'original': 40, 'adaf': 1, 'externally': 2, 'consider': 27, 'enviroment': 3, 'etherwake': 1, 'disableapitermination': 2, 'attrs': 10, 'careful': 1, 'number': 83, 'paramlimit': 1, 'libertyguide': 1, 'jatha': 1, 'tail': 9, 'minver': 2, 'resetstate': 2, 'genericerror': 1, 'vpnmanager': 3, 'ahmz': 1, 'postrouting': 4, 'condition': 33, 'cable': 4, 'large': 41, 'adjust': 1, 'small': 52, 'machanism': 2, 'baff': 4, 'bafa': 9, 'bafc': 2, 'quicker': 1, 'sync': 94, 'past': 1, 'pass': 115, 'recalculate': 2, 'clock': 8, 'section': 40, 'shutdowninstance': 1, 'method': 220, 'contrast': 2, 'full': 106, 'hash': 17, 'installations': 5, 'fule': 1, 'hours': 18, 'uuids': 28, 'hast': 1, 'november': 1, 'cloudferry': 2, 'nochange': 1, 'imagenotactive': 1, 'sender': 6, 'guestfs': 1, 'volumeid': 4, 'experience': 11, 'prior': 8, 'periodic': 68, 'fianlly': 1, 'emulator': 12, 'pick': 15, 'action': 161, 'imagemeta': 7, 'verbose': 17, 'cloudformation': 3, 'bbdd': 28, 'pathing': 1, 'career': 2, 'select': 93, 'executable': 1, 'evacauting': 1, 'rhev': 2, 'rhel': 25, 'automate': 1, 'metric': 8, 'tester': 2, 'relevant': 19, 'company': 6, 'enormous': 1, 'testee': 1, 'openvswitchcpu': 1, 'uuidfield': 6, 'cntrl': 1, 'endpoint': 84, 'servicecatalog': 1, 'erbgrnwfozzwbixnysvcibaujqth': 2, 'learn': 12, 'prompt': 10, 'scan': 2, 'rdjivpw': 2, 'apierror': 1, 'suggestions': 15, 'accept': 123, 'mkfs': 7, 'snapshotting': 3, 'sense': 15, 'startmain': 1, 'ubutnu': 1, 'lvremove': 4, 'huge': 7, 'respective': 4, 'xxxx': 12, 'bodenr': 1, 'freshly': 1, 'migrationops': 1, 'plane': 6, 'webhooks': 1, 'lifecycle': 7, 'mappint': 1, 'refuse': 28, 'github': 189, 'register': 34, 'django': 12, 'memballoon': 8, 'fundamental': 2, 'nvidia': 1, 'abqohp': 1, 'keyfile': 1, 'sothy': 2, 'checkbox': 1, 'signo': 3, 'handlelessthan': 2, 'paper': 1, 'installer': 5, 'saucy': 2, 'coomment': 1, 'afbe': 1, 'iqns': 6, 'schedulecreatevolumetask': 1, 'raid': 4, 'alli': 1, 'ecbe': 3, 'bypass': 4, 'colleague': 1, 'propose': 10, 'guildline': 1, 'deda': 1, 'everytime': 3, 'always': 52, 'troubleshoot': 8, 'gitlab': 2, 'userid': 6, 'vrouter': 1, 'found': 1, 'erro': 1, 'week': 2, 'extnet': 1, 'keymgr': 19, 'sphinxpolicygen': 2, 'contiguous': 9, 'reduce': 11, 'crontab': 6, 'initrd': 9, 'resouces': 1, 'operation': 111, 'jloggingmodule': 1, 'bccc': 3, 'bccd': 6, 'ijowlcj': 2, 'usednova': 1, 'cloudwatch': 2, 'valueerrors': 6, 'dprince': 1, 'offline': 10, 'fiqwkq': 1, 'volumebdmpathnotfound': 2, 'virtlogd': 1, 'pcpu': 1, 'currentlyxenapi': 1, 'qualify': 3, 'abnormally': 1, 'proxy': 120, 'imagine': 2, 'definition': 9, 'irrespectively': 1, 'genuineintel': 1, 'major': 9, 'estabilish': 1, 'unusable': 2, 'migratetouri': 3, 'validate': 30, 'differ': 1, 'guest': 138, 'calculations': 1, 'vnics': 2, 'keywargs': 1, 'lixtmqfdkqyp': 1, 'relationship': 3, 'accessips': 1, 'hpmsaiscsidriver': 1, 'accessipv': 64, 'immediate': 4, 'filesystems': 2, 'volumev': 3, 'unrealistic': 1, 'grace': 1, 'dpkg': 26, 'ironpass': 3, 'imply': 1, 'aggegate': 2, 'seamlessly': 1, 'capabilies': 1, 'kbnvctldch': 1, 'selm': 1, 'self': 1391, 'storagespec': 1, 'jsonpatch': 1, 'internal': 169, 'rdoci': 2, 'append': 8, 'play': 10, 'xtqf': 1, 'jryqmcr': 2, 'unused': 9, 'brooklyn': 1, 'plan': 12, 'model': 90, 'unequal': 1, 'sometimes': 22, 'cover': 3, 'aece': 2, 'aecc': 1, 'nveth': 2, 'virtalmachine': 1, 'microsoft': 2, 'wsgi': 262, 'cbccbb': 1, 'session': 205, 'impact': 10, 'indexerror': 2, 'urlsplit': 2, 'uriopt': 8, 'factor': 17, 'mawvszci': 1, 'adcd': 1, 'parsevalue': 1, 'dependent': 4, 'synchronization': 1, 'closely': 1, 'logfile': 7, 'bytes': 42, 'kill': 30, 'obscure': 1, 'manger': 1, 'creator': 2, 'iteration': 24, 'startup': 14, 'retyping': 2, 'noav': 1, 'migration': 380, 'passphrase': 2, 'analog': 1, 'pymiss': 1, 'currently': 90, 'idle': 3, 'remotefx': 6, 'mutex': 4, 'respectively': 2, 'remotefs': 2, 'available': 232, 'securitygrouplimitexceeded': 2, 'influxdb': 4, 'disallow': 3, 'querycontext': 2, 'selectively': 4, 'nohup': 1, 'interface': 312, 'last': 246, 'barely': 1, 'connection': 448, 'whole': 12, 'createdat': 8, 'load': 163, 'volumedefinition': 5, 'community': 10, 'rosa': 2, 'ddeb': 2, 'agents': 12, 'identix': 2, 'ddee': 1, 'iscsadm': 1, 'improvement': 1, 'belu': 2, 'defang': 2, 'zadd': 1, 'mountable': 1, 'fire': 7, 'upstart': 1, 'happending': 1, 'pacemaker': 2, 'zippykid': 1, 'racey': 1, 'sdks': 2, 'reliable': 1, 'optimization': 5, 'reliably': 1, 'robin': 3, 'destoryed': 1, 'triple': 1, 'bbfb': 5, 'vanish': 2, 'shorten': 1, 'reachable': 4, 'cindervolumes': 1, 'unixes': 1, 'novarc': 1, 'noqueue': 7, 'alert': 7, 'iniset': 14, 'caeb': 57, 'nogroup': 1, 'incepation': 1, 'stack': 1110, 'eecbd': 6, 'recent': 211, 'ccbcd': 21, 'picky': 2, 'materna': 4, 'person': 4, 'redistribution': 1, 'comprise': 1, 'recoverable': 1, 'telegraf': 1, 'construct': 6, 'ovsdb': 2, 'iheartksl': 1, 'mysql': 107, 'connnecting': 1, 'xxopk': 2, 'eager': 1, 'location': 46, 'sslerror': 2, 'input': 42, 'atomicity': 1, 'format': 106, 'remians': 1, 'couple': 8, 'plumgrid': 2, 'pended': 1, 'continue': 15, 'exmaple': 1, 'pythonlogging': 3, 'infrasctrucure': 1, 'linuxbridgeagent': 2, 'bruin': 3, 'methods': 11, 'sight': 1, 'curious': 4, 'virtualenv': 3, 'sanity': 2, 'unknow': 2, 'metricd': 3, 'dfdfd': 1, 'deallocate': 9, 'dfdff': 3, 'machin': 1, 'vendordata': 8, 'agreement': 2, 'nowhere': 1, 'wget': 2, 'multiparams': 6, 'metrics': 10, 'anything': 34, 'simplify': 1, 'coexist': 1, 'unintentional': 1, 'rdrand': 3, 'garbage': 1, 'recreate': 34, 'servers': 325, 'appropriate': 8, 'intr': 2, 'contributor': 2, 'cisco': 8, 'natservice': 1, 'secretrabbit': 4, 'span': 81, 'spam': 1, 'bcaf': 1, 'bcae': 1, 'sock': 15, 'bcac': 1, 'specifically': 12, 'custom': 26, 'bios': 2, 'lifecycleevent': 3, 'qalt': 1, 'suit': 1, 'blueprint': 10, 'xmlcpus': 1, 'link': 159, 'considerable': 1, 'faac': 4, 'opencontr': 1, 'verification': 2, 'continuously': 3, 'impl': 73, 'natively': 1, 'deviceflowregistryimpl': 1, 'unsafe': 1, 'globally': 3, 'chap': 8, 'fceed': 1, 'hail': 1, 'amqp': 37, 'invalid': 118, 'occasional': 2, 'codec': 2, 'activeresource': 2, 'muthukumaran': 2, 'revision': 11, 'vxvm': 1, 'elements': 35, 'wrongly': 1, 'hostnames': 2, 'hotplayer': 2, 'land': 5, 'algorithm': 8, 'loopback': 19, 'advertisment': 6, 'ffab': 1, 'ffaa': 3, 'summit': 2, 'edbd': 1, 'oracle': 3, 'fresh': 8, 'dstat': 1, 'localnet': 1, 'code': 1049, 'partial': 3, 'prettytable': 1, 'scratch': 8, 'broaden': 2, 'laziness': 1, 'toggle': 4, 'softer': 4, 'fileutils': 1, 'demoswarmbaymodel': 1, 'young': 7, 'send': 162, 'uniqueness': 1, 'daaddb': 7, 'resources': 171, 'complitly': 1, 'pagination': 10, 'httpoverlimit': 1, 'urlmap': 4, 'wipe': 3, 'magic': 1, 'marry': 1, 'racy': 2, 'inelegant': 1, 'race': 46, 'aead': 2, 'openjdk': 1, 'dockers': 1, 'dcfcdb': 3, 'etcfailed': 1, 'glusterfs': 6, 'mysqldb': 5, 'video': 13, 'impls': 1, 'index': 126, 'directive': 1, 'cbecae': 1, 'consistently': 4, 'secmodel': 4, 'krish': 1, 'bded': 2, 'bdec': 1, 'lineno': 2, 'ubuntu': 524, 'consideration': 1, 'oversub': 1, 'precheck': 2, 'great': 6, 'receive': 63, 'demoswarmbay': 1, 'defeat': 1, 'opinion': 1, 'numatopology': 1, 'maker': 1, 'thats': 1, 'marc': 1, 'firefox': 1, 'sqlite': 1, 'erroring': 2, 'instantiation': 1, 'certificate': 32, 'illegal': 1, 'listservers': 2, 'devops': 15, 'next': 53, 'duplicate': 56, 'doubt': 1, 'userspace': 4, 'cliqr': 1, 'babe': 2, 'validationerror': 1, 'comparison': 3, 'mngtmpaddr': 1, 'unplug': 14, 'instanceinvalidstate': 2, 'groupvmware': 1, 'babu': 1, 'actualy': 1, 'customer': 3, 'challenge': 2, 'clients': 8, 'reproduce': 177, 'unsetting': 1, 'overcommitted': 1, 'exitcode': 1, 'process': 190, 'lock': 98, 'high': 12, 'snooper': 2, 'formatters': 1, 'schemas': 10, 'oylwvjisnetq': 1, 'usernames': 1, 'httpexception': 2, 'namespace': 11, 'delay': 11, 'binstance': 1, 'sendtargets': 5, 'osprofiler': 2, 'sucess': 1, 'singular': 1, 'await': 4, 'stylesheets': 2, 'fcbe': 2, 'fcbd': 2, 'fcba': 2, 'buildrequest': 2, 'foremost': 1, 'userrc': 5, 'redundant': 3, 'element': 12, 'allow': 135, 'ingress': 8, 'comms': 1, 'move': 43, 'osapi': 72, 'comma': 2, 'stacktraces': 1, 'directx': 1, 'authtoken': 9, 'zpip': 2, 'meantime': 4, 'uzddmre': 1, 'openvpn': 1, 'therefor': 1, 'etree': 1, 'python': 2489, 'docs': 160, 'docu': 1, 'rotation': 5, 'realize': 3, 'ebeb': 2, 'ebec': 2, 'establishment': 1, 'lvmvolumedriver': 3, 'merge': 30, 'tracer': 1, 'subset': 1, 'tapxxx': 1, 'westmere': 1, 'beginner': 2, 'bump': 4, 'ebtables': 1, 'deficiency': 1, 'meta': 77, 'static': 33, 'meth': 34, 'matrix': 4, 'upgradeadd': 1, 'virnetdevgetonline': 1, 'evacuation': 18, 'dhcp': 101, 'shut': 15, 'remoteerror': 4, 'interactions': 4, 'riedemann': 2, 'greedy': 1, 'surely': 1, 'initialize': 28, 'immediatelly': 1, 'scary': 4, 'hunks': 1, 'could': 205, 'fqdn': 10, 'david': 1, 'length': 80, 'notebook': 1, 'xennova': 1, 'unax': 1, 'localdomain': 3, 'websocketproxy': 1, 'scene': 1, 'efcfa': 4, 'tempita': 1, 'owner': 46, 'yyyyyyy': 16, 'testflavor': 10, 'system': 174, 'esacpe': 1, 'nvram': 6, 'tripple': 1, 'invalidpowerstateexception': 1, 'accompany': 6, 'storsimple': 1, 'thresh': 23, 'unbuffered': 6, 'elite': 1, 'colleagues': 1, 'cgit': 32, 'stricter': 4, 'imho': 1, 'false': 236, 'brqfee': 2, 'clearly': 6, 'babel': 1, 'mechanism': 15, 'soap': 1, 'evacaute': 2, 'initramfs': 6, 'cipher': 12, 'device': 702, 'vish': 2, 'segment': 4, 'subsequently': 1, 'nicira': 1, 'placement': 65, 'facb': 4, 'faca': 1, 'stronger': 1, 'face': 16, 'cfef': 1, 'fact': 17, 'luksencryptor': 2, 'bring': 20, 'uncommitted': 4, 'serversadmintestjson': 6, 'gues': 1, 'rough': 1, 'ecfeefd': 3, 'trivial': 1, 'redirect': 8, 'availabilityzone': 9, 'allnodes': 1, 'qhrty': 1, 'terminal': 10, 'tapd': 1, 'tapf': 2, 'hope': 7, 'createimage': 3, 'insight': 2, 'abbc': 3, 'familiar': 3, 'listener': 5, 'gpus': 3, 'rebase': 1, 'vcpuinfo': 1, 'stuff': 4, 'ffca': 7, 'hxxps': 2, 'ffcf': 6, 'trueos': 1, 'rightscale': 1, 'temporarily': 3, 'coercedset': 3, 'packer': 7, 'frame': 2, 'packet': 48, 'strike': 1, 'wire': 3, 'rollbacked': 1, 'backupdriverexception': 1, 'eefdced': 2, 'youll': 1, 'email': 4, 'spinup': 1, 'mininizing': 1, 'onetime': 1, 'bdget': 1, 'pdfflavorref': 1, 'configuration': 134, 'restrictions': 2, 'dragos': 2, 'nvclient': 4, 'portbindingfailed': 5, 'unsticks': 1, 'aacc': 1, 'aace': 2, 'concepts': 4, 'distil': 3, 'syntaxerror': 1, 'vyom': 16, 'nodigest': 1, 'gbram': 1, 'mailman': 5, 'quotas': 38, 'creds': 6, 'entitle': 1, 'waste': 2, 'lsmod': 2, 'bdca': 2, 'vmware': 203, 'acee': 3, 'graphics': 6, 'hanrong': 3, 'yumdownloader': 9, 'servicestatuspayload': 2, 'expiration': 6, 'detailcreate': 1, 'maul': 1, 'surprisingly': 1, 'hardware': 18, 'khuggins': 1, 'regsubst': 1, 'greater': 6, 'denial': 1, 'glclient': 2, 'griddynamics': 2, 'wgrant': 2, 'android': 3, 'upon': 17, 'adelina': 2, 'architectures': 2, 'expand': 12, 'audit': 36, 'commant': 1, 'workarounds': 1, 'instancefault': 1, 'icehouse': 41, 'command': 405, 'filesystem': 27, 'lest': 1, 'newest': 2, 'less': 15, 'mavbyem': 1, 'cfadf': 2, 'cdfc': 3, 'jinja': 1, 'spinner': 12, 'combine': 5, 'practise': 1, 'dest': 61, 'crud': 2, 'crux': 1, 'istuary': 1, 'five': 5, 'aeaba': 1, 'password': 237, 'desc': 15, 'ectxt': 2, 'become': 20, 'dbus': 1, 'replacement': 1, 'processutils': 36, 'flush': 12, 'phys': 8, 'transport': 65, 'mrauw': 1, 'dfsg': 7, 'literally': 2, 'avoid': 12, 'doen': 1, 'imagelabel': 2, 'keystone': 340, 'schedule': 75, 'importerror': 8, 'routers': 3, 'symlink': 2, 'maven': 3, 'admintoken': 2, 'stage': 11, 'haproxy': 34, 'crentials': 1, 'ebca': 2, 'ebcb': 1, 'ebce': 2, 'openstackcomputeshell': 2, 'devstacknova': 1, 'insufficient': 9, 'anyjson': 1, 'revise': 1, 'software': 27, 'luns': 6, 'artefact': 1, 'remoteconsolescontroller': 2, 'rectify': 1, 'environmen': 1, 'assess': 1, 'falseproperty': 1, 'resourceinerror': 1, 'joyce': 1, 'virtualbox': 20, 'emptycatalog': 3, 'suresh': 2, 'much': 34, 'miltake': 1, 'overflowerror': 2, 'mykey': 4, 'function': 286, 'swiftservice': 1, 'dogpile': 9, 'getent': 4, 'delivery': 3, 'tutorials': 5, 'construction': 1, 'convergence': 1, 'count': 69, 'fragmentation': 2, 'bbbf': 2, 'esxi': 18, 'official': 16, 'bbbb': 6, 'convince': 1, 'distribution': 9, 'informational': 6, 'fdefff': 1, 'greenio': 5, 'recognize': 6, 'contribute': 2, 'sibling': 5, 'variety': 3, 'openidconnectpassword': 2, 'seui': 2, 'lately': 1, 'lookup': 4, 'eaba': 2, 'migraiton': 1, 'repeat': 8, 'chance': 6, 'exposure': 1, 'distributedvirtualportgroup': 1, 'qdisc': 20, 'testvolumeswap': 4, 'usefull': 2, 'rule': 64, 'nexit': 1, 'compete': 2, 'serveractionstestjson': 8, 'berrange': 1, 'desirable': 1, 'entropy': 1, 'rsyslog': 2, 'eefef': 6, 'oldest': 1, 'integrity': 2, 'aliases': 1, 'arkea': 6, 'const': 3, 'metadefs': 1, 'spew': 1, 'xapi': 2, 'virdomaingetxmldesc': 2, 'spec': 46, 'litle': 1, 'yjwhpzxsdmtumye': 2, 'networknotfound': 3, 'initctl': 2, 'replication': 15, 'definexml': 4, 'rtstool': 8, 'exaggerate': 1, 'microverion': 1, 'upload': 47, 'delegate': 2, 'indices': 3, 'notwork': 1, 'speci': 1, 'chef': 18, 'resubmitted': 1, 'spect': 1, 'specs': 66, 'eventlet': 183, 'instackenv': 2, 'suppose': 9, 'officially': 1, 'simultaneously': 3, 'internalerror': 9, 'redeploy': 1, 'pcipt': 1, 'networknova': 1, 'placeholder': 1, 'nonemetadata': 1, 'watchers': 1, 'items': 13, 'employees': 1, 'cachetools': 1, 'keymap': 5, 'dcdf': 1, 'niscsiadm': 7, 'secure': 20, 'highly': 2, 'neutrons': 1, 'fbae': 2, 'insta': 1, 'neutronv': 110, 'novncproxy': 48, 'glance': 315, 'total': 47, 'experimentation': 1, 'plot': 2, 'negative': 11, 'datadir': 1, 'bitprophet': 1, 'qpid': 44, 'aware': 12, 'word': 4, 'work': 334, 'eclipse': 2, 'opensuseleap': 1, 'sdrs': 2, 'snapshotid': 8, 'privsep': 1, 'pollute': 1, 'adminurl': 8, 'repos': 1, 'india': 3, 'reginster': 1, 'aaaa': 1, 'aaac': 1, 'aaad': 1, 'provide': 90, 'verify': 54, 'march': 1, 'sever': 2, 'ordinary': 1, 'callmethod': 1, 'passworduserdataconfig': 1, 'tmpjar': 1, 'earlier': 8, 'bdac': 1, 'bdab': 11, 'bdae': 1, 'arch': 30, 'libertythe': 1, 'appreciate': 30, 'green': 6, 'order': 60, 'conflictingrequest': 2, 'testkey': 1, 'office': 1, 'functools': 1, 'vmops': 58, 'siva': 1, 'netw': 1, 'japan': 1, 'libcloud': 5, 'dbffe': 4, 'somewhere': 6, 'cretaed': 1, 'production': 4, 'vmdk': 57, 'novalidhost': 5, 'eventually': 11, 'serverscontroller': 12, 'fragment': 1, 'safe': 5, 'break': 52, 'refactoring': 1, 'penetration': 4, 'externalnet': 1, 'workflows': 2, 'devstack': 421, 'nullable': 1, 'routines': 2, 'reasonable': 4, 'logdays': 3, 'connectionfairy': 2, 'train': 10, 'sles': 20, 'network': 1235, 'sudheendrah': 3, 'domblklist': 3, 'iptable': 3, 'cddb': 2, 'daniel': 1, 'forth': 2, 'checksecurity': 1, 'fping': 2, 'standard': 12, 'collation': 1, 'fcfa': 1, 'gbxfk': 2, 'fcfe': 1, 'standart': 1, 'ecee': 1, 'ecea': 1, 'traceback': 227, 'oppose': 3, 'regress': 1, 'puppeterror': 1, 'benchmarking': 3, 'listner': 1, 'dynamicvendordata': 1, 'render': 7, 'reconnected': 2, 'openstackfolsom': 1, 'guzzle': 3, 'another': 72, 'smallfakedriver': 1, 'illustrate': 1, 'swapfs': 1, 'compromise': 2, 'observations': 2, 'garble': 2, 'authoken': 1, 'happily': 1, 'localunixsocket': 1, 'bebe': 1, 'guild': 1, 'target': 166, 'scenes': 1, 'encase': 1, 'historical': 2, 'jiddtkfq': 1, 'imageref': 12, 'rewrite': 2, 'abeeba': 3, 'manner': 3, 'gear': 1, 'latency': 1, 'latter': 4, 'exportname': 1, 'allowoverride': 1, 'unstack': 6, 'transmit': 2, 'magnum': 29, 'limitshost': 1, 'aabb': 1, 'nobody': 2, 'phase': 5, 'nano': 5, 'bracket': 3, 'wildcard': 1, 'fafae': 1, 'notion': 1, 'reserve': 34, 'iops': 1, 'buildbot': 1, 'keywords': 1, 'subtle': 1, 'latent': 1, 'async': 12, 'implementation': 28, 'guidance': 5, 'timesta': 1, 'adequate': 1, 'personality': 9, 'iptables': 29, 'vexpress': 4, 'cryptography': 2, 'cmopute': 1, 'scalable': 2, 'degradation': 1, 'mstderr': 1, 'downtime': 1, 'nasty': 2, 'vsan': 3, 'qote': 1, 'liblxc': 1, 'opendaylightl': 2, 'icla': 3, 'mulinode': 1, 'analytics': 2, 'keystoneauth': 106, 'away': 3, 'unable': 146, 'dafcfca': 2, 'accord': 29, 'cfaf': 1, 'kitchen': 6, 'codebase': 1, 'essentially': 5, 'hardcode': 1, 'parseobject': 2, 'smbios': 6, 'tftp': 2, 'ctxt': 68, 'fsuid': 2, 'ravichandran': 1, 'tough': 1, 'heppen': 1, 'trunk': 9, 'wider': 1, 'guid': 3, 'speak': 5, 'addmember': 1, 'engines': 14, 'noet': 1, 'glace': 1, 'flexible': 1, 'duties': 1, 'attacker': 1, 'launcher': 3, 'connectors': 2, 'abrupt': 1, 'lahf': 1, 'endpoints': 32, 'mistake': 10, 'barbicanclient': 1, 'djangoextension': 1, 'apirouterv': 2, 'cond': 1, 'conf': 412, 'fbcf': 7, 'conn': 22, 'virdomainattachdevice': 4, 'cenos': 2, 'perform': 68, 'apparently': 6, 'baebdb': 3, 'incorrectly': 19, 'lithium': 2, 'independent': 5, 'fusr': 1, 'serverdiskconfigtestjson': 4, 'qemumonitorjsoncheckerror': 1, 'rail': 1, 'evil': 2, 'hand': 5, 'fuse': 1, 'mesage': 1, 'slowpath': 2, 'protocolerror': 1, 'imagecache': 7, 'scenario': 39, 'humble': 1, 'contact': 16, 'devtemfs': 1, 'solaris': 1, 'newton': 141, 'osds': 2, 'netconfig': 4, 'bffdf': 1, 'shoud': 1, 'cctxt': 5, 'unrecoverable': 1, 'josn': 1, 'dfwiiiwizmllbgrzijpbxswib': 2, 'spread': 3, 'board': 1, 'novaconsole': 2, 'floatingipcontroller': 2, 'nrbd': 2, 'migratable': 2, 'usable': 18, 'insensitive': 1, 'dirver': 1, 'fformat': 4, 'vpninterfacemanager': 1, 'ephemerals': 5, 'neuton': 1, 'disadvantage': 1, 'versionscontroller': 2, 'diffstat': 1, 'grizzly': 12, 'myadminname': 1, 'persistence': 3, 'sparse': 4, 'security': 346, 'cirrus': 2, 'customizations': 1, 'renable': 1, 'flatten': 6, 'vmfs': 3, 'funcname': 2, 'venvs': 8, 'messagingtimeout': 12, 'repository': 16, 'illustration': 1, 'prerouting': 2, 'taskset': 8, 'substitution': 4, 'peer': 18, 'post': 115, 'properties': 114, 'virtula': 1, 'namespaceadapterextension': 1, 'vfslocalfs': 2, 'horizon': 150, 'bbfac': 2, 'alembic': 7, 'momentarilyin': 1, 'float': 197, 'balancer': 2, 'stumble': 1, 'familiarize': 1, 'netwotk': 1, 'centos': 149, 'topologies': 3, 'clazz': 1, 'accordingly': 4, 'mkswap': 5, 'tcpdump': 8, 'additionaly': 1, 'lowest': 1, 'sqlalchemy': 230, 'datacenters': 1, 'drwxr': 5, 'testneutronv': 2, 'encoder': 4, 'opentstack': 2, 'vlans': 3, 'true': 370, 'reset': 25, 'absent': 8, 'maximum': 10, 'afeab': 7, 'emit': 8, 'syscall': 1, 'keyring': 2, 'abstract': 1, 'fedoraproject': 1, 'exitreason': 1, 'cacab': 1, 'distributions': 3, 'archive': 14, 'physical': 86, 'encrypt': 33, 'dacd': 1, 'refactor': 1, 'reality': 2, 'entrypoint': 21, 'test': 522, 'workspace': 27, 'truncate': 8, 'virtapi': 4, 'welcome': 3, 'update': 477, 'concurrent': 7, 'configs': 26, 'interval': 31, 'modules': 31, 'weubqz': 2, 'tinyint': 2, 'basically': 8, 'concept': 5, 'global': 35, 'grateful': 2, 'certainly': 1, 'addbr': 1, 'zone': 174, 'atribute': 1, 'dbcp': 1, 'compensate': 1, 'permanently': 1, 'installroot': 4, 'setted': 1, 'dbcd': 1, 'giga': 1, 'division': 3, 'predicate': 2, 'vdis': 2, 'unsupportedpolicyexception': 1, 'seemingly': 4, 'markupsafe': 1, 'anonymous': 1, 'entries': 22, 'unencrypted': 1, 'trouble': 3, 'swiftclient': 7, 'auld': 3, 'bringup': 1, 'defacto': 2, 'behaivour': 1, 'myserver': 2, 'testvolumebootpattern': 4, 'efabcad': 1, 'upper': 18, 'bfbd': 1, 'bfbe': 1, 'discover': 19, 'tempest': 294, 'drivervolumeblockdevice': 2, 'appear': 55, 'assistance': 1, 'tricircle': 6, 'virnetdev': 2, 'cargs': 4, 'corosync': 3, 'satisfy': 18, 'unsure': 1, 'pause': 29, 'didnot': 1, 'apache': 34, 'apice': 1, 'adresses': 1, 'securityerror': 1, 'change': 306, 'incoming': 21, 'documentparser': 10, 'errcode': 2, 'qxls': 4, 'trial': 1, 'horban': 1, 'tzyga': 1, 'usually': 8, 'stackid': 3, 'regardless': 12, 'lsblk': 1, 'extra': 105, 'hypervisors': 31, 'marker': 22, 'rarely': 1, 'iterencode': 6, 'regex': 9, 'httpd': 7, 'prove': 2, 'live': 260, 'https': 527, 'acbb': 1, 'acba': 2, 'initing': 1, 'clue': 9, 'perpose': 1, 'purge': 6, 'trans': 4, 'vnuma': 4, 'gabbi': 3, 'xyizyurdq': 1, 'attribute': 66, 'topic': 12, 'abort': 22, 'exclude': 9, 'handle': 150, 'occur': 50, 'lxml': 1, 'discussion': 6, 'ironicclient': 1, 'write': 98, 'woorea': 2, 'product': 15, 'dive': 2, 'abdc': 2, 'produce': 3, 'abdd': 2, 'unquiesce': 4, 'compatibility': 8, 'docimpact': 13, 'ynvjg': 1, 'hyperv': 3, 'remember': 5, 'computemanager': 12, 'whenever': 7, 'ahzlnkudtxg': 2, 'futures': 1, 'explicit': 7, 'djson': 4, 'offend': 1, 'tzxrhzgf': 1, 'typical': 1, 'indeed': 2, 'cols': 2, 'colo': 1, 'coll': 1, 'serverstack': 1, 'cold': 19, 'still': 149, 'tominvalid': 1, 'sysinit': 1, 'yaml': 42, 'window': 3, 'tailf': 2, 'blockquote': 35, 'emptylive': 1, 'naivity': 1, 'introduce': 17, 'getmessage': 2, 'half': 6, 'recap': 1, 'provision': 49, 'discuss': 5, 'wont': 1, 'tickpolicy': 8, 'drop': 37, 'opencontrail': 7, 'quobyte': 17, 'entirely': 5, 'pyhook': 4, 'domain': 255, 'significantly': 3, 'yeah': 1, 'snapshots': 17, 'unshelve': 18, 'keypair': 45, 'assertthat': 6, 'backport': 3, 'year': 1, 'happen': 86, 'subnet': 108, 'accomplish': 3, 'space': 46, 'furthermore': 1, 'increase': 10, 'bdms': 21, 'hcgkudhh': 1, 'args': 535, 'setmem': 1, 'argv': 5, 'barak': 1, 'dependencies': 11, 'serverapi': 1, 'card': 6, 'care': 8, 'reflect': 12, 'ambari': 1, 'jaypipes': 3, 'catalog': 35, 'myimage': 3, 'failedresize': 1, 'suffice': 1, 'oversubcribe': 1, 'rxtx': 13, 'variables': 10, 'cpus': 18, 'blink': 2, 'imagemanager': 1, 'nnetworks': 1, 'anass': 1, 'directly': 39, 'impossible': 4, 'message': 1621, 'tomorrow': 1, 'size': 274, 'bookmark': 40, 'remotely': 1, 'checker': 3, 'iaas': 6, 'sheel': 1, 'curlmulti': 1, 'uniqueconstraint': 6, 'mostly': 4, 'asymmetric': 1, 'nomatch': 1, 'prometheus': 1, 'migrationprecheckerror': 3, 'titanx': 2, 'nodeport': 1, 'bdffcdffd': 1, 'rlijoiiiwiyw': 1, 'accordance': 1, 'assertraises': 1, 'newtonkey': 1, 'incepted': 1, 'sublime': 6, 'browser': 6, 'troublesome': 1, 'sigkill': 1, 'correction': 3, 'aavmf': 3, 'notimplementederror': 3, 'recover': 11, 'addcae': 2, 'domaintype': 3, 'equipment': 1, 'greenthreads': 1, 'online': 19, 'iamvjdcbhy': 1, 'similiar': 1, 'begin': 30, 'healthcheck': 6, 'price': 1, 'importantly': 1, 'imagesoneservertestjson': 6, 'forever': 47, 'implications': 2, 'linecache': 1, 'clientwith': 1, 'resch': 1, 'typically': 4, 'keystrokes': 1, 'migrations': 35, 'serverattaching': 1, 'upgrade': 104, 'ratio': 21, 'title': 18, 'staticjson': 1, 'deployments': 5, 'daae': 1, 'daac': 1, 'samuel': 1, 'truly': 1, 'vmwarevolumeops': 1, 'remotes': 2, 'cannot': 134, 'ddecb': 8, 'hostid': 32, 'deprecate': 54, 'befc': 1, 'befb': 1, 'beff': 1, 'accelazh': 1, 'ldapdns': 1, 'dbae': 2, 'bfceb': 2, 'dbac': 1, 'xvpvnc': 1, 'physically': 1, 'namely': 1, 'sfclxedsgvqm': 2, 'failedvolume': 1, 'helo': 1, 'concern': 8, 'kmod': 1, 'instancenumacell': 1, 'openvswitchblock': 1, 'import': 101, 'orchestrate': 3, 'imagestestjson': 4, 'serialproxy': 3, 'blame': 4, 'article': 5, 'createwithflags': 10, 'pazzeo': 1, 'installation': 107, 'xcat': 2, 'mons': 1, 'txbcf': 1, 'baseexception': 1, 'econnrefused': 2, 'becamomes': 1, 'eadf': 2, 'overview': 4, 'bfdb': 1, 'bfdd': 1, 'dispatch': 134, 'itlxc': 1, 'moreover': 2, 'sess': 17, 'rebuild': 87, 'consoleauth': 51, 'external': 129, 'instalation': 1, 'ruby': 2, 'cadca': 1, 'msdos': 1, 'trick': 3, 'osheatsoftwaredeployment': 1, 'clientexception': 26, 'cldswift': 8, 'suse': 17, 'stdout': 25, 'unsupportedversion': 3, 'utils': 311, 'return': 741, 'datastore': 36, 'property': 89, 'worry': 2, 'develop': 7, 'proto': 4, 'eceeff': 1, 'iscsi': 136, 'instancenova': 1, 'epoch': 1, 'document': 42, 'finish': 72, 'vestigial': 1, 'closest': 1, 'initialization': 5, 'acdc': 1, 'acdd': 1, 'fruit': 1, 'cinder': 620, 'serverid': 3, 'libexec': 6, 'ddfbb': 10, 'vnet': 2, 'topicpublisher': 1, 'neoc': 1, 'valuable': 1, 'venv': 50, 'touch': 6, 'speed': 3, 'tmpfs': 6, 'timerqueue': 1, 'desktop': 18, 'treatment': 2, 'versa': 4, 'pclmuldq': 2, 'xend': 1, 'vxnet': 1, 'real': 19, 'read': 124, 'early': 13, 'execution': 12, 'reap': 2, 'njoy': 1, 'xvlan': 2, 'developers': 2, 'sslengine': 1, 'benefit': 5, 'dnsmasq': 16, 'output': 97, 'verifiedhttpsconnection': 1, 'removedwe': 1, 'uppercase': 3, 'wsgiapplicationgroup': 2, 'duration': 9, 'newraise': 4, 'ccdffc': 3, 'nonzero': 2, 'vhls': 2, 'encryptor': 11, 'cielometer': 1, 'libxl': 5, 'edbb': 1, 'sethandler': 1, 'xcbebcahlk': 2, 'asap': 1, 'equivalent': 2, 'snapshotcreatexml': 2, 'lukencryptor': 1, 'leftover': 1, 'throw': 70, 'datacenter': 12, 'cbaf': 1, 'central': 9, 'cbab': 1, 'greatly': 5, 'fabaac': 2, 'backup': 62, 'processor': 4, 'neutronclientexception': 3, 'referrence': 1, 'operator': 16, 'watchdog': 9, 'intervention': 1, 'prepare': 17, 'area': 1, 'unmodified': 1, 'testvm': 4, 'start': 515, 'curiously': 1, 'attachvolumetestjson': 2, 'default': 524, 'builders': 2, 'vtpm': 3, 'connectfailure': 6, 'describe': 35, 'floatingiplist': 1, 'statuses': 1, 'completeness': 1, 'infact': 2, 'storage': 287, 'valid': 110, 'libertymitaka': 1, 'waitport': 3, 'differenthostfilter': 1, 'delimiters': 1, 'registry': 40, 'coverage': 7, 'nonewrong': 1, 'servergroup': 1, 'pool': 126, 'rabiit': 1, 'bulk': 6, 'unbind': 13, 'ndipanov': 1, 'insertions': 1, 'novabase': 2, 'krishnamurthy': 2, 'vircommandwait': 1, 'redux': 1, 'mvimfaultexception': 1, 'precondition': 2, 'semantic': 2, 'month': 1, 'deadline': 1, 'messy': 4, 'monty': 1, 'chain': 5, 'xenserver': 16, 'libvirtconfigguestchannel': 3, 'nonetype': 15, 'nodev': 1, 'vers': 1, 'pcidevicetype': 1, 'autoscalin': 1, 'sigterms': 1, 'decide': 11, 'vkxcigqu': 1, 'retur': 1, 'randomness': 3, 'dulwich': 1, 'unmarshalled': 1, 'zsbuadkb': 1, 'cgmfs': 1, 'versionsv': 1, 'plain': 13, 'cookies': 4, 'nulled': 1, 'connessione': 3, 'enhancement': 1, 'canonical': 5, 'consumers': 5, 'softwaredeployment': 2, 'resolvconf': 1, 'multinode': 14, 'nsxxx': 1, 'modify': 42, 'jclouds': 46, 'modular': 2, 'possiblein': 1, 'excess': 1, 'strong': 153, 'xxxclient': 1, 'ahead': 2, 'amount': 12, 'oncompute': 1, 'aheat': 1, 'invalidate': 1, 'shuffle': 3, 'family': 9, 'eefd': 1, 'eefb': 1, 'glitch': 1, 'href': 133, 'helper': 12, 'circulardependencyexception': 1, 'octca': 1, 'netns': 10, 'authorization': 17, 'dpdk': 1, 'charserial': 1, 'igchjvy': 1, 'vmwaredriverexception': 6, 'preallocation': 1, 'linkedin': 1, 'organization': 4, 'libvrit': 2, 'servergroups': 3, 'history': 1, 'virdomaincreatewithflags': 8, 'integrityerror': 2, 'invaliddatastorepath': 1, 'matchhelper': 2, 'ffbae': 1, 'bffe': 44, 'bffa': 1, 'phrase': 3, 'libcephfs': 8, 'utilize': 2, 'snippet': 45, 'targetcli': 2, 'reject': 15, 'libvirtrunning': 1, 'fstype': 1, 'remediation': 1, 'horizontal': 1, 'scss': 2, 'workstation': 2, 'undergo': 1, 'releated': 1, 'documentation': 53, 'assign': 87, 'negligible': 1, 'inline': 2, 'scsi': 42, 'merror': 3, 'uninstall': 3, 'help': 151, 'mainthread': 1, 'soon': 4, 'preempt': 2, 'vcdriver': 3, 'barbican': 19, 'sqlparse': 1, 'systemd': 81, 'subsys': 2, 'favorated': 1, 'actually': 57, 'segfault': 2, 'absence': 2, 'systems': 12, 'pkgs': 3, 'schedulers': 6, 'ssse': 1, 'jenkinsinstance': 4, 'desktoplayout': 5, 'destiantion': 1, 'httplib': 5, 'exeption': 1, 'fully': 15, 'capability': 2, 'fairy': 2, 'heavy': 1, 'bertly': 1, 'quantum': 7, 'beyond': 3, 'event': 85, 'availabilityzonefilter': 5, 'regionone': 67, 'dears': 3, 'trusty': 33, 'eolf': 1, 'since': 107, 'publish': 3, 'fromport': 1, 'rdoproject': 7, 'cfddaa': 1, 'safety': 1, 'issue': 268, 'dirs': 32, 'timeline': 1, 'luzybtzxnzywdligxvy': 1, 'esay': 1, 'reason': 77, 'base': 336, 'dire': 1, 'recv': 1, 'bash': 21, 'pyyaml': 1, 'openstackcompute': 14, 'launch': 248, 'script': 98, 'terrible': 1, 'libvirtdriver': 6, 'unaware': 1, 'heartbeat': 8, 'blush': 1, 'pycadf': 1, 'datamodel': 1, 'singleton': 3, 'probability': 2, 'misc': 1, 'miss': 64, 'losetup': 1, 'blockdevicemapping': 1, 'wvpnzud': 2, 'struser': 1, 'cacehable': 1, 'howerver': 1, 'scheme': 6, 'schema': 39, 'getter': 6, 'asci': 2, 'blindly': 1, 'autoport': 3, 'translation': 1, 'cbcb': 2, 'grep': 117, 'kindly': 7, 'keytone': 1, 'utopic': 1, 'evacution': 1, 'ebadf': 1, 'teslak': 1, 'alongside': 1, 'gedit': 2, 'randomly': 6, 'incrementally': 2, 'gmleafpg': 1, 'corefilter': 1, 'novaa': 1, 'null': 240, 'vulnerable': 1, 'euca': 2, 'vzguioijjb': 2, 'useless': 4, 'towards': 2, 'macs': 11, 'quote': 4, 'messsage': 2, 'quota': 126, 'compare': 14, 'softwareconfig': 1, 'ultxl': 1, 'position': 4, 'builddir': 1, 'salary': 1, 'tapbfc': 1, 'artefacts': 1, 'pcirequestaliasnotdefined': 5, 'langhelpers': 3, 'unreasonable': 2, 'clean': 80, 'latest': 30, 'physics': 1, 'hyper': 37, 'commas': 1, 'nonpae': 1, 'correctlly': 1, 'certs': 6, 'amazonaws': 2, 'completion': 9, 'deprecationwarning': 12, 'parameters': 72, 'userwarning': 1, 'assertion': 1, 'flatdhcp': 1, 'intsances': 1, 'cebc': 3, 'pretty': 14, 'suspect': 9, 'meanwhile': 4, 'devname': 10, 'combinations': 2, 'wotking': 1, 'nsresult': 1, 'dntr': 1, 'wijoxndi': 2, 'rajesh': 2, 'recommendations': 3, 'intergration': 1, 'redefine': 1, 'delpoy': 1, 'descriptions': 2, 'close': 63, 'dateutil': 1, 'spicevmc': 12, 'probable': 1, 'chart': 1, 'stall': 3, 'probably': 35, 'qfjbs': 1, 'faydevnt': 4, 'softwaredeployments': 1, 'efmt': 2, 'distinguish': 4, 'iptablesfirewalldriver': 3, 'cloudify': 3, 'rackcdn': 2, 'rahulan': 2, 'boto': 4, 'secrets': 1, 'sensitive': 9, 'anon': 328, 'megs': 2, 'desynced': 1, 'secretb': 2, 'secreta': 2, 'secrete': 1, 'ansble': 1, 'whatever': 6, 'header': 22, 'linux': 136, 'customregion': 3, 'testresources': 1, 'pemnot': 1, 'stamp': 4, 'instancepcirequests': 2, 'maintenance': 6, 'discove': 1, 'empty': 49, 'partly': 1, 'imac': 1, 'else': 27, 'whilw': 1, 'look': 162, 'bfcefab': 11, 'cachemodes': 1, 'smart': 1, 'libertynova': 1, 'fnztpciktleuvycm': 1, 'guide': 114, 'loop': 30, 'helloo': 1, 'malloc': 3, 'classnotfound': 2, 'novab': 1, 'ready': 16, 'fedora': 35, 'anymore': 12, 'grant': 8, 'belong': 16, 'fbddfa': 1, 'monmap': 1, 'simultaneous': 4, 'modification': 5, 'throughput': 1, 'conflict': 23, 'fnztpcimrlbgv': 1, 'temporary': 6, 'gpfs': 3, 'user': 578, 'ateardown': 1, 'upfiles': 5, 'fdeaf': 1, 'older': 10, 'consistence': 1, 'obviously': 5, 'sedmodule': 1, 'consistency': 7, 'docker': 97, 'rbenv': 1, 'cbfba': 23, 'cooldown': 1, 'nopenssl': 1, 'ovirt': 1, 'openvswitchinstance': 1, 'invalidrequesterror': 2, 'pubkey': 2, 'tkurek': 7, 'finalize': 2, 'evaluate': 2, 'capacities': 5, 'datapaths': 1, 'methodname': 1, 'signal': 19, 'resolv': 1, 'localrc': 11, 'terminology': 1, 'randomnly': 1, 'centralize': 4, 'vsphere': 10, 'creation': 68, 'erms': 1, 'excutils': 162, 'conditionally': 3, 'minimal': 7, 'infra': 15, 'step': 255, 'fomr': 1, 'logstash': 22, 'integers': 2, 'ceilometer': 124, 'concretely': 1, 'commandstestcase': 2, 'block': 413, 'aedf': 2, 'additionalitems': 2, 'serverfault': 1, 'within': 20, 'ensue': 1, 'pastebin': 6, 'versionedobjects': 41, 'tricircl': 1, 'provisionedspace': 5, 'baed': 2, 'statistics': 3, 'deivce': 2, 'displaysetting': 6, 'smba': 1, 'mfilter': 1, 'builderrorexception': 2, 'proxyerror': 2, 'apachectl': 1, 'properly': 43, 'segregation': 1, 'newer': 6, 'imagenotfound': 3, 'cbcf': 4, 'injection': 7, 'info': 839, 'intuitive': 1, 'middleware': 53, 'failling': 1, 'similar': 43, 'clear': 24, 'vogki': 1, 'sortedcontainers': 1, 'surmise': 1, 'ijywndgwmcisimdyyxbobw': 1, 'zaqar': 2, 'vvvv': 1, 'enpr': 1, 'application': 252, 'edfc': 5, 'kombu': 4, 'department': 1, 'httpunauthorized': 3, 'managedsave': 6, 'subnets': 22, 'qemumonitorioread': 1, 'dfcompute': 3, 'mongodb': 11, 'resign': 1, 'flowid': 1, 'eval': 4, 'reservation': 29, 'entloopgroup': 1, 'structure': 5, 'dhcpdump': 1, 'practically': 1, 'cbeb': 17, 'dispatcherlive': 1, 'cbed': 2, 'orbit': 1, 'blockrebase': 2, 'depth': 3, 'debudding': 1, 'proposition': 1, 'getcloudify': 1, 'backports': 2, 'errorlogformat': 2, 'friendly': 5, 'deprecation': 3, 'rollback': 47, 'webhook': 1, 'maas': 13, 'mwarning': 1, 'trough': 2, 'button': 1, 'tosca': 3, 'cgroup': 6, 'inspection': 4, 'enforce': 8, 'configurations': 12, 'myuser': 3, 'testencryptedcindervolumes': 6, 'bootp': 5, 'jump': 1, 'download': 32, 'click': 9, 'sshserver': 1, 'gparrejj': 1, 'cell': 128, 'experiment': 2, 'folks': 5, 'selvaraj': 1, 'lefthandnetworks': 5, 'logout': 6, 'acabdf': 1, 'ioerror': 4, 'accessor': 2, 'convert': 12, 'copyright': 5, 'recieving': 1, 'products': 4, 'egonzalez': 3, 'manage': 138, 'evacuations': 5, 'dhcpc': 1, 'boolean': 4, 'credentialsconsoleauth': 1, 'anomalies': 1, 'manipulate': 3, 'changelog': 5, 'occour': 1, 'cachiovm': 1, 'noarchsriov': 1, 'destinationdiskexistsfailed': 1, 'efcd': 82, 'efcf': 1, 'benchmark': 7, 'efca': 2, 'visibility': 11, 'resize': 210, 'everithing': 1, 'myinstancesnapshot': 2, 'meet': 4, 'galera': 8, 'misconfiguration': 1, 'providers': 24, 'volumeops': 8, 'sudo': 146, 'suds': 1, 'egrep': 2, 'rmxz': 1, 'jfndvs': 1, 'circular': 7, 'opnstk': 2, 'pydev': 3, 'xvdb': 6, 'xvdc': 1, 'xvda': 10, 'directsync': 1, 'paas': 3, 'arallel': 1, 'xmlns': 8, 'eyjzzwfyy': 3, 'nimblestorage': 14, 'acpid': 1, 'dcbcd': 2, 'securitygroup': 12, 'sysconfig': 1, 'daemons': 1, 'majorly': 1, 'brittle': 1, 'outer': 6, 'exclusion': 1, 'pure': 2, 'fefd': 1, 'auth': 364, 'front': 7, 'mods': 1, 'university': 1, 'guard': 1, 'nameerror': 3, 'mode': 77, 'gbdisk': 1, 'nyzwvulw': 1, 'awsaccesskeyid': 1, 'attachments': 36, 'galnce': 1, 'chunk': 12, 'xsave': 1, 'umount': 5, 'measure': 4, 'mountpoint': 9, 'special': 14, 'openflow': 1, 'reboot': 108, 'weighers': 2, 'wich': 1, 'cause': 141, 'inputted': 1, 'watermark': 11, 'pycharmprojects': 1, 'undo': 3, 'completely': 16, 'prepairing': 1, 'pgmap': 1, 'route': 27, 'timer': 25, 'keep': 57, 'timeo': 1, 'zkalotziq': 1, 'imagemetaprops': 1, 'unsupported': 9, 'classname': 1, 'rhosp': 3, 'nosucoopterror': 1, 'configoptionsconsistency': 1, 'gplhost': 1, 'quality': 2, 'management': 50, 'privacy': 2, 'durable': 3, 'mkdir': 3, 'wrapper': 100, 'attach': 552, 'attack': 1, 'cebbbc': 1, 'efafe': 2, 'trystack': 1, 'perfectly': 9, 'jsonutils': 4, 'final': 10, 'cfcec': 1, 'prone': 3, 'configure': 209, 'exactly': 20, 'ffeac': 1, 'hines': 2, 'cpython': 4, 'whitelisted': 1, 'cloudserversopenstack': 1, 'behaviors': 1, 'enotconn': 1, 'waitfor': 2, 'secgroups': 1, 'tabs': 2, 'unchanged': 2, 'timeoutexception': 8, 'need': 285, 'attachvolume': 1, 'htmlapi': 1, 'computefault': 8, 'gremirror': 2, 'able': 137, 'messagetype': 1, 'fileio': 1, 'zaina': 1, 'deploy': 162, 'jorge': 2, 'bdadb': 1, 'mange': 2, 'consequences': 1, 'volumeisbusy': 1, 'vmwarehttpwritefile': 1, 'ctrlnode': 1, 'snapshot': 229, 'xenapi': 77, 'databases': 11, 'constrain': 1, 'runtests': 3, 'keystoneclient': 59, 'imagebusy': 3, 'objs': 2, 'flatdhcpnetworking': 1, 'crate': 1, 'anyway': 7, 'rase': 1, 'launchpad': 108, 'envs': 2, 'envi': 1, 'fuel': 63, 'securitygroups': 2, 'achieve': 9, 'alabaster': 2, 'overall': 4, 'servergroupmembers': 3, 'iteritems': 1, 'years': 2, 'condutor': 1, 'stability': 2, 'httperror': 1, 'numerous': 2, 'instantiate': 6, 'contain': 48, 'grab': 8, 'vconfig': 3, 'seclabel': 3, 'orphan': 6, 'freeze': 1, 'computer': 10, 'emittwo': 1, 'murthy': 1, 'stats': 28, 'virnetdevreplacevfconfig': 1, 'genius': 1, 'dbsync': 4, 'tend': 1, 'state': 690, 'correctly': 36, 'horrible': 1, 'neither': 5, 'installeddetaching': 1, 'rpcapi': 21, 'ninterface': 1, 'attention': 3, 'efficiency': 1, 'derive': 4, 'pdcm': 4, 'police': 5, 'modprobe': 4, 'problem': 186, 'monitor': 50, 'mongod': 2, 'httpnotimplemented': 1, 'readpages': 1, 'admin': 486, 'trove': 12, 'configdrive': 2, 'uncaught': 3, 'attachedinstance': 1, 'loadbalancer': 2, 'higherorder': 1, 'afaik': 2, 'buildapi': 1, 'fallowingdisk': 1, 'jsonpointer': 1, 'orig': 9, 'addition': 8, 'chinmay': 1, 'computenode': 7, 'slowly': 1, 'treat': 10, 'oslosphinx': 3, 'libvirtconfigguestchanneltest': 1, 'username': 86, 'internals': 1, 'digged': 1, 'stackserviceimpl': 4, 'controller': 619, 'freespace': 4, 'rpms': 1, 'harder': 1, 'harden': 2, 'volid': 4, 'aipxwbabgq': 1, 'novaclient': 163, 'demo': 75, 'lambd': 1, 'surface': 2, 'fetchone': 1, 'vexc': 1, 'capture': 26, 'generic': 30, 'balloon': 1, 'softdeletemixin': 1, 'strange': 8, 'party': 8, 'ordinal': 2, 'http': 996, 'context': 356, 'exactramfilter': 1, 'effect': 19, 'nightly': 1, 'sooner': 1, 'computereqidmiddleware': 1, 'frequently': 2, 'osdmap': 1, 'mech': 2, 'reflection': 3, 'instanceid': 2, 'well': 61, 'mccabe': 1, 'experimental': 5, 'digitalocean': 1, 'scaledown': 6, 'keysomecephkey': 1, 'reside': 3, 'adefd': 2, 'ttyama': 1, 'dbdeadlock': 5, 'accurate': 5, 'dose': 1, 'dfeb': 3, 'wyycluster': 1, 'runners': 1, 'sigherm': 1, 'logger': 5, 'kick': 1, 'mitaka': 150, 'burden': 1, 'igzwj': 2, 'immediately': 18, 'reproduceable': 22, 'loss': 4, 'necessary': 14, 'alternatively': 6, 'ring': 1, 'controllers': 17, 'lose': 25, 'setups': 4, 'tinyipa': 2, 'cellscontroller': 2, 'page': 53, 'therein': 1, 'exisiting': 1, 'linuxscsi': 2, 'responsibiliy': 1, 'multihost': 1, 'library': 44, 'tenantid': 2, 'zheng': 12, 'trucker': 1, 'home': 77, 'cloudblockstorageprovider': 1, 'overlay': 6, 'lvmdriver': 16, 'projectname': 1, 'wsrep': 2, 'vrid': 11, 'overlap': 2, 'ovsplugin': 2, 'outgo': 3, 'oftenly': 1, 'limitations': 5, 'inaccurate': 2, 'osxsave': 3, 'vhost': 1, 'ccea': 1, 'offset': 10, 'compatible': 7, 'unbreak': 1, 'devdatta': 3, 'senlin': 4, 'previously': 11, 'backups': 3, 'pointless': 1, 'utility': 3, 'testnetworkadvancedserverops': 2, 'additional': 38, 'issuelive': 1, 'liveblockmigrationtestjson': 7, 'inner': 69, 'fwaas': 3, 'envirement': 1, 'neutronerror': 1, 'unshelving': 12, 'resourcetracker': 3, 'mgmt': 9, 'idmapd': 2, 'evacuate': 77, 'administrators': 4, 'hierarchical': 1, 'goals': 1, 'overflow': 4, 'truncation': 1, 'cryptsetupencryptor': 4, 'newtonos': 1, 'cells': 117, 'messgages': 1, 'barbicankeymanager': 1, 'cellv': 2, 'limit': 95, 'unshleved': 1, 'display': 88, 'formpost': 1, 'reservations': 13, 'hyperconverged': 3, 'contextlib': 7, 'authority': 6, 'redis': 2, 'undefineflags': 2, 'imagever': 1, 'swiftoperator': 1, 'serveral': 1, 'stumpt': 1, 'acls': 2, 'suspiciously': 1, 'stat': 7, 'radosgw': 1, 'kubernetes': 30, 'stay': 13, 'rdma': 1, 'additionally': 6, 'sphinx': 6, 'nodedev': 2, 'uudi': 1, 'persistent': 7, 'nameservers': 2, 'portion': 1, 'extras': 2, 'validation': 44, 'secondly': 1, 'dynamic': 24, 'getlogger': 1, 'unattach': 1, 'domainnotfound': 3, 'watermarker': 1, 'attemp': 1, 'whose': 12, 'abrt': 5, 'calculate': 14, 'jichen': 1, 'uitw': 2, 'filemetassh': 1, 'swap': 121, 'sorry': 7, 'bifrost': 2, 'rescue': 57, 'downstream': 6, 'void': 1, 'affect': 19, 'runninglibvirt': 1, 'skills': 2, 'decorators': 3, 'solution': 38, 'convenience': 1, 'unrelated': 6, 'enhance': 3, 'force': 149, 'enti': 2, 'likely': 17, 'virtualization': 10, 'incompatible': 1, 'even': 78, 'messagingv': 2, 'haservice': 2, 'networksthe': 1, 'ablity': 1, 'ever': 9, 'bceae': 2, 'metadata': 359, 'oshv': 6, 'swtukqzrps': 1, 'never': 47, 'backendexception': 2, 'boron': 10, 'active': 247, 'interpret': 6, 'ecda': 3, 'portupdatefailed': 1, 'vulnerability': 2, 'credit': 1, 'permit': 4, 'somvm': 1, 'glacnce': 1, 'suitable': 4, 'pyfiles': 1, 'serialize': 4, 'guests': 13, 'extrespecs': 1, 'uuidutils': 1, 'armv': 3, 'call': 722, 'recommend': 12, 'vcenter': 89, 'type': 1050, 'tell': 27, 'winlogon': 2, 'expose': 14, 'warn': 214, 'warm': 1, 'ward': 2, 'describedby': 3, 'kumar': 1, 'room': 1, 'setup': 153, 'worth': 3, 'minfo': 1, 'exceptions': 89, 'root': 446, 'udpate': 1, 'defer': 13, 'rpodolyaka': 1, 'fresher': 1, 'give': 95, 'implementations': 10, 'involve': 14, 'degenerate': 1, 'cursory': 1, 'keyostone': 1, 'construt': 1, 'answer': 27, 'faulty': 3, 'config': 408, 'manuals': 2, 'inofficial': 1, 'curiosity': 1, 'summarize': 2, 'downforce': 1, 'bootpreply': 1, 'baseline': 1, 'attempt': 87, 'third': 11, 'confdrive': 1, 'recieved': 1, 'tunnnel': 1, 'maintain': 5, 'rhbz': 1, 'tostring': 1, 'penstack': 1, 'operations': 40, 'decc': 1, 'hibernation': 1, 'keyboard': 2, 'aparently': 1, 'publicurl': 11, 'personal': 2, 'better': 29, 'chattr': 1, 'differently': 1, 'persist': 5, 'crea': 1, 'weeks': 1, 'overcome': 2, 'iser': 2, 'anil': 1, 'combination': 8, 'weakness': 1, 'workout': 1, 'sslcertificatefile': 1, 'afab': 9, 'decorator': 7, 'unregistered': 2, 'cachemanagement': 2, 'nbridge': 1, 'localip': 3, 'keystonemiddleware': 22, 'cephfs': 4, 'side': 19, 'mean': 70, 'durability': 1, 'dfcd': 4, 'extract': 10, 'vifs': 7, 'realtime': 1, 'vcpu': 77, 'content': 212, 'patricks': 1, 'networker': 1, 'reader': 1, 'surprise': 3, 'flopsymopsy': 1, 'linear': 1, 'resume': 18, 'seoncd': 1, 'interfacestate': 1, 'cookbooks': 1, 'volumeattachmentnotfound': 1, 'prefetch': 2, 'signature': 7, 'passcode': 1, 'cpuinfo': 1, 'hook': 21, 'downside': 1, 'enumerate': 3, 'ditch': 1, 'payload': 27, 'badrequest': 16, 'clinet': 1, 'xvpvncproxy': 1, 'informtaion': 1, 'brevity': 1, 'mutate': 1, 'cloudprovider': 2, 'tokens': 33, 'cccb': 1, 'ccca': 1, 'febd': 16, 'somewhat': 2, 'cccd': 1, 'requisite': 1, 'distance': 2, 'suceeds': 1, 'keyword': 7, 'database': 155, 'cite': 2, 'preparation': 1, 'matter': 9, 'mini': 3, 'usages': 1, 'modern': 1, 'mind': 3, 'mine': 1, 'unicast': 5, 'seed': 6, 'pcipassthroughfilter': 2, 'seem': 124, 'grind': 1, 'seek': 2, 'iface': 44, 'gioijtzxnzywdlolwix': 1, 'vncserver': 13, 'floppy': 4, 'newconnectionerror': 3, 'assocation': 1, 'razvan': 1, 'quotatest': 1, 'oscnode': 2, 'regular': 2, 'qxxx': 1, 'iterate': 3, 'inconsistency': 6, 'maria': 1, 'broadcast': 23, 'mitigate': 1, 'observation': 1, 'vudcisinrpbwuionsidxnlcl': 2, 'alarm': 39, 'deliberate': 1, 'simulate': 5, 'consumer': 5, 'repozitory': 1, 'whitelist': 28, 'probe': 6, 'abcf': 2, 'syntax': 6, 'leasefile': 1, 'explain': 9, 'ldap': 5, 'integrate': 18, 'folder': 17, 'pswd': 1, 'stop': 150, 'ususally': 1, 'comply': 3, 'vcpucount': 1, 'chronological': 3, 'danpb': 1, 'cleanups': 3, 'useraccountcontrol': 2, 'ioff': 1, 'reload': 8, 'inactive': 15, 'architecture': 47, 'dashbord': 1, 'reference': 45, 'testint': 1, 'subject': 9, 'inappropriate': 2, 'saio': 3, 'screenrc': 1, 'backended': 2, 'artificial': 1, 'filename': 1, 'connectivy': 2, 'disprove': 1, 'simplest': 1, 'lazy': 9, 'tripleo': 27, 'infomiss': 1, 'tempests': 1, 'quiece': 1, 'protection': 1, 'urls': 11, 'msgid': 2, 'presumably': 6, 'testsnap': 1, 'foobar': 1, 'loader': 10, 'ether': 16, 'accustom': 1, 'recur': 1, 'basis': 2, 'regenerate': 1, 'three': 16, 'tiny': 43, 'trigger': 23, 'replicate': 3, 'interest': 17, 'basic': 9, 'zvwiieforcbtzxnzywdlolwit': 1, 'numpy': 1, 'website': 7, 'deeper': 2, 'instanceinfocachenotfound': 2, 'multiarray': 2, 'suppress': 1, 'chul': 2, 'voicisc': 1, 'flavordisksmallerthanimage': 1, 'locations': 7, 'personally': 1, 'cdrom': 5, 'dircinder': 1, 'exception': 373, 'leasesdhcp': 1, 'ugly': 1, 'near': 2, 'neat': 2, 'setuptools': 1, 'xshell': 1, 'balance': 7, 'spawn': 141, 'reattempting': 1, 'cann': 1, 'cant': 18, 'ffffffff': 61, 'revertion': 1, 'mouse': 4, 'disappear': 8, 'mako': 1, 'qrouter': 2, 'reinst': 2, 'make': 218, 'potentially': 6, 'nattributeerror': 1, 'managment': 1, 'grammar': 2, 'opportunity': 2, 'thoughts': 4, 'hpmsa': 10, 'roms': 1, 'timeouts': 3, 'unconditionally': 1, 'flavorref': 10, 'indurstry': 1, 'inherit': 5, 'pycryptodome': 1, 'programe': 1, 'jayczp': 1, 'provisioner': 1, 'paradigm': 1, 'facto': 1, 'oddbit': 2, 'bandwidth': 6, 'identify': 10, 'keyroot': 1, 'integer': 16, 'facts': 5, 'fautoscaling': 1, 'infinitely': 1, 'defrag': 2, 'character': 32, 'affinity': 55, 'save': 63, 'adress': 1, 'designate': 2, 'finishhing': 1, 'reuse': 3, 'atuvenie': 2, 'background': 2, 'daemon': 52, 'deserialize': 1, 'terraform': 1, 'manual': 55, 'unnecessary': 5, 'intermittently': 5, 'zombies': 1, 'schedulermanager': 8, 'cloudbase': 1, 'libvirtmod': 3, 'deal': 12, 'packagers': 1, 'somehow': 9, 'dead': 11, 'rever': 1, 'statistic': 3, 'dear': 6, 'manifest': 9, 'separately': 1, 'notification': 32, 'kzsi': 1, 'tracker': 58, 'hoststate': 3, 'localhost': 125, 'singlebackend': 1, 'versioned': 2, 'multipathd': 1, 'super': 21, 'efec': 1, 'postgresql': 8, 'yxcigqu': 1, 'bedffaa': 1, 'unconfigured': 4, 'azure': 1, 'commit': 68, 'nonemeta': 1, 'automatically': 21, 'fluentd': 2, 'managers': 5, 'formerly': 1, 'threadgroup': 67, 'sergio': 2, 'insstance': 1, 'createvolume': 1, 'contrib': 13, 'annoyance': 1, 'cloudpipe': 7, 'initial': 16, 'editor': 3, 'fraction': 2, 'httpclient': 6, 'fork': 3, 'form': 20, 'fdfb': 23, 'fdfe': 1, 'failure': 105, 'sagar': 2, 'infos': 4, 'bugfix': 1, 'mfault': 1, 'mfaults': 1, 'delete': 768, 'recored': 1, 'classic': 1, 'sshing': 1, 'backoff': 2, 'golang': 1, 'opencga': 1, 'envinject': 2, 'agentovs': 1, 'generally': 10, 'excep': 7, 'capstone': 1, 'felt': 1, 'utilities': 5, 'httpforbidden': 2, 'coreos': 5, 'authorities': 1, 'ccad': 1, 'transfert': 1, 'assume': 36, 'pseudo': 1, 'daily': 2, 'chrony': 1, 'moid': 2, 'subnetopdpnmanager': 1, 'revoke': 7, 'jzwxsx': 1, 'skip': 19, 'segv': 2, 'manager': 1667, 'connation': 1, 'depend': 29, 'baselinecpu': 1, 'finally': 17, 'gbit': 2, 'retype': 3, 'string': 85, 'permissive': 2, 'vethtest': 1, 'interfacestatechangelistener': 1, 'caseinsensitivedict': 1, 'datetime': 10, 'qvod': 3, 'nectar': 4, 'qvob': 6, 'somecephkey': 1, 'accidentally': 1, 'iter': 45, 'item': 15, 'greenlet': 10, 'round': 5, 'unexpected': 121, 'vfio': 4, 'provisioners': 2, 'threshold': 12, 'jsonschema': 1, 'gnocchi': 27, 'vmtools': 2, 'addr': 29, 'dsvm': 59, 'addf': 1, 'addc': 1, 'addb': 1, 'template': 92, 'addn': 1, 'unrestricted': 2, 'memcacheconnpool': 1, 'ioclosed': 3, 'acpi': 12, 'vnic': 24, 'fibre': 2, 'wait': 184, 'netdev': 15, 'shift': 3, 'novalocal': 3, 'multicast': 17, 'suggestion': 10, 'bcfdc': 1, 'etimedout': 1, 'useful': 14, 'snowballstemmer': 2, 'passthrough': 47, 'merely': 3, 'flexibility': 2, 'volumemanager': 2, 'symbios': 1, 'perf': 5, 'sake': 2, 'perm': 2, 'connector': 36, 'federate': 13, 'baea': 1, 'encode': 16, 'dict': 29, 'thru': 3, 'checkout': 13, 'logdir': 6, 'sbcjnailslot': 3, 'acceptable': 3, 'dberror': 8, 'effort': 2, 'thanksmigrate': 1, 'linuxinstance': 1, 'daaeaf': 1, 'claim': 50, 'crazy': 2, 'mongo': 6, 'propertries': 1, 'scsilun': 2, 'agent': 343, 'sample': 40, 'unhandled': 1, 'begineer': 1, 'trxt': 2, 'oslo': 1939, 'charset': 22, 'ping': 68, 'till': 4, 'suggeting': 1, 'ikxxvy': 1, 'efibootmgr': 2, 'jclient': 4, 'accessory': 1, 'membership': 1, 'destructive': 1, 'grow': 5, 'outline': 1, 'reseller': 1, 'maybe': 34, 'fluent': 1, 'switch': 66, 'talk': 9, 'flagfile': 4, 'creationtime': 8, 'entity': 7, 'vmdkdriver': 1, 'dbbdd': 4, 'pointer': 1, 'group': 475, 'thank': 160, 'microversions': 3, 'thanx': 1, 'policy': 134, 'mail': 5, 'main': 87, 'nodelay': 1, 'iscsiadm': 11, 'errorhandler': 2, 'oneserver': 4, 'spawing': 3, 'fixme': 3, 'workload': 6, 'directories': 2, 'repositories': 9, 'crypto': 4, 'itemnotfound': 2, 'metata': 1, 'getitem': 4, 'kcbqserpsd': 1, 'attributeerror': 25, 'udhcpc': 1, 'levelname': 2, 'badly': 2, 'userpassword': 1, 'conventions': 1, 'unlock': 9, 'contextbuilder': 3, 'vrrp': 24, 'mcommand': 1, 'sensor': 1, 'correct': 73, 'goto': 2, 'runtimeerror': 5, 'samehostfilter': 1, 'ajax': 1, 'rescheduledexception': 4, 'montassar': 1, 'zdfwiieforcb': 1, 'advance': 31, 'smbfs': 2, 'waiter': 5, 'comunicate': 1, 'thing': 22, 'ccltests': 2, 'think': 94, 'first': 110, 'long': 40, 'carry': 1, 'afec': 1, 'gerrit': 2, 'little': 12, 'workaround': 10, 'anyone': 61, 'isolatedhostsfilter': 3, 'continuous': 6, 'blacklist': 1, 'iicj': 1, 'grafanarel': 1, 'cleanse': 4, 'taskflow': 2, 'benunets': 1, 'networkambiguous': 2, 'restate': 1, 'connectionpool': 72, 'vcpus': 89, 'topics': 1, 'plunge': 1, 'rtnetlink': 2, 'spectacle': 2, 'bcfc': 1, 'bcfb': 1, 'cassandra': 5, 'stopgap': 1, 'efficient': 3, 'isolate': 8, 'sysprep': 2, 'caputure': 1, 'potential': 7, 'strongswan': 1, 'imot': 2, 'performance': 21, 'channel': 33, 'pain': 1, 'normal': 30, 'track': 36, 'beta': 12, 'fdde': 24, 'somekind': 1, 'pair': 42, 'pflinkdev': 3, 'viewable': 1, 'especially': 7, 'peterdelete': 1, 'gracefully': 1, 'microversiontotal': 1, 'conditionals': 1, 'precise': 4, 'show': 359, 'elevate': 3, 'poweroff': 9, 'deleteddeleting': 1, 'corner': 3, 'lookuperror': 1, 'instancemetadata': 1, 'ffdd': 6, 'ffdf': 1, 'enough': 39, 'ffdb': 4, 'black': 1, 'cbtool': 1, 'wheezy': 1, 'repr': 1, 'repo': 15, 'nearly': 2, 'secondary': 9, 'whats': 1, 'iheartdatabases': 1, 'median': 1, 'openstackbookv': 1, 'yield': 21, 'summary': 14, 'computefilter': 3, 'silently': 19, 'wiki': 25, 'kernel': 99, 'caller': 6, 'relative': 2, 'fanout': 1, 'encr': 1, 'testnetworkbasicops': 2, 'wonder': 12, 'noproxy': 1, 'tworker': 25, 'label': 29, 'behind': 10, 'inorder': 1, 'across': 22, 'deletions': 1, 'infrastructure': 20, 'august': 1, 'parent': 23, 'fibrechannel': 2, 'comlaunch': 1, 'qidfybpsogslofuspt': 2, 'dedicate': 21, 'stackoperationsutils': 4, 'orchestration': 12, 'eduledexception': 1, 'enviorment': 1, 'among': 10, 'firewall': 30, 'unittest': 3, 'cancel': 4, 'fakeinstance': 1, 'larsks': 2, 'unusual': 1, 'capable': 4, 'encryption': 43, 'certify': 2, 'mark': 28, 'newdemokey': 1, 'adfd': 2, 'adff': 5, 'vitalization': 1, 'driverloadfailure': 1, 'traversal': 1, 'reproducable': 1, 'ndevice': 1, 'wake': 1, 'sound': 7, 'logsvms': 1, 'profiler': 1, 'compile': 5, 'ongoing': 3, 'characteristics': 1, 'cluster': 143, 'sahara': 17, 'malformed': 7, 'different': 124, 'cursors': 8, 'rifiutata': 3, 'configurable': 3, 'pcidevicespec': 1, 'arguments': 11, 'lucian': 1, 'intermediary': 1, 'exhaust': 1, 'nodename': 5, 'assist': 6, 'kube': 3, 'totally': 7, 'rescans': 1, 'intermittent': 3, 'identifiers': 1, 'reconfig': 1, 'fbcbf': 1, 'solve': 28, 'malicious': 3, 'offloadeda': 1, 'matchers': 5, 'aspect': 1, 'flavor': 513, 'supersecret': 1, 'param': 59, 'asok': 2, 'pcidevicelist': 2, 'osbr': 3, 'displayname': 8, 'migrationcontext': 1, 'filterref': 2, 'credentials': 43, 'pluginlib': 1, 'server': 1195, 'either': 48, 'vmms': 1, 'projetoti': 1, 'hayward': 1, 'fulfil': 7, 'imageb': 1, 'imagea': 2, 'erase': 2, 'loopingcall': 33, 'confirm': 41, 'extensively': 1, 'vlanid': 2, 'critical': 16, 'inject': 35, 'knife': 1, 'notable': 1, 'broker': 4, 'notably': 2, 'bdcffc': 1, 'regexp': 5, 'manufacturer': 3, 'errorflavor': 1, 'cloudimage': 1, 'baremetalbrbm': 3, 'practical': 2, 'refference': 2, 'occationally': 1, 'assertxmlequal': 2, 'urwid': 2, 'shri': 2, 'strip': 3, 'versio': 1, 'ckxd': 1, 'notsx': 2, 'genericvmconfigfault': 1, 'libvirtconfigguestcontroller': 2, 'brute': 1, 'decode': 8, 'becec': 1, 'mismatcherror': 2, 'apis': 32, 'buggy': 1, 'signaturemethod': 1, 'apic': 8, 'spice': 41, 'rdtscp': 2, 'qudtds': 1, 'sbcrslot': 1, 'embed': 2, 'deadlock': 2, 'subclasses': 2, 'truefunctional': 1, 'cbec': 2, 'videos': 1, 'youtube': 3, 'deep': 1, 'resultant': 1, 'directorysynchronization': 1, 'lifetime': 1, 'deee': 1, 'deea': 5, 'drivers': 169, 'hybrid': 8, 'field': 119, 'cleanup': 63, 'prise': 2, 'keystoneauthtoken': 1, 'wyyvsandatastor': 2, 'ansi': 2, 'important': 4, 'diablo': 4, 'diable': 1, 'havana': 21, 'remote': 89, 'chenling': 2, 'eccdd': 1, 'resolution': 7, 'pcidevicestats': 1, 'unset': 1, 'virdomainblockcommit': 1, 'forget': 3, 'selinux': 3, 'rebind': 2, 'browsers': 1, 'fixtures': 3, 'children': 1, 'liberasurecode': 1, 'tarball': 1, 'rackspace': 18, 'leftwhen': 1, 'datastorevmware': 1, 'fall': 6, 'bottleneck': 1, 'afca': 1, 'afce': 8, 'afcf': 3, 'applicable': 3, 'stderr': 27, 'sigusr': 16, 'sbcr': 2, 'deacc': 1, 'computeservice': 2, 'uncontactable': 2, 'reactivation': 1, 'zero': 22, 'perspective': 4, 'plugins': 98, 'trhough': 1, 'fffa': 3, 'ffff': 11, 'fffe': 19, 'garth': 1, 'fefae': 1, 'virconnectopenauth': 1, 'public': 190, 'deviceisbusy': 3, 'component': 24, 'veth': 22, 'mult': 1, 'diffs': 1, 'search': 29, 'conta': 1, 'dicts': 1, 'pyinstanceinfocachenotfound': 1, 'specialize': 1, 'triager': 4, 'authorize': 7, 'deterministic': 2, 'clflush': 1, 'nhost': 2, 'transit': 1, 'recommened': 1, 'xtpr': 4, 'establish': 19, 'rackspacecloud': 1, 'distinct': 1, 'destination': 82, 'fcff': 5, 'aebd': 1, 'splash': 1, 'cinderclient': 37, 'bootprequests': 1, 'opendaylight': 25, 'eaeeb': 1, 'mozilla': 1, 'jsons': 1, 'particular': 19, 'cacert': 11, 'linuxbridgeplugin': 2, 'managedobjectnotfound': 6, 'hour': 1, 'middle': 1, 'buildabortexception': 5, 'microversion': 15, 'remain': 36, 'markmail': 2, 'abandon': 1, 'strategies': 2, 'nname': 1, 'bdfe': 1, 'bdff': 4, 'dhcpbridge': 12, 'routerplugin': 2, 'share': 152, 'openssl': 5, 'collision': 1, 'minimum': 32, 'pcid': 2, 'ouid': 2, 'pdpe': 4, 'stig': 2, 'ocgz': 2, 'dswitch': 1, 'advice': 10, 'connectivity': 18, 'spectacularly': 2, 'mariadb': 18, 'response': 236, 'netaddr': 3, 'siocgifindex': 3, 'mislead': 4, 'secs': 2, 'responsibility': 2, 'interfacemanager': 1, 'fernet': 2, 'osinfo': 2, 'folowed': 1, 'cpuselection': 2, 'noindent': 1, 'reqired': 1, 'existence': 4, 'suffer': 5, 'destructively': 1, 'authentication': 56, 'late': 2, 'pend': 2, 'baaa': 1, 'baad': 16, 'baaf': 10, 'someone': 32, 'timestamp': 13, 'inception': 1, 'detach': 186, 'complain': 12, 'association': 18, 'kwayrqiodjfce': 2, 'easily': 9, 'softlayer': 62, 'illegalstateexception': 1, 'micro': 6, 'token': 292, 'processexecutionerror': 16, 'pcidevicepoollist': 2, 'everyone': 16, 'house': 4, 'hard': 43, 'idea': 21, 'connect': 186, 'fist': 1, 'createstack': 4, 'baymodel': 1, 'tanmoy': 1, 'handleerror': 2, 'print': 58, 'doccuements': 1, 'evaluation': 4, 'baeed': 7, 'circumstance': 3, 'noopfirewalldriver': 5, 'terminals': 1, 'members': 14, 'itgix': 23, 'httpstatuses': 2, 'sytem': 1, 'openstackclient': 16, 'computers': 6, 'cellsv': 1, 'opensstack': 1, 'wsgiscriptalias': 2, 'teststamppattern': 2, 'diskfilter': 3, 'instanceb': 3, 'instancea': 7, 'dont': 11, 'perturb': 1, 'computemanagerunittestcase': 1, 'cada': 3, 'cadb': 1, 'cadc': 2, 'cade': 1, 'cadf': 12, 'fecdd': 1, 'ipaddress': 3, 'dvportgroup': 1, 'least': 39, 'authurl': 1, 'assumption': 5, 'statement': 10, 'lease': 12, 'gigabytes': 9, 'needle': 1, 'dddb': 1, 'part': 71, 'differentiate': 1, 'fsgsbase': 1, 'intance': 2, 'believe': 22, 'notfound': 14, 'largely': 1, 'headers': 98, 'sole': 1, 'declare': 4, 'horizone': 1, 'interactive': 2, 'indexer': 1, 'ceph': 224, 'agen': 4, 'twiddle': 1, 'mhorban': 1, 'gsamfira': 1, 'clientlive': 1, 'paths': 7, 'build': 230, 'unpausing': 1, 'multiplecreate': 1, 'folders': 4, 'portid': 3, 'passwd': 1, 'dispatchertest': 1, 'schedulerhints': 1, 'poke': 1, 'charm': 14, 'significant': 3, 'bbec': 2, 'compaq': 1, 'ipxe': 6, 'saturate': 1, 'weigh': 4, 'sector': 4, 'particularly': 5, 'bootindex': 14, 'dgkrrqy': 1, 'converge': 1, 'relation': 4, 'ncontainer': 1, 'fine': 70, 'find': 400, 'generators': 1, 'sanitize': 18, 'override': 9, 'storagethe': 1, 'libvirtconfigbasetest': 1, 'permission': 16, 'ellipsized': 1, 'express': 2, 'opensuse': 8, 'restart': 171, 'dgwc': 2, 'elapse': 2, 'resolve': 30, 'updatated': 1, 'connnection': 1, 'remove': 190, 'common': 388, 'allocations': 6, 'storageerror': 2, 'eccfb': 1, 'zptest': 1, 'vine': 2, 'ifconfig': 7, 'lion': 1, 'individual': 5, 'stringify': 3, 'expert': 1, 'keepalived': 17, 'smallest': 2, 'readme': 3, 'errored': 1, 'bcivzloligrtvsk': 1, 'popup': 1, 'responses': 7, 'cinders': 1, 'interfaces': 56, 'cinderv': 5, 'infau': 1, 'cefce': 5, 'premise': 2, 'ffffffffa': 2, 'charsetincompatibility': 1, 'indiscriminately': 1, 'reverse': 1, 'afaf': 1, 'afae': 2, 'relabel': 1, 'afac': 67, 'venu': 1, 'menager': 1, 'httpinternalservererror': 1, 'consume': 16, 'point': 94, 'simple': 36, 'globals': 5, 'simply': 19, 'runningmultipath': 1, 'shutdown': 67, 'unsuccessful': 1, 'throughout': 2, 'expensive': 1, 'backend': 93, 'kernels': 1, 'gethostname': 1, 'raise': 228, 'create': 1378, 'secret': 38, 'excon': 1, 'lbaas': 8, 'httpentityhandler': 8, 'understand': 34, 'zhaoqin': 14, 'bcbb': 5, 'unify': 2, 'bcbf': 2, 'solid': 1, 'bill': 11, 'tolerate': 1, 'longvif': 1, 'metadat': 1, 'ipcompute': 2, 'healthnmon': 1, 'misdisconnect': 1, 'filtermatchnotexecutable': 1, 'systool': 4, 'cento': 1, 'aaaffcf': 1, 'fcwszq': 1, 'unmount': 3, 'managebility': 1, 'pytest': 1, 'emphasize': 1, 'sslcertificatekeyfile': 1, 'neutron': 829, 'development': 19, 'jitest': 3, 'passwords': 4, 'assignment': 13, 'attachdevice': 2, 'deviceboot': 2, 'moment': 12, 'purpose': 15, 'aggregate': 77, 'rootfs': 13, 'task': 402, 'pyflakes': 1, 'diskformatenum': 1, 'entry': 73, 'baaece': 1, 'spend': 1, 'preference': 1, 'adbe': 1, 'bdde': 1, 'shape': 1, 'atomic': 4, 'world': 13, 'openstach': 1, 'superficial': 1, 'dbnonexistentdatabase': 2, 'alternate': 3, 'comstud': 1, 'vague': 1, 'source': 251, 'deliberately': 1, 'snap': 13, 'vswitch': 15, 'administrative': 9, 'abfef': 1, 'varchar': 20, 'rebound': 1, 'lcjtb': 1, 'semi': 1, 'indication': 1, 'bellard': 2, 'pujfofv': 1, 'scrip': 3, 'google': 11, 'bacb': 1, 'often': 10, 'collectors': 3, 'lastest': 1, 'busybox': 1, 'back': 123, 'delegation': 1, 'examples': 17, 'mirror': 18, 'sstxn': 2, 'lars': 1, 'scale': 36, 'visiable': 1, 'decision': 6, 'integration': 17, 'internalservererror': 2, 'scalr': 3, 'bogus': 7, 'reprodue': 1, 'aadd': 1, 'aade': 4, 'cront': 1, 'resonse': 1, 'wsdc': 1, 'asdfghi': 2, 'sslutils': 2, 'optimize': 2, 'expicitly': 2, 'constraint': 2, 'zjlit': 1, 'commanderror': 5, 'extensions': 650, 'consequently': 3, 'jqzwn': 1, 'thinkstation': 1, 'hudson': 2, 'pythonpath': 1, 'folsom': 5, 'addtion': 1, 'fccb': 1, 'novanova': 1, 'errno': 36, 'cabc': 7, 'forward': 24, 'translate': 5, 'ostestr': 1, 'warlock': 1, 'unrescuing': 1, 'ifcfg': 5, 'cloud': 400, 'isra': 1, 'calico': 2, 'unreserve': 4, 'invaliddiskinfo': 1, 'interfacemgrprovider': 1, 'jumbo': 2, 'intenal': 1, 'dcdaef': 2, 'constant': 6, 'metal': 5, 'single': 67, 'invalidsharedstorage': 3, 'organizational': 4, 'curl': 90, 'cafa': 1, 'ebff': 2, 'virdomainblockjobabort': 3, 'crypt': 1, 'assessable': 1, 'reputation': 1, 'functionality': 9, 'jzwxslwnoawxklnr': 1, 'serverstestmanualdisk': 8, 'sudheendraharwalkar': 3, 'accidental': 1, 'mismatch': 15, 'illegalargumentexception': 1, 'listcells': 1, 'percona': 1, 'ddfc': 3, 'virtualhost': 2, 'deploymenthost': 1, 'failures': 13, 'monclient': 1, 'changeset': 12, 'annour': 1, 'qcka': 1, 'query': 99, 'vsctl': 18, 'autostarted': 1, 'fxsr': 1, 'aaxefiviapwhlo': 1, 'noop': 9, 'fatal': 16, 'reveal': 3, 'objet': 2, 'namspace': 1, 'xxxxxxxx': 2, 'mindisk': 4, 'abrtd': 5, 'portop': 1, 'entire': 6, 'novaapi': 4, 'shock': 1, 'params': 88, 'imgur': 28, 'versioning': 12, 'snprintf': 1, 'cron': 3, 'insertion': 1, 'ifdown': 5, 'tmpdir': 2, 'opscloud': 3, 'unshared': 1, 'synthetically': 1, 'winrm': 1, 'access': 194, 'clipboard': 6, 'initcall': 1, 'dfacd': 1, 'body': 169, 'timeouterror': 2, 'exchange': 8, 'executor': 34, 'sinn': 2, 'loadapp': 4, 'intercept': 3, 'others': 15, 'implicit': 2, 'extreme': 2, 'afaee': 2, 'listserversnegativetestjson': 2, 'cert': 52, 'aggr': 2, 'existent': 1, 'implement': 42, 'honor': 6, 'control': 70, 'private': 118, 'rconn': 5, 'egress': 4, 'decrease': 2, 'resolutions': 1, 'gateway': 67, 'somevm': 1, 'ethertype': 9, 'bsystem': 1, 'faddb': 2, 'reasonablethe': 1, 'trail': 2, 'transient': 2, 'nonefloating': 1, 'announce': 8, 'subscription': 2, 'account': 37, 'tunnel': 35, 'gabriel': 1, 'multicall': 4, 'mimeparse': 1, 'tinyrpcserver': 1, 'obvious': 7, 'fetch': 38, 'abcd': 6, 'accbf': 1, 'nofiles': 1, 'effectively': 5, 'xsmall': 1, 'native': 5, 'execcgi': 1, 'regions': 2, 'siddharth': 7, 'attachment': 33, 'ffbd': 3, 'ffbe': 1, 'ffbc': 1, 'stock': 1, 'profile': 18, 'displaydescription': 8, 'specifications': 1, 'virdomainattachdeviceflags': 10, 'collection': 9, 'inst': 61, 'newtonephemeral': 1, 'bind': 142, 'guru': 6, 'correspond': 27, 'stevedore': 5, 'fallback': 4, 'imagenew': 1, 'meter': 26, 'pyrax': 2, 'appdirs': 1, 'bunch': 2, 'ahostsv': 4, 'latitude': 1, 'aefb': 1, 'aeff': 1, 'gitweb': 1, 'descriptive': 1, 'cleanly': 1, 'memorycached': 1, 'mention': 26, 'bolden': 1, 'february': 2, 'preclude': 1, 'psutil': 1, 'toke': 1, 'opencos': 6, 'constraints': 25, 'activate': 5, 'funcsigs': 1, 'bdba': 1, 'requesttimeout': 4, 'matt': 4, 'stub': 2, 'docutils': 2, 'siraj': 1, 'workflow': 3, 'servicegroup': 3, 'clarify': 7, 'likelihood': 1, 'backwards': 2, 'indent': 1, 'lrta': 1, 'automatic': 1, 'recipes': 1, 'computehostnotfound': 2, 'instancenotfound': 23, 'elasticsearch': 10, 'nlxc': 2, 'suffix': 3, 'overlimit': 1, 'puppet': 37, 'sockets': 13, 'intermediate': 2, 'cloudbasesolutions': 5, 'mpath': 3, 'explanation': 7, 'acquire': 3, 'aabf': 21, 'hykh': 2, 'wishlist': 1, 'dgram': 4, 'openstacklocal': 5, 'pointers': 5, 'towrite': 4, 'vswitchname': 2, 'aeaca': 1, 'fcac': 3, 'hava': 1, 'fcaf': 8, 'unlikely': 3, 'requre': 1, 'microcode': 2, 'paramiko': 21, 'acceleration': 3, 'sevice': 1, 'xtrace': 1, 'unless': 9, 'callable': 8, 'propagate': 1, 'zngjqbutp': 2, 'strace': 2, 'gather': 5, 'request': 805, 'opaqueref': 1, 'securitygrouprules': 1, 'absurd': 1, 'psycopg': 3, 'occasion': 2, 'normally': 12, 'fixipaddress': 1, 'selection': 3, 'text': 22, 'shutoff': 26, 'floodlight': 2, 'technologies': 2, 'knowledge': 1, 'ebdd': 2, 'ebda': 10, 'jcloud': 5, 'prolong': 3, 'undionly': 1, 'flavordisktoosmall': 1, 'controle': 2, 'inferior': 1, 'hostsfile': 1, 'sysv': 1, 'bear': 2, 'beam': 1, 'aforementioned': 2, 'thumbprint': 2, 'areas': 1, 'aaefcffdce': 1, 'gyee': 4, 'permession': 2, 'reconnects': 1, 'unauthorized': 27, 'cachee': 1, 'nostat': 1, 'blogspot': 2, 'baseopenstackservice': 8, 'dreamhost': 2, 'omission': 2, 'cfab': 4, 'myanswers': 1, 'buildslave': 1, 'wanghaotype': 1, 'xxxxx': 3, 'bbae': 1, 'pattern': 14, 'authorizationtestjson': 2, 'difficulties': 2, 'routine': 1, 'progress': 88, 'nowait': 1, 'acessible': 1, 'deliver': 1, 'uefinotsupported': 2, 'attrname': 6, 'optional': 8, 'linuxnet': 1, 'plugin': 103, 'extensionshttp': 1, 'freely': 2, 'equal': 9, 'assure': 1, 'instanc': 1, 'dnat': 9, 'uniqueitems': 1, 'mapexception': 4, 'swallow': 1, 'otherwise': 10, 'comment': 20, 'ydvqf': 1, 'removal': 15, 'noauth': 3, 'mellanox': 2, 'uninitiated': 1, 'statuscode': 1, 'haswell': 2, 'fsbhlciibbtkqgbwvzc': 1, 'json': 283, 'uroot': 2, 'httpconnection': 1, 'proposal': 1, 'outliers': 1, 'anomaly': 1, 'define': 55, 'virconnectbaselinecpu': 1, 'tricircleplugin': 2, 'mnot': 1, 'assert': 4, 'orange': 1, 'defaulterrorhandler': 2, 'general': 25, 'reparsing': 1, 'multi': 54, 'rbddriver': 3, 'lnxau': 1, 'value': 399, 'hubs': 33, 'ccfbe': 2, 'cccacf': 32, 'weigher': 3, 'manually': 39, 'almost': 4, 'virt': 739, 'bogomips': 1, 'regression': 6, 'gioijtzxnzywdlolwitm': 1, 'rrey': 1, 'administration': 1, 'fabe': 2, 'fabd': 4, 'fabf': 1, 'faba': 8, 'cacheglance': 1, 'fabb': 1, 'cfdf': 1, 'fill': 5, 'cfdc': 1, 'cfda': 1, 'cloudinit': 2, 'devel': 5, 'dmesg': 2, 'recourse': 1, 'getservers': 1, 'builder': 19, 'allrouters': 1, 'noarchnova': 1, 'usual': 2, 'preallocate': 1, 'deltas': 1, 'abaf': 3, 'gpts': 1, 'ipaddr': 6, 'createclient': 1, 'speacking': 1, 'nastier': 1, 'voila': 1, 'confusions': 1, 'dcef': 2, 'match': 67, 'testr': 3, 'deployment': 92, 'storages': 1, 'insert': 6, 'incomprehensible': 1, 'like': 241, 'success': 31, 'fkoqx': 2, 'worke': 1, 'dbapierror': 2, 'metadef': 1, 'soft': 34, 'pfifo': 1, 'accessible': 10, 'novakeystonecontext': 1, 'aedc': 1, 'alive': 31, 'proper': 14, 'foramt': 2, 'proxyclient': 7, 'yzcbmb': 1, 'libertylive': 1, 'ocata': 23, 'regain': 1, 'host': 1154, 'expire': 25, 'although': 23, 'httpbadrequest': 4, 'periodically': 1, 'panel': 1, 'sbin': 7, 'actual': 125, 'socket': 45, 'assertin': 2, 'flake': 1, 'workloads': 2, 'discard': 50, 'mypol': 2, 'dlibvirt': 1, 'loadobj': 4, 'functional': 26, 'flatdhcpmanager': 3, 'doesnt': 5, 'astacks': 1, 'elastic': 1, 'snmp': 2, 'maxsize': 1, 'mfrom': 1, 'horion': 1, 'brand': 3, 'keyerror': 6, 'authenticator': 8, 'partially': 1, 'pagesize': 1, 'nstack': 1, 'dangerous': 1, 'hypervisorunavailable': 4, 'minutes': 14, 'epel': 1, 'uplinks': 2, 'citrix': 2, 'periods': 3, 'corporation': 2, 'detail': 187, 'virtual': 145, 'forrbid': 1, 'ptcp': 1, 'bundle': 2, 'cbelu': 2, 'cheersrenaming': 1, 'prevalent': 1, 'migrationerror': 1, 'adad': 1, 'notauthenticated': 1, 'slaac': 1, 'cookbook': 1, 'testosapifixture': 2, 'represent': 9, 'facilities': 2, 'sleep': 10, 'discoverable': 1, 'configfilevalueerror': 5, 'undef': 1, 'violate': 5, 'invalidbdm': 4, 'ttys': 2, 'whatsoever': 2, 'tenacity': 1, 'vxlan': 37, 'floatingips': 7, 'statsd': 3, 'risk': 7, 'docuement': 1, 'rise': 1, 'every': 42, 'upstream': 6, 'neut': 2, 'vastly': 1, 'hbhl': 1, 'servlet': 1, 'encounter': 18, 'movbe': 1, 'stacktrace': 5, 'opstions': 1, 'submodules': 1, 'consistent': 16, 'guidelines': 3, 'direct': 27, 'mystack': 1, 'blockinfo': 3, 'hide': 11, 'specification': 3, 'introspect': 1, 'liberty': 121, 'conduct': 1, 'wart': 1, 'injections': 1, 'jumpgate': 2, 'deps': 1, 'ubuntus': 1, 'hundreds': 1, 'alocated': 1, 'becb': 1, 'path': 181, 'detachdeviceflags': 1, 'cdea': 1, 'forum': 2, 'machinename': 1, 'errorlog': 1, 'qcow': 61, 'visible': 3, 'certificat': 1, 'would': 198, 'bbcb': 1, 'bbce': 29, 'bbcd': 2, 'noarch': 136, 'libvirterror': 73, 'spike': 1, 'preview': 2, 'assessment': 2, 'invalidbackup': 1, 'genindex': 1, 'nostate': 10, 'wsgiservice': 2, 'memcache': 13, 'outdated': 1, 'must': 40, 'shoot': 5, 'join': 39, 'install': 232, 'grenade': 3, 'chandy': 1, 'unordered': 2, 'guarantee': 9, 'ones': 7, 'vagrant': 12, 'imageunacceptable': 1, 'gate': 86, 'dialect': 3, 'description': 214, 'mess': 4, 'insecure': 12, 'cancelupdatetest': 1, 'befor': 1, 'parallel': 7, 'util': 83, 'bootstrap': 11, 'environ': 62, 'enter': 41, 'frontend': 9, 'cffc': 2, 'ksip': 2, 'cffi': 3, 'rhbxaioje': 1, 'confignova': 1, 'scsidisk': 1, 'digest': 7, 'fossies': 1, 'monasca': 29, 'difference': 14, 'vimexception': 2, 'fada': 1, 'kwargs': 488, 'instll': 1, 'unrecognized': 6, 'hmacsha': 1, 'confuse': 16, 'siocgifhwaddr': 3, 'echo': 30, 'htmlexception': 1, 'unregister': 1, 'explode': 1, 'nodecount': 1, 'notifier': 6, 'consolidate': 1, 'autowrap': 24, 'hbtkmp': 1, 'gioijtzxnzywdlolwirxjyb': 1, 'msgpack': 1, 'odizmtazfq': 1, 'okhttp': 2, 'newly': 8, 'destinations': 25, 'dists': 1, 'associate': 66, 'hang': 21, 'free': 59, 'monotonic': 1, 'aforesaid': 1, 'counterparts': 1, 'scoped': 2, 'portfailed': 1, 'fakedriver': 3, 'jsonfile': 1, 'openssh': 1, 'days': 13, 'tolerant': 1, 'filter': 312, 'corrections': 2, 'onto': 1, 'rand': 5, 'already': 118, 'primary': 15, 'pxeboot': 3, 'restrict': 7, 'strutils': 5, 'xcjzy': 2, 'clicreatevm': 1, 'reauth': 1, 'tool': 55, 'serve': 6, 'linuxovsinterfacedriver': 1, 'libiscsi': 3, 'hermesh': 1, 'cputune': 10, 'roles': 21, 'reponse': 1, 'errorclass': 5, 'vmstates': 2, 'bridge': 164, 'fashion': 2, 'invpcid': 1, 'bootprequest': 1, 'failurescinder': 1, 'mynewinstance': 1, 'relatively': 2, 'localdatastore': 2, 'autoscalingmuliazsample': 1, 'xfail': 2, 'client': 493, 'though': 39, 'foundlibvirt': 1, 'manualinstall': 11, 'preset': 5, 'plenty': 1, 'netlink': 1, 'partition': 45, 'flow': 39, 'instancelist': 11, 'fffb': 1, 'metas': 1, 'enterprise': 7, 'libxenlight': 7, 'definedstandarderror': 1, 'oidcauthcode': 2, 'random': 11, 'solutions': 12, 'bail': 1, 'availability': 156, 'spite': 3, 'situations': 6, 'providernet': 1, 'siguser': 8, 'allinone': 8, 'wbcau': 1, 'dispatchers': 2, 'fabrice': 2, 'watch': 6, 'connectionrecord': 4, 'amazon': 7, 'despite': 4, 'report': 201, 'reconstruct': 1, 'toolbox': 2, 'vgamem': 4, 'reinstall': 5, 'rarps': 1, 'storagefailed': 1, 'twice': 11, 'fresources': 1, 'adapters': 1, 'domcapabilities': 1, 'failcode': 1, 'currentmemory': 4, 'detection': 2, 'corrupt': 11, 'guestos': 1, 'donwload': 1, 'ecfc': 1, 'capacity': 12, 'urllib': 55, 'catalogue': 2, 'finger': 1, 'hopefully': 1, 'approach': 10, 'discovery': 8, 'ucmpt': 2, 'cdfba': 1, 'confusion': 4, 'however': 148, 'bosh': 2, 'improve': 12, 'protect': 9, 'fault': 57, 'danplanet': 1, 'mutli': 1, 'inzav': 1, 'nameserver': 6, 'expense': 1, 'htmlnova': 1, 'runcmd': 1, 'trust': 6, 'keyclientv': 1, 'lightly': 1, 'guice': 1, 'ostack': 3, 'quickly': 4, 'caculate': 1, 'wsgiprocessgroup': 3, 'pythonhashseed': 1, 'sucessfully': 1, 'buildstepmonitor': 2, 'containers': 19, 'publisher': 4, 'enterprises': 3, 'catch': 35, 'logicremove': 1, 'suppsed': 1, 'cdcb': 6, 'lesser': 1, 'dept': 1, 'dashboard': 128, 'petrut': 1, 'htmlwrong': 1, 'procedure': 9, 'excute': 1, 'uanble': 1, 'changeme': 2, 'lvmcreation': 1, 'emulatorpin': 1, 'experts': 2, 'ramifications': 1, 'reraise': 246, 'baccf': 4, 'arat': 1, 'assigment': 1, 'suggest': 33, 'complex': 4, 'inventory': 31, 'oidcpassword': 2, 'several': 23, 'apiproxy': 3, 'decfb': 5, 'raza': 1, 'portal': 4, 'cycle': 3, 'narrow': 4, 'shortly': 2, 'dada': 1, 'cloudfoundry': 3, 'dadb': 2, 'bugzilla': 4, 'getentity': 2, 'incapable': 13, 'iiwidgltzsi': 1, 'ephemeral': 120, 'laptop': 12, 'novaservers': 1, 'ctlplane': 1, 'gtaikoziw': 1, 'imagepath': 1, 'cherry': 1, 'lspci': 3, 'ipsec': 6, 'igag': 1, 'ipset': 3, 'memoizer': 1, 'igroup': 1, 'afore': 1, 'judge': 2, 'zonecfg': 1, 'reclone': 3, 'apart': 1, 'mexit': 1, 'hunt': 1, 'dsname': 3, 'specific': 61, 'imagebackend': 13, 'hunk': 1, 'anlyze': 5, 'arbitrary': 7, 'dbbf': 4, 'dbbb': 1, 'dbbc': 1, 'apacheds': 3, 'acab': 1, 'acaa': 3, 'acive': 1, 'successfully': 83, 'excerpt': 1, 'nfrom': 7, 'tokencreate': 1, 'election': 1, 'escape': 3, 'advertise': 1, 'tutorial': 9, 'unexpectedtaskstateerror': 2, 'everything': 45, 'brbm': 6, 'allocate': 72, 'operationalerror': 2, 'pausedbackup': 1, 'core': 90, 'bfac': 1, 'blooper': 1, 'cors': 3, 'plug': 58, 'limitation': 7, 'duplicatename': 1, 'lauch': 1, 'vhostuser': 8, 'cbfed': 1, 'ensure': 32, 'runtime': 1, 'mistyped': 1, 'vspere': 2, 'dcab': 2, 'dcad': 10, 'presence': 3, 'puzzle': 1, 'abef': 15, 'sphinxconfiggen': 2, 'mtraceback': 1, 'rely': 5, 'storeconfigs': 1, 'transform': 4, 'umounted': 2, 'head': 26, 'medium': 11, 'heal': 8, 'differences': 8, 'subclassing': 1, 'heat': 252, 'hear': 5, 'cidr': 8, 'icmp': 12, 'errinfo': 2, 'pqsga': 2, 'attr': 193, 'versions': 44, 'unpin': 5, 'decorate': 101, 'mtrr': 1, 'stackforge': 2, 'trig': 4, 'sometime': 3, 'check': 397, 'adminclient': 2, 'openstackblock': 7, 'whereas': 3, 'telemetry': 2, 'cfntools': 1, 'readonly': 4, 'investigations': 1, 'vinoth': 1, 'rlbgv': 1, 'webob': 95, 'node': 772, 'picture': 1, 'loadwsgi': 20, 'dbduplicateentry': 2, 'bitbucket': 2, 'longer': 30, 'bullet': 2, 'jsonpath': 2, 'netifaces': 1, 'unicodedecodeerror': 3, 'backward': 6, 'externalodl': 3, 'iterator': 1, 'impression': 1, 'alternatives': 3, 'focus': 5, 'deprected': 1, 'snip': 3, 'brctl': 4, 'powerkvm': 3, 'recode': 2, 'tinyrpc': 5, 'smep': 1, 'inverse': 1, 'clarification': 2, 'portnotfoundclient': 2, 'bnuspl': 1, 'myadminpass': 1, 'environment': 183, 'sriov': 33, 'autoconfig': 1, 'federation': 4, 'advantage': 1, 'none': 408, 'virtutalbox': 1, 'fbdd': 1, 'fbdf': 2, 'edad': 1, 'level': 42, 'returnval': 8, 'quick': 6, 'slower': 1, 'obsolete': 2, 'versionkeypair': 1, 'port': 704, 'substitute': 1, 'postman': 2, 'libosinfo': 2, 'reply': 58, 'novnc': 32, 'witch': 1, 'vdagent': 32, 'weird': 4, 'mytenant': 1, 'nmap': 1, 'problematic': 2, 'tchv': 1, 'createserver': 4, 'ande': 1, 'sensu': 4, 'handler': 30, 'memory': 118, 'threadgrouprbd': 1, 'prep': 6, 'today': 13, 'libevirt': 1, 'chapter': 2, 'conductor': 120, 'sessions': 1, 'thiagoliberty': 1, 'overided': 1, 'maximise': 1, 'blockcommit': 3, 'preserveephemeralnotsupported': 1, 'ceef': 1, 'local': 776, 'ujlbdsxfs': 1, 'rados': 1, 'pickle': 2, 'usability': 1, 'months': 1, 'stream': 10, 'nexus': 2, 'rlihjly': 1, 'bigsky': 1, 'ddeda': 18, 'requirements': 23, 'undocumented': 2, 'bdbbcebcd': 1, 'alway': 1, 'plus': 9, 'feefa': 1, 'information': 143, 'pypi': 2, 'clone': 103, 'timedout': 1, 'zdcbjagfuz': 1, 'devs': 2, 'inform': 4, 'classnames': 1, 'cdae': 1, 'cdab': 2, 'exclusive': 4, 'mainly': 1, 'cdeaa': 2, 'insteadshould': 1, 'tenantname': 4, 'organisation': 1, 'databaseskill': 1, 'suboptimal': 3, 'tgtd': 2, 'platform': 10, 'loophole': 1, 'backported': 1, 'secoundry': 1, 'vaild': 1, 'underneath': 2, 'fcfaab': 2, 'tarballs': 1, 'permissions': 11, 'term': 8, 'name': 1327, 'dabb': 4, 'findmnt': 3, 'commitdiff': 1, 'inetorgperson': 1, 'synchronize': 5, 'importation': 1, 'physnet': 18, 'individually': 1, 'aopenstack': 1, 'zebra': 2, 'tgtadm': 5, 'faiied': 1, 'factory': 8, 'collate': 1, 'theory': 1, 'succesfully': 3, 'tempurl': 1, 'mysqld': 2, 'dispatcher': 884, 'netid': 3, 'turn': 19, 'atomically': 2, 'place': 31, 'swing': 1, 'origin': 21, 'conversions': 4, 'suspend': 22, 'redhat': 24, 'cfba': 7, 'origid': 1, 'acca': 1, 'cfbd': 1, 'cfbf': 1, 'playererror': 2, 'array': 13, 'fight': 3, 'engineer': 9, 'necessarily': 3, 'apitype': 3, 'whith': 1, 'unreachable': 5, 'distributedvirtualswitch': 2, 'bfcf': 1, 'blkdev': 3, 'alas': 1, 'badcc': 1, 'copy': 49, 'specify': 85, 'population': 7, 'wide': 2, 'keystonerc': 2, 'unfortunately': 11, 'imnvdw': 1, 'require': 114, 'netvirt': 7, 'ndwbugranrqptpvumcxtypvy': 2, 'legacy': 27, 'posix': 1, 'fsbin': 1, 'outcome': 6, 'showcelldata': 2, 'dccf': 2, 'dcce': 1, 'reno': 3, 'mater': 1, 'getfattr': 2, 'baremetal': 29, 'conversion': 1, 'ideas': 10, 'dhtwvi': 2, 'ideal': 3, 'sure': 53, 'multiple': 96, 'replicas': 1, 'printable': 3, 'greenthread': 9, 'colorama': 1, 'multiply': 3, 'midcycle': 2, 'later': 28, 'superblock': 1, 'catalyst': 1, 'recipe': 3, 'hack': 14, 'bigswitch': 9, 'ossx': 2, 'explicitly': 18, 'gdrq': 1, 'invocation': 7, 'viewpoint': 1, 'expectation': 1, 'getid': 2, 'tailor': 2, 'datera': 1, 'pipermail': 7, 'fileno': 6, 'intallation': 1, 'uname': 3, 'sendall': 4, 'xxxxxxxxxxx': 1, 'kibana': 1, 'firewalld': 3, 'fascade': 1, 'fbff': 1, 'detect': 22, 'ways': 8, 'subsequent': 10, 'review': 96, 'libguestfs': 3, 'getattr': 23, 'invoker': 1, 'vcpupin': 9, 'reproducible': 5, 'mempages': 2, 'resizeerror': 1, 'comp': 2, 'ramfilter': 4, 'afba': 1, 'comm': 2, 'lockutils': 33, 'come': 66, 'region': 98, 'libcrc': 1, 'quiet': 2, 'contract': 1, 'popcnt': 1, 'lorin': 2, 'regressions': 1, 'successed': 1, 'afterwards': 3, 'color': 4, 'rescan': 7, 'colony': 2, 'period': 25, 'repairable': 1, 'iterations': 1, 'poll': 35, 'hmcho': 1, 'eaaec': 1, 'aodh': 10, 'tesla': 1, 'derpinstance': 4, 'valueerror': 22, 'followup': 1, 'direction': 19, 'initiatorname': 1, 'andrea': 2, 'spirit': 1, 'protocols': 2, 'case': 184, 'mount': 79, 'cast': 9, 'irrespective': 1, 'htmlrpc': 1, 'lrwxrwxrwx': 16, 'otuwote': 1, 'discrepancy': 1, 'networkinterface': 1, 'parse': 56, 'good': 38, 'projectquotanotfound': 1, 'conntrack': 5, 'ironic': 68, 'unreserved': 1, 'kiriti': 1, 'erroneously': 2, 'author': 27, 'dbedd': 2, 'html': 164, 'standpointincorrect': 1, 'changepassword': 4, 'manila': 4, 'endheaders': 2, 'events': 31, 'status': 520, 'conductore': 1, 'screenshot': 3, 'multiattach': 4, 'nest': 11, 'driver': 644, 'ness': 5, 'thnetwork': 1, 'director': 2, 'eucalyptus': 1, 'westpac': 1, 'without': 98, 'dbfcd': 1, 'components': 27, 'etherpad': 3, 'termination': 19, 'mprocessexecutionerror': 1, 'binaries': 2, 'ihte': 1, 'clauseelement': 6, 'cease': 1, 'dacf': 1, 'unicode': 13, 'kilo': 81, 'differentiation': 1, 'nivol': 1, 'blow': 1, 'hint': 20, 'httpexceptionhandler': 8, 'except': 41, 'blog': 9, 'blob': 145, 'disrupt': 2, 'apiimpact': 1, 'dhclient': 5, 'floatingippoolapi': 1, 'scheduler': 287, 'defaut': 1, 'reconfiguration': 1, 'writethrough': 2, 'failnova': 1, 'fount': 1, 'argumenterror': 1, 'tapa': 2, 'deduce': 1, 'table': 144, 'intact': 3, 'slice': 3, 'repoze': 1, 'novaerrorhandler': 4, 'protocol': 26, 'ywdzolwic': 1, 'freen': 2, 'refcounts': 2, 'provider': 140, 'retryfilter': 5, 'inspect': 2, 'communicate': 19, 'noneauto': 1, 'karaf': 2, 'pcidevice': 1, 'multibyte': 1, 'jeew': 1, 'mutually': 3, 'stand': 2, 'interfacing': 2, 'communication': 6, 'determine': 28, 'invaliddevicespec': 2, 'theoretically': 1, 'strictly': 4, 'nove': 2, 'ipsan': 1, 'strict': 7, 'fbece': 1, 'dbfa': 1, 'dbfb': 1, 'regard': 23, 'flatnetworking': 1, 'faster': 2, 'offical': 1, 'singleflat': 1, 'flavormemorytoosmall': 1, 'cmabvt': 2, 'aceb': 3, 'acef': 3, 'hotplug': 2, 'intro': 1, 'asynchronous': 2, 'together': 7, 'russel': 1, 'incorrect': 37, 'vnfd': 23, 'dahsboard': 1, 'overcloud': 97, 'vnfm': 2, 'vnfs': 2, 'mvolumepathnotremoved': 1, 'really': 32, 'nfvo': 3, 'hardcoded': 2, 'briefly': 2, 'separate': 24, 'bfef': 1, 'serious': 4, 'nated': 1, 'myopenstack': 1, 'unresponsive': 1, 'stackers': 1, 'megha': 1, 'wifi': 1, 'chown': 5, 'migratelive': 5, 'directory': 57, 'dist': 1026, 'jsontraceback': 1, 'ewait': 6, 'openstackdocstheme': 1, 'lack': 10, 'nosuchelementexception': 3, 'generalize': 1, 'follow': 331, 'meditation': 5, 'disk': 689, 'decisions': 2, 'jessie': 1, 'glimpse': 1, 'opportunities': 1, 'diskconfig': 39, 'init': 216, 'program': 27, 'siblings': 16, 'worse': 1, 'mriedem': 3, 'subcommand': 5, 'ouch': 1, 'systemctl': 34, 'worst': 1, 'ticket': 1, 'idnova': 1, 'jcloudopenstack': 1, 'glanceclient': 22, 'lioadm': 1, 'list': 628, 'lisa': 1, 'runkubelet': 1, 'escalation': 1, 'meatadata': 2, 'vsaienko': 3, 'syslog': 6, 'rate': 7, 'design': 10, 'nonnumeric': 1, 'modifiy': 1, 'signatureversion': 1, 'deeply': 1, 'overload': 1, 'version': 527, 'memcached': 26, 'segmentation': 6, 'autoremove': 1, 'encouter': 1, 'behaviour': 23, 'directions': 2, 'newish': 1, 'invtsc': 3, 'volumeattachment': 2, 'handlers': 8, 'identity': 117, 'options': 70, 'amqplain': 2, 'lznjhbwuioii': 2, 'suddenly': 2, 'utilisation': 4, 'texts': 2, 'fearfully': 1, 'wsgipassauthorization': 2, 'research': 6, 'hiqa': 14, 'proceed': 5, 'ternminate': 3, 'minor': 4, 'instanceinfocache': 2, 'flat': 53, 'flaw': 3, 'bootorder': 2, 'operators': 2, 'servergroupaffinityfilter': 3, 'flag': 71, 'stick': 40, 'glad': 1, 'gitpython': 1, 'vraid': 1, 'blockdev': 1, 'caveat': 1, 'omit': 21, 'searchlight': 3, 'thekelleys': 1, 'ncinder': 1, 'arise': 4, 'pong': 1, 'compassextension': 1, 'goal': 4, 'rather': 24, 'algorithms': 4, 'occasionally': 4, 'distro': 10, 'simplicity': 1, 'virtblk': 2, 'emulate': 3, 'vlan': 66, 'taget': 3, 'rbac': 2, 'liyong': 1, 'disable': 146, 'numa': 50, 'aaaab': 2, 'interfaceattachfailed': 2, 'wntie': 1, 'short': 10, 'testtools': 15, 'bizness': 1, 'stash': 1, 'debbc': 2, 'openstacknetsdk': 1, 'callback': 52, 'shade': 5, 'hostport': 3, 'datastores': 5, 'essence': 1, 'cross': 5, 'oserror': 3, 'reconnect': 11, 'vlaue': 1, 'developer': 64, 'style': 14, 'resort': 1, 'might': 36, 'alter': 15, 'computecapabilitiesfilter': 3, 'xenproject': 6, 'somebody': 7, 'dfcontroller': 11, 'instancen': 1, 'hunter': 1, 'alrady': 1, 'framework': 1, 'milestone': 3, 'kvminstance': 1, 'abacus': 4, 'bigger': 5, 'instructions': 12, 'mulit': 1, 'noneport': 1, 'refresh': 31, 'innodb': 3, 'weight': 10, 'generation': 4, 'ssdceph': 4, 'expect': 197, 'undertake': 1, 'jurko': 1, 'addrformaterror': 1, 'irqbypass': 1, 'internalurl': 9, 'health': 3, 'hill': 2, 'worlddump': 6, 'netstat': 3, 'guess': 9, 'urxjyb': 1, 'virtualmachinemanager': 1, 'listserverfilterstestjson': 8, 'reconfigure': 4, 'nttdata': 1, 'libvirt': 840, 'generate': 83, 'leverage': 1, 'lolwhut': 1, 'thread': 57, 'modularity': 1, 'fcoe': 1, 'consequence': 6, 'feed': 6, 'informations': 4, 'allaggregate': 1, 'feel': 9, 'relate': 60, 'feet': 2, 'notify': 20, 'blank': 17, 'story': 1, 'utilization': 3, 'idinconsistency': 1, 'interact': 9, 'swarm': 7, 'storm': 6, 'store': 69, 'successully': 1, 'websockify': 2, 'pipelines': 2, 'option': 97, 'eihrhz': 2, 'transaction': 6, 'openstacksdk': 2, 'kind': 26, 'smmap': 1, 'double': 4, 'instruction': 1, 'libvirtgenericvifdriver': 1, 'compononts': 1, 'seafailed': 1, 'networki': 2, 'stale': 6, 'kbppwxfvmmq': 1, 'emitone': 1, 'adminpass': 14, 'suspicious': 2, 'expir': 1, 'encryptors': 11, 'parseobjectorfield': 2, 'xref': 1, 'floatingip': 9, 'migstat': 3, 'foreman': 4, 'populate': 19, 'exec': 17, 'customize': 1, 'dbdd': 44, 'reach': 27, 'dbdc': 1, 'ifup': 1, 'nothing': 27, 'usless': 1, 'vmotion': 3, 'quorum': 2, 'windows': 36, 'traditional': 13, 'unicodecsv': 1, 'ddde': 1, 'networ': 1, 'restore': 12, 'sudheendra': 3, 'fdcsknqts': 1, 'font': 1, 'txdbeb': 3, 'adefa': 1, 'semodule': 1, 'qvbcdc': 1, 'amqpdriver': 43, 'neutronclient': 111, 'cirros': 93, 'cirror': 1, 'invoke': 48, 'spurious': 2, 'subnetpool': 2, 'pronet': 4, 'portuuid': 2, 'adminsocketconfigobs': 1, 'imagepropertiesfilter': 5, 'investigate': 8, 'activity': 8, 'mohit': 1, 'precaution': 1, 'larsk': 1, 'fakedrivers': 1, 'dump': 21, 'archlist': 1, 'openflowplugin': 1, 'bare': 22, 'replybody': 9, 'pastedeploy': 6, 'dynamicjson': 1, 'libraries': 28, 'various': 16, 'kpartx': 1, 'userguide': 1, 'formatter': 4, 'falsey': 1, 'corruption': 12, 'recently': 17, 'initially': 7, 'createinstance': 1, 'heka': 4, 'succeed': 28, 'unitofwork': 2, 'pyasn': 1, 'license': 1, 'bandit': 1, 'unknowingly': 1, 'ovmf': 8, 'bond': 1, 'lsof': 3, 'cynic': 1, 'arbitrarily': 1, 'cssoss': 1, 'improper': 1, 'asdf': 1, 'volumesnotremoved': 2, 'java': 64, 'cbbd': 1, 'efbfbd': 1, 'cbbc': 3, 'strategy': 15, 'backends': 13, 'brick': 20, 'panko': 36, 'flight': 1, 'prereqs': 2, 'demand': 2, 'legacyjsonadapter': 1, 'indefinitely': 1, 'doctrees': 1, 'batch': 3, 'behavior': 32, 'concurrently': 5, 'uncomment': 4, 'eaeffc': 1, 'lengthy': 1, 'hadoop': 5, 'holdoff': 7, 'deletion': 19, 'advise': 2, 'higher': 7, 'mirantis': 14, 'libvirtlxc': 1, 'guestagent': 1, 'domains': 6, 'robust': 4, 'eddfd': 1, 'eddfb': 1, 'lower': 19, 'virbr': 4, 'anybody': 8, 'analysis': 8, 'cheer': 4, 'edge': 3, 'dport': 1, 'programmingerror': 10, 'precedence': 1, 'aftermaths': 1, 'gluster': 6, 'parition': 1, 'intervals': 4, 'osadmin': 3, 'poller': 3, 'wholedisk': 2, 'gems': 2, 'ixsarz': 1, 'also': 224, 'peterdeletion': 1, 'workers': 19, 'exclusively': 1, 'deletedelete': 1, 'tweak': 1, 'umounting': 3, 'customers': 2, 'vendor': 34, 'ipmi': 3, 'advocate': 1, 'unlimited': 6, 'aggregation': 3, 'terminate': 136, 'preexist': 2, 'verion': 2, 'unrelatedscripts': 1, 'helpful': 8, 'modifications': 2, 'seperate': 1, 'marian': 1, 'sincerely': 1, 'confront': 1, 'bavailability': 1, 'openshift': 2, 'ignore': 71, 'collect': 13, 'unstable': 2, 'essential': 1, 'backingstore': 8, 'undercloud': 11, 'loggs': 1, 'retry': 136, 'prot': 4, 'pros': 2, 'prop': 4, 'opnfs': 1, 'market': 1, 'prog': 2, 'prod': 3, 'proc': 6, 'anna': 4, 'cyit': 2, 'cbbbdd': 1, 'juju': 84, 'jlzw': 2, 'rootwrapprocesshelper': 2, 'fastpath': 1, 'pipeline': 27, 'artivcle': 1, 'standalone': 6, 'installdeps': 1, 'range': 69, 'availabilty': 2, 'wanna': 2, 'novanetwork': 1, 'plethora': 1, 'kimizhang': 1, 'colorize': 1, 'extremely': 1, 'smoothly': 2, 'question': 64, 'fast': 13, 'networkfailed': 1, 'vendors': 1, 'pabc': 2, 'importutils': 13, 'analyze': 2, 'filer': 1, 'nwfilter': 3, 'criteria': 3, 'vcsqzmf': 1, 'repeatedly': 3, 'delta': 4, 'consist': 3, 'pingable': 1, 'declarations': 1, 'cinderwhen': 1, 'callee': 1, 'mediation': 1, 'multistropt': 2, 'ccfe': 1, 'ccfc': 3, 'hwhandler': 1, 'morootandswap': 1, 'rally': 79, 'nics': 17, 'peace': 1, 'httpconnectionpool': 3, 'mock': 7, 'nice': 4, 'users': 91, 'problems': 35, 'undefine': 3, 'staticweb': 1, 'flibvirtd': 1, 'vice': 4, 'virdomainsnapshotcreatexml': 1, 'foundry': 1, 'intentional': 3, 'pymysql': 59, 'jlkwhat': 1, 'adjustment': 1, 'rimporting': 1, 'befad': 2, 'stably': 1, 'listopt': 4, 'autostart': 3, 'stable': 69, 'include': 73, 'junit': 2, 'waiters': 10, 'servicetooold': 1, 'spool': 3, 'mollett': 1, 'eeef': 1, 'errval': 3, 'stackoverflow': 2, 'floaring': 1, 'spoof': 8, 'bryant': 1, 'redistribute': 2, 'serversvolume': 1, 'oslotest': 2, 'networknode': 1, 'crmd': 1, 'igroups': 1, 'smaller': 13, 'nelse': 1, 'fold': 3, 'claudiu': 2, 'openstackshell': 2, 'mikita': 1, 'compat': 13, 'unavailable': 15, 'pscsi': 1, 'hiera': 8, 'isapc': 2, 'relocate': 2, 'technology': 1, 'explore': 2, 'requestid': 1, 'separation': 1, 'triage': 1, 'wrapt': 1, 'hickups': 1, 'hypervisor': 210, 'larger': 12, 'unrescue': 6, 'cauth': 2, 'impactnetwork': 1, 'superuser': 2, 'forbid': 6, 'againtarget': 1, 'apply': 31, 'figure': 16, 'consumption': 3, 'virdomaindefinexml': 2, 'paste': 83, 'mysecuritygroup': 1, 'december': 1, 'rastasheep': 1, 'inet': 46, 'kvmc': 1, 'sort': 102, 'uuyffz': 1, 'epoll': 2, 'writen': 1, 'columbo': 1, 'wsgidaemonprocess': 2, 'confg': 3, 'rabbit': 83, 'unshelved': 7, 'annoy': 1, 'anywhere': 22, 'columns': 28, 'endian': 1, 'proof': 5, 'kalasagar': 1, 'quickstart': 3, 'calculation': 2, 'novatemplateoptions': 2, 'inaccessible': 2, 'cabddf': 5, 'something': 67, 'deepcopy': 1, 'serial': 61, 'pooja': 1, 'manish': 1, 'edba': 1, 'rarp': 4, 'unskip': 1, 'cbdd': 1, 'instead': 99, 'panic': 1, 'administrator': 7, 'luks': 14, 'tact': 1, 'myvm': 2, 'nuser': 2, 'pwrite': 1, 'light': 3, 'failover': 1, 'backstores': 1, 'scenarios': 11, 'honestly': 2, 'freebsd': 3, 'elif': 2, 'debtcollector': 2, 'positional': 7, 'complicate': 3, 'quiesce': 8, 'packstack': 51, 'permanent': 1, 'choose': 31, 'inconsistencies': 2, 'multithreading': 1, 'pending': 6, 'flex': 3, 'crash': 18, 'pfisonline': 2, 'practice': 8, 'poweroffvm': 5, 'fingerprint': 13, 'auto': 93, 'edit': 22, 'promisc': 3, 'unpredictable': 1, 'trap': 67, 'crytographic': 1, 'vdus': 3, 'bedbb': 1, 'fieldmapper': 2, 'additions': 1, 'scaleup': 1, 'ithmohx': 1, 'switchuuid': 1, 'gossamer': 1, 'heartbeattimeout': 1, 'autopilot': 1, 'clonevm': 1, 'plural': 2, 'vmwareapi': 141, 'dictionary': 7, 'rhos': 1, 'maintaine': 1, 'tenant': 276, 'nunknown': 2, 'unindent': 1, 'aeefd': 1, 'feasible': 2, 'conversation': 1, 'hence': 6, 'execstart': 2, 'myinstance': 1, 'efba': 2, 'portgroup': 9, 'intuitively': 1, 'tacker': 44, 'ofctl': 1, 'busyerror': 1, 'libvirts': 2, 'openstackid': 1, 'unknown': 21, 'priority': 4, 'libvirtd': 32, 'boil': 1, 'rackspaceauthplugin': 1, 'shell': 39, 'tuple': 2, 'shallow': 1, 'quagga': 3, 'sessionclient': 6, 'csscorp': 1, 'blockjobabort': 2, 'isolation': 4, 'failsdata': 1, 'chardev': 1, 'ludgvydmfsijowfswic': 1, 'hypervexception': 1, 'manged': 2, 'cdaf': 6, 'affined': 4, 'configration': 4, 'rout': 28, 'passwordcredentials': 4, 'vpnaas': 2, 'cfdaa': 1, 'class': 233, 'deny': 22, 'dumpxml': 5, 'pipe': 1, 'uefi': 10, 'diagnostics': 5, 'looken': 1, 'fied': 1, 'gain': 1, 'please': 187, 'feab': 5, 'putt': 1, 'dtest': 1, 'purely': 1, 'playbook': 6, 'pyparsing': 1, 'cache': 213, 'operational': 2, 'candidates': 1, 'clientresponseexception': 2, 'rahul': 7, 'thousands': 4, 'pypa': 2, 'dfdf': 1, 'dfdd': 1, 'nnnnn': 1, 'suer': 1, 'documention': 1, 'helion': 1, 'newbuilder': 3, 'gnnochi': 1, 'reportclient': 1, 'futuristic': 1, 'view': 41, 'unison': 1, 'integrationtests': 1, 'requirement': 19, 'modulo': 1, 'metnion': 1, 'module': 104, 'gmail': 2, 'closer': 1, 'virreporterror': 1, 'arguably': 1, 'cruds': 1, 'breakpoints': 1, 'favor': 5, 'mypass': 1, 'cetrain': 1, 'ability': 5, 'addif': 1, 'dcbbf': 2, 'uncompleted': 1, 'kubelet': 3, 'eecf': 1, 'webapp': 1, 'swift': 124, 'succesful': 2, 'piece': 2, 'april': 4, 'atleast': 1, 'safely': 1, 'unclear': 4, 'fcdeb': 3, 'wall': 1, 'mytiny': 1, 'environments': 10, 'walk': 1, 'pygments': 1, 'respect': 6, 'qemu': 201, 'unclean': 1, 'devstacktest': 1, 'mdailcjncmfwag': 2, 'literal': 2, 'transformer': 4, 'semaphore': 11, 'powerful': 1, 'sufficient': 3, 'present': 47, 'anush': 2, 'wily': 3, 'unlike': 2, 'vanilla': 2, 'fakepath': 1, 'choices': 7, 'cursor': 7, 'rename': 10, 'layer': 22, 'completerootwrap': 1, 'refs': 4, 'thus': 23, 'openvswich': 1, 'ansible': 56, 'dual': 7, 'keystonedb': 1, 'backhaul': 1, 'postgres': 5, 'uptime': 1, 'configds': 2, 'perhaps': 8, 'lauching': 1, 'nwhere': 4, 'unite': 3, 'member': 11, 'murano': 13, 'largest': 2, 'reconfiguring': 1, 'difficult': 1, 'slave': 18, 'alot': 1, 'automation': 9, 'approve': 3, 'apiclient': 5, 'efeceb': 8, 'stackrabbit': 5, 'theses': 1, 'english': 1, 'firstly': 4, 'signatureverificationerror': 1, 'rement': 2, 'excessive': 2, 'heavily': 4, 'boot': 499, 'obtain': 7, 'nocloud': 1, 'libvirtnfsvolumedriver': 1, 'untested': 1, 'isinstance': 1, 'tpool': 100, 'console': 217, 'freenode': 4, 'secgroup': 20, 'interpretting': 1, 'supply': 26, 'smith': 1, 'capabilities': 26, 'cbfb': 9, 'apparmor': 8, 'cbff': 1, 'usage': 94, 'enact': 2, 'identical': 10, 'obvioulsy': 1, 'branch': 29, 'masquerade': 4, 'autoscaling': 18, 'execute': 248, 'xenial': 54, 'sytemd': 1, 'know': 151, 'press': 2, 'hostb': 3, 'hosta': 11, 'losted': 1, 'virtualized': 1, 'exceed': 14, 'sequence': 5, 'dcpath': 3, 'onehost': 3, 'platforms': 1, 'export': 70, 'kern': 2, 'tlsv': 5, 'lead': 31, 'leak': 9, 'markers': 9, 'leap': 2, 'leader': 1, 'locate': 28, 'rasie': 1, 'pdfadminpass': 1, 'enum': 10, 'sysinfo': 15, 'pike': 1, 'pika': 2, 'extension': 93, 'column': 37, 'processors': 2, 'dependence': 4, 'vmynode': 2, 'dependency': 13, 'carrier': 1, 'futurist': 1, 'sandybridge': 1, 'nlbbuwlci': 1, 'resourceprovider': 2, 'prefetcher': 1, 'cparams': 4, 'weather': 1, 'ovsvapp': 1, 'transfer': 18, 'playerinfo': 2, 'opennebula': 3, 'intention': 5, 'gaaaaabyo': 2, 'mappings': 24, 'ncflex': 1, 'simplejson': 1, 'unwrap': 1, 'testminimumbasicscenario': 9, 'instace': 1, 'computedriver': 1, 'naccept': 4, 'instack': 4, 'temp': 8, 'whether': 21, 'rpcserver': 1, 'demonstrats': 1, 'record': 63, 'demonstrate': 3, 'aswitch': 1, 'xmlrpclib': 1, 'tuvenie': 2, 'testinstance': 2, 'cmov': 1, 'certfile': 1, 'percent': 1, 'getsize': 1, 'book': 4, 'bool': 1, 'sick': 1, 'conclusion': 2, 'kinds': 2, 'juno': 47, 'june': 1, 'inherently': 1, 'kinda': 1, 'debian': 16, 'cliff': 6, 'volumed': 1, 'readthedocs': 1, 'jewel': 1, 'intentionally': 2, 'wordsize': 4, 'volumes': 280, 'lsize': 1, 'usingopenstack': 1}\n"
     ]
    }
   ],
   "source": [
    "for i in Project:\n",
    "    try:\n",
    "        mylist=[]\n",
    "        print i,eval('%s'%i)\n",
    "        for key, value in sorted(eval('%s'%i).iteritems(), key=lambda (k,v): (v,k), reverse=True):\n",
    "            mylist.append([key,value])\n",
    "        exec('df_wordcount_'+'%s'%i+'=pd.DataFrame('+'%s'%mylist+')')\n",
    "        eval('df_wordcount_'+'%s'%i).to_csv(eval('\"'+'%s'%i+'.csv\"'))\n",
    "        exec('%s'%i+'_mydict'+'=set(df_wordcount_'+'%s'%i+'[0])')\n",
    "        #del (df_wordcount_+eval('%s'%i))\n",
    "    except:\n",
    "        continue"
   ]
  },
  {
   "cell_type": "code",
   "execution_count": 117,
   "metadata": {
    "collapsed": true
   },
   "outputs": [],
   "source": [
    "#Topic Modeling: This script loads a gensim dictionary and associated corpus and applies an LDA model."
   ]
  },
  {
   "cell_type": "markdown",
   "metadata": {},
   "source": [
    "<a href=\"http://radimrehurek.com/topic_modeling_tutorial/2%20-%20Topic%20Modeling.html\"> Topic Modeling for Fun and Profit </a>"
   ]
  },
  {
   "cell_type": "code",
   "execution_count": 118,
   "metadata": {
    "collapsed": true
   },
   "outputs": [],
   "source": [
    "pyLDAvis.enable_notebook()"
   ]
  },
  {
   "cell_type": "code",
   "execution_count": 147,
   "metadata": {
    "collapsed": true
   },
   "outputs": [],
   "source": [
    "import textmining\n",
    "tdm = textmining.TermDocumentMatrix()"
   ]
  },
  {
   "cell_type": "code",
   "execution_count": 174,
   "metadata": {},
   "outputs": [],
   "source": [
    "frames = [df.newDetails, df_st.newDetails, df_ask.newDetails]\n",
    "result = pd.DataFrame(pd.concat(frames, keys=['x', 'y', 'z']))\n",
    "for i in result.newDetails: \n",
    "    if len(i) < 2:\n",
    "        continue\n",
    "    tdm.add_doc(i)"
   ]
  },
  {
   "cell_type": "code",
   "execution_count": 175,
   "metadata": {},
   "outputs": [
    {
     "name": "stdout",
     "output_type": "stream",
     "text": [
      "734 551 386\n"
     ]
    }
   ],
   "source": [
    "print len(df),len(df_st),len(df_ask)"
   ]
  },
  {
   "cell_type": "code",
   "execution_count": 176,
   "metadata": {},
   "outputs": [
    {
     "name": "stdout",
     "output_type": "stream",
     "text": [
      "None\n"
     ]
    }
   ],
   "source": [
    "print tdm.write_csv(\"D:\\\\OpenStack\\\\df_tdm.csv\")"
   ]
  },
  {
   "cell_type": "code",
   "execution_count": 177,
   "metadata": {
    "collapsed": true
   },
   "outputs": [],
   "source": [
    "#build Dictinoary"
   ]
  },
  {
   "cell_type": "code",
   "execution_count": 178,
   "metadata": {
    "collapsed": true
   },
   "outputs": [],
   "source": [
    "df.newDetails.to_csv(\"D:\\\\OpenStack\\\\data.csv\",header=True,index=False)\n",
    "df_st.newDetails.to_csv(\"D:\\\\OpenStack\\\\data.csv\",mode='a',header=False,index=False)\n",
    "df_ask.newDetails.to_csv(\"D:\\\\OpenStack\\\\data.csv\",mode='a',header=False,index=False)\n"
   ]
  },
  {
   "cell_type": "code",
   "execution_count": 179,
   "metadata": {},
   "outputs": [
    {
     "data": {
      "text/plain": [
       "0"
      ]
     },
     "execution_count": 179,
     "metadata": {},
     "output_type": "execute_result"
    }
   ],
   "source": [
    "#Ref:https://cran.r-project.org/web/packages/ldatuning/vignettes/topics.html\n",
    "#Generate topic numbers\n",
    "import subprocess\n",
    "subprocess.check_call(['Rscript', 'D:\\\\OpenStack\\\\No_of_Topics.R'], shell=False)"
   ]
  },
  {
   "cell_type": "code",
   "execution_count": 180,
   "metadata": {
    "collapsed": true
   },
   "outputs": [],
   "source": [
    "ldatuning=pd.DataFrame(pd.read_csv(\"D:\\\\OpenStack\\\\No_of_Topics.csv\"))"
   ]
  },
  {
   "cell_type": "code",
   "execution_count": 181,
   "metadata": {},
   "outputs": [
    {
     "name": "stdout",
     "output_type": "stream",
     "text": [
      "  Unnamed: 0  CaoJuan2009  Deveaud2014  Griffiths2004  Arun2010\n",
      "0          A           14           10             14        14\n"
     ]
    }
   ],
   "source": [
    "print ldatuning"
   ]
  },
  {
   "cell_type": "code",
   "execution_count": 182,
   "metadata": {},
   "outputs": [
    {
     "name": "stdout",
     "output_type": "stream",
     "text": [
      "[10, 14, 14, 14] [[0, 14, 14], [0, 14, 14], [0, 14, 14], [4, 10, 14], [4, 10, 14], [4, 10, 14]]\n",
      "range 14 14\n",
      "ldatuning_topic_no 14\n"
     ]
    }
   ],
   "source": [
    "ldalist=[ldatuning.CaoJuan2009.values[0],ldatuning.Arun2010.values[0],ldatuning.Deveaud2014.values[0],ldatuning.Griffiths2004.values[0]]\n",
    "ldalist=sorted(ldalist)\n",
    "distance=[]\n",
    "for i in range(0,len(ldalist)):\n",
    "    for j in range(i+1,len(ldalist)):\n",
    "        distance.append([abs(ldalist[i]-ldalist[j]),ldalist[i],ldalist[j]])\n",
    "distance=sorted(distance)\n",
    "print ldalist,distance\n",
    "a=distance[0][1]\n",
    "b=distance[1][2]\n",
    "ldatuning_topic_no=(a+b)/2\n",
    "print \"range\",a,b\n",
    "print \"ldatuning_topic_no\",ldatuning_topic_no"
   ]
  },
  {
   "cell_type": "code",
   "execution_count": 183,
   "metadata": {},
   "outputs": [
    {
     "data": {
      "text/plain": [
       "0"
      ]
     },
     "execution_count": 183,
     "metadata": {},
     "output_type": "execute_result"
    }
   ],
   "source": [
    "import subprocess\n",
    "subprocess.check_call(['Rscript', 'D:\\\\OpenStack\\\\No_of_Topics_Hm.R'], shell=False)"
   ]
  },
  {
   "cell_type": "code",
   "execution_count": 184,
   "metadata": {},
   "outputs": [
    {
     "name": "stdout",
     "output_type": "stream",
     "text": [
      "   Unnamed: 0   x\n",
      "0           1  14\n"
     ]
    }
   ],
   "source": [
    "hmean=pd.DataFrame(pd.read_csv(\"D:\\\\OpenStack\\\\No_of_Topics_harmonicmean.csv\"))\n",
    "print hmean"
   ]
  },
  {
   "cell_type": "code",
   "execution_count": 185,
   "metadata": {
    "collapsed": true
   },
   "outputs": [],
   "source": [
    "topic_no=2"
   ]
  },
  {
   "cell_type": "code",
   "execution_count": 186,
   "metadata": {
    "collapsed": true
   },
   "outputs": [],
   "source": [
    "if (ldatuning_topic_no<=hmean.x[0]):\n",
    "    topic_no=ldatuning_topic_no-1\n",
    "else:\n",
    "    topic_no=hmean.x[0]-1"
   ]
  },
  {
   "cell_type": "code",
   "execution_count": 187,
   "metadata": {},
   "outputs": [
    {
     "name": "stdout",
     "output_type": "stream",
     "text": [
      "Dictionary(6669 unique tokens: [u'brqc', u'func', u'foud', u'four', u'prefix']...)\n"
     ]
    }
   ],
   "source": [
    "opts= \"open_stack\"\n",
    "for i in Project:\n",
    "    try:\n",
    "        exec('dictionary_'+'%s'%i+'= gensim.corpora.Dictionary(['+'%s'%i+'_mydict])')\n",
    "        #eval('dictionary_'+'%s'%i).compactify()\n",
    "        print eval('dictionary_'+'%s'%i)\n",
    "    except:\n",
    "        continue"
   ]
  },
  {
   "cell_type": "code",
   "execution_count": 188,
   "metadata": {
    "collapsed": true
   },
   "outputs": [],
   "source": [
    "#Save dictionary for future use"
   ]
  },
  {
   "cell_type": "code",
   "execution_count": 189,
   "metadata": {
    "collapsed": true
   },
   "outputs": [],
   "source": [
    "#dictionary_NOVA.save(\"open_stack_NOVA.dict\")\n",
    "for i in Project:\n",
    "    eval('dictionary_'+'%s'%i+'.save(\"D:\\\\OpenStack\\\\open_stack_'+'%s'%i+'.dict\")')"
   ]
  },
  {
   "cell_type": "code",
   "execution_count": 190,
   "metadata": {
    "collapsed": true
   },
   "outputs": [],
   "source": [
    "#build Corpus"
   ]
  },
  {
   "cell_type": "code",
   "execution_count": 191,
   "metadata": {
    "collapsed": true
   },
   "outputs": [],
   "source": [
    "for i in Project:\n",
    "    try:\n",
    "        exec('corpus_'+'%s'%i+'=[dictionary_'+'%s'%i+'.doc2bow(df.field_words_bag.loc[j]) for j in range(0,len(df)) if df.Project[j]==\"'+'%s'%i+'\"]') \n",
    "        exec('corpus_'+'%s'%i+'=corpus_'+'%s'%i+'+[dictionary_'+'%s'%i+'.doc2bow(df_st.field_words_bag.loc[j]) for j in range(0,len(df_st)) if df_st.Project[j]==\"'+'%s'%i+'\"]') \n",
    "        exec('corpus_'+'%s'%i+'=corpus_'+'%s'%i+'+[dictionary_'+'%s'%i+'.doc2bow(df_ask.field_words_bag.loc[j]) for j in range(0,len(df_ask)) if df_ask.Project[j]==\"'+'%s'%i+'\"]') \n",
    "    except:\n",
    "        continue"
   ]
  },
  {
   "cell_type": "code",
   "execution_count": 192,
   "metadata": {
    "collapsed": true
   },
   "outputs": [],
   "source": [
    "#Save corpus for future use"
   ]
  },
  {
   "cell_type": "code",
   "execution_count": 193,
   "metadata": {
    "collapsed": true
   },
   "outputs": [],
   "source": [
    "for i in Project:\n",
    "    eval('gensim.corpora.MmCorpus.serialize(\"D:\\\\OpenStack\\\\open_stack_'+'%s'%i+'.mm\", corpus_'+'%s'%i+')')"
   ]
  },
  {
   "cell_type": "code",
   "execution_count": 194,
   "metadata": {
    "collapsed": true
   },
   "outputs": [],
   "source": [
    "# Load the corpus and Dictionary"
   ]
  },
  {
   "cell_type": "code",
   "execution_count": 195,
   "metadata": {
    "collapsed": true
   },
   "outputs": [],
   "source": [
    "for i in Project:\n",
    "    exec('corpus_'+'%s'%i+' = gensim.corpora.MmCorpus(\"D:\\\\OpenStack\\\\open_stack_'+'%s'%i+'.mm\")')\n",
    "    exec('dictionary_'+'%s'%i+' = gensim.corpora.Dictionary.load(\"D:\\\\OpenStack\\\\open_stack_'+'%s'%i+'.dict\")')"
   ]
  },
  {
   "cell_type": "code",
   "execution_count": 196,
   "metadata": {
    "collapsed": true
   },
   "outputs": [],
   "source": [
    "num_topics=topic_no"
   ]
  },
  {
   "cell_type": "code",
   "execution_count": 197,
   "metadata": {},
   "outputs": [
    {
     "name": "stdout",
     "output_type": "stream",
     "text": [
      "#Topic modeling with LSI\n",
      "[(0, u'-0.422*\"oslo\" + -0.372*\"python\" + -0.351*\"message\" + -0.345*\"package\" + -0.233*\"manager\" + -0.223*\"self\" + -0.211*\"dispatcher\" + -0.170*\"dist\" + -0.168*\"site\" + -0.126*\"server\"'), (1, u'-0.470*\"anon\" + 0.356*\"message\" + 0.313*\"oslo\" + -0.304*\"extensions\" + 0.262*\"dispatcher\" + -0.166*\"name\" + -0.153*\"group\" + -0.142*\"security\" + -0.126*\"info\" + -0.122*\"delete\"'), (2, u'0.526*\"anon\" + 0.254*\"oslo\" + -0.225*\"manager\" + 0.210*\"message\" + 0.180*\"extensions\" + -0.176*\"request\" + 0.172*\"dispatcher\" + -0.141*\"version\" + -0.133*\"python\" + -0.124*\"content\"'), (3, u'0.439*\"manager\" + -0.251*\"message\" + -0.226*\"oslo\" + 0.210*\"python\" + 0.205*\"package\" + -0.203*\"version\" + -0.175*\"content\" + -0.160*\"dbcea\" + -0.160*\"afac\" + -0.152*\"type\"'), (4, u'0.360*\"manager\" + 0.334*\"site\" + -0.305*\"dist\" + -0.281*\"server\" + 0.268*\"dispatcher\" + 0.215*\"anon\" + -0.164*\"stack\" + -0.160*\"service\" + -0.151*\"efcd\" + -0.143*\"local\"'), (5, u'0.341*\"manager\" + 0.306*\"virt\" + -0.278*\"extensions\" + 0.258*\"libvirt\" + 0.233*\"device\" + 0.229*\"server\" + -0.195*\"dispatcher\" + 0.181*\"efcd\" + -0.178*\"python\" + -0.173*\"package\"'), (6, u'-0.336*\"controller\" + -0.307*\"service\" + 0.211*\"local\" + 0.207*\"extensions\" + -0.184*\"name\" + 0.175*\"dist\" + -0.168*\"http\" + -0.157*\"overcloud\" + 0.139*\"request\" + -0.138*\"code\"'), (7, u'0.335*\"stack\" + 0.330*\"local\" + 0.296*\"manager\" + -0.292*\"site\" + -0.232*\"python\" + -0.212*\"server\" + 0.209*\"controller\" + 0.163*\"overcloud\" + 0.150*\"dispatcher\" + 0.147*\"connection\"'), (8, u'-0.386*\"connection\" + 0.382*\"extensions\" + 0.245*\"stack\" + -0.220*\"warn\" + -0.188*\"package\" + -0.187*\"discard\" + -0.187*\"connectionpool\" + -0.186*\"full\" + -0.184*\"urllib\" + -0.184*\"pool\"'), (9, u'0.393*\"controller\" + 0.358*\"overcloud\" + 0.295*\"clone\" + 0.261*\"extensions\" + -0.191*\"stack\" + -0.179*\"name\" + -0.172*\"local\" + 0.168*\"juju\" + 0.167*\"stop\" + 0.141*\"neutron\"'), (10, u'0.315*\"service\" + -0.307*\"extensions\" + 0.286*\"dist\" + 0.241*\"version\" + -0.220*\"connection\" + -0.161*\"create\" + -0.157*\"site\" + -0.155*\"libvirt\" + 0.145*\"anon\" + 0.127*\"manager\"'), (11, u'-0.330*\"service\" + 0.307*\"server\" + -0.239*\"extensions\" + -0.205*\"juju\" + 0.203*\"overcloud\" + 0.197*\"port\" + -0.186*\"version\" + 0.185*\"network\" + -0.181*\"connection\" + 0.165*\"clone\"'), (12, u'0.452*\"server\" + 0.330*\"manager\" + 0.220*\"extensions\" + -0.204*\"dispatcher\" + 0.197*\"task\" + -0.190*\"virt\" + -0.184*\"libvirt\" + 0.150*\"service\" + 0.145*\"oslo\" + 0.145*\"connection\"')]\n",
      "(5, [(u'manager', 0.340670799766015), (u'virt', 0.30578481714906902), (u'extensions', -0.27769128493236861), (u'libvirt', 0.25778164533425796), (u'device', 0.23280519223755991), (u'server', 0.22856907009851649), (u'dispatcher', -0.19457891783483963), (u'efcd', 0.18079557588171605), (u'python', -0.17845746962149137), (u'package', -0.17268237235846806)])\n"
     ]
    }
   ],
   "source": [
    "# Initialize Parameters\n",
    "#Topic modeling with LSI\n",
    "print (\"#Topic modeling with LSI\")\n",
    "#Topic modeling with LSI\n",
    "#This is a useful topic modeling algorithm in that it can rank topics by itself. Thus it outputs topics in a ranked order. However it does require a num_topics parameter\n",
    "#(set to 200 by default) to determine the number of latent dimensions after the SVD.\n",
    "\n",
    "for i in Project:\n",
    "    exec('lsi_'+'%s'%i+'= LsiModel(corpus_'+'%s'%i+', id2word=dictionary_'+'%s'%i+',num_topics='+'%s'%topic_no+')')\n",
    "\n",
    "#lsimodel = LsiModel(corpus=corpus, num_topics=10, id2word=dictionary)\n",
    "\n",
    "    print eval('lsi_'+'%s'%i+'.show_topics(num_topics='+'%s'%topic_no+')') # Showing only the top 5 topics\n",
    "\n",
    "    exec('lsitopics'+'%s'%i+'= lsi_'+'%s'%i+'.show_topics(formatted=False)')\n",
    "    print eval('lsitopics'+'%s'%i+'[5]'+'\\n')\n"
   ]
  },
  {
   "cell_type": "code",
   "execution_count": 198,
   "metadata": {},
   "outputs": [
    {
     "name": "stdout",
     "output_type": "stream",
     "text": [
      "Topic modeling with HDP\n",
      "[(0, u'0.014*python + 0.011*package + 0.011*service + 0.010*code + 0.009*http + 0.008*network + 0.008*name + 0.008*oslo + 0.008*image + 0.008*controller + 0.008*create + 0.007*neutron + 0.007*manager + 0.006*site + 0.006*server + 0.006*message + 0.006*host + 0.006*type + 0.006*stack + 0.006*node'), (1, u'0.012*python + 0.010*package + 0.010*manager + 0.009*server + 0.008*network + 0.007*self + 0.006*create + 0.006*message + 0.006*image + 0.006*dist + 0.005*oslo + 0.005*name + 0.005*service + 0.005*port + 0.005*virt + 0.005*stack + 0.005*device + 0.004*site + 0.004*host + 0.004*driver'), (2, u'0.014*anon + 0.010*extensions + 0.008*name + 0.008*python + 0.007*stack + 0.006*package + 0.006*delete + 0.006*root + 0.006*image + 0.005*create + 0.005*group + 0.005*state + 0.005*security + 0.005*dist + 0.005*disk + 0.005*host + 0.004*self + 0.004*user + 0.004*local + 0.004*sqlalchemy'), (3, u'0.017*oslo + 0.013*message + 0.011*dispatcher + 0.011*python + 0.010*package + 0.009*code + 0.008*manager + 0.006*self + 0.006*site + 0.005*create + 0.005*network + 0.004*dist + 0.004*local + 0.004*sqlalchemy + 0.004*return + 0.004*image + 0.003*service + 0.003*filter + 0.003*fail + 0.003*stack'), (4, u'0.014*oslo + 0.014*message + 0.013*python + 0.013*package + 0.012*dispatcher + 0.011*self + 0.007*manager + 0.007*network + 0.006*site + 0.006*dist + 0.006*request + 0.006*stack + 0.005*port + 0.005*local + 0.005*args + 0.004*return + 0.004*call + 0.004*kwargs + 0.003*fail + 0.003*list')]\n",
      "[(0, [(u'python', 0.01351420365831507), (u'package', 0.011265616220105187), (u'service', 0.010935405632616977), (u'code', 0.010489597743507263), (u'http', 0.0085646996049118952), (u'network', 0.0084675455522864266), (u'name', 0.0084162293641246392), (u'oslo', 0.0081351520043937628), (u'image', 0.0078163321512715322), (u'controller', 0.0077247939586845508), (u'create', 0.0075594289366223448), (u'neutron', 0.0068131208755329558), (u'manager', 0.0065391372560640142), (u'site', 0.0063648873248121993), (u'server', 0.0062340625890413707), (u'message', 0.0061724604850629111), (u'host', 0.0060978160595121364), (u'type', 0.0060423892022645094), (u'stack', 0.0059196256338375176), (u'node', 0.0057096247756644259)]), (1, [(u'python', 0.011788725446438246), (u'package', 0.01021605701483423), (u'manager', 0.0095669263288921287), (u'server', 0.0094426654642834982), (u'network', 0.0083403666801467324), (u'self', 0.0069432781769898548), (u'create', 0.0060256343131719226), (u'message', 0.005998630376429461), (u'image', 0.0059269684983094418), (u'dist', 0.0057600181907210184), (u'oslo', 0.0054007650012642709), (u'name', 0.0052191634456451542), (u'service', 0.0050894568614880268), (u'port', 0.0048653494563560742), (u'virt', 0.0047980018784069224), (u'stack', 0.0047387335567102718), (u'device', 0.0046340598409500243), (u'site', 0.0042532388271519705), (u'host', 0.0042193215965316104), (u'driver', 0.0040093345699438983)]), (2, [(u'anon', 0.013954334164066962), (u'extensions', 0.0095315767853657255), (u'name', 0.0080732640926724844), (u'python', 0.0075489947105245175), (u'stack', 0.0068330862956906685), (u'package', 0.0059855971641472961), (u'delete', 0.0058676727332537945), (u'root', 0.0056892624738644759), (u'image', 0.0056710764955163412), (u'create', 0.0053609461460703903), (u'group', 0.0050693216957531945), (u'state', 0.0048752642048551648), (u'security', 0.0048352520161025576), (u'dist', 0.0048081574958407499), (u'disk', 0.004565871764077265), (u'host', 0.0045425776874521767), (u'self', 0.0039652107159255682), (u'user', 0.0037761766282107295), (u'local', 0.0037541798025694712), (u'sqlalchemy', 0.0037458360167117086)]), (3, [(u'oslo', 0.016924729530327219), (u'message', 0.012703246549301413), (u'dispatcher', 0.0112869348567781), (u'python', 0.010718123660627903), (u'package', 0.0095426253667998985), (u'code', 0.0091354113515644941), (u'manager', 0.0079519758608627821), (u'self', 0.0063868415292835934), (u'site', 0.0057685432670815436), (u'create', 0.0051777996707209669), (u'network', 0.0047720648851385175), (u'dist', 0.0041247533839544265), (u'local', 0.003763243449458152), (u'sqlalchemy', 0.0037356782687901634), (u'return', 0.0035626972467808879), (u'image', 0.0035479134831907688), (u'service', 0.0034968397747718611), (u'filter', 0.0034804094375877406), (u'fail', 0.0032719943020655751), (u'stack', 0.0032591458579866654)]), (4, [(u'oslo', 0.014146876694649542), (u'message', 0.01377185815504799), (u'python', 0.013212415601912549), (u'package', 0.012723283265825796), (u'dispatcher', 0.011891667469104658), (u'self', 0.010995827793257787), (u'manager', 0.0073940467579701524), (u'network', 0.0067801973256803056), (u'site', 0.0061713714830890325), (u'dist', 0.0061111504321456692), (u'request', 0.0058859918885160118), (u'stack', 0.0058709624146584642), (u'port', 0.0053560817494800305), (u'local', 0.0052939545313276755), (u'args', 0.0045570477855625411), (u'return', 0.0044518161566477511), (u'call', 0.0041118531646263928), (u'kwargs', 0.0040708798182007835), (u'fail', 0.0034453155196735989), (u'list', 0.0034099153856563856)]), (5, [(u'connection', 0.0073825630451943248), (u'package', 0.0048834609012124259), (u'type', 0.0044600836934754135), (u'local', 0.0043391663605464982), (u'request', 0.0039495770127046369), (u'manager', 0.0037470116001590498), (u'warn', 0.0035285406407710358), (u'info', 0.0035164935798929369), (u'python', 0.0034990821205578746), (u'vcenter', 0.0033950137836918069), (u'discard', 0.0032695394980866012), (u'port', 0.0031417578036759359), (u'full', 0.0031181759978665523), (u'urllib', 0.0030823327299022512), (u'pool', 0.0030383089001216963), (u'image', 0.0029762351618659935), (u'connectionpool', 0.002873530921693338), (u'disk', 0.0026795878718370914), (u'name', 0.0026317520328810319), (u'libvirt', 0.0023036326435635895)]), (6, [(u'python', 0.0047299274661552907), (u'oslo', 0.0042839925457051004), (u'type', 0.0042711723265802769), (u'message', 0.0042076141561996063), (u'delete', 0.0037158188706565187), (u'dispatcher', 0.0036480730582836331), (u'manager', 0.0033041245259810251), (u'null', 0.0031779159350901255), (u'resource', 0.003061071233848241), (u'ubuntu', 0.0029713680972570634), (u'package', 0.0029595492995739122), (u'uuid', 0.002676657100293365), (u'host', 0.0026235788377898463), (u'dist', 0.0025992336375926361), (u'name', 0.0025915758556035806), (u'index', 0.0025858098652706556), (u'http', 0.0024997154689517338), (u'default', 0.0024575535719190225), (u'self', 0.0020966836938349077), (u'uniq', 0.0020900928175688082)]), (7, [(u'juju', 0.0058510327728456216), (u'python', 0.0057020894818535003), (u'ubuntu', 0.005397314208761112), (u'cloud', 0.0049485006274436315), (u'sudo', 0.0046269836537207037), (u'task', 0.0037291771130089162), (u'service', 0.003698651339909112), (u'manager', 0.0036427392156992019), (u'package', 0.0036012058727950963), (u'extensions', 0.0035669845746491447), (u'dbdd', 0.003233629647883663), (u'ceph', 0.0031615649162303637), (u'bffe', 0.0031171348771331809), (u'periodic', 0.0031022017965008611), (u'neutron', 0.0025076077644575838), (u'dist', 0.0024568640910585192), (u'driver', 0.0021697344038818433), (u'libvirt', 0.0020385396494874827), (u'oslo', 0.0019830011870280747), (u'restart', 0.0019427901536830166)]), (8, [(u'tempest', 0.005496212902700282), (u'content', 0.0053312482087199417), (u'servers', 0.0049433974018857751), (u'dbcea', 0.0046812080368990924), (u'afac', 0.0046611260970341115), (u'https', 0.0045043000412002222), (u'version', 0.0043497715337201606), (u'softlayer', 0.0043430473058692467), (u'open', 0.0042158991221355694), (u'request', 0.0041666957030533835), (u'application', 0.0041644509081115643), (u'json', 0.0040831945349331968), (u'type', 0.0036076282463350776), (u'image', 0.0032740287853077173), (u'common', 0.0031778739096132336), (u'body', 0.0027164771449341421), (u'client', 0.0027042838845796474), (u'headers', 0.0026760346912757253), (u'status', 0.002673024043256722), (u'rest', 0.0026639231736044866)]), (9, [(u'null', 0.0056247197046367667), (u'cinder', 0.0047257804178886227), (u'manager', 0.0042064630632983177), (u'python', 0.003957528811284053), (u'target', 0.0036658621550442667), (u'noarch', 0.003170897561638593), (u'fail', 0.0026036474149197021), (u'package', 0.0025940501875589164), (u'create', 0.0025852242016172655), (u'site', 0.0025568457125716231), (u'host', 0.0025148744126202369), (u'image', 0.0023696508435956474), (u'check', 0.0022554615075566792), (u'type', 0.0021051912467919707), (u'node', 0.0020134993851135324), (u'start', 0.0019702903370696296), (u'centos', 0.0018359502302678899), (u'driver', 0.0018224946704195691), (u'libvirt', 0.0018119388061333592), (u'liberty', 0.0017776429876594268)]), (10, [(u'devstack', 0.002952186461100507), (u'itgix', 0.002175415376642377), (u'group', 0.0019257953891982777), (u'kernel', 0.0019109029282088114), (u'cdeaa', 0.0016752714899054676), (u'progress', 0.0015883562926498475), (u'status', 0.0015839417791551631), (u'name', 0.0015675358421129693), (u'list', 0.0014781769513899476), (u'migration', 0.0014746378645405813), (u'security', 0.0014723993345761308), (u'tempest', 0.0014516408920648546), (u'network', 0.0013690698197637084), (u'state', 0.0013595162120400121), (u'host', 0.0012663534762601305), (u'root', 0.0012663363247066111), (u'ffffffff', 0.0012584179295258948), (u'stack', 0.0012559784290179258), (u'remove', 0.0011936853728011119), (u'juno', 0.0011692957184189685)]), (11, [(u'bootable', 0.002753449218002562), (u'name', 0.0023122475808106811), (u'boot', 0.0022952761862521931), (u'create', 0.0019690155433782844), (u'type', 0.0017463153742982719), (u'http', 0.0016901282600920288), (u'personality', 0.0015941659154564904), (u'console', 0.0015724527273046122), (u'test', 0.0014980805644808923), (u'attach', 0.0014001698417607463), (u'fail', 0.0013277977173817793), (u'careful', 0.0012964430709047081), (u'libxl', 0.001253383963226617), (u'serial', 0.0011931383219088601), (u'cinder', 0.0011861481627155363), (u'availability', 0.0011679000290125241), (u'command', 0.0011613560960382519), (u'port', 0.0011612887109464537), (u'block', 0.0011567067856558082), (u'hyperv', 0.0011492259620971617)]), (12, [(u'device', 0.0057881082311121452), (u'disk', 0.00358183775239452), (u'name', 0.0032642186500123492), (u'manager', 0.0026458110121041845), (u'image', 0.0025981669513102748), (u'base', 0.0024999803569408625), (u'block', 0.002419380956795563), (u'swap', 0.0023750909077703331), (u'libvirt', 0.0022100159745548492), (u'virt', 0.0021942529198606181), (u'host', 0.0020654172211741779), (u'info', 0.0019204095423260229), (u'create', 0.0018236575345424676), (u'tempest', 0.001572938126243357), (u'mount', 0.0014374395586983669), (u'stack', 0.0014011839770344116), (u'zdfwiieforcb', 0.0013759982853253274), (u'driver', 0.0013559982376570425), (u'live', 0.0013368414530656974), (u'cache', 0.0013366401133345009)]), (13, [(u'delete', 0.0019529750072900876), (u'request', 0.0019434059478299983), (u'class', 0.001906290560834558), (u'host', 0.0018498343247685923), (u'name', 0.0015062186252096073), (u'driver', 0.0014772376748373327), (u'cinder', 0.0014378621833878631), (u'client', 0.0012292831514770738), (u'exist', 0.0012236398640282831), (u'placement', 0.001160332277928692), (u'period', 0.0011442296785359391), (u'attach', 0.0011148257505163835), (u'haproxy', 0.0011074969805729875), (u'multiple', 0.0010918121532321105), (u'area', 0.0010279086196878816), (u'wsgiprocessgroup', 0.0010278943373620637), (u'flexibility', 0.001019394757263621), (u'write', 0.00099742137023232751), (u'would', 0.00099237560141241161), (u'create', 0.00097783499618224901)]), (14, [(u'message', 0.0074386173521695971), (u'oslo', 0.0071948362932743827), (u'server', 0.0068217640632598281), (u'host', 0.0022064284424762113), (u'delete', 0.0019718535891836025), (u'package', 0.0015523591592276603), (u'stack', 0.0015334631454712877), (u'python', 0.0014321055321186559), (u'history', 0.0013747787128563257), (u'default', 0.0013605593136393705), (u'sanity', 0.0013264357014665172), (u'enable', 0.0013026939927009617), (u'dfcontroller', 0.001289015889085286), (u'internal', 0.0012866867068863676), (u'blow', 0.0012124156770461699), (u'extensions', 0.0012067745473628236), (u'unstable', 0.0012032199400726857), (u'args', 0.0011688057487977258), (u'dist', 0.0011411183572799871), (u'kwargs', 0.0011332658532565304)]), (15, [(u'python', 0.0029162862762192286), (u'package', 0.0025863969509887113), (u'cinder', 0.0025802798763568014), (u'dist', 0.0025250460393468586), (u'oslo', 0.0023074749780582207), (u'delete', 0.0022690636579065157), (u'message', 0.002190157997257212), (u'dispatcher', 0.0020348661869111595), (u'kwargs', 0.0017156269781447816), (u'self', 0.0016248882513690513), (u'return', 0.0015891236705996192), (u'glusterfs', 0.0012609104772621465), (u'request', 0.0012356389497603225), (u'noarch', 0.0011796052660864142), (u'state', 0.0011668280124037833), (u'nomatch', 0.0011552283092324484), (u'args', 0.0010968565297013132), (u'volumes', 0.001078992776555346), (u'detach', 0.0010565756259591787), (u'attach', 0.0010200253370167083)]), (16, [(u'manager', 0.0056509423222475437), (u'snapshot', 0.0019596388450632161), (u'connect', 0.001930712677424905), (u'package', 0.0016441697755555872), (u'libvirt', 0.001584228647660045), (u'python', 0.0015399792492733118), (u'dist', 0.0012450726653622716), (u'iscsi', 0.0012190543967369677), (u'virt', 0.0011922470428437431), (u'getid', 0.0011767971732246478), (u'epilog', 0.0011686902926577529), (u'broadcast', 0.0010940191032440744), (u'info', 0.0010695073714178992), (u'commant', 0.001066882684985685), (u'driver', 0.0010523527488485501), (u'disconnect', 0.0010458808624771922), (u'multipath', 0.0010026900400423686), (u'idmapd', 0.00098990619877825322), (u'stack', 0.00096943858086639815), (u'self', 0.00095226395960335117)]), (17, [(u'engineer', 0.00166687701268241), (u'disable', 0.0013983549014768846), (u'boot', 0.0013655826388841216), (u'create', 0.0013443090293824003), (u'image', 0.0012277585967101511), (u'storage', 0.0011641461586141273), (u'authurl', 0.0011563676430413634), (u'result', 0.0011241554138790588), (u'please', 0.0011130852017145107), (u'list', 0.0010679429678185914), (u'delete', 0.0010394665591688984), (u'datastorevmware', 0.0010286986799591348), (u'value', 0.0010119519715014178), (u'requirements', 0.00097106745233460287), (u'arch', 0.00096142769132372249), (u'work', 0.00092830370304674106), (u'plug', 0.00092520169920452464), (u'glance', 0.00088799230458223475), (u'absence', 0.00088738565925115278), (u'garbage', 0.00088621112143884339)]), (18, [(u'image', 0.0025153883331969396), (u'create', 0.0024424726656929207), (u'call', 0.0019158216055862882), (u'sles', 0.001884742687808546), (u'self', 0.0018266632918476501), (u'none', 0.0016730548837803356), (u'status', 0.0016595096267656394), (u'name', 0.0016516822810450306), (u'info', 0.0015876584474550355), (u'disk', 0.0014389561922461807), (u'stack', 0.0014213674220696379), (u'local', 0.001415637158233803), (u'strong', 0.0013336477378487687), (u'size', 0.0013178567880776251), (u'dist', 0.0012538879794171168), (u'python', 0.0012302076172943125), (u'package', 0.0012212945712433575), (u'response', 0.0011597178318767684), (u'process', 0.0011449423102524534), (u'device', 0.0011415001445878848)]), (19, [(u'manager', 0.0030185697377388882), (u'cccacf', 0.002969874013972969), (u'libvirt', 0.0026068309418074398), (u'attach', 0.0023539676168060865), (u'virt', 0.0022168630615818884), (u'driver', 0.0021001814069781899), (u'migration', 0.0016661812594805532), (u'ddeda', 0.0016282658207708153), (u'delete', 0.00156464623083426), (u'fail', 0.0014863204933143119), (u'stack', 0.0014734935205481989), (u'live', 0.0014366393807602816), (u'user', 0.0014155288635795712), (u'uuid', 0.0013269468369790471), (u'cinder', 0.0012375443350102139), (u'stay', 0.0012195610761096271), (u'recieving', 0.0012127593980398961), (u'self', 0.0011519358163411271), (u'clean', 0.001136019087268784), (u'construction', 0.0011247911184204462)])]\n"
     ]
    }
   ],
   "source": [
    "\n",
    "#Topic modeling with HDP¶\n",
    "print \"Topic modeling with HDP\"\n",
    "#An HDP model is fully unsupervised. It can also determine the ideal number of topics it needs through posterior inference.\n",
    "\n",
    "\n",
    "for i in Project:\n",
    "    try:\n",
    "        exec('hdp_'+'%s'%i+'= HdpModel(corpus_'+'%s'%i+', id2word=dictionary_'+'%s'%i+')')\n",
    "        #lsimodel = modLsiModel(corpus=corpus, num_topics=10, id2word=dictionary)\n",
    "        print eval('hdp_'+'%s'%i+'.show_topics(num_topics=5)') # Showing only the top 5 topics\n",
    "        exec('hdptopics'+'%s'%i+'= hdp_'+'%s'%i+'.show_topics(formatted=False)')\n",
    "        print eval('hdptopics'+'%s'%i)\n",
    "    except:\n",
    "        continue\n"
   ]
  },
  {
   "cell_type": "code",
   "execution_count": 199,
   "metadata": {},
   "outputs": [
    {
     "name": "stdout",
     "output_type": "stream",
     "text": [
      "Topic modeling using LDA\n",
      "[(0, u'0.027*\"python\" + 0.022*\"oslo\" + 0.022*\"message\" + 0.018*\"package\" + 0.015*\"dist\" + 0.013*\"dispatcher\" + 0.012*\"self\" + 0.011*\"local\" + 0.010*\"server\" + 0.010*\"stack\"'), (1, u'0.011*\"controller\" + 0.009*\"cinder\" + 0.009*\"python\" + 0.008*\"ffffffff\" + 0.008*\"package\" + 0.006*\"name\" + 0.006*\"storage\" + 0.006*\"https\" + 0.006*\"self\" + 0.006*\"state\"'), (2, u'0.021*\"image\" + 0.020*\"name\" + 0.013*\"create\" + 0.012*\"disk\" + 0.011*\"user\" + 0.011*\"type\" + 0.011*\"device\" + 0.011*\"delete\" + 0.010*\"flavor\" + 0.008*\"state\"'), (3, u'0.012*\"name\" + 0.012*\"disk\" + 0.011*\"code\" + 0.010*\"create\" + 0.010*\"network\" + 0.009*\"image\" + 0.009*\"address\" + 0.009*\"stack\" + 0.008*\"port\" + 0.008*\"root\"'), (4, u'0.017*\"code\" + 0.012*\"http\" + 0.011*\"name\" + 0.010*\"admin\" + 0.009*\"list\" + 0.009*\"create\" + 0.009*\"service\" + 0.008*\"neutron\" + 0.008*\"message\" + 0.008*\"oslo\"'), (5, u'0.023*\"python\" + 0.019*\"service\" + 0.015*\"network\" + 0.013*\"node\" + 0.013*\"package\" + 0.011*\"controller\" + 0.010*\"host\" + 0.010*\"self\" + 0.009*\"name\" + 0.008*\"server\"'), (6, u'0.013*\"create\" + 0.012*\"image\" + 0.010*\"libvirt\" + 0.009*\"host\" + 0.008*\"update\" + 0.008*\"name\" + 0.007*\"code\" + 0.007*\"python\" + 0.007*\"http\" + 0.007*\"package\"'), (7, u'0.032*\"oslo\" + 0.028*\"message\" + 0.025*\"package\" + 0.025*\"python\" + 0.018*\"self\" + 0.016*\"manager\" + 0.016*\"server\" + 0.015*\"site\" + 0.014*\"dispatcher\" + 0.013*\"extensions\"'), (8, u'0.035*\"manager\" + 0.020*\"service\" + 0.020*\"python\" + 0.020*\"package\" + 0.014*\"stack\" + 0.014*\"image\" + 0.013*\"self\" + 0.013*\"site\" + 0.012*\"neutron\" + 0.010*\"oslo\"'), (9, u'0.015*\"python\" + 0.015*\"host\" + 0.013*\"package\" + 0.013*\"oslo\" + 0.009*\"port\" + 0.009*\"network\" + 0.009*\"message\" + 0.008*\"cinder\" + 0.008*\"manager\" + 0.008*\"neutron\"'), (10, u'0.011*\"cloud\" + 0.010*\"package\" + 0.010*\"python\" + 0.010*\"service\" + 0.009*\"create\" + 0.008*\"server\" + 0.008*\"image\" + 0.008*\"type\" + 0.008*\"http\" + 0.007*\"oslo\"'), (11, u'0.029*\"manager\" + 0.016*\"package\" + 0.013*\"python\" + 0.011*\"name\" + 0.010*\"state\" + 0.010*\"create\" + 0.010*\"self\" + 0.009*\"oslo\" + 0.008*\"delete\" + 0.008*\"libvirt\"'), (12, u'0.020*\"host\" + 0.012*\"code\" + 0.011*\"neutron\" + 0.009*\"service\" + 0.009*\"heat\" + 0.008*\"python\" + 0.008*\"network\" + 0.008*\"package\" + 0.008*\"type\" + 0.007*\"version\"')]\n",
      "[(9, [(u'python', 0.014933246223893321), (u'host', 0.014534567413950039), (u'package', 0.012992500094830599), (u'oslo', 0.012927385572362416), (u'port', 0.0094571236583317099), (u'network', 0.0093096613190549217), (u'message', 0.009021797088448533), (u'cinder', 0.0082886998811229386), (u'manager', 0.0075562247336385521), (u'neutron', 0.0075382680699883301)]), (8, [(u'manager', 0.034583193087191572), (u'service', 0.020298626203161817), (u'python', 0.01991532448411298), (u'package', 0.019839828083644921), (u'stack', 0.014065559171909828), (u'image', 0.013694026334882892), (u'self', 0.01309016675146462), (u'site', 0.012611335810313113), (u'neutron', 0.012131519376835346), (u'oslo', 0.010188473117899553)]), (7, [(u'oslo', 0.031997205787530639), (u'message', 0.027908944083588665), (u'package', 0.025447207291660567), (u'python', 0.025437290583820816), (u'self', 0.018369734038954214), (u'manager', 0.016447313735158647), (u'server', 0.016381723336730453), (u'site', 0.014714825589437862), (u'dispatcher', 0.013777437185862128), (u'extensions', 0.012780397648182914)]), (12, [(u'host', 0.020059040915652311), (u'code', 0.01157885495877684), (u'neutron', 0.010973406932381094), (u'service', 0.0091885833674280482), (u'heat', 0.0085933664715389744), (u'python', 0.0082412049005226428), (u'network', 0.0080641804432183047), (u'package', 0.0078775815272660154), (u'type', 0.0075353220739146111), (u'version', 0.0074096734239753733)]), (4, [(u'code', 0.016771771129619809), (u'http', 0.012281214302167942), (u'name', 0.011303144484470486), (u'admin', 0.0097016833652909685), (u'list', 0.0093257018780362796), (u'create', 0.0090248653342249272), (u'service', 0.0085377839444779596), (u'neutron', 0.0081804000573654969), (u'message', 0.0081409531772011802), (u'oslo', 0.0077388879759913458)]), (3, [(u'name', 0.01218876035290398), (u'disk', 0.012150592388341977), (u'code', 0.011220562097171408), (u'create', 0.010234720783052535), (u'network', 0.0099932791419121859), (u'image', 0.0093789233611939055), (u'address', 0.008874309980997799), (u'stack', 0.0088668603900650921), (u'port', 0.0082908653928516797), (u'root', 0.0077896893560038261)]), (1, [(u'controller', 0.010903632420651337), (u'cinder', 0.0088146790906501217), (u'python', 0.0085197997157801745), (u'ffffffff', 0.0084193442860920394), (u'package', 0.0077850488109084881), (u'name', 0.0063907231683590559), (u'storage', 0.0062825767117894891), (u'https', 0.0062281680452568409), (u'self', 0.0062072912306536093), (u'state', 0.006073999491292335)]), (6, [(u'create', 0.012575238802165748), (u'image', 0.012125483524189127), (u'libvirt', 0.010480380537921606), (u'host', 0.0089335529303598282), (u'update', 0.008235822768686547), (u'name', 0.0079102110732525936), (u'code', 0.0073335599451680488), (u'python', 0.0070832519265140595), (u'http', 0.0070212767607339835), (u'package', 0.0067316873328870522)]), (5, [(u'python', 0.022909464926603926), (u'service', 0.019443860446496857), (u'network', 0.015036938311741225), (u'node', 0.012883427780210685), (u'package', 0.012793180868829289), (u'controller', 0.010788938220959049), (u'host', 0.010384833790482315), (u'self', 0.0099255616003623807), (u'name', 0.0087362422265187551), (u'server', 0.0084240675683816581)]), (2, [(u'image', 0.021058814721806856), (u'name', 0.020012839688297396), (u'create', 0.013392625730383729), (u'disk', 0.011710109048310258), (u'user', 0.010844038194177171), (u'type', 0.010789887630624729), (u'device', 0.01075832940623664), (u'delete', 0.010545676255487517), (u'flavor', 0.010011293990645685), (u'state', 0.0080460465866303583)])]\n"
     ]
    }
   ],
   "source": [
    "print (\"Topic modeling using LDA\")\n",
    "#Topic modeling using LDA\n",
    "#This is one the most popular topic modeling algorithms today. It is a generative model in that\n",
    "# it assumes each document is a mixture of topics and in turn, each topic is a mixture of words.\n",
    "# To understand it better you can watch this lecture by David Blei.\n",
    "# Let's choose 10 topics to initialize this.\n",
    "\n",
    "for i in Project:\n",
    "    try:\n",
    "        exec('lda_'+'%s'%i+'= LdaModel(corpus_'+'%s'%i+', id2word=dictionary_'+'%s'%i+',num_topics='+'%s'%topic_no+')')\n",
    "        #lsimodel = LsiModel(corpus=corpus, num_topics=10, id2word=dictionary)\n",
    "        print eval('lda_'+'%s'%i+'.show_topics(num_topics='+'%s'%topic_no+')') # Showing only the top 5 topics\n",
    "        exec('ldatopics'+'%s'%i+'= lda_'+'%s'%i+'.show_topics(formatted=False)')\n",
    "        print eval('ldatopics'+'%s'%i)\n",
    "    except:\n",
    "        continue\n"
   ]
  },
  {
   "cell_type": "code",
   "execution_count": 200,
   "metadata": {
    "collapsed": true
   },
   "outputs": [],
   "source": [
    "#calculate for each project"
   ]
  },
  {
   "cell_type": "code",
   "execution_count": null,
   "metadata": {
    "collapsed": true
   },
   "outputs": [],
   "source": [
    "def evaluate_graph(dictionary, corpus, texts):\n",
    "    \"\"\"\n",
    "    Function to display num_topics - LDA graph using c_v coherence\n",
    "\n",
    "    Parameters:\n",
    "    ----------\n",
    "    dictionary : Gensim dictionary\n",
    "    corpus : Gensim corpus\n",
    "    limit : topic limit\n",
    "\n",
    "    Returns:\n",
    "    -------\n",
    "    lm_list : List of LDA topic models\n",
    "    c_v : Coherence values corresponding to the LDA model with respective number of topics\n",
    "    \"\"\"\n",
    "    c_v = []\n",
    "    lm_list = []\n",
    "    for num_topics in range(1, 5):\n",
    "        lm = LdaModel(corpus=corpus, num_topics=5, id2word=dictionary)\n",
    "        lm_list.append(lm)\n",
    "        cm = CoherenceModel(model=lda_NOVA, texts=texts, dictionary=dictionary, coherence='c_v')\n",
    "        #cm = CoherenceModel(topics=lm, corpus=corpus, dictionary=dictionary, coherence='u_mass') # note that a dictionary has to be provided.\n",
    "        print cm,cm.get_coherence()\n",
    "        c_v.append(cm.get_coherence())\n",
    "    # Show graph\n",
    "    x = range(1, limit)\n",
    "    plt.plot(x, c_v)\n",
    "    plt.xlabel(\"num_topics\")\n",
    "    plt.ylabel(\"Coherence score\")\n",
    "    plt.legend((\"c_v\"), loc='best')\n",
    "    plt.show()\n",
    "    return lm_list, c_v"
   ]
  },
  {
   "cell_type": "code",
   "execution_count": null,
   "metadata": {
    "collapsed": true
   },
   "outputs": [],
   "source": [
    "for i in Project:\n",
    "        exec('lmlist_'+'%s'%i+',c_v_'+'%s'%i+'=evaluate_graph(dictionary='+'dictionary_'+'%s'%i+', corpus='+'corpus_'+'%s'%i+', texts='+'df.field_words_bag)')\n",
    "        exec('lmtopics_'+'%s'%i+'= lmlist_'+'%s'%i+'[5].show_topics(formatted=False)')\n",
    "        print (eval('lmtopics_'+'%s'%i))"
   ]
  },
  {
   "cell_type": "code",
   "execution_count": null,
   "metadata": {},
   "outputs": [],
   "source": [
    "#Evaluating all the topic models\n",
    "print (\"Evaluating all the topic models\")\n",
    "#Any topic model which can come up with topic terms can be plugged into the coherence pipeline.\n",
    "# You can even plug in an NMF topic model created with scikit-learn.\n",
    "for i in Project:\n",
    "        exec('lsitopics'+'%s'%i+ ' = [[word for word, prob in topic] for topicid, topic in lsitopics'+'%s'%i+']')\n",
    "        exec('hdptopics'+'%s'%i+ '= [[word for word, prob in topic] for topicid, topic in hdptopics'+'%s'%i+']')\n",
    "        exec('ldatopics'+'%s'%i+ ' = [[word for word, prob in topic] for topicid, topic in ldatopics'+'%s'%i+']')\n",
    "        exec('lmtopics_'+'%s'%i+ '  = [[word for word, prob in topic] for topicid, topic in lmtopics_'+'%s'%i+']')\n",
    "        exec('lsi_coherence'+'%s'%i+ '= CoherenceModel(topics=lsitopics'+'%s'%i+'[:10], texts=df.field_words_bag, dictionary=dictionary_'+'%s'%i+', window_size=10).get_coherence()')\n",
    "        exec('hdp_coherence'+'%s'%i+' = CoherenceModel(topics=hdptopics'+'%s'%i+'[:10], texts=df.field_words_bag, dictionary=dictionary_'+'%s'%i+', window_size=10).get_coherence()')\n",
    "        exec('lda_coherence'+'%s'%i+' = CoherenceModel(topics=ldatopics'+'%s'%i+', texts=df.field_words_bag, dictionary=dictionary_'+'%s'%i+', window_size=10).get_coherence()')\n",
    "        exec('lm_coherence'+'%s'%i+' = CoherenceModel(topics=lmtopics_'+'%s'%i+', texts=df.field_words_bag, dictionary=dictionary_'+'%s'%i+', window_size=10).get_coherence()')"
   ]
  },
  {
   "cell_type": "code",
   "execution_count": null,
   "metadata": {
    "collapsed": true
   },
   "outputs": [],
   "source": [
    "def evaluate_bar_graph(coherences, indices):\n",
    "    \"\"\"\n",
    "    Function to plot bar graph.\n",
    "\n",
    "    coherences: list of coherence values\n",
    "    indices: Indices to be used to mark bars. Length of this and coherences should be equal.\n",
    "=    \"\"\"\n",
    "    \n",
    "    indices=[ 'LSI', 'HDP', 'LDA', 'LDA_Mod']\n",
    "    assert len(coherences) == len(indices)\n",
    "    n = len(coherences)\n",
    "    x = np.arange(n)\n",
    "    plt.bar(x, coherences, width=0.2, tick_label=indices, align='center')\n",
    "    plt.xlabel('Models')\n",
    "    plt.ylabel('Coherence Value')\n",
    "\n",
    "    # Show graph\n",
    "    plt.show()"
   ]
  },
  {
   "cell_type": "code",
   "execution_count": null,
   "metadata": {
    "scrolled": true
   },
   "outputs": [],
   "source": [
    "for i in Project:\n",
    "    try:\n",
    "        evaluate_bar_graph([eval('lsi_coherence'+'%s'%i), eval('hdp_coherence'+'%s'%i), eval('lda_coherence'+'%s'%i),eval('lm_coherence'+'%s'%i)],\n",
    "                   ['LSI', 'HDP', 'LDA', 'LDA_Mod'])\n",
    "    except:\n",
    "        continue"
   ]
  },
  {
   "cell_type": "code",
   "execution_count": null,
   "metadata": {
    "collapsed": true
   },
   "outputs": [],
   "source": [
    "#lda_HORIZON=models.LdaModel.load('open_stack_HORIZON.lda',mmap='r')"
   ]
  },
  {
   "cell_type": "code",
   "execution_count": null,
   "metadata": {},
   "outputs": [],
   "source": [
    "print lda_NOVA"
   ]
  },
  {
   "cell_type": "code",
   "execution_count": 201,
   "metadata": {
    "collapsed": true
   },
   "outputs": [],
   "source": [
    "for i in Project:\n",
    "    exec('top_words_'+'%s'%i+'= [[word for word in lda_'+'%s'%i+'.show_topic(topicno, topn=5)] for topicno in range(0,'+'%s'%topic_no+')]')\n"
   ]
  },
  {
   "cell_type": "code",
   "execution_count": null,
   "metadata": {
    "collapsed": true
   },
   "outputs": [],
   "source": [
    "# First LDA model with 5 topics, 20 passes, alpha = 0.001"
   ]
  },
  {
   "cell_type": "code",
   "execution_count": null,
   "metadata": {},
   "outputs": [],
   "source": [
    "for i in range(0,topic_no):\n",
    "    try:\n",
    "        print 'topic_no',i,top_words_NOVA[i]\n",
    "    except:\n",
    "        continue"
   ]
  },
  {
   "cell_type": "code",
   "execution_count": 202,
   "metadata": {},
   "outputs": [],
   "source": [
    "for i in Project:\n",
    "    try:\n",
    "        exec('openstack_data_lda'+'%s'%i +'=  pyLDAvis.gensim.prepare(lda_'+'%s'%i+', corpus_'+'%s'%i+', dictionary_'+'%s'%i+')')\n",
    "        #exec('openstack_data_lsi'+'%s'%i +'=  pyLDAvis.gensim.prepare(lsi_'+'%s'%i+', corpus_'+'%s'%i+', dictionary_'+'%s'%i+')')\n",
    "        exec('openstack_data_hdp'+'%s'%i +'=  pyLDAvis.gensim.prepare(hdp_'+'%s'%i+', corpus_'+'%s'%i+', dictionary_'+'%s'%i+')')\n",
    "        pyLDAvis.display(eval('openstack_data_lda'+'%s'%i))\n",
    "        #pyLDAvis.display(eval('openstack_data_lsi'+'%s'%i))\n",
    "        pyLDAvis.display(eval('openstack_data_hdp'+'%s'%i))\n",
    "    except:\n",
    "        continue"
   ]
  },
  {
   "cell_type": "code",
   "execution_count": 203,
   "metadata": {
    "collapsed": true
   },
   "outputs": [],
   "source": [
    "for i in Project:\n",
    "    try:\n",
    "        pyLDAvis.save_html(eval('openstack_data_lda'+'%s'%i),eval('\"D:\\\\OpenStack\\\\openstack_lda'+'%s'%i+'.html\"'))\n",
    "        #pyLDAvis.save_html(eval('openstack_data_lsi'+'%s'%i),eval('\"D:\\\\OpenStack\\\\openstack_lsi'+'%s'%i+'.html\"'))\n",
    "        pyLDAvis.save_html(eval('openstack_data_hdp'+'%s'%i),eval('\"D:\\\\OpenStack\\\\openstack_hdp'+'%s'%i+'.html\"'))\n",
    "    except:\n",
    "        continue\n",
    "#pyLDAvis.save_html(vis_data,outpth+'LDA_Visualization.html')"
   ]
  },
  {
   "cell_type": "code",
   "execution_count": 204,
   "metadata": {},
   "outputs": [
    {
     "name": "stdout",
     "output_type": "stream",
     "text": [
      "LdaModel(num_terms=6669, num_topics=13, decay=0.5, chunksize=2000)\n"
     ]
    }
   ],
   "source": [
    "for i in Project:\n",
    "    try:\n",
    "        print(eval('lda_'+'%s'%i))\n",
    "    except:\n",
    "        continue"
   ]
  },
  {
   "cell_type": "code",
   "execution_count": null,
   "metadata": {
    "collapsed": true
   },
   "outputs": [],
   "source": [
    "#Assign cluster no with highest probability to each record (document)"
   ]
  },
  {
   "cell_type": "code",
   "execution_count": 260,
   "metadata": {
    "collapsed": true
   },
   "outputs": [],
   "source": [
    "topic_no=[]\n",
    "topics=[]\n",
    "label=[]\n",
    "j=0\n",
    "for j in range(0,len(df.newDetails)):\n",
    "    try:\n",
    "        for i in Project:\n",
    "            if df.Project[j]==i:\n",
    "                exec('bow_vector =dictionary_'+'%s'%i +'.doc2bow(df.field_words_bag[j])')\n",
    "                #print bow_vector\n",
    "                lda_vector = lda_NOVA[bow_vector]\n",
    "                lda_vector=sorted(lda_vector, key=lambda x: x[1],reverse=True)\n",
    "        topic_no.append(lda_vector[0][-2])\n",
    "        topics.append(top_words_NOVA[lda_vector[0][-2]])\n",
    "        label.append(topics[j][0][0]+' '+topics[j][1][0])\n",
    "    except:\n",
    "        continue"
   ]
  },
  {
   "cell_type": "code",
   "execution_count": 261,
   "metadata": {},
   "outputs": [],
   "source": [
    "df['Topic']=pd.Series(topic_no)\n",
    "df['FrequentWords']=pd.Series(topics)\n",
    "df['Label']=pd.Series(label)"
   ]
  },
  {
   "cell_type": "code",
   "execution_count": 262,
   "metadata": {},
   "outputs": [
    {
     "data": {
      "text/html": [
       "<div>\n",
       "<style>\n",
       "    .dataframe thead tr:only-child th {\n",
       "        text-align: right;\n",
       "    }\n",
       "\n",
       "    .dataframe thead th {\n",
       "        text-align: left;\n",
       "    }\n",
       "\n",
       "    .dataframe tbody tr th {\n",
       "        vertical-align: top;\n",
       "    }\n",
       "</style>\n",
       "<table border=\"1\" class=\"dataframe\">\n",
       "  <thead>\n",
       "    <tr style=\"text-align: right;\">\n",
       "      <th></th>\n",
       "      <th>req</th>\n",
       "      <th>bug</th>\n",
       "      <th>fault_description</th>\n",
       "      <th>Project</th>\n",
       "      <th>Category</th>\n",
       "      <th>Fault_Details_lp</th>\n",
       "      <th>field_words_bag</th>\n",
       "      <th>newDetails</th>\n",
       "      <th>Topic</th>\n",
       "      <th>Label</th>\n",
       "      <th>FrequentWords</th>\n",
       "    </tr>\n",
       "  </thead>\n",
       "  <tbody>\n",
       "    <tr>\n",
       "      <th>0</th>\n",
       "      <td>leave instances in original state when nova co...</td>\n",
       "      <td>https://bugs.launchpad.net/nova/+bug/1330583</td>\n",
       "      <td>Currently, during nova-compute restart, when C...</td>\n",
       "      <td>NOVA</td>\n",
       "      <td>COMPUTE</td>\n",
       "      <td>Currently, during nova-compute restart, when C...</td>\n",
       "      <td>[currently, restart, conf, resume, guests, sta...</td>\n",
       "      <td>currently restart conf resume guests state hos...</td>\n",
       "      <td>11</td>\n",
       "      <td>manager package</td>\n",
       "      <td>[(manager, 0.0289631241934), (package, 0.01580...</td>\n",
       "    </tr>\n",
       "    <tr>\n",
       "      <th>1</th>\n",
       "      <td>Nova doesn't allow cleanup of volumes stuck in...</td>\n",
       "      <td>https://bugs.launchpad.net/nova/+bug/1449221</td>\n",
       "      <td>Cinder volumes can get stuck in a state of 'at...</td>\n",
       "      <td>NOVA</td>\n",
       "      <td>COMPUTE</td>\n",
       "      <td>Cinder volumes can get stuck in a state of 'at...</td>\n",
       "      <td>[cinder, volumes, stick, state, attach, detach...</td>\n",
       "      <td>cinder volumes stick state attach detach need ...</td>\n",
       "      <td>11</td>\n",
       "      <td>manager package</td>\n",
       "      <td>[(manager, 0.0289631241934), (package, 0.01580...</td>\n",
       "    </tr>\n",
       "    <tr>\n",
       "      <th>2</th>\n",
       "      <td>security_group_rules are lack of schema check</td>\n",
       "      <td>https://bugs.launchpad.net/nova/+bug/1453208</td>\n",
       "      <td>security_group_default_rules.py in plugs/v3 ar...</td>\n",
       "      <td>NOVA</td>\n",
       "      <td>COMPUTE</td>\n",
       "      <td>security_group_default_rules.py in plugs/v3 ar...</td>\n",
       "      <td>[security, group, default, rule, plug, lack, s...</td>\n",
       "      <td>security group default rule plug lack schema c...</td>\n",
       "      <td>6</td>\n",
       "      <td>create image</td>\n",
       "      <td>[(create, 0.0125752388022), (image, 0.01212548...</td>\n",
       "    </tr>\n",
       "    <tr>\n",
       "      <th>3</th>\n",
       "      <td>Support volume retype (volume migration) of at...</td>\n",
       "      <td>https://bugs.launchpad.net/nova/+bug/1454252</td>\n",
       "      <td>Steps to reproduce:\\n\\n1. Boot a VM from the v...</td>\n",
       "      <td>NOVA</td>\n",
       "      <td>COMPUTE</td>\n",
       "      <td>Steps to reproduce:\\n\\n1. Boot a VM from the v...</td>\n",
       "      <td>[step, reproduce, boot, shutoff, migrate, diff...</td>\n",
       "      <td>step reproduce boot shutoff migrate different ...</td>\n",
       "      <td>9</td>\n",
       "      <td>python host</td>\n",
       "      <td>[(python, 0.0149332462239), (host, 0.014534567...</td>\n",
       "    </tr>\n",
       "    <tr>\n",
       "      <th>4</th>\n",
       "      <td>Image-cache deleting active swap backing images</td>\n",
       "      <td>https://bugs.launchpad.net/nova/+bug/1457527</td>\n",
       "      <td>Version: 1:2015.1.0-0ubuntu1~cloud0 (Kilo)\\n\\n...</td>\n",
       "      <td>NOVA</td>\n",
       "      <td>COMPUTE</td>\n",
       "      <td>Version: 1:2015.1.0-0ubuntu1~cloud0 (Kilo)\\n\\n...</td>\n",
       "      <td>[version, ubuntu, cloud, kilo, issue, back, im...</td>\n",
       "      <td>version ubuntu cloud kilo issue back image dis...</td>\n",
       "      <td>6</td>\n",
       "      <td>create image</td>\n",
       "      <td>[(create, 0.0125752388022), (image, 0.01212548...</td>\n",
       "    </tr>\n",
       "  </tbody>\n",
       "</table>\n",
       "</div>"
      ],
      "text/plain": [
       "                                                 req  \\\n",
       "0  leave instances in original state when nova co...   \n",
       "1  Nova doesn't allow cleanup of volumes stuck in...   \n",
       "2      security_group_rules are lack of schema check   \n",
       "3  Support volume retype (volume migration) of at...   \n",
       "4    Image-cache deleting active swap backing images   \n",
       "\n",
       "                                            bug  \\\n",
       "0  https://bugs.launchpad.net/nova/+bug/1330583   \n",
       "1  https://bugs.launchpad.net/nova/+bug/1449221   \n",
       "2  https://bugs.launchpad.net/nova/+bug/1453208   \n",
       "3  https://bugs.launchpad.net/nova/+bug/1454252   \n",
       "4  https://bugs.launchpad.net/nova/+bug/1457527   \n",
       "\n",
       "                                   fault_description Project Category  \\\n",
       "0  Currently, during nova-compute restart, when C...    NOVA  COMPUTE   \n",
       "1  Cinder volumes can get stuck in a state of 'at...    NOVA  COMPUTE   \n",
       "2  security_group_default_rules.py in plugs/v3 ar...    NOVA  COMPUTE   \n",
       "3  Steps to reproduce:\\n\\n1. Boot a VM from the v...    NOVA  COMPUTE   \n",
       "4  Version: 1:2015.1.0-0ubuntu1~cloud0 (Kilo)\\n\\n...    NOVA  COMPUTE   \n",
       "\n",
       "                                    Fault_Details_lp  \\\n",
       "0  Currently, during nova-compute restart, when C...   \n",
       "1  Cinder volumes can get stuck in a state of 'at...   \n",
       "2  security_group_default_rules.py in plugs/v3 ar...   \n",
       "3  Steps to reproduce:\\n\\n1. Boot a VM from the v...   \n",
       "4  Version: 1:2015.1.0-0ubuntu1~cloud0 (Kilo)\\n\\n...   \n",
       "\n",
       "                                     field_words_bag  \\\n",
       "0  [currently, restart, conf, resume, guests, sta...   \n",
       "1  [cinder, volumes, stick, state, attach, detach...   \n",
       "2  [security, group, default, rule, plug, lack, s...   \n",
       "3  [step, reproduce, boot, shutoff, migrate, diff...   \n",
       "4  [version, ubuntu, cloud, kilo, issue, back, im...   \n",
       "\n",
       "                                          newDetails  Topic            Label  \\\n",
       "0  currently restart conf resume guests state hos...     11  manager package   \n",
       "1  cinder volumes stick state attach detach need ...     11  manager package   \n",
       "2  security group default rule plug lack schema c...      6     create image   \n",
       "3  step reproduce boot shutoff migrate different ...      9      python host   \n",
       "4  version ubuntu cloud kilo issue back image dis...      6     create image   \n",
       "\n",
       "                                       FrequentWords  \n",
       "0  [(manager, 0.0289631241934), (package, 0.01580...  \n",
       "1  [(manager, 0.0289631241934), (package, 0.01580...  \n",
       "2  [(create, 0.0125752388022), (image, 0.01212548...  \n",
       "3  [(python, 0.0149332462239), (host, 0.014534567...  \n",
       "4  [(create, 0.0125752388022), (image, 0.01212548...  "
      ]
     },
     "execution_count": 262,
     "metadata": {},
     "output_type": "execute_result"
    }
   ],
   "source": [
    "df.head()"
   ]
  },
  {
   "cell_type": "code",
   "execution_count": 263,
   "metadata": {},
   "outputs": [
    {
     "data": {
      "text/html": [
       "<div>\n",
       "<style>\n",
       "    .dataframe thead tr:only-child th {\n",
       "        text-align: right;\n",
       "    }\n",
       "\n",
       "    .dataframe thead th {\n",
       "        text-align: left;\n",
       "    }\n",
       "\n",
       "    .dataframe tbody tr th {\n",
       "        vertical-align: top;\n",
       "    }\n",
       "</style>\n",
       "<table border=\"1\" class=\"dataframe\">\n",
       "  <thead>\n",
       "    <tr style=\"text-align: right;\">\n",
       "      <th></th>\n",
       "      <th>req</th>\n",
       "      <th>bug</th>\n",
       "      <th>fault_description</th>\n",
       "      <th>Project</th>\n",
       "      <th>Category</th>\n",
       "      <th>Fault_Details_lp</th>\n",
       "      <th>field_words_bag</th>\n",
       "      <th>newDetails</th>\n",
       "      <th>Topic</th>\n",
       "      <th>Label</th>\n",
       "      <th>FrequentWords</th>\n",
       "    </tr>\n",
       "  </thead>\n",
       "  <tbody>\n",
       "    <tr>\n",
       "      <th>0</th>\n",
       "      <td>leave instances in original state when nova co...</td>\n",
       "      <td>https://bugs.launchpad.net/nova/+bug/1330583</td>\n",
       "      <td>Currently, during nova-compute restart, when C...</td>\n",
       "      <td>NOVA</td>\n",
       "      <td>COMPUTE</td>\n",
       "      <td>Currently, during nova-compute restart, when C...</td>\n",
       "      <td>[currently, restart, conf, resume, guests, sta...</td>\n",
       "      <td>currently restart conf resume guests state hos...</td>\n",
       "      <td>11</td>\n",
       "      <td>manager package</td>\n",
       "      <td>[(manager, 0.0289631241934), (package, 0.01580...</td>\n",
       "    </tr>\n",
       "    <tr>\n",
       "      <th>1</th>\n",
       "      <td>Nova doesn't allow cleanup of volumes stuck in...</td>\n",
       "      <td>https://bugs.launchpad.net/nova/+bug/1449221</td>\n",
       "      <td>Cinder volumes can get stuck in a state of 'at...</td>\n",
       "      <td>NOVA</td>\n",
       "      <td>COMPUTE</td>\n",
       "      <td>Cinder volumes can get stuck in a state of 'at...</td>\n",
       "      <td>[cinder, volumes, stick, state, attach, detach...</td>\n",
       "      <td>cinder volumes stick state attach detach need ...</td>\n",
       "      <td>11</td>\n",
       "      <td>manager package</td>\n",
       "      <td>[(manager, 0.0289631241934), (package, 0.01580...</td>\n",
       "    </tr>\n",
       "    <tr>\n",
       "      <th>2</th>\n",
       "      <td>security_group_rules are lack of schema check</td>\n",
       "      <td>https://bugs.launchpad.net/nova/+bug/1453208</td>\n",
       "      <td>security_group_default_rules.py in plugs/v3 ar...</td>\n",
       "      <td>NOVA</td>\n",
       "      <td>COMPUTE</td>\n",
       "      <td>security_group_default_rules.py in plugs/v3 ar...</td>\n",
       "      <td>[security, group, default, rule, plug, lack, s...</td>\n",
       "      <td>security group default rule plug lack schema c...</td>\n",
       "      <td>6</td>\n",
       "      <td>create image</td>\n",
       "      <td>[(create, 0.0125752388022), (image, 0.01212548...</td>\n",
       "    </tr>\n",
       "    <tr>\n",
       "      <th>3</th>\n",
       "      <td>Support volume retype (volume migration) of at...</td>\n",
       "      <td>https://bugs.launchpad.net/nova/+bug/1454252</td>\n",
       "      <td>Steps to reproduce:\\n\\n1. Boot a VM from the v...</td>\n",
       "      <td>NOVA</td>\n",
       "      <td>COMPUTE</td>\n",
       "      <td>Steps to reproduce:\\n\\n1. Boot a VM from the v...</td>\n",
       "      <td>[step, reproduce, boot, shutoff, migrate, diff...</td>\n",
       "      <td>step reproduce boot shutoff migrate different ...</td>\n",
       "      <td>9</td>\n",
       "      <td>python host</td>\n",
       "      <td>[(python, 0.0149332462239), (host, 0.014534567...</td>\n",
       "    </tr>\n",
       "    <tr>\n",
       "      <th>4</th>\n",
       "      <td>Image-cache deleting active swap backing images</td>\n",
       "      <td>https://bugs.launchpad.net/nova/+bug/1457527</td>\n",
       "      <td>Version: 1:2015.1.0-0ubuntu1~cloud0 (Kilo)\\n\\n...</td>\n",
       "      <td>NOVA</td>\n",
       "      <td>COMPUTE</td>\n",
       "      <td>Version: 1:2015.1.0-0ubuntu1~cloud0 (Kilo)\\n\\n...</td>\n",
       "      <td>[version, ubuntu, cloud, kilo, issue, back, im...</td>\n",
       "      <td>version ubuntu cloud kilo issue back image dis...</td>\n",
       "      <td>6</td>\n",
       "      <td>create image</td>\n",
       "      <td>[(create, 0.0125752388022), (image, 0.01212548...</td>\n",
       "    </tr>\n",
       "  </tbody>\n",
       "</table>\n",
       "</div>"
      ],
      "text/plain": [
       "                                                 req  \\\n",
       "0  leave instances in original state when nova co...   \n",
       "1  Nova doesn't allow cleanup of volumes stuck in...   \n",
       "2      security_group_rules are lack of schema check   \n",
       "3  Support volume retype (volume migration) of at...   \n",
       "4    Image-cache deleting active swap backing images   \n",
       "\n",
       "                                            bug  \\\n",
       "0  https://bugs.launchpad.net/nova/+bug/1330583   \n",
       "1  https://bugs.launchpad.net/nova/+bug/1449221   \n",
       "2  https://bugs.launchpad.net/nova/+bug/1453208   \n",
       "3  https://bugs.launchpad.net/nova/+bug/1454252   \n",
       "4  https://bugs.launchpad.net/nova/+bug/1457527   \n",
       "\n",
       "                                   fault_description Project Category  \\\n",
       "0  Currently, during nova-compute restart, when C...    NOVA  COMPUTE   \n",
       "1  Cinder volumes can get stuck in a state of 'at...    NOVA  COMPUTE   \n",
       "2  security_group_default_rules.py in plugs/v3 ar...    NOVA  COMPUTE   \n",
       "3  Steps to reproduce:\\n\\n1. Boot a VM from the v...    NOVA  COMPUTE   \n",
       "4  Version: 1:2015.1.0-0ubuntu1~cloud0 (Kilo)\\n\\n...    NOVA  COMPUTE   \n",
       "\n",
       "                                    Fault_Details_lp  \\\n",
       "0  Currently, during nova-compute restart, when C...   \n",
       "1  Cinder volumes can get stuck in a state of 'at...   \n",
       "2  security_group_default_rules.py in plugs/v3 ar...   \n",
       "3  Steps to reproduce:\\n\\n1. Boot a VM from the v...   \n",
       "4  Version: 1:2015.1.0-0ubuntu1~cloud0 (Kilo)\\n\\n...   \n",
       "\n",
       "                                     field_words_bag  \\\n",
       "0  [currently, restart, conf, resume, guests, sta...   \n",
       "1  [cinder, volumes, stick, state, attach, detach...   \n",
       "2  [security, group, default, rule, plug, lack, s...   \n",
       "3  [step, reproduce, boot, shutoff, migrate, diff...   \n",
       "4  [version, ubuntu, cloud, kilo, issue, back, im...   \n",
       "\n",
       "                                          newDetails  Topic            Label  \\\n",
       "0  currently restart conf resume guests state hos...     11  manager package   \n",
       "1  cinder volumes stick state attach detach need ...     11  manager package   \n",
       "2  security group default rule plug lack schema c...      6     create image   \n",
       "3  step reproduce boot shutoff migrate different ...      9      python host   \n",
       "4  version ubuntu cloud kilo issue back image dis...      6     create image   \n",
       "\n",
       "                                       FrequentWords  \n",
       "0  [(manager, 0.0289631241934), (package, 0.01580...  \n",
       "1  [(manager, 0.0289631241934), (package, 0.01580...  \n",
       "2  [(create, 0.0125752388022), (image, 0.01212548...  \n",
       "3  [(python, 0.0149332462239), (host, 0.014534567...  \n",
       "4  [(create, 0.0125752388022), (image, 0.01212548...  "
      ]
     },
     "execution_count": 263,
     "metadata": {},
     "output_type": "execute_result"
    }
   ],
   "source": [
    "df.head()"
   ]
  },
  {
   "cell_type": "code",
   "execution_count": null,
   "metadata": {
    "collapsed": true
   },
   "outputs": [],
   "source": [
    "#Write dataset with Cluster no to csv"
   ]
  },
  {
   "cell_type": "code",
   "execution_count": 271,
   "metadata": {
    "collapsed": true
   },
   "outputs": [],
   "source": [
    "df.to_csv('D:\\\\OpenStack\\\\df.csv', encoding='utf-8')"
   ]
  },
  {
   "cell_type": "code",
   "execution_count": 264,
   "metadata": {},
   "outputs": [],
   "source": [
    "topic_no=[]\n",
    "topics=[]\n",
    "label=[]\n",
    "j=0\n",
    "for j in range(0,len(df_st.newDetails)):\n",
    "    try:\n",
    "        for i in Project:\n",
    "            if df.Project[j]==i:\n",
    "                exec('bow_vector =dictionary_'+'%s'%i +'.doc2bow(df_st.field_words_bag[j])')\n",
    "                #print bow_vector\n",
    "                exec('lda_vector = lda_'+'%s'%i+'[bow_vector]')\n",
    "                lda_vector=sorted(lda_vector, key=lambda x: x[1],reverse=True)\n",
    "        topic_no.append(lda_vector[0][-2])\n",
    "        topics.append(eval('top_words_'+'%s'%i+'[lda_vector[0][-2]]'))\n",
    "        label.append(topics[j][0][0]+' '+topics[j][1][0])\n",
    "    except:\n",
    "        continue"
   ]
  },
  {
   "cell_type": "code",
   "execution_count": 265,
   "metadata": {
    "collapsed": true
   },
   "outputs": [],
   "source": [
    "df_st['Topic']=pd.Series(topic_no)\n",
    "df_st['FrequentWords']=pd.Series(topics)\n",
    "df_st['Label']=pd.Series(label)"
   ]
  },
  {
   "cell_type": "code",
   "execution_count": 270,
   "metadata": {
    "collapsed": true
   },
   "outputs": [],
   "source": [
    "df_st.to_csv('D:\\\\OpenStack\\\\df_st.csv', encoding='utf-8')"
   ]
  },
  {
   "cell_type": "code",
   "execution_count": 267,
   "metadata": {
    "collapsed": true
   },
   "outputs": [],
   "source": [
    "topic_no=[]\n",
    "topics=[]\n",
    "label=[]\n",
    "j=0\n",
    "for j in range(0,len(df_ask.newDetails)):\n",
    "    try:\n",
    "        for i in Project:\n",
    "            if df.Project[j]==i:\n",
    "                exec('bow_vector =dictionary_'+'%s'%i +'.doc2bow(df_ask.field_words_bag[j])')\n",
    "                #print bow_vector\n",
    "                exec('lda_vector = lda_'+'%s'%i+'[bow_vector]')\n",
    "                lda_vector=sorted(lda_vector, key=lambda x: x[1],reverse=True)\n",
    "        topic_no.append(lda_vector[0][-2])\n",
    "        topics.append(top_words_NOVA[lda_vector[0][-2]])\n",
    "        label.append(topics[j][0][0]+' '+topics[j][1][0])\n",
    "    except:\n",
    "        continue"
   ]
  },
  {
   "cell_type": "code",
   "execution_count": 268,
   "metadata": {
    "collapsed": true
   },
   "outputs": [],
   "source": [
    "df_ask['Topic']=pd.Series(topic_no)\n",
    "df_ask['FrequentWords']=pd.Series(topics)\n",
    "df_ask['Label']=pd.Series(label)"
   ]
  },
  {
   "cell_type": "code",
   "execution_count": 269,
   "metadata": {
    "collapsed": true
   },
   "outputs": [],
   "source": [
    "df_ask.to_csv('D:\\\\OpenStack\\\\df_ask.csv', encoding='utf-8')"
   ]
  }
 ],
 "metadata": {
  "anaconda-cloud": {
   "environment": null,
   "summary": "ML_FaultGenes",
   "url": "https://anaconda.org/zainabsayyed/openstack_ml"
  },
  "kernelspec": {
   "display_name": "Python 2",
   "language": "python",
   "name": "python2"
  },
  "language_info": {
   "codemirror_mode": {
    "name": "ipython",
    "version": 2
   },
   "file_extension": ".py",
   "mimetype": "text/x-python",
   "name": "python",
   "nbconvert_exporter": "python",
   "pygments_lexer": "ipython2",
   "version": "2.7.13"
  }
 },
 "nbformat": 4,
 "nbformat_minor": 1
}
