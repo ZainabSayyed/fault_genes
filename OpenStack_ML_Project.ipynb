{
 "cells": [
  {
   "cell_type": "markdown",
   "metadata": {},
   "source": [
    "# OpenStack_WordCount"
   ]
  },
  {
   "cell_type": "code",
   "execution_count": 1,
   "metadata": {
    "collapsed": true
   },
   "outputs": [],
   "source": [
    "import pandas as pd\n",
    "from nltk.corpus import stopwords \n",
    "import nltk\n",
    "from nltk.corpus import treebank\n",
    "import nltk.stem \n",
    "from nltk import stem\n",
    "import numpy as np\n",
    "import string\n",
    "import re\n",
    "import random\n",
    "from nltk.stem.porter import PorterStemmer\n",
    "from nltk.stem.snowball import SnowballStemmer\n",
    "from nltk.stem.wordnet import WordNetLemmatizer"
   ]
  },
  {
   "cell_type": "code",
   "execution_count": 2,
   "metadata": {
    "collapsed": true
   },
   "outputs": [],
   "source": [
    "#Randomly select 1000 from bugslist and report (launch pad and stack over flow)\n",
    "from nltk.stem import PorterStemmer\n",
    "ps = PorterStemmer()"
   ]
  },
  {
   "cell_type": "code",
   "execution_count": 3,
   "metadata": {
    "collapsed": true
   },
   "outputs": [],
   "source": [
    "#Projects in Open-Stacks"
   ]
  },
  {
   "cell_type": "code",
   "execution_count": 4,
   "metadata": {
    "collapsed": false
   },
   "outputs": [],
   "source": [
    "Project=[\"NOVA\",\"GLANCE\",\"IRONIC\",\"MAGNUM\",\"STORLETS\",\"ZUN\",\"SWIFT\",\"CINDER\",\"MANILA\",\"KARBOR\",\"FREEZER\",\n",
    "\"NEUTRON\",\"DESIGNATE\",\"DRAGONFLOW\",\"KURYR\",\"OCTAVIA\",\"TACKER\",\"TRICIRCLE\",\"TROVE\",\"SAHARA\",\"SEARCHLIGHT\",\"KEYSTONE\",\"BARBICAN\",\"CONGRESS\",\"MISTRAL\",\"HORIZON\",\"OSCLIENT (CLI)\",\"RALLY\",\"SENLIN\",\"VITRAGE\",\"WATCHER\",\"CHEF OPENSTACK\",\"KOLLA\",\"OPENSTACK CHARMS\",\"OPENSTACK-ANSIBLE\",\"PUPPET OPENSTACK\",\"TRIPLEO\",\"HEAT\",\"ZAQAR\",\"MURANO\",\"SOLUM\",\"CEILOMETER\",\"CLOUDKITTY\",\"MONASCA\",\"AODH\",\"PANKO\"]"
   ]
  },
  {
   "cell_type": "code",
   "execution_count": 5,
   "metadata": {
    "collapsed": true
   },
   "outputs": [],
   "source": [
    "Category={\"COMPUTE\":[\"NOVA\",\"GLANCE\",\"IRONIC\",\"MAGNUM\",\"STORLETS\",\"ZUN\"],\"STORAGE,BACKUP AND RECOVERY\":[\"SWIFT\",\"CINDER\",\"MANILA\",\"KARBOR\",\"FREEZER\"],\"NETWORKING AND CONTENT DELIVERY\":[\"NEUTRON\",\"DESIGNATE\",\"DRAGONFLOW\",\"KURYR\",\"OCTAVIA\",\"TACKER\",\"TRICIRCLE\"],\"DATA AND ANALYTICS\":[\"TROVE\",\"SAHARA\",\"SEARCHLIGHT\"],\"SECURITY AND IDENTITY COMPLIANCE\":[\"KEYSTONE\",\"BARBICAN\",\"CONGRESS\",\"MISTRAL\"],\"MANAGEMENT TOOLS\":[\"HORIZON\",\"OSCLIENT (CLI)\",\n",
    "\"RALLY\",\"SENLIN\",\"VITRAGE\",\"WATCHER\"],\"DEPLOYMENT TOOLS\":[\"CHEF OPENSTACK\",\"KOLLA\",\"OPENSTACK CHARMS\",\"OPENSTACK-ANSIBLE\",\"PUPPET OPENSTACK\",\"TRIPLEO\"],\"APPLICATION SERVICES\":[\"HEAT\",\"ZAQAR\",\"MURANO\",\"SOLUM\"],\"MONITORING AND METERING\":[\"CEILOMETER\",\n",
    "\"CLOUDKITTY\",\"MONASCA\",\"AODH\",\"PANKO\"]}"
   ]
  },
  {
   "cell_type": "code",
   "execution_count": 6,
   "metadata": {
    "collapsed": true
   },
   "outputs": [],
   "source": [
    "Project_OpenStack=[\"NOVA\",\"GLANCE\",\"IRONIC\",\"MAGNUM\",\"STORLETS\",\"ZUN\",\"SWIFT\",\"CINDER\",\"MANILA\",\"KARBOR\",\"FREEZER\",\n",
    "\"NEUTRON\",\"DESIGNATE\",\"DRAGONFLOW\",\"KURYR\",\"OCTAVIA\",\"TACKER\",\"TRICIRCLE\",\"TROVE\",\"SAHARA\",\"SEARCHLIGHT\",\"KEYSTONE\",\"BARBICAN\",\"CONGRESS\",\"MISTRAL\",\"HORIZON\",\"OSCLIENT (CLI)\",\"RALLY\",\"SENLIN\",\"VITRAGE\",\"WATCHER\",\"CHEF OPENSTACK\",\"KOLLA\",\"OPENSTACK CHARMS\",\"OPENSTACK-ANSIBLE\",\"PUPPET OPENSTACK\",\"TRIPLEO\",\"HEAT\",\"ZAQAR\",\"MURANO\",\"SOLUM\",\"CEILOMETER\",\"CLOUDKITTY\",\"MONASCA\",\"AODH\",\"PANKO\"]\n",
    "\n",
    "NOVA={}\n",
    "GLANCE={}\n",
    "IRONIC={}\n",
    "MAGNUM={}\n",
    "STORLETS={}\n",
    "ZUN={}\n",
    "SWIFT={}\n",
    "CINDER={}\n",
    "MANILA={}\n",
    "KARBOR={}\n",
    "FREEZER={}\n",
    "NEUTRON={}\n",
    "DESIGNATE={}\n",
    "DRAGONFLOW={}\n",
    "KURYR={}\n",
    "OCTAVIA={}\n",
    "TACKER={}\n",
    "TRICIRCLE={}\n",
    "TROVE={}\n",
    "SAHARA={}\n",
    "SEARCHLIGHT={}\n",
    "KEYSTONE={}\n",
    "BARBICAN={}\n",
    "CONGRESS={}\n",
    "MISTRAL={}\n",
    "HORIZON={}\n",
    "OSCLIENT={}\n",
    "RALLY={}\n",
    "SENLIN={}\n",
    "VITRAGE={}\n",
    "WATCHER={}\n",
    "CHEFOPENSTACK={}\n",
    "KOLLA={}\n",
    "OPENSTACKCHARMS={}\n",
    "OPENSTACKANSIBLE={}\n",
    "PUPPETOPENSTACK={}\n",
    "TRIPLEO={}\n",
    "HEAT={}\n",
    "ZAQAR={}\n",
    "MURANO={}\n",
    "SOLUM={}\n",
    "CEILOMETER={}\n",
    "CLOUDKITTY={}\n",
    "MONASCA={}\n",
    "AODH={}\n",
    "PANKO={}"
   ]
  },
  {
   "cell_type": "code",
   "execution_count": 7,
   "metadata": {
    "collapsed": false
   },
   "outputs": [
    {
     "data": {
      "text/plain": [
       "46"
      ]
     },
     "execution_count": 7,
     "metadata": {},
     "output_type": "execute_result"
    }
   ],
   "source": [
    "len(Project)"
   ]
  },
  {
   "cell_type": "code",
   "execution_count": 8,
   "metadata": {
    "collapsed": false
   },
   "outputs": [],
   "source": [
    "filename = \"buglist.xlsx\"\n",
    "df_launchpad=pd.read_excel(filename)\n",
    "df=pd.DataFrame(df_launchpad)\n",
    "del(df_launchpad)\n",
    "field=[]\n",
    "for i in df.project:\n",
    "    if i.upper() in Project:\n",
    "        field.append(i.upper())\n",
    "    else:\n",
    "        field.append(i.upper())\n",
    "df=df.drop(['project','component','version','fault_class','fault_type','fault_symptom','severity','priority','status','mitigation','log','repro','submitter','assignee','created','deployment'], axis=1)\n",
    "df=df.assign(Project=pd.Series(field))\n",
    "field=[]\n",
    "count=0\n",
    "for i in df.Project:\n",
    "    count=count+1\n",
    "    for k,v in Category.items():\n",
    "        if i in v:\n",
    "            field.append(k)\n",
    "            break\n",
    "    if len(field)<count:\n",
    "        field.append('Others')\n",
    "#df.set_index=df.bug\n",
    "df=df.assign(Category=pd.Series(field))"
   ]
  },
  {
   "cell_type": "code",
   "execution_count": 9,
   "metadata": {
    "collapsed": false
   },
   "outputs": [
    {
     "data": {
      "text/plain": [
       "17326"
      ]
     },
     "execution_count": 9,
     "metadata": {},
     "output_type": "execute_result"
    }
   ],
   "source": [
    "len(df)"
   ]
  },
  {
   "cell_type": "code",
   "execution_count": 10,
   "metadata": {
    "collapsed": false
   },
   "outputs": [
    {
     "data": {
      "text/html": [
       "<div>\n",
       "<table border=\"1\" class=\"dataframe\">\n",
       "  <thead>\n",
       "    <tr style=\"text-align: right;\">\n",
       "      <th></th>\n",
       "      <th>req</th>\n",
       "      <th>bug</th>\n",
       "      <th>fault_description</th>\n",
       "      <th>Project</th>\n",
       "      <th>Category</th>\n",
       "    </tr>\n",
       "  </thead>\n",
       "  <tbody>\n",
       "    <tr>\n",
       "      <th>0</th>\n",
       "      <td>important servers should have backups</td>\n",
       "      <td>https://bugs.launchpad.net/openstack-ci/+bug/1...</td>\n",
       "      <td>cloud image snapshots aren't as reliable as on...</td>\n",
       "      <td>OPENSTACK-CI</td>\n",
       "      <td>Others</td>\n",
       "    </tr>\n",
       "    <tr>\n",
       "      <th>1</th>\n",
       "      <td>fix-char-dev-permissions</td>\n",
       "      <td>https://bugs.launchpad.net/anvil/+bug/1184013</td>\n",
       "      <td>Instead of doing the chmod recommendation for ...</td>\n",
       "      <td>ANVIL</td>\n",
       "      <td>Others</td>\n",
       "    </tr>\n",
       "    <tr>\n",
       "      <th>2</th>\n",
       "      <td>stream wrapper only works for default region</td>\n",
       "      <td>https://bugs.launchpad.net/openstack-sdk-php/+...</td>\n",
       "      <td>Stream wrappers should work for regions other ...</td>\n",
       "      <td>OPENSTACK-SDK-PHP</td>\n",
       "      <td>Others</td>\n",
       "    </tr>\n",
       "    <tr>\n",
       "      <th>3</th>\n",
       "      <td>Keystone client fails to authorize during trus...</td>\n",
       "      <td>https://bugs.launchpad.net/blazar/+bug/1326066</td>\n",
       "      <td>The current Keystone client for the V3 API fai...</td>\n",
       "      <td>BLAZAR</td>\n",
       "      <td>Others</td>\n",
       "    </tr>\n",
       "    <tr>\n",
       "      <th>4</th>\n",
       "      <td>TOSCA translator is missing tests</td>\n",
       "      <td>https://bugs.launchpad.net/heat-translator/+bu...</td>\n",
       "      <td>There are currently no test cases at all defin...</td>\n",
       "      <td>HEAT-TRANSLATOR</td>\n",
       "      <td>Others</td>\n",
       "    </tr>\n",
       "  </tbody>\n",
       "</table>\n",
       "</div>"
      ],
      "text/plain": [
       "                                                 req  \\\n",
       "0              important servers should have backups   \n",
       "1                           fix-char-dev-permissions   \n",
       "2       stream wrapper only works for default region   \n",
       "3  Keystone client fails to authorize during trus...   \n",
       "4                  TOSCA translator is missing tests   \n",
       "\n",
       "                                                 bug  \\\n",
       "0  https://bugs.launchpad.net/openstack-ci/+bug/1...   \n",
       "1      https://bugs.launchpad.net/anvil/+bug/1184013   \n",
       "2  https://bugs.launchpad.net/openstack-sdk-php/+...   \n",
       "3     https://bugs.launchpad.net/blazar/+bug/1326066   \n",
       "4  https://bugs.launchpad.net/heat-translator/+bu...   \n",
       "\n",
       "                                   fault_description            Project  \\\n",
       "0  cloud image snapshots aren't as reliable as on...       OPENSTACK-CI   \n",
       "1  Instead of doing the chmod recommendation for ...              ANVIL   \n",
       "2  Stream wrappers should work for regions other ...  OPENSTACK-SDK-PHP   \n",
       "3  The current Keystone client for the V3 API fai...             BLAZAR   \n",
       "4  There are currently no test cases at all defin...    HEAT-TRANSLATOR   \n",
       "\n",
       "  Category  \n",
       "0   Others  \n",
       "1   Others  \n",
       "2   Others  \n",
       "3   Others  \n",
       "4   Others  "
      ]
     },
     "execution_count": 10,
     "metadata": {},
     "output_type": "execute_result"
    }
   ],
   "source": [
    "df.head()"
   ]
  },
  {
   "cell_type": "code",
   "execution_count": 11,
   "metadata": {
    "collapsed": false
   },
   "outputs": [],
   "source": [
    "filename = \"ask_os.csv\"\n",
    "df_ask_os = pd.read_csv(filename)\n",
    "df_ask=pd.DataFrame(df_ask_os)\n",
    "del(df_ask_os)"
   ]
  },
  {
   "cell_type": "code",
   "execution_count": 12,
   "metadata": {
    "collapsed": false
   },
   "outputs": [],
   "source": [
    "#Add Project column into ask_os\n",
    "field=[]\n",
    "for i in df_ask.answer:\n",
    "    if type(i)== int or type(i)== float:  \n",
    "        continue\n",
    "    i = re.sub(r'[^\\x00-\\x7f]','',i)\n",
    "    if type(i) == type(u''):\n",
    "        i = i.encode(\"utf-8\",'ignore')\n",
    "    data=str(i).split()\n",
    "    for j in data:\n",
    "        if j.upper() in Project:\n",
    "            field.append(j.upper())\n",
    "            \n",
    "df_ask=df_ask.assign(Project=pd.Series(field))\n",
    "field=[]\n",
    "count=0\n",
    "for i in df_ask.Project:\n",
    "    count= count +1\n",
    "    for k,v in Category.items():\n",
    "        if i in v:\n",
    "            field.append(k)\n",
    "            break\n",
    "    if len(field)< count:\n",
    "        field.append('Other')\n",
    "#df.set_index=df.bug\n",
    "df_ask=df_ask.assign(Category=pd.Series(field))"
   ]
  },
  {
   "cell_type": "code",
   "execution_count": 13,
   "metadata": {
    "collapsed": false
   },
   "outputs": [
    {
     "data": {
      "text/html": [
       "<div>\n",
       "<table border=\"1\" class=\"dataframe\">\n",
       "  <thead>\n",
       "    <tr style=\"text-align: right;\">\n",
       "      <th></th>\n",
       "      <th>Unnamed: 0</th>\n",
       "      <th>answer</th>\n",
       "      <th>summary</th>\n",
       "      <th>title</th>\n",
       "      <th>url</th>\n",
       "      <th>Project</th>\n",
       "      <th>Category</th>\n",
       "    </tr>\n",
       "  </thead>\n",
       "  <tbody>\n",
       "    <tr>\n",
       "      <th>0</th>\n",
       "      <td>0</td>\n",
       "      <td>-</td>\n",
       "      <td>&lt;p&gt;Hi \\nam trying to install Magnum-api and ma...</td>\n",
       "      <td>Unable to locate package Magnum-api</td>\n",
       "      <td>https://ask.openstack.org/en/question/103555/u...</td>\n",
       "      <td>HEAT</td>\n",
       "      <td>APPLICATION SERVICES</td>\n",
       "    </tr>\n",
       "    <tr>\n",
       "      <th>1</th>\n",
       "      <td>1</td>\n",
       "      <td>-</td>\n",
       "      <td>&lt;p&gt;Hello\\nbased with these documentation\\nhttp...</td>\n",
       "      <td>detailed documentation how to install Mitaka w...</td>\n",
       "      <td>https://ask.openstack.org/en/question/103553/d...</td>\n",
       "      <td>NOVA</td>\n",
       "      <td>COMPUTE</td>\n",
       "    </tr>\n",
       "    <tr>\n",
       "      <th>2</th>\n",
       "      <td>2</td>\n",
       "      <td>-</td>\n",
       "      <td>&lt;div class=\"snippet\"&gt;&lt;p&gt;These controller nodes...</td>\n",
       "      <td>Galera breaks then all the controllers go down</td>\n",
       "      <td>https://ask.openstack.org/en/question/103510/g...</td>\n",
       "      <td>NOVA</td>\n",
       "      <td>COMPUTE</td>\n",
       "    </tr>\n",
       "    <tr>\n",
       "      <th>3</th>\n",
       "      <td>3</td>\n",
       "      <td>-</td>\n",
       "      <td>&lt;p&gt;Hi, i'm now including new compute nodes to ...</td>\n",
       "      <td>Run kolla-ansible bootstrap-servers to specifi...</td>\n",
       "      <td>https://ask.openstack.org/en/question/103552/r...</td>\n",
       "      <td>RALLY</td>\n",
       "      <td>MANAGEMENT TOOLS</td>\n",
       "    </tr>\n",
       "    <tr>\n",
       "      <th>4</th>\n",
       "      <td>4</td>\n",
       "      <td>[&lt;p&gt;Hey,&lt;/p&gt;, &lt;p&gt;A HOT template has a section ...</td>\n",
       "      <td>&lt;p&gt;Hi all,&lt;/p&gt;\\n\\n&lt;p&gt;I am new to OpenStack Hea...</td>\n",
       "      <td>How to use heat template to create MySQL serve...</td>\n",
       "      <td>https://ask.openstack.org/en/question/103384/h...</td>\n",
       "      <td>RALLY</td>\n",
       "      <td>MANAGEMENT TOOLS</td>\n",
       "    </tr>\n",
       "  </tbody>\n",
       "</table>\n",
       "</div>"
      ],
      "text/plain": [
       "  Unnamed: 0                                             answer  \\\n",
       "0          0                                                  -   \n",
       "1          1                                                  -   \n",
       "2          2                                                  -   \n",
       "3          3                                                  -   \n",
       "4          4  [<p>Hey,</p>, <p>A HOT template has a section ...   \n",
       "\n",
       "                                             summary  \\\n",
       "0  <p>Hi \\nam trying to install Magnum-api and ma...   \n",
       "1  <p>Hello\\nbased with these documentation\\nhttp...   \n",
       "2  <div class=\"snippet\"><p>These controller nodes...   \n",
       "3  <p>Hi, i'm now including new compute nodes to ...   \n",
       "4  <p>Hi all,</p>\\n\\n<p>I am new to OpenStack Hea...   \n",
       "\n",
       "                                               title  \\\n",
       "0                Unable to locate package Magnum-api   \n",
       "1  detailed documentation how to install Mitaka w...   \n",
       "2     Galera breaks then all the controllers go down   \n",
       "3  Run kolla-ansible bootstrap-servers to specifi...   \n",
       "4  How to use heat template to create MySQL serve...   \n",
       "\n",
       "                                                 url Project  \\\n",
       "0  https://ask.openstack.org/en/question/103555/u...    HEAT   \n",
       "1  https://ask.openstack.org/en/question/103553/d...    NOVA   \n",
       "2  https://ask.openstack.org/en/question/103510/g...    NOVA   \n",
       "3  https://ask.openstack.org/en/question/103552/r...   RALLY   \n",
       "4  https://ask.openstack.org/en/question/103384/h...   RALLY   \n",
       "\n",
       "               Category  \n",
       "0  APPLICATION SERVICES  \n",
       "1               COMPUTE  \n",
       "2               COMPUTE  \n",
       "3      MANAGEMENT TOOLS  \n",
       "4      MANAGEMENT TOOLS  "
      ]
     },
     "execution_count": 13,
     "metadata": {},
     "output_type": "execute_result"
    }
   ],
   "source": [
    "df_ask.head()"
   ]
  },
  {
   "cell_type": "code",
   "execution_count": 14,
   "metadata": {
    "collapsed": false
   },
   "outputs": [],
   "source": [
    "#df_ask.set_index=df_ask.url\n",
    "df_ask=df_ask.drop(['answer'],axis=1)"
   ]
  },
  {
   "cell_type": "code",
   "execution_count": 15,
   "metadata": {
    "collapsed": true
   },
   "outputs": [],
   "source": [
    "filename = \"report.xlsx\"\n",
    "df_stackoverflow = pd.read_excel(filename)\n",
    "df_st=pd.DataFrame(df_stackoverflow)\n",
    "del(df_stackoverflow)"
   ]
  },
  {
   "cell_type": "code",
   "execution_count": 16,
   "metadata": {
    "collapsed": false
   },
   "outputs": [],
   "source": [
    "field=[]\n",
    "for i in df_st.Project:\n",
    "    if i.upper() in Project:\n",
    "        field.append(i.upper())\n",
    "df_st=df_st.drop(['Project','answers','link','date','votes','fetch_url'],axis=1)\n",
    "df_st=df_st.assign(Project=pd.Series(field))\n",
    "#df_st.set_index=df_st.id\n",
    "field=[]\n",
    "count=0\n",
    "for i in df_ask.Project:\n",
    "    count = count + 1\n",
    "    for k,v in Category.items():\n",
    "        if i in v:\n",
    "            field.append(k)\n",
    "            break\n",
    "    if len(field)<count:\n",
    "        field.append('Other')\n",
    "#df.set_index=df.bug\n",
    "df_st=df_st.assign(Category=pd.Series(field))"
   ]
  },
  {
   "cell_type": "code",
   "execution_count": 17,
   "metadata": {
    "collapsed": false
   },
   "outputs": [
    {
     "data": {
      "text/html": [
       "<div>\n",
       "<table border=\"1\" class=\"dataframe\">\n",
       "  <thead>\n",
       "    <tr style=\"text-align: right;\">\n",
       "      <th></th>\n",
       "      <th>title</th>\n",
       "      <th>longtext</th>\n",
       "      <th>id</th>\n",
       "      <th>tags</th>\n",
       "      <th>Project</th>\n",
       "      <th>Category</th>\n",
       "    </tr>\n",
       "  </thead>\n",
       "  <tbody>\n",
       "    <tr>\n",
       "      <th>0</th>\n",
       "      <td>Q: Puppet Resource Ordering not working</td>\n",
       "      <td>I have a large manifest that sets up an OpenSt...</td>\n",
       "      <td>242af36b5b43854915c3de0453e113b0</td>\n",
       "      <td>[u'puppet', u'openstack', u'puppet-enterprise']</td>\n",
       "      <td>CINDER</td>\n",
       "      <td>APPLICATION SERVICES</td>\n",
       "    </tr>\n",
       "    <tr>\n",
       "      <th>1</th>\n",
       "      <td>Q: OpenStack With Manila Installation Fails fr...</td>\n",
       "      <td>Trying to install OpenStack Kilo version with ...</td>\n",
       "      <td>ecd5d0719e0acf92f31e21c87fbdde14</td>\n",
       "      <td>[u'installation', u'openstack', u'devstack']</td>\n",
       "      <td>CINDER</td>\n",
       "      <td>COMPUTE</td>\n",
       "    </tr>\n",
       "    <tr>\n",
       "      <th>2</th>\n",
       "      <td>A: jclouds with OpenStack =&gt; java.util.NoSuchE...</td>\n",
       "      <td>&gt; &lt;version&gt;${jclouds.version}&lt;/version&gt; &lt;/depe...</td>\n",
       "      <td>b955a0c030dcf83897d138c842af0072</td>\n",
       "      <td>[]</td>\n",
       "      <td>CINDER</td>\n",
       "      <td>COMPUTE</td>\n",
       "    </tr>\n",
       "    <tr>\n",
       "      <th>3</th>\n",
       "      <td>Q: Create an instance from volume in openstach...</td>\n",
       "      <td>I am trying to create an instance from a boota...</td>\n",
       "      <td>5430ad88204b92f03eb5bcbd0be11fa7</td>\n",
       "      <td>[u'python', u'openstack', u'novaclient', u'ope...</td>\n",
       "      <td>CINDER</td>\n",
       "      <td>MANAGEMENT TOOLS</td>\n",
       "    </tr>\n",
       "    <tr>\n",
       "      <th>4</th>\n",
       "      <td>Q: Devstack: There was an error submitting the...</td>\n",
       "      <td>instance from admin user(from demo user works ...</td>\n",
       "      <td>037c08accb1cf7dc4dab038195f59116</td>\n",
       "      <td>[u'ubuntu', u'cloud', u'openstack', u'devstack...</td>\n",
       "      <td>CINDER</td>\n",
       "      <td>MANAGEMENT TOOLS</td>\n",
       "    </tr>\n",
       "  </tbody>\n",
       "</table>\n",
       "</div>"
      ],
      "text/plain": [
       "                                               title  \\\n",
       "0            Q: Puppet Resource Ordering not working   \n",
       "1  Q: OpenStack With Manila Installation Fails fr...   \n",
       "2  A: jclouds with OpenStack => java.util.NoSuchE...   \n",
       "3  Q: Create an instance from volume in openstach...   \n",
       "4  Q: Devstack: There was an error submitting the...   \n",
       "\n",
       "                                            longtext  \\\n",
       "0  I have a large manifest that sets up an OpenSt...   \n",
       "1  Trying to install OpenStack Kilo version with ...   \n",
       "2  > <version>${jclouds.version}</version> </depe...   \n",
       "3  I am trying to create an instance from a boota...   \n",
       "4  instance from admin user(from demo user works ...   \n",
       "\n",
       "                                 id  \\\n",
       "0  242af36b5b43854915c3de0453e113b0   \n",
       "1  ecd5d0719e0acf92f31e21c87fbdde14   \n",
       "2  b955a0c030dcf83897d138c842af0072   \n",
       "3  5430ad88204b92f03eb5bcbd0be11fa7   \n",
       "4  037c08accb1cf7dc4dab038195f59116   \n",
       "\n",
       "                                                tags Project  \\\n",
       "0    [u'puppet', u'openstack', u'puppet-enterprise']  CINDER   \n",
       "1       [u'installation', u'openstack', u'devstack']  CINDER   \n",
       "2                                                 []  CINDER   \n",
       "3  [u'python', u'openstack', u'novaclient', u'ope...  CINDER   \n",
       "4  [u'ubuntu', u'cloud', u'openstack', u'devstack...  CINDER   \n",
       "\n",
       "               Category  \n",
       "0  APPLICATION SERVICES  \n",
       "1               COMPUTE  \n",
       "2               COMPUTE  \n",
       "3      MANAGEMENT TOOLS  \n",
       "4      MANAGEMENT TOOLS  "
      ]
     },
     "execution_count": 17,
     "metadata": {},
     "output_type": "execute_result"
    }
   ],
   "source": [
    "df_st.head()"
   ]
  },
  {
   "cell_type": "code",
   "execution_count": 18,
   "metadata": {
    "collapsed": false
   },
   "outputs": [],
   "source": [
    "stop_words=stopwords.words('english')\n",
    "stop_word_dict=[]\n",
    "for i in stop_words:\n",
    "    stop_word_dict.append(str(i.encode(\"utf-8\")))\n",
    "common_words=['',\"aren't\",'ffffffffff','hi','Hi','hello','Hello','the']\n",
    "stop_word_dict=stop_word_dict + common_words"
   ]
  },
  {
   "cell_type": "code",
   "execution_count": 19,
   "metadata": {
    "collapsed": false
   },
   "outputs": [],
   "source": [
    "def create_dict(dataframe,field,stop_word_dict):\n",
    "    corpus=[]\n",
    "    for i in field:\n",
    "        \n",
    "        if type(i)== int or type(i)== float:  \n",
    "            continue\n",
    "        i = re.sub(r'[^\\x00-\\x7f]','',i)\n",
    "        for k in i:\n",
    "            if type(k) == type(u''):\n",
    "                k = k.encode(\"utf-8\",'ignore')\n",
    "        corpus.append(str(i).strip())\n",
    "    dataframe['field_corpus']=pd.Series(corpus)\n",
    "    dataframe['field_corpus']=pd.Series( str(i).lower()  if len(str(i)) >0 else '' for i in dataframe.field_corpus)\n",
    "    corpus=[]\n",
    "    for i in dataframe.field_corpus:\n",
    "        data=(str(i))\n",
    "        data=re.sub(r'[^\\x00-\\x7f]','',data) or re.sub(r'[0-9]','',data)\n",
    "        corpus.append(data) \n",
    "    dataframe.field_corpus_new=pd.Series(corpus)\n",
    "    corpus=[]\n",
    "    new_corpus=[]\n",
    "    row_corpus=[]\n",
    "    for i in dataframe.field_corpus_new:\n",
    "        substr=re.split('[^A-Za-z]',i)\n",
    "        for j in substr:\n",
    "            j=j.strip()\n",
    "            if j not in stop_word_dict and len(j)>1:\n",
    "                corpus.append(ps.stem(j))   \n",
    "        new_corpus.append(corpus)\n",
    "        corpus=[]\n",
    "    dataframe.field_words_bag=pd.Series(new_corpus)\n",
    "    field_words_count={}\n",
    "    for i in new_corpus:\n",
    "        for w in i:\n",
    "            field_words_count[w]=field_words_count.get(w,0)+1 \n",
    "    return field_words_count,dataframe.field_words_bag"
   ]
  },
  {
   "cell_type": "code",
   "execution_count": 20,
   "metadata": {
    "collapsed": false
   },
   "outputs": [],
   "source": [
    "Fault_Details_lp= pd.Series(df.fault_description+df.req)\n",
    "#df=df.drop(['fault_description','req'],axis=1)\n",
    "df=df.assign(Fault_Details_lp=Fault_Details_lp.values)\n",
    "launchpad_words_count={}\n",
    "launchpad_words_count,df['field_words_bag']=create_dict(df,df.Fault_Details_lp,stop_word_dict)\n",
    "#df=df.drop(['Fault_Details_lp'],axis=1)\n",
    "for j in range(0,len(df)):\n",
    "    if df.Project[j] == 'NOVA':\n",
    "        for k in df.field_words_bag[j]:\n",
    "            NOVA[k]=NOVA.get(k,0)+1\n",
    "    if df.Project[j] == 'NEUTRON':\n",
    "        for k in df.field_words_bag[j]:\n",
    "            NEUTRON[k]=NEUTRON.get(k,0)+1\n",
    "    if df.Project[j] == 'HORIZON':\n",
    "        for k in df.field_words_bag[j]:\n",
    "            HORIZON[k]=HORIZON.get(k,0)+1 \n",
    "'''\n",
    "my_words_count={}\n",
    "for k,v in launchpad_words_count.items():\n",
    "    my_words_count[k]=my_words_count.get(k,1)+v '''\n",
    "del(launchpad_words_count)"
   ]
  },
  {
   "cell_type": "code",
   "execution_count": 21,
   "metadata": {
    "collapsed": false
   },
   "outputs": [],
   "source": [
    "Fault_Details_st= pd.Series(df_st.title+df_st.tags+ df_st.longtext.to_string())\n",
    "#df_st=df_st.drop(['tags','title','longtext'],axis=1)\n",
    "df_st=df_st.assign(Fault_Details_st=Fault_Details_st.values)\n",
    "stackoverflow_words_count={}\n",
    "stackoverflow_words_count,df_st['field_words_bag']=create_dict(df_st,df_st.Fault_Details_st,stop_word_dict)\n",
    "#df_st=df_st.drop(['Fault_Details_st'],axis=1)\n",
    "'''for k,v in stackoverflow_words_count.items():\n",
    "    my_words_count[k]=my_words_count.get(k,1)+v'''\n",
    "for j in range(0,len(df_st)):\n",
    "    if df_st.Project[j] == 'NOVA':\n",
    "        for k in df_st.field_words_bag[j]:\n",
    "            NOVA[k]=NOVA.get(k,0)+1\n",
    "    if df_st.Project[j] == 'NEUTRON':\n",
    "        for k in df_st.field_words_bag[j]:\n",
    "            NEUTRON[k]=NEUTRON.get(k,0)+1\n",
    "    if df_st.Project[j] == 'HORIZON':\n",
    "        for k in df_st.field_words_bag[j]:\n",
    "            HORIZON[k]=HORIZON.get(k,0)+1\n",
    "del(stackoverflow_words_count)"
   ]
  },
  {
   "cell_type": "code",
   "execution_count": 22,
   "metadata": {
    "collapsed": false
   },
   "outputs": [],
   "source": [
    "Fault_Details_ask = pd.Series(df_ask.summary+df_ask.title)\n",
    "#df_ask=df_ask.drop(['summary','title'],axis=1)\n",
    "df_ask=df_ask.assign(Fault_Details_ask=Fault_Details_ask.values)\n",
    "ask_words_count={}\n",
    "ask_words_count,df_ask['field_words_bag']=create_dict(df_ask,df_ask.Fault_Details_ask,stop_word_dict)\n",
    "#df_ask=df_ask.drop(['Fault_Details_ask'],axis=1)\n",
    "'''for k,v in ask_words_count.items():\n",
    "    my_words_count[k]=my_words_count.get(k,1)+v'''\n",
    "for j in range(0,len(df_ask)):\n",
    "    if df_ask.Project[j] == 'NOVA':\n",
    "        for k in df_ask.field_words_bag[j]:\n",
    "            NOVA[k]=NOVA.get(k,0)+1\n",
    "    if df_ask.Project[j] == 'NEUTRON':\n",
    "        for k in df_ask.field_words_bag[j]:\n",
    "            NEUTRON[k]=NEUTRON.get(k,0)+1\n",
    "    if df_ask.Project[j] == 'HORIZON':\n",
    "        for k in df_ask.field_words_bag[j]:\n",
    "            HORIZON[k]=HORIZON.get(k,0)+1\n",
    "del(ask_words_count)"
   ]
  },
  {
   "cell_type": "code",
   "execution_count": 24,
   "metadata": {
    "collapsed": false
   },
   "outputs": [
    {
     "name": "stdout",
     "output_type": "stream",
     "text": [
      " 6658 4996\n"
     ]
    }
   ],
   "source": [
    "print len(NOVA),len(HORIZON)"
   ]
  },
  {
   "cell_type": "code",
   "execution_count": 25,
   "metadata": {
    "collapsed": true
   },
   "outputs": [],
   "source": [
    "mylist=[]\n",
    "for key, value in sorted(NOVA.iteritems(), key=lambda (k,v): (v,k), reverse=True):\n",
    "    mylist.append([key,value])\n",
    "df_wordcount=pd.DataFrame(mylist, columns =['Key','Count'])\n",
    "#del (mylist)'''"
   ]
  },
  {
   "cell_type": "code",
   "execution_count": 26,
   "metadata": {
    "collapsed": false
   },
   "outputs": [],
   "source": [
    "df_wordcount.to_csv('dictionary_NOVA.csv')"
   ]
  },
  {
   "cell_type": "code",
   "execution_count": 27,
   "metadata": {
    "collapsed": false
   },
   "outputs": [],
   "source": [
    "NOVA_mydict=set(df_wordcount.Key)"
   ]
  },
  {
   "cell_type": "code",
   "execution_count": 28,
   "metadata": {
    "collapsed": true
   },
   "outputs": [],
   "source": [
    "mylist=[]\n",
    "for key, value in sorted(HORIZON.iteritems(), key=lambda (k,v): (v,k), reverse=True):\n",
    "    mylist.append([key,value])\n",
    "df_wordcount=pd.DataFrame(mylist, columns =['Key','Count'])"
   ]
  },
  {
   "cell_type": "code",
   "execution_count": 29,
   "metadata": {
    "collapsed": true
   },
   "outputs": [],
   "source": [
    "df_wordcount.to_csv('dictionary_HORIZON.csv')"
   ]
  },
  {
   "cell_type": "code",
   "execution_count": 30,
   "metadata": {
    "collapsed": true
   },
   "outputs": [],
   "source": [
    "HORIZON_mydict=set(df_wordcount.Key)"
   ]
  },
  {
   "cell_type": "code",
   "execution_count": 31,
   "metadata": {
    "collapsed": true
   },
   "outputs": [],
   "source": [
    "mylist=[]\n",
    "for key, value in sorted(NEUTRON.iteritems(), key=lambda (k,v): (v,k), reverse=True):\n",
    "    mylist.append([key,value])\n",
    "df_wordcount=pd.DataFrame(mylist, columns =['Key','Count'])"
   ]
  },
  {
   "cell_type": "code",
   "execution_count": 32,
   "metadata": {
    "collapsed": true
   },
   "outputs": [],
   "source": [
    "df_wordcount.to_csv('dictionary_NEUTRON.csv')"
   ]
  },
  {
   "cell_type": "code",
   "execution_count": 33,
   "metadata": {
    "collapsed": true
   },
   "outputs": [],
   "source": [
    "NEUTRON_mydict=set(df_wordcount.Key)"
   ]
  },
  {
   "cell_type": "code",
   "execution_count": 34,
   "metadata": {
    "collapsed": false
   },
   "outputs": [
    {
     "name": "stdout",
     "output_type": "stream",
     "text": [
      "dictionary created\n"
     ]
    }
   ],
   "source": [
    "print \"dictionary created\""
   ]
  },
  {
   "cell_type": "code",
   "execution_count": 35,
   "metadata": {
    "collapsed": false
   },
   "outputs": [],
   "source": [
    "del (df_wordcount)"
   ]
  },
  {
   "cell_type": "code",
   "execution_count": 36,
   "metadata": {
    "collapsed": true
   },
   "outputs": [],
   "source": [
    "#Topic Modeling: This script loads a gensim dictionary and associated corpus and applies an LDA model."
   ]
  },
  {
   "cell_type": "markdown",
   "metadata": {},
   "source": [
    "<a href=\"http://radimrehurek.com/topic_modeling_tutorial/2%20-%20Topic%20Modeling.html\"> Topic Modeling for Fun and Profit </a>"
   ]
  },
  {
   "cell_type": "code",
   "execution_count": 98,
   "metadata": {
    "collapsed": false
   },
   "outputs": [],
   "source": [
    "from gensim import corpora, models , similarities\n",
    "import pyLDAvis.gensim\n",
    "from optparse import OptionParser"
   ]
  },
  {
   "cell_type": "code",
   "execution_count": 99,
   "metadata": {
    "collapsed": false
   },
   "outputs": [],
   "source": [
    "pyLDAvis.enable_notebook()"
   ]
  },
  {
   "cell_type": "code",
   "execution_count": 100,
   "metadata": {
    "collapsed": true
   },
   "outputs": [],
   "source": [
    "#build Dictinoary"
   ]
  },
  {
   "cell_type": "code",
   "execution_count": 101,
   "metadata": {
    "collapsed": false
   },
   "outputs": [],
   "source": [
    "opts= \"open_stack\"\n",
    "dictionary_HORIZON = corpora.Dictionary([HORIZON_mydict])\n",
    "dictionary_HORIZON.compactify()"
   ]
  },
  {
   "cell_type": "code",
   "execution_count": 102,
   "metadata": {
    "collapsed": true
   },
   "outputs": [],
   "source": [
    "#Save dictionary for future use"
   ]
  },
  {
   "cell_type": "code",
   "execution_count": 103,
   "metadata": {
    "collapsed": false
   },
   "outputs": [],
   "source": [
    "dictionary_HORIZON.save(\"open_stack_HORIZON.dict\")"
   ]
  },
  {
   "cell_type": "code",
   "execution_count": 104,
   "metadata": {
    "collapsed": true
   },
   "outputs": [],
   "source": [
    "#build Corpus"
   ]
  },
  {
   "cell_type": "code",
   "execution_count": 105,
   "metadata": {
    "collapsed": false
   },
   "outputs": [],
   "source": [
    "corpus_HORIZON =[dictionary_HORIZON.doc2bow(df.field_words_bag.loc[i]) for i in range(0,len(df)) if df.Project[i]== 'HORIZON'] \n",
    "corpus_HORIZON = corpus_HORIZON + [dictionary_HORIZON.doc2bow(df_st.field_words_bag.loc[i]) for i in range(0,len(df_st)) if df_st.Project[i]== 'HORIZON'] \n",
    "corpus_HORIZON = corpus_HORIZON +[dictionary_HORIZON.doc2bow(df_ask.field_words_bag.loc[i]) for i in range(0,len(df_ask)) if df_ask.Project[i]== 'HORIZON']"
   ]
  },
  {
   "cell_type": "code",
   "execution_count": 106,
   "metadata": {
    "collapsed": true
   },
   "outputs": [],
   "source": [
    "#Save corpus for future use"
   ]
  },
  {
   "cell_type": "code",
   "execution_count": 107,
   "metadata": {
    "collapsed": false
   },
   "outputs": [],
   "source": [
    "corpora.MmCorpus.serialize(\"open_stack_HORIZON.mm\", corpus_NEUTRON)"
   ]
  },
  {
   "cell_type": "code",
   "execution_count": 108,
   "metadata": {
    "collapsed": true
   },
   "outputs": [],
   "source": [
    "# Load the corpus and Dictionary"
   ]
  },
  {
   "cell_type": "code",
   "execution_count": 109,
   "metadata": {
    "collapsed": false
   },
   "outputs": [],
   "source": [
    "corpus_NEUTRON = corpora.MmCorpus(\"open_stack_HORIZON.mm\")\n",
    "dictionary_NEUTRON = corpora.Dictionary.load(\"open_stack_HORIZON.dict\")"
   ]
  },
  {
   "cell_type": "code",
   "execution_count": 110,
   "metadata": {
    "collapsed": true
   },
   "outputs": [],
   "source": [
    "# Initialize Parameters"
   ]
  },
  {
   "cell_type": "code",
   "execution_count": 111,
   "metadata": {
    "collapsed": true
   },
   "outputs": [],
   "source": [
    "num_topics,passes,alpha=5,20,0.01"
   ]
  },
  {
   "cell_type": "code",
   "execution_count": 112,
   "metadata": {
    "collapsed": true
   },
   "outputs": [],
   "source": [
    "#Apply LDA\n"
   ]
  },
  {
   "cell_type": "code",
   "execution_count": 113,
   "metadata": {
    "collapsed": false
   },
   "outputs": [],
   "source": [
    "lda_HORIZON = models.LdaModel(corpus_HORIZON, id2word=dictionary_HORIZON,\n",
    "                        num_topics=num_topics,\n",
    "                        passes=passes,\n",
    "                        alpha =alpha)"
   ]
  },
  {
   "cell_type": "code",
   "execution_count": 114,
   "metadata": {
    "collapsed": true
   },
   "outputs": [],
   "source": [
    "#Save lda results for future reference"
   ]
  },
  {
   "cell_type": "code",
   "execution_count": 115,
   "metadata": {
    "collapsed": false
   },
   "outputs": [],
   "source": [
    "lda_HORIZON.save(\"open_stack_HORIZON.lda\")"
   ]
  },
  {
   "cell_type": "code",
   "execution_count": 116,
   "metadata": {
    "collapsed": false
   },
   "outputs": [],
   "source": [
    "lda_HORIZON=models.LdaModel.load('open_stack_HORIZON.lda',mmap='r')"
   ]
  },
  {
   "cell_type": "code",
   "execution_count": 117,
   "metadata": {
    "collapsed": false
   },
   "outputs": [
    {
     "name": "stdout",
     "output_type": "stream",
     "text": [
      "[(u'py', 0.024626709981166641), (u'file', 0.023618948556344926), (u'error', 0.022123703050995456), (u'python', 0.019588465421403189), (u'line', 0.019116815522437408)]\n",
      "[(u'openstack', 0.061968456881577136), (u'nova', 0.026917070827490328), (u'use', 0.024863904785025016), (u'tri', 0.021651387273780125), (u'instal', 0.021501171708306746)]\n",
      "[(u'openstack', 0.064806552323054378), (u'instal', 0.025538160357764857), (u'tri', 0.022856931075330215), (u'use', 0.02192889477147749), (u'nova', 0.020823900290949472)]\n",
      "[(u'instanc', 0.020866094701425419), (u'nova', 0.019487969264156954), (u'comput', 0.015116497692027801), (u'imag', 0.012466026679197254), (u'stack', 0.012342479746036392)]\n",
      "[(u'user', 0.020596782492473365), (u'instanc', 0.019156939009373021), (u'creat', 0.017612757065840558), (u'project', 0.015868199318962238), (u'horizon', 0.013633040959869249)]\n"
     ]
    }
   ],
   "source": [
    "top_words_HORIZON = [[word for word in lda_HORIZON.show_topic(topicno, topn=5)] for topicno in range(5)]\n",
    "for i in top_words_HORIZON:\n",
    "    print i"
   ]
  },
  {
   "cell_type": "code",
   "execution_count": 118,
   "metadata": {
    "collapsed": true
   },
   "outputs": [],
   "source": [
    "# First LDA model with 5 topics, 20 passes, alpha = 0.001"
   ]
  },
  {
   "cell_type": "code",
   "execution_count": 119,
   "metadata": {
    "collapsed": false
   },
   "outputs": [
    {
     "data": {
      "text/html": [
       "\n",
       "<link rel=\"stylesheet\" type=\"text/css\" href=\"https://cdn.rawgit.com/bmabey/pyLDAvis/files/ldavis.v1.0.0.css\">\n",
       "\n",
       "\n",
       "<div id=\"ldavis_el7248314932104446667961\"></div>\n",
       "<script type=\"text/javascript\">\n",
       "\n",
       "var ldavis_el7248314932104446667961_data = {\"plot.opts\": {\"xlab\": \"PC1\", \"ylab\": \"PC2\"}, \"topic.order\": [3, 2, 5, 1, 4], \"token.table\": {\"Topic\": [1, 2, 3, 4, 5, 1, 2, 3, 4, 5, 1, 2, 3, 4, 5, 1, 2, 1, 2, 3, 4, 5, 5, 4, 4, 1, 2, 4, 1, 2, 3, 4, 5, 1, 2, 3, 4, 5, 1, 2, 3, 3, 3, 4, 5, 4, 5, 1, 2, 3, 4, 5, 5, 5, 3, 5, 4, 5, 5, 1, 2, 3, 4, 3, 4, 5, 5, 4, 1, 2, 3, 4, 5, 1, 3, 4, 4, 1, 2, 3, 5, 1, 2, 3, 4, 5, 1, 2, 3, 4, 5, 1, 2, 3, 4, 5, 3, 4, 1, 2, 1, 2, 3, 4, 5, 3, 4, 1, 2, 3, 4, 5, 1, 2, 3, 4, 5, 1, 2, 3, 4, 5, 1, 2, 3, 4, 5, 1, 2, 3, 4, 5, 1, 2, 3, 4, 5, 3, 4, 1, 2, 3, 4, 3, 4, 5, 1, 2, 3, 4, 5, 1, 2, 3, 4, 5, 3, 3, 3, 1, 2, 1, 2, 3, 4, 5, 4, 5, 4, 5, 1, 2, 1, 2, 3, 4, 5, 4, 4, 4, 1, 2, 3, 4, 5, 1, 2, 3, 4, 5, 1, 2, 4, 5, 1, 2, 3, 4, 5, 1, 2, 3, 4, 5, 5, 1, 2, 3, 4, 5, 3, 4, 3, 5, 1, 2, 3, 4, 5, 1, 2, 3, 4, 5, 1, 2, 4, 5, 1, 2, 3, 4, 5, 1, 3, 4, 5, 1, 2, 3, 5, 1, 2, 3, 4, 2, 1, 2, 3, 4, 5, 4, 5, 3, 4, 5, 4, 5, 3, 1, 2, 3, 4, 5, 2, 1, 2, 3, 4, 5, 1, 4, 3, 4, 5, 1, 3, 4, 5, 3, 4, 5, 1, 2, 3, 4, 5, 3, 4, 1, 2, 3, 4, 3, 1, 2, 1, 2, 3, 4, 5, 1, 2, 3, 4, 5, 1, 2, 3, 4, 5, 1, 2, 3, 4, 5, 4, 2, 3, 1, 2, 3, 4, 5, 3, 1, 2, 3, 4, 5, 1, 2, 3, 4, 5, 5, 1, 2, 3, 4, 5, 3, 4, 5, 1, 2, 1, 2, 5, 1, 2, 3, 4, 5, 3, 4, 5, 1, 2, 3, 4, 5, 1, 2, 3, 4, 5, 2, 1, 2, 5, 1, 2, 3, 4, 5, 1, 2, 3, 4, 5, 1, 2, 3, 4, 5, 4, 5, 2, 3, 4, 5, 1, 2, 3, 4, 5, 1, 2, 1, 2, 3, 4, 5, 1, 2, 3, 4, 1, 2, 3, 4, 5, 3, 5, 4, 5, 3, 1, 2, 3, 5, 1, 3, 4, 5, 4, 1, 2, 1, 2, 3, 4, 5, 4, 5, 1, 2, 3, 4, 5, 1, 2, 3, 4, 5, 1, 2, 4, 1, 2, 1, 2, 3, 4, 5, 1, 2, 3, 4, 5, 3, 4, 5, 1, 2, 1, 2, 3, 4, 5, 1, 2, 4, 5, 3, 1, 2, 3, 4, 5, 1, 2, 3, 4, 5, 2, 1, 2, 3, 4, 5, 2, 1, 2, 3, 4, 5, 4, 5, 1, 2, 3, 4, 5, 1, 2, 3, 4, 5, 3, 4, 5, 3, 1, 2, 3, 4, 5, 4, 3, 1, 2, 3, 4, 5, 5, 1, 2, 3, 4, 5, 3, 1, 2, 3, 4, 5, 2, 3, 4, 5, 4, 1, 2, 3, 4, 1, 2, 3, 4, 5, 3, 4, 1, 2, 3, 4, 5, 1, 2, 3, 4, 5, 1, 2, 3, 4, 5, 1, 2, 3, 4, 5, 1, 2, 3, 4, 5, 3, 4, 5, 1, 2, 3, 4, 5, 1, 1, 2, 3, 4, 5, 1, 1, 2, 3, 5, 1, 2, 5, 1, 2, 3, 4, 5, 4, 4, 3, 4, 5, 1, 2, 3, 4, 5, 1, 2, 3, 4, 5, 1, 2, 3, 4, 4, 3, 4, 5, 3, 5, 5, 2, 4, 5, 5, 5, 1, 2, 3, 4, 5, 1, 2, 3, 4, 5, 1, 2, 3, 1, 2, 3, 4, 5, 1, 2, 3, 4, 5, 1, 2, 3, 4, 5, 1, 2, 3, 5, 5, 1, 2, 3, 3, 1, 2, 3, 5, 1, 2, 1, 2, 3, 4, 5, 1, 2, 3, 4, 5, 3, 1, 2, 3, 4, 5, 2, 4, 3, 4, 5, 1, 2, 3, 4, 5, 5, 1, 2, 3, 4, 5, 4, 3, 4, 5, 1, 2, 3, 4, 5, 5, 3, 5, 1, 3, 4, 1, 2, 3, 4, 5, 1, 2, 1, 2, 3, 4, 1, 2, 3, 4, 5, 5, 3, 1, 2, 3, 4, 5, 1, 2, 3, 4, 5, 3, 4, 5, 4, 1, 2, 3, 4, 5, 1, 1, 2, 3, 4, 5, 1, 2, 3, 4, 5, 1, 2, 3, 4, 5, 1, 2, 3, 4, 5, 1, 2, 3, 4, 5, 1, 2, 3, 4, 5, 1, 2, 1, 2, 3, 4, 5, 3, 4, 5, 1, 2, 3, 5, 3, 1, 2, 3, 4, 5, 1, 2, 3, 4, 5, 3, 4, 1, 2, 3, 4, 5, 1, 2, 3, 4, 5, 4, 5, 1, 2, 3, 4, 5, 4, 5, 5, 2, 3, 4, 1, 3, 4, 1, 2, 3, 4, 1, 2, 3, 4, 5, 1, 2, 3, 1, 2, 3, 4, 5, 3, 4, 5, 4, 4, 3, 4, 4, 4, 5, 4, 3, 5, 1, 2, 3, 4, 5, 4, 4, 5, 1, 2, 3, 4, 5, 1, 2, 3, 4, 1, 2, 3, 4, 5, 1, 2, 3, 4, 5, 1, 5, 1, 5, 1, 2, 3, 4, 5, 1, 2, 3, 4, 5, 1, 2, 3, 4, 5, 1, 2, 3, 4, 5, 3, 4, 3, 4, 5, 1, 2, 3, 4, 5, 3, 3, 5, 1, 2, 3, 4, 5, 4, 3, 1, 2, 3, 5, 1, 2, 3, 4, 5, 1, 2, 3, 4, 5, 4, 1, 2, 4, 5, 3, 4, 5], \"Freq\": [0.43049306130170678, 0.54717200591017912, 0.019156244637211873, 0.0017414767852010793, 0.0017414767852010793, 0.38110074354985352, 0.58381390501254149, 0.030222689527164399, 0.003685693844776146, 0.0014742775379104585, 0.34511630231134477, 0.28577503766052531, 0.24517311974154357, 0.12336736598459835, 0.0015616122276531437, 0.63828588571724731, 0.3615291149570346, 0.35073941165006195, 0.20133353240172386, 0.38991290437980908, 0.051016641694554464, 0.006377080211819308, 0.95821519059950966, 0.98624223448105131, 0.99446620294289656, 0.66645499817038112, 0.32825395432272503, 0.95818728404878106, 0.61426210955465443, 0.36538416754744735, 0.0086017721891891857, 0.0083150464495495464, 0.0034407088756756746, 0.60895630108444088, 0.3526374397129507, 0.003184085234428449, 0.030248809727070263, 0.0047761278516426729, 0.63720640905302539, 0.34311114333624448, 0.01470476328583905, 0.93810765302470089, 0.89945109189342587, 0.034594272765131766, 0.034594272765131766, 0.06447924197239023, 0.90270938761346331, 0.40747500543673038, 0.39549044645329712, 0.030960110707202552, 0.1637889727735877, 0.0029961397458583114, 0.93896603803902179, 0.92660885100602586, 0.081880607971305738, 0.90068668768436311, 0.14778360728009129, 0.84447775588623597, 0.97284661333861411, 0.39175235231520739, 0.60498464534753549, 0.89098995989214502, 0.074249163324345419, 0.063526299878507719, 0.3176314993925386, 0.61408756549224131, 0.95533414714591935, 0.98428668541173303, 0.36868073219110581, 0.26469385900899906, 0.0031511173691547508, 0.015755586845773752, 0.34977402797617729, 0.0070812179366737636, 0.94888320351428435, 0.042487307620042582, 0.96213123915697807, 0.64079496634442212, 0.33496100513458427, 0.019418029283164308, 0.004854507320791077, 0.36126488932429984, 0.41564885115806544, 0.011653706107235479, 0.046614824428941916, 0.16703645420370852, 0.5759633370442615, 0.41708904652012579, 0.0035227115415551167, 0.0017613557707775584, 0.0014090846166220467, 0.3643895638363579, 0.62783337012345442, 0.0024620916475429585, 0.0024620916475429585, 0.0024620916475429585, 0.90498807257898328, 0.047630951188367542, 0.6219079307805343, 0.37812002191456484, 0.51087734874885071, 0.46607819126052552, 0.0057042405497556856, 0.01377365401038568, 0.003478195457168101, 0.93631492672707661, 0.059376068524156077, 0.50008508947665453, 0.49284463408442919, 0.0039493393048501838, 0.0013164464349500612, 0.0019746696524250919, 0.41956077313451223, 0.57510042220681068, 0.0019813968034687705, 0.00099069840173438527, 0.0019813968034687705, 0.51318880904054887, 0.41277704300951262, 0.015727144077150246, 0.033631892718828993, 0.024921474460715007, 0.39989958923974589, 0.59089126554810245, 0.0024118010838698059, 0.0052829928503814799, 0.0014930197185860704, 0.50444528874901318, 0.45894159047841149, 0.0066077977686682283, 0.0046554938824707971, 0.025530127742581791, 0.52225937475715234, 0.46030912541500268, 0.0099495855004058491, 0.0018772802830954432, 0.0054441128209767849, 0.94948686559112072, 0.049972992925848461, 0.36505600763619345, 0.59561769666957876, 0.037226106041848672, 0.0012008421303822151, 0.90955059660039062, 0.062727627351751081, 0.03136381367587554, 0.30642758273674625, 0.41884480243898453, 0.001813180962939327, 0.26653760155208106, 0.0072527238517573079, 0.34760814199474749, 0.62560709686460225, 0.004815729926879374, 0.0096314598537587479, 0.012696015261772895, 0.96416264748815883, 0.93882124447900717, 0.90729690667421503, 0.39866880097988178, 0.59800320146982267, 0.5316614684231793, 0.41688471143360201, 0.038885782891289127, 0.0063697460274342562, 0.0062484175316736036, 0.24684176264102828, 0.74052528792308481, 0.064479861697825019, 0.90271806376955022, 0.61594386858643058, 0.38153608054139221, 0.33590193942293328, 0.38049637073123099, 0.061598063389878881, 0.21238498939635322, 0.00930387415784629, 0.96410873549274234, 0.99367918061521798, 0.97229556317305876, 0.3471291274365772, 0.31728044450413267, 0.28300973447058525, 0.035376216808823156, 0.017688108404411578, 0.61281915370343709, 0.38354524620962926, 0.0015138133147850456, 0.00096333574577230172, 0.0012385745302786737, 0.64170740781494051, 0.35816227412926915, 0.057611044333114633, 0.86416566499671943, 0.60119979418056868, 0.3698452305271534, 0.0037574987136285544, 0.022544992281771325, 0.0026839276525918248, 0.49510339834124989, 0.35022939257662278, 0.053448662320930387, 0.0028130874905752837, 0.098458062170134919, 0.95530171521143481, 0.56321504290767399, 0.43168715709709132, 0.0020676872878519544, 0.00034461454797532568, 0.0027569163838026055, 0.97907285972165647, 0.017176716837222043, 0.92084317798803972, 0.9119999311861573, 0.42043982617511777, 0.34243967742769771, 0.076097706095043946, 0.015219541219008788, 0.14648808423295959, 0.016397102680918135, 0.0054657008936393773, 0.86904644208866111, 0.081985513404590663, 0.027328504468196888, 0.41833576956394597, 0.37597265365873622, 0.19725325843363273, 0.0079430842322268224, 0.31504277694565191, 0.35770481965704232, 0.0032816955931838743, 0.31941837106989712, 0.0043755941242451654, 0.0044511037895712882, 0.87686744654554372, 0.10237538716013962, 0.013353311368713865, 0.35393634190902401, 0.64306743811639566, 0.93146034410661982, 0.94966792288243862, 0.62685166626401401, 0.3681509785995003, 0.87197286265791141, 0.11738096228087269, 0.50985605359576813, 0.31884588482207982, 0.62824448416794987, 0.0070854641071573295, 0.035427320535786649, 0.011809106845262216, 0.12173185386608387, 0.85212297706258711, 0.068133378828376973, 0.30660020472769639, 0.64726709886958123, 0.37554152596593132, 0.59460741611272461, 0.95616974966911128, 0.34784920342217285, 0.52158302860487415, 0.022002892940415318, 0.097804766885429953, 0.010810669941822556, 0.67637165482958506, 0.60332502037854496, 0.37622529542183902, 0.011696123173735928, 0.0035738154141970891, 0.0051982769661048566, 0.67341384517659897, 0.98930348147585423, 0.833449767645284, 0.14186379023749515, 0.035465947559373788, 0.011914344849085289, 0.011914344849085289, 0.21445820728353521, 0.76251807034145846, 0.88346118331782975, 0.10662462557284152, 0.95644171780214482, 0.40199476711260707, 0.46060972946383621, 0.0025226692657491032, 0.12183008630470668, 0.013058523257995357, 0.92934889944803123, 0.071488376880617793, 0.31455489920004803, 0.17556552513491053, 0.35600787041245746, 0.15118142442172852, 0.93955267976658996, 0.63717903418558641, 0.35780053458113698, 0.62097562051232424, 0.33918218134618661, 0.035684025586312472, 0.0018393827621810553, 0.0025751358670534773, 0.4558024921008475, 0.53076004478852834, 0.0068143229716073539, 0.0040381173165080619, 0.0025238233228175385, 0.012914588614640453, 0.0064572943073202263, 0.65218672503934283, 0.29057824382941017, 0.038743765843921356, 0.37784857471810673, 0.51120689520685025, 0.014817591165415952, 0.0088905546992495699, 0.085942028759412509, 0.98019028772673, 0.056923210168920366, 0.91077136270272585, 0.57253508003001929, 0.37576939781180557, 0.017531291733393017, 0.025950925263246244, 0.0081889586386243701, 0.93563699152421553, 0.59292459091337102, 0.39432562759013812, 0.0082065687323649959, 0.0016413137464729994, 0.0028722990563277489, 0.43706520584034786, 0.55309085354460374, 0.0019984154113195031, 0.0021159692590441799, 0.0057601385385091563, 0.92660967847466391, 0.47669171826604095, 0.39114756076186197, 0.11653841746946124, 0.009918163188890319, 0.0055789667937508041, 0.011183006205395632, 0.32430717995647329, 0.65979736611834228, 0.621899002778184, 0.3731394016669104, 0.38167050487947668, 0.61067280780716271, 0.0049247807081222797, 0.43397392116834854, 0.56016205108868855, 0.0013144596866702077, 0.0018200211046202875, 0.0027300316569304314, 0.022481654450001796, 0.94422948690007547, 0.033722481675002698, 0.43062374784495122, 0.45160384512433027, 0.04795450806715218, 0.062360196982486196, 0.0074445506475216078, 0.42671960214043841, 0.49693757091370649, 0.023135400116047866, 0.044647263381846762, 0.0086588632013278564, 0.50985620873551218, 0.34738738692418181, 0.6451480042877662, 0.0049626769560597401, 0.41139174689815095, 0.58632114354928777, 0.00058602812948454553, 0.0011720562589690911, 0.00058602812948454553, 0.44304197814724394, 0.39869955410489683, 0.11964809245909176, 0.023317998849854943, 0.014908228772858079, 0.57199843859180577, 0.36707133841546163, 0.035667987741976763, 0.012076562778779533, 0.013106347201776237, 0.081261491098239366, 0.89387640208063301, 0.0077430495027022593, 0.25552063358917454, 0.48006906916754005, 0.25552063358917454, 0.54982436920271427, 0.44739782900227953, 0.00051943728786274382, 0.0010064097452340661, 0.0012336635586740166, 0.61693760379226725, 0.37812304748558312, 0.43815634343881404, 0.473661672501971, 0.059775880089421293, 0.0083188814471648002, 0.020068229470480033, 0.34868049923522648, 0.62471922779644751, 0.019371138846401473, 0.0096855694232007364, 0.57562944451458864, 0.38325548704004758, 0.035072055862309652, 0.0020893990726482347, 0.0038803125634895783, 0.95411388434068234, 0.021684406462288235, 0.95467171076174739, 0.019483096137994847, 0.90733118456761974, 0.56598182131220831, 0.43358632591067658, 0.00035686117358903424, 0.00035686117358903424, 0.021030709643669123, 0.035051182739448537, 0.93236146086933114, 0.007010236547889708, 0.97878643040960289, 0.37381033285930798, 0.62301722143217997, 0.48684375767914395, 0.4825240792508374, 0.01615879708366531, 0.0062395355075539321, 0.0083193806767385761, 0.078216507906213373, 0.86038158696834699, 0.42805951873114034, 0.56625754216255153, 0.0038978929685782649, 0.00035435390623438773, 0.0017717695311719385, 0.42774113347068804, 0.55606347351189445, 0.010518224593541509, 0.0014024299458055345, 0.0042072898374166034, 0.26294723450288954, 0.34855796201545824, 0.38524827380655907, 0.37382191449326635, 0.62303652415544386, 0.59679850344184948, 0.38722317164333997, 0.010642497317893065, 0.001637307279675856, 0.003274614559351712, 0.39809073663653971, 0.59863268667148828, 0.0009977211444524806, 0.0009977211444524806, 0.0019954422889049612, 0.19563879026965225, 0.16303232522471023, 0.61952283585389878, 0.67140070244515448, 0.3232670048810003, 0.37191077753863344, 0.50240578720131179, 0.09297769438465836, 0.016311876207834801, 0.016311876207834801, 0.26647132274294666, 0.39501753019451302, 0.32605497254882293, 0.012137410145641462, 0.9072989821161771, 0.41339778832563995, 0.57769203354797338, 0.0045637290339537069, 0.00076062150565895119, 0.003803107528294756, 0.56168983706596731, 0.41315984550926238, 0.01735011910105615, 0.0063238751863662606, 0.0014593558122383678, 0.67594443137241311, 0.30529545867000091, 0.39452221163372608, 0.0026243162636389763, 0.29042433317604671, 0.0069981767030372699, 0.50985644561765719, 0.45904674894613012, 0.49765959545600902, 0.032920912960613891, 0.0087686543867055676, 0.0016921964605923026, 0.27415514043124151, 0.70823411278070714, 0.4349670975088869, 0.49106897620799234, 0.011362405812477046, 0.055746803517465505, 0.0067464284511582458, 0.51543095475925149, 0.47262517143508948, 0.0077508414249511503, 0.0035231097386141594, 0.00070462194772283185, 0.012458616934111232, 0.27408957255044708, 0.71014116524434012, 0.92081652366739819, 0.53835167407805795, 0.38370096025128664, 0.020898745111725851, 0.0087774729469248577, 0.048485088659203972, 0.99684438665559982, 0.92098880000397998, 0.34149153315298464, 0.37644735938124291, 0.10576378192139682, 0.16850500848493732, 0.0080667291295980631, 0.91220105999041212, 0.024800917476265488, 0.024800917476265488, 0.09920366990506195, 0.85563165293115928, 0.012400458738132744, 0.907788660849421, 0.33629638108112681, 0.51285198114871844, 0.0084074095270281705, 0.039935195253383807, 0.10299076670609508, 0.014772373893573573, 0.73861869467867869, 0.13295136504216215, 0.10340661725501502, 0.97323956611848195, 0.34481676862862315, 0.6546521259470961, 0.87828253060752071, 0.1133267781429059, 0.50417076953547701, 0.31062333317689123, 0.12147470219009145, 0.040265987634041454, 0.023685875078847913, 0.97293807704236979, 0.024323451926059246, 0.53424833231121505, 0.44735827915903303, 0.012908013398123315, 0.0034660406346812608, 0.00203181692377867, 0.37727224743230375, 0.53821567595696529, 0.074118684188988856, 0.0060272336593243684, 0.0042353533822279349, 0.49035394269208288, 0.48908989326614655, 0.013321136257944746, 0.0041810865627125845, 0.003014271708002096, 0.48728697606417587, 0.47187715673076186, 0.022014027619162876, 0.014632853652737676, 0.0041438169636071297, 0.53381710090443368, 0.44499464113961879, 0.0036764263147688269, 0.010441050733943469, 0.0072057955769469009, 0.68025412548982966, 0.18447569504808942, 0.12682704034556147, 0.4378066128251597, 0.54692539351626757, 0.0022825543898198045, 0.0060551095618830925, 0.0069427696023685722, 0.6730398126954098, 0.43332633873620818, 0.53331148679249774, 0.024953264144857105, 0.0046464698752492536, 0.0037860124909438364, 0.67314495647804351, 0.59516071778210633, 0.40427189963781918, 0.00031242032429506893, 0.00031242032429506893, 0.60742659047839365, 0.39144035309622255, 0.00055523454339889721, 0.51361652379585365, 0.47465729191967321, 0.0025693971942879739, 0.0077081915828639217, 0.0014579835242006177, 0.98475079745694949, 0.97317894199313204, 0.90335494614343304, 0.075279578845286077, 0.025093192948428693, 0.38453564332452322, 0.39033849508495366, 0.00077371356805739082, 0.22012151011232767, 0.0042554246243156494, 0.002773394225878583, 0.002773394225878583, 0.84033845044121058, 0.15253668242332205, 0.002773394225878583, 0.40255852289681338, 0.31442440841644598, 0.25130132642375036, 0.029775038675799805, 0.95816021408456653, 0.1133149479218124, 0.45325979168724961, 0.43707194198413352, 0.072563206172119629, 0.87075847406543549, 0.89442214542131482, 0.67591213521971272, 0.9931034238916383, 0.0047066512980646364, 0.975824470272464, 0.8748091079882172, 0.54261438883787327, 0.29810296670722669, 0.11136992857320548, 0.00083736788400906375, 0.047729969388516633, 0.29719147581848215, 0.26417020072753972, 0.052283685560658905, 0.16510637545471232, 0.22014183393961642, 0.63828188238089523, 0.35903355883925353, 0.91482310226927166, 0.4742300779875222, 0.20336200853201575, 0.24344373220533835, 0.075944318538927039, 0.0029533901654027182, 0.35963657053818626, 0.28466216843044845, 0.0064149221054748944, 0.34319833264290683, 0.0060139894738827134, 0.38436915869415589, 0.47199315687667587, 0.00060849998737861092, 0.13812949713494466, 0.0048679998990288874, 0.35157343589463635, 0.61828431829746389, 0.0072739331564407516, 0.021821799469322254, 0.93193702438925075, 0.62487999973177544, 0.36022494102184699, 0.014703058817218246, 0.89853056437518741, 0.38163231625136146, 0.61521761326728097, 0.0016449668803937994, 0.0016449668803937994, 0.39615184838801176, 0.60294809628867196, 0.38987872254491635, 0.60545035198124786, 0.0021343725686765493, 0.00071145752289218309, 0.0014229150457843662, 0.37894055047853087, 0.58817744476311407, 0.018320281066392077, 0.0086780278735541418, 0.0067495772349865542, 0.94123755705064893, 0.63613445168935234, 0.34898315059728885, 0.0059386522123662773, 0.0069866496616073845, 0.0020959948984822156, 0.013140169849127753, 0.97894265376001766, 0.86478354210590136, 0.10576489363885125, 0.031107321658485662, 0.48150995952713044, 0.32830224513213435, 0.016127127831052215, 0.17106274877937527, 0.0028798442555450381, 0.89495732905927561, 0.49420929643952483, 0.44371298232839079, 0.017299663167703327, 0.015896987775727383, 0.028988624767502875, 0.97733581499664324, 0.67204140189132411, 0.31257739622852282, 0.010419246540950762, 0.36714803912098903, 0.43086136478189818, 0.0246889136936023, 0.17441522899673881, 0.0023892497122840932, 0.92660953153111714, 0.054567328895363316, 0.92764459122117637, 0.0077755609009285184, 0.97972067351699332, 0.0077755609009285184, 0.45449227714649781, 0.53353804141789052, 0.0025040896812479219, 0.0074287993877021679, 0.0020867414010399348, 0.2527928377601219, 0.75837851328036576, 0.61134568134291856, 0.34706603784571938, 0.0047761381354915512, 0.035025012993604714, 0.40477375263560245, 0.58677782045344196, 0.0037059651818112127, 0.0020588695454506734, 0.002882417363630943, 0.96732963427105612, 0.91461141992379491, 0.38513275240986855, 0.47481278726128928, 0.12346360962421624, 0.0092137022107624048, 0.0067567149545590972, 0.52074154995547939, 0.39241891045929611, 0.070784423722088222, 0.0099346559609948381, 0.006209159975621774, 0.86230985832133134, 0.13122106539672435, 0.004686466621311584, 0.97481770313799698, 0.29598909996276107, 0.4162346718226328, 0.000711512259525868, 0.28318187929129546, 0.0035575612976293399, 0.67335989003858543, 0.47432450202678389, 0.49570205498156605, 0.0085188744857402736, 0.0096440088517814413, 0.011733544103000752, 0.44084882364171341, 0.54271092102565055, 0.0072890450120752107, 0.0060895819088223283, 0.0030447909544111642, 0.54775554956234063, 0.40828365237987668, 0.033898550795020396, 0.0077553880047648138, 0.0023766511627505075, 0.48787629422187295, 0.50760766022545378, 0.00043847480007957426, 0.0033616401339434028, 0.00073079133346595705, 0.63965762019551453, 0.33843766419262405, 0.00034782904850218298, 0.0017391452425109149, 0.019826255764624431, 0.6178792181028, 0.37723897279357665, 0.0028310617095202752, 0.0014155308547601376, 0.0014155308547601376, 0.61883308314957819, 0.38120117922014018, 0.39335478644834831, 0.39531665570744229, 0.17068262554117858, 0.03237084277505111, 0.0088284116659230298, 0.8656652095329268, 0.12772109648846461, 0.95514592619527505, 0.60353925669463515, 0.3778253883372919, 0.015701834320510834, 0.0019627292900638543, 0.94404751302581602, 0.2456651049634288, 0.37003948864784253, 0.0020557749369324585, 0.37517892599017366, 0.0061673248107973755, 0.61877981089278333, 0.36504734875420819, 0.011458885386903395, 0.0032739672534009704, 0.0016369836267004852, 0.92353901283127804, 0.051307722935071, 0.42218589071885587, 0.52169236156723797, 0.0012284749487454585, 0.026412211398027356, 0.028459669645936454, 0.35277546325898518, 0.62045762629827383, 0.013780291533554109, 0.0058566239017604962, 0.0068901457667770545, 0.11678891265972338, 0.864237953681953, 0.38086510365369908, 0.31020687175414402, 0.2809095560884749, 0.024127201136433424, 0.0034467430194904895, 0.92380437484542488, 0.067185772716030906, 0.87458897312421913, 0.50985576999386784, 0.82261379587581596, 0.16452275917516318, 0.67319836652560505, 0.73250955098099257, 0.26161055392178306, 0.34587719312687765, 0.20669951780490697, 0.26044139243418279, 0.18602956602441628, 0.45788542820770961, 0.48171589659026698, 0.0027660365086896953, 0.042128863747735362, 0.01553235885648829, 0.37655160325621617, 0.61035815429765761, 0.012305607949549548, 0.48435330009766303, 0.34068918566191553, 0.020523444919392501, 0.1511271853155266, 0.0033583818959005913, 0.90737937120239132, 0.98743476914668515, 0.0094945650879488946, 0.99637738217675065, 0.96934022140746989, 0.81866618059794427, 0.16854891953487089, 0.97875457080488104, 0.9605590670378904, 0.029107850516299709, 0.97432633005530844, 0.021932865304839226, 0.96504607341292603, 0.51880616470562724, 0.47496194403087405, 0.0036964682536091658, 0.001369062316151543, 0.0011637029687288115, 0.96406268268527262, 0.97876543221182277, 0.89520429992895656, 0.44144895621309332, 0.46671162575426817, 0.041456688477825347, 0.030444755600902988, 0.020080583481446652, 0.64910721359108425, 0.33766688383778626, 0.0098349577816830951, 0.0032783192605610315, 0.42585497264540917, 0.56218697292808839, 0.0023894605697061611, 0.0055754079959810425, 0.0039824342828436018, 0.35827746360807039, 0.6100400056029307, 0.024207936730275027, 0.0048415873460550055, 0.0048415873460550055, 0.67337198431329481, 0.84980062847465287, 0.67313362561717816, 0.96094226213141942, 0.43981257361395554, 0.38391116238825651, 0.14057560764109606, 0.028772785189698023, 0.007398716191636635, 0.47003024566255897, 0.51505205218170524, 0.01021313055279988, 0.0029411230389392055, 0.0017776018367214978, 0.37797831650025115, 0.40077618617264466, 0.19430002561698997, 0.02435226987732941, 0.0025906670082265328, 0.28398110903324103, 0.45090530990675426, 0.00052491887067142523, 0.25038630131026984, 0.01417280950812848, 0.34935624631512291, 0.64950738751543979, 0.93001066887441297, 0.035769641110554348, 0.95533550670927991, 0.40035765948134361, 0.40906784943120966, 0.13189716209797178, 0.043239871536835089, 0.015242832412265608, 0.93456568879372259, 0.11415283593535248, 0.85614626951514361, 0.57119674629076322, 0.42429151281981609, 0.0035484355910856782, 0.00030415162209305812, 0.00060830324418611624, 0.98428749227143708, 0.90731335959882276, 0.3086175090225895, 0.64097482643153203, 0.047479616772706082, 0.84987144225744848, 0.39829307825091964, 0.58373049413096201, 0.010861334358688197, 0.0034438377234865016, 0.003708748317600848, 0.55971180917276042, 0.40864012431169372, 0.027228036224959708, 0.0032937140594709326, 0.0010979046864903108, 0.97877195178949672, 0.28781248191289338, 0.5368651166913857, 0.17318229570689861, 0.001649355197208558, 0.033173490388417208, 0.16586745194208605, 0.79616376932201294], \"Term\": [\"abl\", \"abl\", \"abl\", \"abl\", \"abl\", \"access\", \"access\", \"access\", \"access\", \"access\", \"action\", \"action\", \"action\", \"action\", \"action\", \"activeresourc\", \"activeresourc\", \"admin\", \"admin\", \"admin\", \"admin\", \"admin\", \"amp\", \"amqp\", \"angular\", \"answerfil\", \"answerfil\", \"aodh\", \"api\", \"api\", \"api\", \"api\", \"api\", \"applic\", \"applic\", \"applic\", \"applic\", \"applic\", \"approach\", \"approach\", \"approach\", \"asterisk\", \"automat\", \"automat\", \"automat\", \"baad\", \"baad\", \"base\", \"base\", \"base\", \"base\", \"base\", \"basearch\", \"baseurl\", \"bbb\", \"bbb\", \"bd\", \"bd\", \"beba\", \"benchmark\", \"benchmark\", \"blank\", \"blank\", \"block\", \"block\", \"block\", \"bo\", \"bodi\", \"br\", \"br\", \"br\", \"br\", \"br\", \"button\", \"button\", \"button\", \"callback\", \"came\", \"came\", \"came\", \"came\", \"ce\", \"ce\", \"ce\", \"ce\", \"ce\", \"cento\", \"cento\", \"cento\", \"cento\", \"cento\", \"cfg\", \"cfg\", \"cfg\", \"cfg\", \"cfg\", \"checkbox\", \"checkbox\", \"cind\", \"cind\", \"cinder\", \"cinder\", \"cinder\", \"cinder\", \"cinder\", \"click\", \"click\", \"cloud\", \"cloud\", \"cloud\", \"cloud\", \"cloud\", \"cluster\", \"cluster\", \"cluster\", \"cluster\", \"cluster\", \"code\", \"code\", \"code\", \"code\", \"code\", \"command\", \"command\", \"command\", \"command\", \"command\", \"comput\", \"comput\", \"comput\", \"comput\", \"comput\", \"configur\", \"configur\", \"configur\", \"configur\", \"configur\", \"confirm\", \"confirm\", \"confus\", \"confus\", \"confus\", \"confus\", \"consist\", \"consist\", \"consist\", \"context\", \"context\", \"context\", \"context\", \"context\", \"control\", \"control\", \"control\", \"control\", \"control\", \"cooki\", \"correspond\", \"cotyledon\", \"coul\", \"coul\", \"creat\", \"creat\", \"creat\", \"creat\", \"creat\", \"da\", \"da\", \"daf\", \"daf\", \"dashb\", \"dashb\", \"dashboard\", \"dashboard\", \"dashboard\", \"dashboard\", \"dashboard\", \"datum\", \"dec\", \"decor\", \"delet\", \"delet\", \"delet\", \"delet\", \"delet\", \"deploy\", \"deploy\", \"deploy\", \"deploy\", \"deploy\", \"deploymen\", \"deploymen\", \"devel\", \"devel\", \"develop\", \"develop\", \"develop\", \"develop\", \"develop\", \"devic\", \"devic\", \"devic\", \"devic\", \"devic\", \"devop\", \"devstack\", \"devstack\", \"devstack\", \"devstack\", \"devstack\", \"dialog\", \"dialog\", \"dialogu\", \"discard\", \"disk\", \"disk\", \"disk\", \"disk\", \"disk\", \"display\", \"display\", \"display\", \"display\", \"display\", \"dist\", \"dist\", \"dist\", \"dist\", \"django\", \"django\", \"django\", \"django\", \"django\", \"domain\", \"domain\", \"domain\", \"domain\", \"downloa\", \"downloa\", \"drag\", \"drf\", \"driv\", \"driv\", \"dropdown\", \"dropdown\", \"drown\", \"eb\", \"eb\", \"eb\", \"eb\", \"eb\", \"ecc\", \"ecc\", \"ef\", \"ef\", \"ef\", \"em\", \"em\", \"email\", \"error\", \"error\", \"error\", \"error\", \"error\", \"eslint\", \"etc\", \"etc\", \"etc\", \"etc\", \"etc\", \"ethernet\", \"evalu\", \"even\", \"even\", \"even\", \"exit\", \"exit\", \"exit\", \"exit\", \"expect\", \"expect\", \"ffffffff\", \"file\", \"file\", \"file\", \"file\", \"file\", \"fill\", \"fill\", \"filter\", \"filter\", \"filter\", \"filter\", \"fip\", \"fiwar\", \"fiwar\", \"float\", \"float\", \"float\", \"float\", \"float\", \"follow\", \"follow\", \"follow\", \"follow\", \"follow\", \"form\", \"form\", \"form\", \"form\", \"form\", \"format\", \"format\", \"format\", \"format\", \"format\", \"func\", \"gateway\", \"gateway\", \"get\", \"get\", \"get\", \"get\", \"get\", \"gib\", \"give\", \"give\", \"give\", \"give\", \"give\", \"glanc\", \"glanc\", \"glanc\", \"glanc\", \"glanc\", \"gpgcheck\", \"group\", \"group\", \"group\", \"group\", \"group\", \"gt\", \"gt\", \"gt\", \"guidanc\", \"guidanc\", \"hd\", \"hd\", \"hd\", \"heat\", \"heat\", \"heat\", \"heat\", \"heat\", \"home\", \"home\", \"home\", \"horizon\", \"horizon\", \"horizon\", \"horizon\", \"horizon\", \"http\", \"http\", \"http\", \"http\", \"http\", \"hundr\", \"hyperv\", \"hyperv\", \"hyperv\", \"icehous\", \"icehous\", \"icehous\", \"icehous\", \"icehous\", \"id\", \"id\", \"id\", \"id\", \"id\", \"imag\", \"imag\", \"imag\", \"imag\", \"imag\", \"img\", \"img\", \"info\", \"info\", \"info\", \"info\", \"instal\", \"instal\", \"instal\", \"instal\", \"instal\", \"installatio\", \"installatio\", \"instanc\", \"instanc\", \"instanc\", \"instanc\", \"instanc\", \"interact\", \"interact\", \"interact\", \"interact\", \"ip\", \"ip\", \"ip\", \"ip\", \"ip\", \"ipv\", \"ipv\", \"jan\", \"jan\", \"janv\", \"jcloud\", \"jcloud\", \"jcloud\", \"jcloud\", \"js\", \"js\", \"js\", \"js\", \"jul\", \"jumpgat\", \"jumpgat\", \"keyston\", \"keyston\", \"keyston\", \"keyston\", \"keyston\", \"kill\", \"kill\", \"kilo\", \"kilo\", \"kilo\", \"kilo\", \"kilo\", \"know\", \"know\", \"know\", \"know\", \"know\", \"kwarg\", \"kwarg\", \"kwarg\", \"laptop\", \"laptop\", \"larg\", \"larg\", \"larg\", \"larg\", \"larg\", \"late\", \"late\", \"late\", \"late\", \"late\", \"latest\", \"latest\", \"latest\", \"launc\", \"launc\", \"launch\", \"launch\", \"launch\", \"launch\", \"launch\", \"lib\", \"lib\", \"lib\", \"lib\", \"liberasurecod\", \"liberti\", \"liberti\", \"liberti\", \"liberti\", \"liberti\", \"like\", \"like\", \"like\", \"like\", \"like\", \"lin\", \"line\", \"line\", \"line\", \"line\", \"line\", \"lint\", \"list\", \"list\", \"list\", \"list\", \"list\", \"live\", \"live\", \"local\", \"local\", \"local\", \"local\", \"local\", \"look\", \"look\", \"look\", \"look\", \"look\", \"lt\", \"lt\", \"lt\", \"magnum\", \"manag\", \"manag\", \"manag\", \"manag\", \"manag\", \"mar\", \"membership\", \"messag\", \"messag\", \"messag\", \"messag\", \"messag\", \"metadef\", \"method\", \"method\", \"method\", \"method\", \"method\", \"metric\", \"migrat\", \"migrat\", \"migrat\", \"migrat\", \"migrat\", \"mitaka\", \"mitaka\", \"mitaka\", \"mitaka\", \"mnt\", \"mo\", \"mo\", \"modal\", \"modal\", \"name\", \"name\", \"name\", \"name\", \"name\", \"navig\", \"navig\", \"need\", \"need\", \"need\", \"need\", \"need\", \"network\", \"network\", \"network\", \"network\", \"network\", \"neutron\", \"neutron\", \"neutron\", \"neutron\", \"neutron\", \"new\", \"new\", \"new\", \"new\", \"new\", \"node\", \"node\", \"node\", \"node\", \"node\", \"none\", \"none\", \"none\", \"nova\", \"nova\", \"nova\", \"nova\", \"nova\", \"octa\", \"one\", \"one\", \"one\", \"one\", \"one\", \"openid\", \"openst\", \"openst\", \"openst\", \"openst\", \"openstac\", \"openstac\", \"openstac\", \"openstack\", \"openstack\", \"openstack\", \"openstack\", \"openstack\", \"oslo\", \"overcloud\", \"overview\", \"overview\", \"overview\", \"packag\", \"packag\", \"packag\", \"packag\", \"packag\", \"page\", \"page\", \"page\", \"page\", \"page\", \"panel\", \"panel\", \"panel\", \"panel\", \"pars\", \"patch\", \"patch\", \"patch\", \"peer\", \"peer\", \"phi\", \"phpmyadmin\", \"pid\", \"pid\", \"placement\", \"poodl\", \"port\", \"port\", \"port\", \"port\", \"port\", \"pre\", \"pre\", \"pre\", \"pre\", \"pre\", \"preferabl\", \"preferabl\", \"privileg\", \"project\", \"project\", \"project\", \"project\", \"project\", \"py\", \"py\", \"py\", \"py\", \"py\", \"python\", \"python\", \"python\", \"python\", \"python\", \"qcow\", \"qcow\", \"qcow\", \"qcow\", \"qemu\", \"quick\", \"quick\", \"quick\", \"ra\", \"rabbitmq\", \"rabbitmq\", \"rabbitmq\", \"rabbitmq\", \"rackspac\", \"rackspac\", \"rdo\", \"rdo\", \"rdo\", \"rdo\", \"rdo\", \"read\", \"read\", \"read\", \"read\", \"read\", \"regular\", \"releas\", \"releas\", \"releas\", \"releas\", \"releas\", \"render\", \"render\", \"reproduc\", \"reproduc\", \"reproduc\", \"request\", \"request\", \"request\", \"request\", \"request\", \"rescu\", \"resourc\", \"resourc\", \"resourc\", \"resourc\", \"resourc\", \"resp\", \"result\", \"result\", \"result\", \"return\", \"return\", \"return\", \"return\", \"return\", \"rhelosp\", \"rho\", \"rho\", \"role\", \"role\", \"role\", \"run\", \"run\", \"run\", \"run\", \"run\", \"salt\", \"salt\", \"schedul\", \"schedul\", \"schedul\", \"schedul\", \"script\", \"script\", \"script\", \"script\", \"script\", \"scss\", \"scw\", \"secur\", \"secur\", \"secur\", \"secur\", \"secur\", \"see\", \"see\", \"see\", \"see\", \"see\", \"select\", \"select\", \"select\", \"selenium\", \"self\", \"self\", \"self\", \"self\", \"self\", \"sensu\", \"server\", \"server\", \"server\", \"server\", \"server\", \"servic\", \"servic\", \"servic\", \"servic\", \"servic\", \"set\", \"set\", \"set\", \"set\", \"set\", \"setup\", \"setup\", \"setup\", \"setup\", \"setup\", \"sh\", \"sh\", \"sh\", \"sh\", \"sh\", \"shell\", \"shell\", \"shell\", \"shell\", \"shell\", \"shibboleth\", \"shibboleth\", \"show\", \"show\", \"show\", \"show\", \"show\", \"shown\", \"shown\", \"shut\", \"simpl\", \"simpl\", \"simpl\", \"simpl\", \"sink\", \"site\", \"site\", \"site\", \"site\", \"site\", \"situat\", \"situat\", \"situat\", \"situat\", \"situat\", \"sort\", \"sort\", \"stack\", \"stack\", \"stack\", \"stack\", \"stack\", \"start\", \"start\", \"start\", \"start\", \"start\", \"strong\", \"strong\", \"subnet\", \"subnet\", \"subnet\", \"subnet\", \"subnet\", \"sun\", \"sun\", \"suspend\", \"swamp\", \"switch\", \"switch\", \"syncdb\", \"tab\", \"tab\", \"tabl\", \"tabl\", \"tabl\", \"tabl\", \"templat\", \"templat\", \"templat\", \"templat\", \"templat\", \"temporari\", \"temporari\", \"temporari\", \"test\", \"test\", \"test\", \"test\", \"test\", \"testv\", \"thu\", \"thu\", \"tid\", \"timestamp\", \"topolog\", \"topolog\", \"tox\", \"traceback\", \"traceback\", \"translat\", \"trap\", \"trap\", \"tri\", \"tri\", \"tri\", \"tri\", \"tri\", \"tt\", \"tue\", \"tun\", \"type\", \"type\", \"type\", \"type\", \"type\", \"typic\", \"typic\", \"typic\", \"typic\", \"ubuntu\", \"ubuntu\", \"ubuntu\", \"ubuntu\", \"ubuntu\", \"un\", \"un\", \"un\", \"un\", \"un\", \"unab\", \"unmap\", \"unplug\", \"unus\", \"updat\", \"updat\", \"updat\", \"updat\", \"updat\", \"use\", \"use\", \"use\", \"use\", \"use\", \"user\", \"user\", \"user\", \"user\", \"user\", \"usr\", \"usr\", \"usr\", \"usr\", \"usr\", \"view\", \"view\", \"visibl\", \"visibl\", \"vnf\", \"volum\", \"volum\", \"volum\", \"volum\", \"volum\", \"vpn\", \"vxlan\", \"vxlan\", \"want\", \"want\", \"want\", \"want\", \"want\", \"webdriv\", \"websso\", \"weight\", \"weight\", \"weight\", \"wheel\", \"work\", \"work\", \"work\", \"work\", \"work\", \"would\", \"would\", \"would\", \"would\", \"would\", \"wrap\", \"wsgi\", \"wsgi\", \"wsgi\", \"wsgi\", \"xml\", \"xml\", \"xml\"]}, \"mdsDat\": {\"y\": [-0.01470312876955172, -0.024245354516411792, 0.17566887104610712, -0.077697320941334191, -0.059023066818809214], \"cluster\": [1, 1, 1, 1, 1], \"Freq\": [47.830636746734399, 46.227498443426896, 2.6247126192554697, 2.5066951965056785, 0.81045699407756888], \"topics\": [1, 2, 3, 4, 5], \"x\": [-0.13929260735390236, -0.13638753754592625, 0.061676505087176155, 0.19054534683147306, 0.023458292981179428]}, \"R\": 30, \"lambda.step\": 0.01, \"tinfo\": {\"Category\": [\"Default\", \"Default\", \"Default\", \"Default\", \"Default\", \"Default\", \"Default\", \"Default\", \"Default\", \"Default\", \"Default\", \"Default\", \"Default\", \"Default\", \"Default\", \"Default\", \"Default\", \"Default\", \"Default\", \"Default\", \"Default\", \"Default\", \"Default\", \"Default\", \"Default\", \"Default\", \"Default\", \"Default\", \"Default\", \"Default\", \"Topic1\", \"Topic1\", \"Topic1\", \"Topic1\", \"Topic1\", \"Topic1\", \"Topic1\", \"Topic1\", \"Topic1\", \"Topic1\", \"Topic1\", \"Topic1\", \"Topic1\", \"Topic1\", \"Topic1\", \"Topic1\", \"Topic1\", \"Topic1\", \"Topic1\", \"Topic1\", \"Topic1\", \"Topic1\", \"Topic1\", \"Topic1\", \"Topic1\", \"Topic1\", \"Topic1\", \"Topic1\", \"Topic1\", \"Topic1\", \"Topic1\", \"Topic1\", \"Topic1\", \"Topic1\", \"Topic1\", \"Topic1\", \"Topic1\", \"Topic1\", \"Topic1\", \"Topic1\", \"Topic1\", \"Topic1\", \"Topic1\", \"Topic1\", \"Topic1\", \"Topic1\", \"Topic1\", \"Topic1\", \"Topic1\", \"Topic1\", \"Topic1\", \"Topic1\", \"Topic1\", \"Topic1\", \"Topic1\", \"Topic1\", \"Topic1\", \"Topic1\", \"Topic1\", \"Topic1\", \"Topic1\", \"Topic1\", \"Topic1\", \"Topic1\", \"Topic1\", \"Topic1\", \"Topic1\", \"Topic1\", \"Topic1\", \"Topic1\", \"Topic1\", \"Topic1\", \"Topic1\", \"Topic2\", \"Topic2\", \"Topic2\", \"Topic2\", \"Topic2\", \"Topic2\", \"Topic2\", \"Topic2\", \"Topic2\", \"Topic2\", \"Topic2\", \"Topic2\", \"Topic2\", \"Topic2\", \"Topic2\", \"Topic2\", \"Topic2\", \"Topic2\", \"Topic2\", \"Topic2\", \"Topic2\", \"Topic2\", \"Topic2\", \"Topic2\", \"Topic2\", \"Topic2\", \"Topic2\", \"Topic2\", \"Topic2\", \"Topic2\", \"Topic2\", \"Topic2\", \"Topic2\", \"Topic2\", \"Topic2\", \"Topic2\", \"Topic2\", \"Topic2\", \"Topic2\", \"Topic2\", \"Topic2\", \"Topic2\", \"Topic2\", \"Topic2\", \"Topic2\", \"Topic2\", \"Topic2\", \"Topic2\", \"Topic2\", \"Topic2\", \"Topic2\", \"Topic2\", \"Topic2\", \"Topic2\", \"Topic2\", \"Topic2\", \"Topic2\", \"Topic2\", \"Topic2\", \"Topic2\", \"Topic2\", \"Topic2\", \"Topic2\", \"Topic2\", \"Topic2\", \"Topic2\", \"Topic2\", \"Topic2\", \"Topic2\", \"Topic2\", \"Topic2\", \"Topic2\", \"Topic2\", \"Topic2\", \"Topic2\", \"Topic3\", \"Topic3\", \"Topic3\", \"Topic3\", \"Topic3\", \"Topic3\", \"Topic3\", \"Topic3\", \"Topic3\", \"Topic3\", \"Topic3\", \"Topic3\", \"Topic3\", \"Topic3\", \"Topic3\", \"Topic3\", \"Topic3\", \"Topic3\", \"Topic3\", \"Topic3\", \"Topic3\", \"Topic3\", \"Topic3\", \"Topic3\", \"Topic3\", \"Topic3\", \"Topic3\", \"Topic3\", \"Topic3\", \"Topic3\", \"Topic3\", \"Topic3\", \"Topic3\", \"Topic3\", \"Topic3\", \"Topic3\", \"Topic3\", \"Topic3\", \"Topic3\", \"Topic3\", \"Topic3\", \"Topic3\", \"Topic3\", \"Topic3\", \"Topic3\", \"Topic3\", \"Topic3\", \"Topic3\", \"Topic3\", \"Topic3\", \"Topic3\", \"Topic3\", \"Topic3\", \"Topic3\", \"Topic3\", \"Topic3\", \"Topic3\", \"Topic3\", \"Topic3\", \"Topic3\", \"Topic3\", \"Topic3\", \"Topic3\", \"Topic3\", \"Topic3\", \"Topic3\", \"Topic3\", \"Topic3\", \"Topic3\", \"Topic3\", \"Topic3\", \"Topic3\", \"Topic3\", \"Topic3\", \"Topic3\", \"Topic3\", \"Topic3\", \"Topic3\", \"Topic3\", \"Topic3\", \"Topic3\", \"Topic3\", \"Topic3\", \"Topic3\", \"Topic3\", \"Topic4\", \"Topic4\", \"Topic4\", \"Topic4\", \"Topic4\", \"Topic4\", \"Topic4\", \"Topic4\", \"Topic4\", \"Topic4\", \"Topic4\", \"Topic4\", \"Topic4\", \"Topic4\", \"Topic4\", \"Topic4\", \"Topic4\", \"Topic4\", \"Topic4\", \"Topic4\", \"Topic4\", \"Topic4\", \"Topic4\", \"Topic4\", \"Topic4\", \"Topic4\", \"Topic4\", \"Topic4\", \"Topic4\", \"Topic4\", \"Topic4\", \"Topic4\", \"Topic4\", \"Topic4\", \"Topic4\", \"Topic4\", \"Topic4\", \"Topic4\", \"Topic4\", \"Topic4\", \"Topic4\", \"Topic4\", \"Topic4\", \"Topic4\", \"Topic4\", \"Topic4\", \"Topic4\", \"Topic4\", \"Topic4\", \"Topic4\", \"Topic4\", \"Topic4\", \"Topic4\", \"Topic4\", \"Topic4\", \"Topic4\", \"Topic4\", \"Topic4\", \"Topic4\", \"Topic4\", \"Topic4\", \"Topic4\", \"Topic4\", \"Topic4\", \"Topic4\", \"Topic5\", \"Topic5\", \"Topic5\", \"Topic5\", \"Topic5\", \"Topic5\", \"Topic5\", \"Topic5\", \"Topic5\", \"Topic5\", \"Topic5\", \"Topic5\", \"Topic5\", \"Topic5\", \"Topic5\", \"Topic5\", \"Topic5\", \"Topic5\", \"Topic5\", \"Topic5\", \"Topic5\", \"Topic5\", \"Topic5\", \"Topic5\", \"Topic5\", \"Topic5\", \"Topic5\", \"Topic5\", \"Topic5\", \"Topic5\", \"Topic5\", \"Topic5\", \"Topic5\", \"Topic5\", \"Topic5\", \"Topic5\", \"Topic5\", \"Topic5\", \"Topic5\", \"Topic5\", \"Topic5\", \"Topic5\", \"Topic5\", \"Topic5\", \"Topic5\", \"Topic5\", \"Topic5\", \"Topic5\", \"Topic5\", \"Topic5\", \"Topic5\", \"Topic5\", \"Topic5\", \"Topic5\", \"Topic5\", \"Topic5\", \"Topic5\", \"Topic5\", \"Topic5\", \"Topic5\", \"Topic5\", \"Topic5\", \"Topic5\", \"Topic5\", \"Topic5\", \"Topic5\", \"Topic5\", \"Topic5\", \"Topic5\", \"Topic5\", \"Topic5\", \"Topic5\", \"Topic5\", \"Topic5\", \"Topic5\", \"Topic5\", \"Topic5\", \"Topic5\"], \"Term\": [\"nova\", \"instanc\", \"creat\", \"horizon\", \"openstack\", \"imag\", \"error\", \"file\", \"comput\", \"stack\", \"python\", \"http\", \"get\", \"network\", \"user\", \"code\", \"use\", \"templat\", \"server\", \"dashboard\", \"py\", \"packag\", \"manag\", \"volum\", \"line\", \"set\", \"name\", \"ip\", \"keyston\", \"new\", \"octa\", \"unplug\", \"openid\", \"syncdb\", \"sensu\", \"unab\", \"launc\", \"ethernet\", \"answerfil\", \"typic\", \"came\", \"deploymen\", \"sh\", \"fiwar\", \"preferabl\", \"approach\", \"activeresourc\", \"releas\", \"driv\", \"quick\", \"guidanc\", \"float\", \"cind\", \"situat\", \"installatio\", \"shibboleth\", \"shell\", \"dashb\", \"api\", \"deploy\", \"openstac\", \"applic\", \"etc\", \"openst\", \"develop\", \"schedul\", \"imag\", \"want\", \"get\", \"ip\", \"instal\", \"give\", \"devstack\", \"openstack\", \"like\", \"simpl\", \"larg\", \"tri\", \"creat\", \"set\", \"cento\", \"would\", \"need\", \"node\", \"jcloud\", \"use\", \"cinder\", \"nova\", \"neutron\", \"configur\", \"comput\", \"look\", \"run\", \"new\", \"instanc\", \"servic\", \"setup\", \"horizon\", \"heat\", \"cloud\", \"follow\", \"glanc\", \"command\", \"eslint\", \"salt\", \"mo\", \"lin\", \"phpmyadmin\", \"hyperv\", \"downloa\", \"weight\", \"cfg\", \"eb\", \"control\", \"laptop\", \"interact\", \"jumpgat\", \"start\", \"qcow\", \"rabbitmq\", \"hd\", \"un\", \"temporari\", \"swamp\", \"drown\", \"hundr\", \"lint\", \"benchmark\", \"rdo\", \"rackspac\", \"coul\", \"late\", \"confus\", \"command\", \"work\", \"icehous\", \"script\", \"access\", \"liberti\", \"read\", \"nova\", \"heat\", \"ubuntu\", \"glanc\", \"servic\", \"cluster\", \"use\", \"kilo\", \"run\", \"openstack\", \"network\", \"follow\", \"one\", \"know\", \"error\", \"tri\", \"abl\", \"stack\", \"setup\", \"instal\", \"neutron\", \"instanc\", \"http\", \"list\", \"server\", \"creat\", \"horizon\", \"new\", \"cloud\", \"cinder\", \"need\", \"want\", \"keyston\", \"devstack\", \"imag\", \"api\", \"set\", \"get\", \"role\", \"dialog\", \"email\", \"cooki\", \"ipv\", \"navig\", \"sink\", \"regular\", \"asterisk\", \"vpn\", \"button\", \"correspond\", \"gib\", \"magnum\", \"dialogu\", \"confirm\", \"drag\", \"fip\", \"membership\", \"click\", \"scw\", \"privileg\", \"cotyledon\", \"liberasurecod\", \"websso\", \"janv\", \"testv\", \"sort\", \"metric\", \"ra\", \"gateway\", \"fill\", \"checkbox\", \"visibl\", \"domain\", \"expect\", \"modal\", \"display\", \"select\", \"page\", \"reproduc\", \"overview\", \"dropdown\", \"shown\", \"consist\", \"blank\", \"topolog\", \"automat\", \"tab\", \"even\", \"result\", \"form\", \"switch\", \"admin\", \"mitaka\", \"none\", \"project\", \"user\", \"delet\", \"filter\", \"panel\", \"tabl\", \"volum\", \"subnet\", \"name\", \"instanc\", \"id\", \"action\", \"network\", \"creat\", \"horizon\", \"show\", \"imag\", \"secur\", \"set\", \"group\", \"use\", \"ip\", \"list\", \"dashboard\", \"updat\", \"launch\", \"openstack\", \"see\", \"error\", \"tid\", \"mar\", \"pid\", \"angular\", \"amqp\", \"oslo\", \"thu\", \"func\", \"dec\", \"selenium\", \"render\", \"decor\", \"evalu\", \"webdriv\", \"bodi\", \"jul\", \"wrap\", \"tue\", \"tox\", \"translat\", \"timestamp\", \"callback\", \"aodh\", \"pars\", \"resp\", \"mnt\", \"overcloud\", \"datum\", \"tt\", \"traceback\", \"jan\", \"home\", \"js\", \"sun\", \"method\", \"view\", \"py\", \"lib\", \"site\", \"line\", \"self\", \"dashboard\", \"usr\", \"packag\", \"django\", \"file\", \"python\", \"error\", \"test\", \"request\", \"kwarg\", \"horizon\", \"return\", \"wsgi\", \"context\", \"messag\", \"http\", \"openstack\", \"base\", \"dist\", \"get\", \"templat\", \"project\", \"nova\", \"local\", \"beba\", \"unus\", \"ffffffff\", \"placement\", \"trap\", \"qemu\", \"scss\", \"drf\", \"basearch\", \"amp\", \"gpgcheck\", \"rhelosp\", \"baseurl\", \"metadef\", \"daf\", \"baad\", \"tun\", \"rescu\", \"poodl\", \"discard\", \"bbb\", \"suspend\", \"phi\", \"rho\", \"wheel\", \"unmap\", \"vnf\", \"bo\", \"devop\", \"shut\", \"kill\", \"devel\", \"img\", \"strong\", \"bd\", \"peer\", \"exit\", \"da\", \"lt\", \"xml\", \"gt\", \"vxlan\", \"block\", \"live\", \"ecc\", \"br\", \"pre\", \"ef\", \"latest\", \"patch\", \"disk\", \"em\", \"instanc\", \"manag\", \"devic\", \"comput\", \"stack\", \"info\", \"ce\", \"format\", \"nova\", \"imag\", \"code\", \"migrat\", \"file\", \"port\", \"creat\", \"name\", \"error\", \"templat\", \"openstack\", \"server\", \"resourc\", \"horizon\", \"get\", \"type\", \"http\", \"sh\"], \"loglift\": [30.0, 29.0, 28.0, 27.0, 26.0, 25.0, 24.0, 23.0, 22.0, 21.0, 20.0, 19.0, 18.0, 17.0, 16.0, 15.0, 14.0, 13.0, 12.0, 11.0, 10.0, 9.0, 8.0, 7.0, 6.0, 5.0, 4.0, 3.0, 2.0, 1.0, 0.43980000000000002, 0.4153, 0.41210000000000002, 0.39679999999999999, 0.35010000000000002, 0.34610000000000002, 0.34150000000000003, 0.33410000000000001, 0.33139999999999997, 0.30580000000000002, 0.29299999999999998, 0.29270000000000002, 0.29070000000000001, 0.2903, 0.29020000000000001, 0.28839999999999999, 0.28739999999999999, 0.28499999999999998, 0.27039999999999997, 0.26829999999999998, 0.26290000000000002, 0.26100000000000001, 0.25879999999999997, 0.25719999999999998, 0.2571, 0.25609999999999999, 0.2555, 0.25290000000000001, 0.25019999999999998, 0.24790000000000001, 0.2394, 0.24149999999999999, 0.23219999999999999, 0.21879999999999999, 0.22889999999999999, 0.24660000000000001, 0.1789, 0.17760000000000001, 0.17979999999999999, 0.18529999999999999, 0.1394, 0.21479999999999999, 0.1633, 0.071199999999999999, 0.1608, 0.2324, 0.2218, 0.081299999999999997, 0.10580000000000001, 0.1356, 0.1855, 0.1573, 0.1106, 0.10970000000000001, 0.16819999999999999, -0.017500000000000002, 0.0659, -0.088499999999999995, 0.024899999999999999, 0.088099999999999998, 0.053100000000000001, 0.0746, -0.0511, 0.018499999999999999, -0.087599999999999997, -0.081600000000000006, 0.019800000000000002, -0.105, -0.097199999999999995, 0.044499999999999998, -0.048099999999999997, -0.090300000000000005, -0.17899999999999999, 0.47139999999999999, 0.40629999999999999, 0.34799999999999998, 0.34710000000000002, 0.33739999999999998, 0.33439999999999998, 0.33329999999999999, 0.32650000000000001, 0.30759999999999998, 0.30580000000000002, 0.3024, 0.30080000000000001, 0.29870000000000002, 0.29520000000000002, 0.29409999999999997, 0.29189999999999999, 0.28589999999999999, 0.27839999999999998, 0.27689999999999998, 0.27639999999999998, 0.27579999999999999, 0.27579999999999999, 0.27579999999999999, 0.27579999999999999, 0.2707, 0.26929999999999998, 0.26450000000000001, 0.26090000000000002, 0.25850000000000001, 0.25309999999999999, 0.24540000000000001, 0.23319999999999999, 0.23780000000000001, 0.2382, 0.23319999999999999, 0.22289999999999999, 0.24099999999999999, 0.16819999999999999, 0.192, 0.1958, 0.17929999999999999, 0.1605, 0.2185, 0.1081, 0.20269999999999999, 0.14330000000000001, 0.0264, 0.1522, 0.13819999999999999, 0.1429, 0.1847, 0.1207, 0.027099999999999999, 0.1686, 0.1211, 0.0935, -0.0327, 0.056399999999999999, 0.024299999999999999, 0.072300000000000003, 0.073700000000000002, 0.069699999999999998, -0.10340000000000001, -0.023400000000000001, 0.0206, 0.063899999999999998, 0.0082000000000000007, -0.032800000000000003, -0.085699999999999998, 0.042799999999999998, -0.068400000000000002, -0.23050000000000001, -0.23519999999999999, -0.1242, -0.20710000000000001, 3.6206, 3.6145, 3.6089000000000002, 3.6086, 3.6015000000000001, 3.6013000000000002, 3.5990000000000002, 3.5966999999999998, 3.5937000000000001, 3.5912999999999999, 3.5876999999999999, 3.5859000000000001, 3.5788000000000002, 3.5783999999999998, 3.5779999999999998, 3.5773999999999999, 3.5773000000000001, 3.577, 3.5767000000000002, 3.5764, 3.5735999999999999, 3.5710999999999999, 3.5678999999999998, 3.5676000000000001, 3.5674999999999999, 3.5672999999999999, 3.5670000000000002, 3.5657000000000001, 3.5617999999999999, 3.5605000000000002, 3.5569999999999999, 3.5581, 3.5600999999999998, 3.5510999999999999, 3.5087000000000002, 3.5185, 3.5133999999999999, 3.4998, 3.4931999999999999, 3.4649000000000001, 3.4918999999999998, 3.5312000000000001, 3.5053999999999998, 3.4893000000000001, 3.5312000000000001, 3.5405000000000002, 3.4453, 3.5344000000000002, 3.3300000000000001, 3.4518, 3.2435999999999998, 3.2119, 3.4481999999999999, 2.6991999999999998, 3.3323, 3.2559999999999998, 2.2281, 2.0011999999999999, 2.3763999999999998, 2.6051000000000002, 2.2612000000000001, 2.2970999999999999, 1.6151, 2.3719999999999999, 1.5314000000000001, 0.82330000000000003, 1.5177, 2.2349000000000001, 1.0381, 0.39300000000000002, 0.60289999999999999, 1.8715999999999999, 0.30580000000000002, 1.5501, 0.25459999999999999, 1.4903, -0.94499999999999995, 0.29010000000000002, 0.2268, 0.85570000000000002, 1.6781999999999999, 1.2669999999999999, -2.3258999999999999, 0.99280000000000002, -0.17849999999999999, 3.6812, 3.6804000000000001, 3.6778, 3.6758999999999999, 3.6756000000000002, 3.6728999999999998, 3.6716000000000002, 3.6705999999999999, 3.6703999999999999, 3.6673, 3.6671, 3.6669, 3.6659000000000002, 3.6646999999999998, 3.6646999999999998, 3.6638999999999999, 3.6636000000000002, 3.6636000000000002, 3.6635, 3.6616, 3.6608000000000001, 3.6598000000000002, 3.6597, 3.6574, 3.6556000000000002, 3.6549, 3.6541000000000001, 3.6524000000000001, 3.6520000000000001, 3.6516000000000002, 3.6465999999999998, 3.6303000000000001, 3.6164000000000001, 3.6040000000000001, 3.5276999999999998, 3.2517999999999998, 2.6166, 2.5661999999999998, 2.7058, 2.4504000000000001, 2.4247000000000001, 2.1374, 2.3025000000000002, 2.1720999999999999, 2.5448, 1.5809, 1.7062999999999999, 1.3613, 1.7963, 1.9198999999999999, 2.7343999999999999, 0.91110000000000002, 1.9407000000000001, 1.9319, 2.3654999999999999, 1.9067000000000001, 0.57769999999999999, -1.1789000000000001, 1.8743000000000001, 2.0621, 0.035299999999999998, 0.52170000000000005, 1.1075999999999999, -1.4207000000000001, 0.79830000000000001, 4.7899000000000003, 4.7878999999999996, 4.7866, 4.7826000000000004, 4.7750000000000004, 4.7655000000000003, 4.7625000000000002, 4.7523999999999997, 4.7518000000000002, 4.7500999999999998, 4.7468000000000004, 4.7468000000000004, 4.7468000000000004, 4.7408999999999999, 4.7408000000000001, 4.7393000000000001, 4.734, 4.7305999999999999, 4.7255000000000003, 4.7252000000000001, 4.7244999999999999, 4.7225999999999999, 4.7202000000000002, 4.7126000000000001, 4.7081, 4.7037000000000004, 4.702, 4.7019000000000002, 4.7015000000000002, 4.6993, 4.6957000000000004, 4.6881000000000004, 4.6806999999999999, 4.6645000000000003, 4.6452, 4.6799999999999997, 4.5434000000000001, 4.5133000000000001, 4.4680999999999997, 4.5842000000000001, 4.3933999999999997, 4.6388999999999996, 4.3253000000000004, 4.4634999999999998, 4.6341999999999999, 3.7664, 3.3033999999999999, 4.3593999999999999, 4.3331999999999997, 3.9792000000000001, 2.8906000000000001, 4.3079000000000001, 0.90869999999999995, 1.7877000000000001, 2.5, 1.1466000000000001, 1.2538, 3.4615, 3.0171999999999999, 2.3651, -0.15479999999999999, 0.48120000000000002, 1.1212, 2.5360999999999998, 0.47889999999999999, 1.7815000000000001, -0.26369999999999999, 1.0742, 0.2858, 0.64449999999999996, -1.7174, 0.37559999999999999, 1.2705, -0.080100000000000005, 0.011900000000000001, 0.89980000000000004, 0.059999999999999998, 0.88929999999999998], \"Freq\": [31543.0, 11660.0, 16484.0, 10343.0, 83677.0, 10681.0, 7862.0, 6738.0, 6658.0, 4884.0, 4930.0, 7391.0, 8670.0, 6138.0, 3860.0, 4132.0, 30940.0, 4699.0, 6221.0, 3116.0, 2494.0, 2584.0, 2392.0, 3214.0, 2286.0, 7994.0, 2955.0, 6700.0, 6250.0, 7722.0, 2.2064636471474159, 2.152720933186604, 2.1458120039398234, 2.1132091227960128, 2.0161697872472493, 2.0080548625274757, 135.31954469672272, 1.9839945359086768, 133.95923321392527, 396.18786646369415, 132.06628481094501, 128.8476211565181, 1838.9796894454253, 130.45681177700268, 256.43810032552568, 130.20487731826503, 255.71216133894788, 1820.6386835654637, 125.99443174387609, 255.26051637337997, 125.05263385323191, 1687.9785366280448, 124.53379983508879, 377.87588724426405, 124.32462444125474, 124.81807362178128, 872.53207063586819, 247.00457772866463, 6427.2935945908275, 4453.2570697019546, 1094.4597967990676, 764.99934156137374, 1857.0743115397495, 1905.3748987268814, 1120.2000025930909, 384.45559280931735, 6110.3213947164531, 5634.4403556673815, 4963.6655622936369, 3857.3824323591898, 16936.077288328011, 1444.991062721416, 4902.5924516001642, 42977.597585630603, 3464.4415978270558, 614.91825528678135, 729.31266017393546, 15157.973238588396, 8763.9979946570802, 4378.9851806560027, 1634.5709499025461, 2549.3042061199026, 4469.8539353795459, 3629.717549211663, 1585.8445848710876, 14542.529747426937, 3671.9455039798545, 13809.733349282764, 5043.1411870819857, 2782.3930380690276, 3358.5125066953942, 2925.6986397858341, 5444.9004359193377, 3762.5775128442242, 5109.3815500195833, 4777.6470211709611, 3338.0640023356655, 4454.1005397769923, 4292.3963408939271, 3038.8123382478984, 3612.1683999902466, 3717.5216766179628, 3482.2748165985336, 2.1900571195648215, 2.745386648833283, 262.01653296440531, 1.9353038327490977, 1.9167016874890348, 130.1420800545813, 129.40961689176072, 134.95381558650493, 255.37846855920421, 265.73154670319661, 1428.7423557334303, 125.29409491984717, 128.68602481399537, 124.60325215700558, 1800.5683760962609, 255.27104489708481, 374.02446598194501, 248.00788355549727, 125.9469643121804, 247.62420092103986, 1.1946344228078565, 1.1946219172239687, 1.1946150762563597, 1.1946046308231391, 122.20796468324883, 850.54096991148253, 241.71187730975666, 120.41865815948246, 600.00727712943433, 495.82652636339481, 5144.8756591667088, 4406.8128507616948, 2001.1151791944053, 1424.5536646870958, 1583.704026708647, 1519.0911062794053, 610.06151831063232, 17252.230214395197, 5539.6391054505229, 4235.4332651211398, 4704.8867781258859, 5882.3389946516272, 1161.1210969228098, 15936.27375464497, 1597.6494206332377, 6391.5188307297158, 39718.069287833809, 3304.3896965791737, 4206.3307356370378, 3098.8911371680028, 1585.8869178503987, 4100.8317386088638, 13877.242442249368, 1570.9648063312411, 2548.4097889157042, 3472.6606474803757, 13780.963261875642, 5030.2891006726541, 5522.6989253043967, 3672.8828170032552, 3234.8551178348039, 3083.5385925505811, 6871.8674933972161, 4670.7078185538321, 3644.205418176713, 2994.5029265923795, 3350.0045511963658, 3743.0165317074461, 4185.3627570220706, 3015.8036635548292, 3758.2286101099994, 3921.3807922922824, 3823.1974510495961, 3264.1492406832981, 3258.1457217556158, 126.11734794781066, 56.742096759201601, 24.326671392148484, 30.146542644106376, 44.367264631692159, 39.54397839886127, 18.296610455362266, 17.291862923714287, 16.280641384004777, 15.283754311980843, 133.99280752952436, 16.142522462821994, 15.077718673120401, 12.250912072501908, 12.24622493597389, 37.583937342605012, 14.114592224965991, 15.987139646767037, 12.228109523688744, 205.41793188074379, 11.252050377712237, 11.220980793009627, 10.252813389888507, 10.249851093456462, 10.249039674367021, 10.246939929798268, 10.243069337968757, 36.181530010362387, 10.184784597011152, 9.2489320468509213, 32.330865341056686, 25.771447549830455, 19.378234870261533, 25.573240489591427, 196.98464596678892, 116.26095024059913, 124.36599276124086, 158.9948541517775, 184.2027653598461, 302.59750804937278, 138.57791622606834, 35.734439644448045, 52.113838220691427, 60.596926882491211, 28.591673383052029, 24.37912651085518, 68.350326245102423, 26.003306899468299, 140.14471411698969, 46.708170426067291, 129.10393745892551, 100.91103483423068, 35.115782454252859, 428.37392181056441, 49.755547756742274, 59.065704640648683, 577.46605600646683, 749.54583776487937, 255.6075120876215, 145.66414968314666, 211.44229855951482, 189.43251022874222, 424.28184041416807, 163.25242864015715, 358.74544141694093, 697.14791152639384, 313.21196640079978, 157.07260013799618, 454.99061644292505, 640.95296219635168, 496.12550461618298, 173.88180863341336, 380.67559786201667, 201.34277856111564, 270.68090500629575, 187.93929045955917, 315.6583016005132, 235.04770351300741, 214.04596319847431, 192.49815998957294, 171.0076476987235, 171.37839534743847, 214.55771340972439, 171.11786333315831, 172.63047349657276, 166.76892833179113, 146.61324068633184, 210.68030016597891, 81.609630989186954, 75.240362564157891, 83.175387358845683, 207.58913369719434, 53.235486685202424, 50.521039287737594, 42.280082740735438, 149.32156893568671, 41.361691990671986, 38.627681958271914, 36.792338994428121, 36.789877282963339, 34.96861123508743, 34.958679362022288, 34.958499616202559, 34.956955092014304, 42.058906860556533, 32.185414336576123, 30.367313631370131, 29.474270117011201, 29.408251449236062, 25.802181923738242, 24.895346314378049, 24.877111512305319, 23.063487707113342, 23.055261797659146, 66.374527614336017, 49.334346882595128, 84.122591696845205, 133.02495950130037, 54.840591144640314, 68.819332178150574, 131.62685696245487, 855.90384926030276, 591.41068258797634, 364.99801866019266, 664.40689819169097, 398.04792099831059, 662.36255656054891, 477.47972947748229, 568.67647732263254, 291.95320581288166, 820.8789968419087, 680.7991391502585, 768.91158484913751, 404.89630623429144, 296.82464179049686, 126.2599267342795, 644.82771587308275, 219.16850583745676, 209.82128843033965, 147.22383555022907, 188.2405419833824, 330.13787526977859, 645.23322061411727, 163.55402723321771, 148.87119455516606, 225.15227055759789, 198.49345424316192, 179.84844265591227, 190.98951091521138, 156.85426674626308, 31.064934337254936, 28.349451891346476, 27.430663292215105, 23.803023782187957, 43.789552966370344, 17.354381589566565, 14.709145001332756, 12.85359980816051, 11.993628979081581, 13.687759626857712, 11.084899273136308, 11.08488902828346, 11.084826558099859, 10.175741942519801, 14.394445364871949, 14.372933660497738, 9.2683532771879431, 9.2396291224494966, 8.3591285065709702, 10.019876626921608, 33.456989407018753, 8.3370645456669674, 9.1493866978004164, 16.536522353879434, 7.3992979149734941, 7.3674626181776315, 6.5419960335952982, 6.5418178627490384, 6.5393561286735125, 6.5258340932709515, 11.343957650025674, 15.283517739020578, 21.511347934560845, 36.819972460413545, 39.955287145814026, 12.036321295804767, 63.948003873618568, 53.911853574726329, 56.717239650336118, 23.923709578330893, 58.639463099219846, 14.686358900908331, 57.860951357691917, 30.789697305271115, 13.707248178600702, 111.17220679392055, 80.120646580090394, 18.605563338236461, 18.937184058050065, 26.773309601542383, 76.701268960834099, 19.237045576960046, 234.47049668882644, 115.87192539455691, 70.199344227270984, 169.86277368918158, 138.69137458804116, 33.353569134164438, 42.630686890308304, 58.22526312779187, 218.98462065885857, 140.07966076219665, 102.78724142813675, 48.701693636964301, 88.163964917021858, 57.481688863641033, 102.62631601272604, 70.125204633250306, 84.805644672089088, 72.565580265658255, 121.75662941017995, 73.409277549492742, 61.753422728190245, 77.374447211828183, 71.111652709402577, 61.533639517254997, 63.605571120115457, 56.698129868387362], \"Total\": [31543.0, 11660.0, 16484.0, 10343.0, 83677.0, 10681.0, 7862.0, 6738.0, 6658.0, 4884.0, 4930.0, 7391.0, 8670.0, 6138.0, 3860.0, 4132.0, 30940.0, 4699.0, 6221.0, 3116.0, 2494.0, 2584.0, 2392.0, 3214.0, 2286.0, 7994.0, 2955.0, 6700.0, 6250.0, 7722.0, 2.9715924114360202, 2.9711782681577579, 2.9711282551446043, 2.9708925324968538, 2.9701798838736808, 2.9701265371763297, 201.0721756893424, 2.96994190767716, 201.06383832047206, 610.06870931104254, 205.99412750232352, 201.02619734320069, 2874.9755211825673, 204.02428991744864, 401.07671401400017, 204.01552488023074, 401.07419845627732, 2862.6023872218457, 201.00449082467941, 408.07835121856459, 200.99726714722584, 2718.3031736533349, 200.99438166533267, 610.87965920319346, 200.99277339844693, 201.99307923843858, 1412.8974958577651, 401.01056702919419, 10462.960192448843, 7266.4177891459149, 1801.0406807156626, 1256.2477777759646, 3077.9429615480894, 3200.8160872899507, 1862.9414228701667, 628.12253642895223, 10681.847340426515, 9863.5015633160783, 8670.2110894929374, 6700.4911523462715, 30802.56341594761, 2437.0721372410089, 8705.3782773407438, 83677.214436898445, 6167.1046392693988, 1018.9892259339205, 1221.5178084323595, 29217.07765095797, 16484.173709245071, 7994.4420526617068, 2838.7223540833706, 4554.1293898503873, 8366.8955608383567, 6800.0818891897188, 2802.2101422319829, 30940.562089786483, 7187.6351711282659, 31543.607600817792, 10284.407977457102, 5326.8550732930635, 6658.7994276447116, 5676.8030188770517, 11980.401590509089, 7722.348810538313, 11660.221463194317, 10838.182487435139, 6841.8983245002019, 10343.13602603192, 9889.9952062673219, 6076.9658283160425, 7924.4849745157508, 8506.7398418306475, 8707.1857378490276, 2.956954191854638, 3.9558082770877858, 400.21255505885699, 2.9588231031643715, 2.9589644804200441, 201.50414964627856, 200.60104485752379, 210.61669574697484, 406.15872321322757, 423.40204602399609, 2284.181249160722, 200.63029237241514, 206.49276388533397, 200.63650843014003, 2902.6962094816799, 412.43161512195508, 607.91497501797937, 406.10945309736644, 206.54383129425813, 406.31881175631207, 1.9613389881064349, 1.9613378971328941, 1.9613373003343182, 1.9613363890860818, 201.65801055978321, 1405.5652907215708, 401.36124732722971, 200.66782202010606, 1002.2840605916697, 832.74893068725919, 8707.1857378490276, 7549.7169401111905, 3412.8054599685274, 2428.517149640742, 2713.1933419194124, 2629.4286778906348, 1037.1019926574622, 31543.607600817792, 9889.9952062673219, 7533.0809925076574, 8506.7398418306475, 10838.182487435139, 2018.7778606472577, 30940.562089786483, 2822.037467081142, 11980.401590509089, 83677.214436898445, 6138.8029884588159, 7924.4849745157508, 5810.8630261057315, 2852.1923764986782, 7862.6024527088621, 29217.07765095797, 2871.1264155167455, 4884.1044794013196, 6841.8983245002019, 30802.56341594761, 10284.407977457102, 11660.221463194317, 7391.270483426214, 6500.4272589896445, 6221.4791506456158, 16484.173709245071, 10343.13602603192, 7722.348810538313, 6076.9658283160425, 7187.6351711282659, 8366.8955608383567, 9863.5015633160783, 6250.4652714588146, 8705.3782773407438, 10681.847340426515, 10462.960192448843, 7994.4420526617068, 8670.2110894929374, 128.60808535119119, 58.218343439940412, 25.100145667968846, 31.115082168092847, 46.116088154827715, 41.112585624766403, 19.066836945851655, 18.061327740968174, 17.055611846265059, 16.050236146975433, 141.21864472225616, 17.042647995124032, 16.031858654459558, 13.031912103626018, 13.031534887643877, 40.02161733574102, 15.030162141178055, 17.029380411085441, 13.029474408318693, 218.94342827213603, 12.026965507293268, 12.024182568973021, 11.021750351443357, 11.021725139243602, 11.021550486616437, 11.021333962819108, 11.020748671802785, 38.980486476294494, 11.015779807871763, 10.016353763389612, 35.135052890815082, 27.976575875262988, 20.994751837839019, 27.956668530983265, 224.6633750358618, 131.30175064892285, 141.18463669569678, 182.95915189280373, 213.38037391593195, 360.56900626278986, 160.73386371520246, 39.851445053452984, 59.634883408522327, 70.46604082993332, 31.883877717625307, 26.936330464268327, 83.061938567357927, 28.906518913960792, 191.1237878229833, 56.392120826654534, 191.95245953144507, 154.86362436142383, 42.547304914496834, 1097.681033872864, 67.693927002147575, 86.732292814124349, 2370.1575504655661, 3860.0097844475968, 904.56252495656645, 410.10329302790365, 839.62947192808167, 725.69109784560442, 3214.6256466462664, 580.25793878176842, 2955.347850437317, 11660.221463194317, 2616.0049321890874, 640.3638382768313, 6138.8029884588159, 16484.173709245071, 10343.13602603192, 1019.4359235352932, 10681.847340426515, 1628.0100720510259, 7994.4420526617068, 1613.201930164061, 30940.562089786483, 6700.4911523462715, 6500.4272589896445, 3116.9811100189122, 1216.4272512808946, 1839.1507891404069, 83677.214436898445, 2415.7857196291561, 7862.6024527088621, 167.60717674578379, 147.46534360612003, 212.46528299455656, 82.456296410415604, 76.046226147944367, 84.285283357314086, 210.64682599717253, 54.071133598883421, 51.324412340433959, 43.084978724534309, 152.20503410256606, 42.168247550361819, 39.421674673396836, 37.590643272947844, 37.590674087522252, 35.758566846245699, 35.759095809814752, 35.759334001923925, 35.759730829371932, 43.106707377615294, 33.01214505835361, 31.180777402349058, 30.265482002079686, 30.266337063167267, 26.602933813583103, 25.687406133421117, 25.689006328885846, 23.856230270795155, 23.85736987136195, 68.709985949668365, 51.326544452544987, 88.961424278089112, 142.64853877163819, 59.536414307631794, 80.642177932086696, 203.23094477021965, 2494.1846115862581, 1812.5777852122917, 972.86914246766548, 2286.3098031028367, 1405.4571605925275, 3116.9811100189122, 1905.0562970252854, 2584.935927931987, 914.16157130205499, 6738.8936912234803, 4930.156223870863, 7862.6024527088621, 2679.8619927608142, 1736.2050014936317, 327.06181589087959, 10343.13602603192, 1255.6243010413662, 1212.5950816324396, 551.51693098460032, 1115.6938401436616, 7391.270483426214, 83677.214436898445, 1001.2884092429349, 755.37408701480138, 8670.2110894929374, 4699.8656594587956, 2370.1575504655661, 31543.607600817792, 2816.3049734468059, 31.865249439080873, 29.138066982187418, 28.229634380696659, 24.594587173345694, 45.59367807631417, 18.24157593818212, 15.506606505757933, 13.688995581257826, 12.780014946079765, 14.610496825082544, 11.871233654830393, 11.87123553739378, 11.871244255930883, 10.962495483293022, 15.508718127938094, 15.508867185941735, 10.053571012465245, 10.056345378455362, 9.1448522048398146, 10.96491310804584, 36.638711830905322, 9.1471539727082156, 10.062362661828523, 18.325984068554469, 8.2365398481992003, 8.237226198060867, 7.3272687457330994, 7.327279173378912, 7.3275279302211924, 7.3287230862029382, 12.785024885016146, 17.357782896936715, 24.611903780871337, 42.812283170817928, 47.366552548233855, 13.781088967155119, 83.932437130756199, 72.921209958205708, 80.265731363971639, 30.144551818073328, 89.421393642571275, 17.520370682097187, 94.449070880483092, 43.770837129386663, 16.429553452789623, 317.34774775089954, 363.40207841615199, 29.354187835566684, 30.66876457235346, 61.774727239251945, 525.64002323593172, 31.953856418766925, 11660.221463194317, 2392.4881485800811, 710.9626013057258, 6658.7994276447116, 4884.1044794013196, 129.14808301961759, 257.42883614830299, 674.87352622738433, 31543.607600817792, 10681.847340426515, 4132.9817849407009, 475.77080516189744, 6738.8936912234803, 1194.218239195302, 16484.173709245071, 2955.347850437317, 7862.6024527088621, 4699.8656594587956, 83677.214436898445, 6221.4791506456158, 2138.7699657109597, 10343.13602603192, 8670.2110894929374, 3087.5596845721425, 7391.270483426214, 2874.9755211825673], \"logprob\": [30.0, 29.0, 28.0, 27.0, 26.0, 25.0, 24.0, 23.0, 22.0, 21.0, 20.0, 19.0, 18.0, 17.0, 16.0, 15.0, 14.0, 13.0, 12.0, 11.0, 10.0, 9.0, 8.0, 7.0, 6.0, 5.0, 4.0, 3.0, 2.0, 1.0, -12.6134, -12.6381, -12.641299999999999, -12.656599999999999, -12.7036, -12.707599999999999, -8.4970999999999997, -12.7197, -8.5071999999999992, -7.4229000000000003, -8.5214999999999996, -8.5462000000000007, -5.8878000000000004, -8.5336999999999996, -7.8578999999999999, -8.5357000000000003, -7.8606999999999996, -5.8978000000000002, -8.5685000000000002, -7.8624999999999998, -8.5760000000000005, -5.9734999999999996, -8.5801999999999996, -7.4702000000000002, -8.5818999999999992, -8.5778999999999996, -6.6334, -7.8954000000000004, -4.6364999999999998, -5.0034000000000001, -6.4067999999999996, -6.7648999999999999, -5.8780000000000001, -5.8522999999999996, -6.3834999999999997, -7.4530000000000003, -4.6870000000000003, -4.7680999999999996, -4.8948999999999998, -5.1470000000000002, -3.6676000000000002, -6.1288999999999998, -4.9073000000000002, -2.7363, -5.2545000000000002, -6.9832999999999998, -6.8127000000000004, -3.7785000000000002, -4.3263999999999996, -5.0202, -6.0056000000000003, -5.5612000000000004, -4.9996999999999998, -5.2079000000000004, -6.0358999999999998, -3.8199999999999998, -5.1962999999999999, -3.8717000000000001, -4.8789999999999996, -5.4737, -5.2854999999999999, -5.4234999999999998, -4.8022999999999998, -5.1718999999999999, -4.8658999999999999, -4.9330999999999996, -5.2915999999999999, -5.0031999999999996, -5.0401999999999996, -5.3856000000000002, -5.2126999999999999, -5.1840000000000002, -5.2492999999999999, -12.5868, -12.360799999999999, -7.8022999999999998, -12.7104, -12.7201, -8.5021000000000004, -8.5076999999999998, -8.4657999999999998, -7.8278999999999996, -7.7881999999999998, -6.1060999999999996, -8.5399999999999991, -8.5132999999999992, -8.5456000000000003, -5.8747999999999996, -7.8284000000000002, -7.4463999999999997, -7.8571999999999997, -8.5348000000000006, -7.8587999999999996, -13.1929, -13.1929, -13.1929, -13.1929, -8.5649999999999995, -6.6247999999999996, -7.8829000000000002, -8.5797000000000008, -6.9737, -7.1645000000000003, -4.8249000000000004, -4.9798, -5.7691999999999997, -6.1090999999999998, -6.0031999999999996, -6.0448000000000004, -6.9570999999999996, -3.6150000000000002, -4.7510000000000003, -5.0194999999999999, -4.9142999999999999, -4.6909999999999998, -6.3136000000000001, -3.6943000000000001, -5.9943999999999997, -4.6079999999999997, -2.7810999999999999, -5.2676999999999996, -5.0263, -5.3319000000000001, -6.0018000000000002, -5.0517000000000003, -3.8327, -6.0111999999999997, -5.5274999999999999, -5.218, -3.8395999999999999, -4.8475000000000001, -4.7541000000000002, -5.1619999999999999, -5.2889999999999997, -5.3369, -4.5354999999999999, -4.9215999999999998, -5.1698000000000004, -5.3662000000000001, -5.2539999999999996, -5.1429999999999998, -5.0312999999999999, -5.3590999999999998, -5.1390000000000002, -5.0964999999999998, -5.1218000000000004, -5.2798999999999996, -5.2817999999999996, -5.6649000000000003, -6.4635999999999996, -7.3105000000000002, -7.0960000000000001, -6.7096, -6.8247, -7.5953999999999997, -7.6519000000000004, -7.7121000000000004, -7.7752999999999997, -5.6043000000000003, -7.7206000000000001, -7.7888999999999999, -7.9965000000000002, -7.9969000000000001, -6.8754999999999997, -7.8548999999999998, -7.7302999999999997, -7.9984000000000002, -5.1769999999999996, -8.0815000000000001, -8.0843000000000007, -8.1745000000000001, -8.1747999999999994, -8.1748999999999992, -8.1751000000000005, -8.1754999999999995, -6.9135, -8.1812000000000005, -8.2775999999999996, -7.0260999999999996, -7.2527999999999997, -7.5378999999999996, -7.2605000000000004, -5.2190000000000003, -5.7462999999999997, -5.6788999999999996, -5.4332000000000003, -5.2861000000000002, -4.7896999999999998, -5.5707000000000004, -6.9260000000000002, -6.5487000000000002, -6.3978000000000002, -7.149, -7.3083999999999998, -6.2774000000000001, -7.2439, -5.5594000000000001, -6.6581999999999999, -5.6414999999999997, -5.8878000000000004, -6.9433999999999996, -4.4420999999999999, -6.5949999999999998, -6.4234, -4.1433999999999997, -3.8826000000000001, -4.9584000000000001, -5.5208000000000004, -5.1481000000000003, -5.2580999999999998, -4.4516999999999998, -5.4067999999999996, -4.6195000000000004, -3.9550999999999998, -4.7552000000000003, -5.4454000000000002, -4.3818000000000001, -4.0391000000000004, -4.2953000000000001, -5.3437000000000001, -4.5601000000000003, -5.1970999999999998, -4.9010999999999996, -5.266, -4.7473999999999998, -5.0423, -5.1359000000000004, -5.242, -5.3604000000000003, -5.3582000000000001, -5.1334999999999997, -5.3597000000000001, -5.3509000000000002, -5.3395000000000001, -5.4683000000000002, -5.1056999999999997, -6.0541, -6.1353999999999997, -6.0350999999999999, -5.1204999999999998, -6.4813999999999998, -6.5336999999999996, -6.7118000000000002, -5.4500000000000002, -6.7336999999999998, -6.8021000000000003, -6.8507999999999996, -6.8509000000000002, -6.9016000000000002, -6.9019000000000004, -6.9019000000000004, -6.9020000000000001, -6.7169999999999996, -6.9846000000000004, -7.0427, -7.0726000000000004, -7.0747999999999998, -7.2055999999999996, -7.2413999999999996, -7.2420999999999998, -7.3178000000000001, -7.3182, -6.2607999999999997, -6.5575000000000001, -6.0237999999999996, -5.5655000000000001, -6.4516999999999998, -6.2245999999999997, -5.5761000000000003, -3.7039, -4.0735999999999999, -4.5561999999999996, -3.9571999999999998, -4.4695, -3.9603000000000002, -4.2876000000000003, -4.1128, -4.7794999999999996, -3.7456999999999998, -3.9327999999999999, -3.8111000000000002, -4.4524999999999997, -4.7629000000000001, -5.6177000000000001, -3.9870999999999999, -5.0662000000000003, -5.1097999999999999, -5.4641000000000002, -5.2183999999999999, -4.6566000000000001, -3.9864999999999999, -5.3589000000000002, -5.4530000000000003, -5.0392999999999999, -5.1653000000000002, -5.2640000000000002, -5.2039, -5.4008000000000003, -5.8909000000000002, -5.9824000000000002, -6.0152999999999999, -6.1570999999999998, -5.5476000000000001, -6.4730999999999996, -6.6384999999999996, -6.7732999999999999, -6.8426, -6.7104999999999997, -6.9214000000000002, -6.9214000000000002, -6.9214000000000002, -7.0069999999999997, -6.6600999999999999, -6.6616, -7.1003999999999996, -7.1035000000000004, -7.2035999999999998, -7.0224000000000002, -5.8167, -7.2061999999999999, -7.1132999999999997, -6.5213999999999999, -7.3255999999999997, -7.3299000000000003, -7.4486999999999997, -7.4486999999999997, -7.4490999999999996, -7.4512, -6.8982999999999999, -6.6002000000000001, -6.2584, -5.7209000000000003, -5.6391999999999998, -6.8390000000000004, -5.1688999999999998, -5.3395999999999999, -5.2888999999999999, -6.1520999999999999, -5.2556000000000003, -6.6399999999999997, -5.2689000000000004, -5.8997999999999999, -6.7089999999999996, -4.6158999999999999, -4.9433999999999996, -6.4035000000000002, -6.3857999999999997, -6.0396000000000001, -4.9870000000000001, -6.3700999999999999, -3.8696000000000002, -4.5744999999999996, -5.0755999999999997, -4.1920000000000002, -4.3947000000000003, -5.8197999999999999, -5.5743999999999998, -5.2625999999999999, -3.9380000000000002, -4.3846999999999996, -4.6943000000000001, -5.4412000000000003, -4.8478000000000003, -5.2755000000000001, -4.6959, -5.0766999999999998, -4.8865999999999996, -5.0425000000000004, -4.5248999999999997, -5.0308999999999999, -5.2038000000000002, -4.9782999999999999, -5.0627000000000004, -5.2073999999999998, -5.1742999999999997, -5.2892000000000001]}};\n",
       "\n",
       "function LDAvis_load_lib(url, callback){\n",
       "  var s = document.createElement('script');\n",
       "  s.src = url;\n",
       "  s.async = true;\n",
       "  s.onreadystatechange = s.onload = callback;\n",
       "  s.onerror = function(){console.warn(\"failed to load library \" + url);};\n",
       "  document.getElementsByTagName(\"head\")[0].appendChild(s);\n",
       "}\n",
       "\n",
       "if(typeof(LDAvis) !== \"undefined\"){\n",
       "   // already loaded: just create the visualization\n",
       "   !function(LDAvis){\n",
       "       new LDAvis(\"#\" + \"ldavis_el7248314932104446667961\", ldavis_el7248314932104446667961_data);\n",
       "   }(LDAvis);\n",
       "}else if(typeof define === \"function\" && define.amd){\n",
       "   // require.js is available: use it to load d3/LDAvis\n",
       "   require.config({paths: {d3: \"https://cdnjs.cloudflare.com/ajax/libs/d3/3.5.5/d3.min\"}});\n",
       "   require([\"d3\"], function(d3){\n",
       "      window.d3 = d3;\n",
       "      LDAvis_load_lib(\"https://cdn.rawgit.com/bmabey/pyLDAvis/files/ldavis.v1.0.0.js\", function(){\n",
       "        new LDAvis(\"#\" + \"ldavis_el7248314932104446667961\", ldavis_el7248314932104446667961_data);\n",
       "      });\n",
       "    });\n",
       "}else{\n",
       "    // require.js not available: dynamically load d3 & LDAvis\n",
       "    LDAvis_load_lib(\"https://cdnjs.cloudflare.com/ajax/libs/d3/3.5.5/d3.min.js\", function(){\n",
       "         LDAvis_load_lib(\"https://cdn.rawgit.com/bmabey/pyLDAvis/files/ldavis.v1.0.0.js\", function(){\n",
       "                 new LDAvis(\"#\" + \"ldavis_el7248314932104446667961\", ldavis_el7248314932104446667961_data);\n",
       "            })\n",
       "         });\n",
       "}\n",
       "</script>"
      ],
      "text/plain": [
       "<IPython.core.display.HTML object>"
      ]
     },
     "execution_count": 119,
     "metadata": {},
     "output_type": "execute_result"
    }
   ],
   "source": [
    "openstack_data_HORIZON =  pyLDAvis.gensim.prepare(lda_HORIZON, corpus_HORIZON, dictionary_HORIZON)\n",
    "pyLDAvis.display(openstack_data_HORIZON)"
   ]
  },
  {
   "cell_type": "code",
   "execution_count": 120,
   "metadata": {
    "collapsed": false
   },
   "outputs": [],
   "source": [
    "pyLDAvis.save_html(openstack_data_NEUTRON,\"openstack_HORIZON.html\")\n",
    "#pyLDAvis.save_html(vis_data,outpth+'LDA_Visualization.html')"
   ]
  },
  {
   "cell_type": "code",
   "execution_count": 121,
   "metadata": {
    "collapsed": false
   },
   "outputs": [
    {
     "name": "stdout",
     "output_type": "stream",
     "text": [
      "LdaModel(num_terms=4996, num_topics=5, decay=0.5, chunksize=2000)\n"
     ]
    }
   ],
   "source": [
    "print(lda_HORIZON)"
   ]
  },
  {
   "cell_type": "code",
   "execution_count": 122,
   "metadata": {
    "collapsed": false
   },
   "outputs": [],
   "source": [
    "token_table=pd.DataFrame(openstack_data_NEUTRON.token_table)\n",
    "token_table.to_csv(\"open_stack_token_table_HORIZON.csv\")"
   ]
  },
  {
   "cell_type": "code",
   "execution_count": 94,
   "metadata": {
    "collapsed": false
   },
   "outputs": [
    {
     "ename": "NameError",
     "evalue": "name 'dictionary' is not defined",
     "output_type": "error",
     "traceback": [
      "\u001b[0;31m---------------------------------------------------------------------------\u001b[0m",
      "\u001b[0;31mNameError\u001b[0m                                 Traceback (most recent call last)",
      "\u001b[0;32m<ipython-input-94-21879c4cf53d>\u001b[0m in \u001b[0;36m<module>\u001b[0;34m()\u001b[0m\n\u001b[1;32m      1\u001b[0m \u001b[0mtopic\u001b[0m\u001b[1;33m=\u001b[0m\u001b[1;33m[\u001b[0m\u001b[1;33m]\u001b[0m\u001b[1;33m\u001b[0m\u001b[0m\n\u001b[1;32m      2\u001b[0m \u001b[1;32mfor\u001b[0m \u001b[0mi\u001b[0m \u001b[1;32min\u001b[0m \u001b[0mdf\u001b[0m\u001b[1;33m.\u001b[0m\u001b[0mfield_words_bag\u001b[0m\u001b[1;33m:\u001b[0m\u001b[1;33m\u001b[0m\u001b[0m\n\u001b[0;32m----> 3\u001b[0;31m     \u001b[0mbow_vector\u001b[0m \u001b[1;33m=\u001b[0m \u001b[0mdictionary\u001b[0m\u001b[1;33m.\u001b[0m\u001b[0mdoc2bow\u001b[0m\u001b[1;33m(\u001b[0m\u001b[0mi\u001b[0m\u001b[1;33m)\u001b[0m\u001b[1;33m\u001b[0m\u001b[0m\n\u001b[0m\u001b[1;32m      4\u001b[0m     \u001b[0mlda_vector\u001b[0m \u001b[1;33m=\u001b[0m \u001b[0mlda\u001b[0m\u001b[1;33m[\u001b[0m\u001b[0mbow_vector\u001b[0m\u001b[1;33m]\u001b[0m\u001b[1;33m\u001b[0m\u001b[0m\n\u001b[1;32m      5\u001b[0m     \u001b[0mlda_vector\u001b[0m\u001b[1;33m=\u001b[0m\u001b[0msorted\u001b[0m\u001b[1;33m(\u001b[0m\u001b[0mlda_vector\u001b[0m\u001b[1;33m,\u001b[0m \u001b[0mkey\u001b[0m\u001b[1;33m=\u001b[0m\u001b[1;32mlambda\u001b[0m \u001b[0mx\u001b[0m\u001b[1;33m:\u001b[0m \u001b[0mx\u001b[0m\u001b[1;33m[\u001b[0m\u001b[1;36m1\u001b[0m\u001b[1;33m]\u001b[0m\u001b[1;33m,\u001b[0m\u001b[0mreverse\u001b[0m\u001b[1;33m=\u001b[0m\u001b[0mTrue\u001b[0m\u001b[1;33m)\u001b[0m\u001b[1;33m\u001b[0m\u001b[0m\n",
      "\u001b[0;31mNameError\u001b[0m: name 'dictionary' is not defined"
     ]
    }
   ],
   "source": [
    "topic=[]\n",
    "for i in df.field_words_bag:\n",
    "    bow_vector = dictionary.doc2bow(i)\n",
    "    lda_vector = lda[bow_vector]\n",
    "    lda_vector=sorted(lda_vector, key=lambda x: x[1],reverse=True)\n",
    "    topic.append(lda_vector[0][-2])"
   ]
  },
  {
   "cell_type": "code",
   "execution_count": null,
   "metadata": {
    "collapsed": true
   },
   "outputs": [],
   "source": [
    "df['Cluster']=pd.Series(topic)"
   ]
  },
  {
   "cell_type": "code",
   "execution_count": null,
   "metadata": {
    "collapsed": true
   },
   "outputs": [],
   "source": [
    "df.to_csv('df.csv', encoding='utf-8')"
   ]
  },
  {
   "cell_type": "code",
   "execution_count": null,
   "metadata": {
    "collapsed": true
   },
   "outputs": [],
   "source": [
    "del(df)"
   ]
  },
  {
   "cell_type": "code",
   "execution_count": null,
   "metadata": {
    "collapsed": true
   },
   "outputs": [],
   "source": [
    "topic=[]\n",
    "for i in df_st.field_words_bag:\n",
    "    bow_vector = dictionary.doc2bow(i)\n",
    "    lda_vector = lda[bow_vector]\n",
    "    lda_vector=sorted(lda_vector, key=lambda x: x[1],reverse=True)\n",
    "    topic.append(lda_vector[0][-2])"
   ]
  },
  {
   "cell_type": "code",
   "execution_count": null,
   "metadata": {
    "collapsed": true
   },
   "outputs": [],
   "source": [
    "df_st['Cluster']=pd.Series(topic)"
   ]
  },
  {
   "cell_type": "code",
   "execution_count": null,
   "metadata": {
    "collapsed": false
   },
   "outputs": [],
   "source": [
    "df_st.to_csv('df_st.csv', encoding='utf-8')\n"
   ]
  },
  {
   "cell_type": "code",
   "execution_count": null,
   "metadata": {
    "collapsed": true
   },
   "outputs": [],
   "source": [
    "del(df_st)"
   ]
  },
  {
   "cell_type": "code",
   "execution_count": null,
   "metadata": {
    "collapsed": true
   },
   "outputs": [],
   "source": [
    "topic=[]\n",
    "for i in df_ask.field_words_bag:\n",
    "    bow_vector = dictionary.doc2bow(i)\n",
    "    lda_vector = lda[bow_vector]\n",
    "    lda_vector=sorted(lda_vector, key=lambda x: x[1],reverse=True)\n",
    "    topic.append(lda_vector[0][-2])"
   ]
  },
  {
   "cell_type": "code",
   "execution_count": null,
   "metadata": {
    "collapsed": true
   },
   "outputs": [],
   "source": [
    "df_ask['Cluster']=pd.Series(topic)"
   ]
  },
  {
   "cell_type": "code",
   "execution_count": null,
   "metadata": {
    "collapsed": false
   },
   "outputs": [],
   "source": [
    "df_ask.to_csv('df_ask.csv', encoding='utf-8')"
   ]
  }
 ],
 "metadata": {
  "anaconda-cloud": {
   "environment": null,
   "summary": "ML_FaultGenes",
   "url": "https://anaconda.org/zainabsayyed/openstack_ml"
  },
  "kernelspec": {
   "display_name": "Python [default]",
   "language": "python",
   "name": "python2"
  },
  "language_info": {
   "codemirror_mode": {
    "name": "ipython",
    "version": 2
   },
   "file_extension": ".py",
   "mimetype": "text/x-python",
   "name": "python",
   "nbconvert_exporter": "python",
   "pygments_lexer": "ipython2",
   "version": "2.7.12"
  }
 },
 "nbformat": 4,
 "nbformat_minor": 1
}
