{
 "cells": [
  {
   "cell_type": "markdown",
   "metadata": {},
   "source": [
    "# OpenStack_Project_Machine Learning Model"
   ]
  },
  {
   "cell_type": "code",
   "execution_count": null,
   "metadata": {
    "collapsed": true
   },
   "outputs": [],
   "source": [
    "import pandas as pd\n",
    "from nltk.corpus import stopwords \n",
    "import nltk\n",
    "from nltk.corpus import treebank\n",
    "import nltk.stem \n",
    "from nltk import stem\n",
    "import numpy as np\n",
    "import string\n",
    "import re\n",
    "import random\n",
    "from nltk.stem.porter import PorterStemmer\n",
    "from nltk.stem.snowball import SnowballStemmer\n",
    "from nltk.stem.wordnet import WordNetLemmatizer"
   ]
  },
  {
   "cell_type": "code",
   "execution_count": null,
   "metadata": {
    "collapsed": true
   },
   "outputs": [],
   "source": [
    "#Randomly select 1000 from bugslist and report (launch pad and stack over flow)\n",
    "from nltk.stem import PorterStemmer\n",
    "ps = PorterStemmer()"
   ]
  },
  {
   "cell_type": "code",
   "execution_count": null,
   "metadata": {
    "collapsed": true
   },
   "outputs": [],
   "source": [
    "#Projects in Open-Stacks"
   ]
  },
  {
   "cell_type": "code",
   "execution_count": null,
   "metadata": {
    "collapsed": false
   },
   "outputs": [],
   "source": [
    "Project=[\"NOVA\"]\n",
    "#,\"NEUTRON\",\"GLANCE\",\"IRONIC\",\"MAGNUM\",\"STORLETS\",\"ZUN\",\"SWIFT\",\"CINDER\",\"MANILA\",\"KARBOR\",\"FREEZER\",\"DESIGNATE\",\"DRAGONFLOW\",\"KURYR\",\"OCTAVIA\",\"TACKER\",\"TRICIRCLE\",\"TROVE\",\"SAHARA\",\"SEARCHLIGHT\",\"KEYSTONE\",\"BARBICAN\",\"CONGRESS\",\"MISTRAL\",\"HORIZON\",\"OSCLIENT (CLI)\",\"RALLY\",\"SENLIN\",\"VITRAGE\",\"WATCHER\",\"CHEF OPENSTACK\",\"KOLLA\",\"OPENSTACK CHARMS\",\"OPENSTACK-ANSIBLE\",\"PUPPET OPENSTACK\",\"TRIPLEO\",\"HEAT\",\"ZAQAR\",\"MURANO\",\"SOLUM\",\"CEILOMETER\",\"CLOUDKITTY\",\"MONASCA\",\"AODH\",\"PANKO\"]"
   ]
  },
  {
   "cell_type": "code",
   "execution_count": null,
   "metadata": {
    "collapsed": true
   },
   "outputs": [],
   "source": [
    "#Assigned categories for OpenStack Project\n"
   ]
  },
  {
   "cell_type": "code",
   "execution_count": null,
   "metadata": {
    "collapsed": true
   },
   "outputs": [],
   "source": [
    "Category={\"COMPUTE\":[\"NOVA\",\"GLANCE\",\"IRONIC\",\"MAGNUM\",\"STORLETS\",\"ZUN\"],\"STORAGE,BACKUP AND RECOVERY\":[\"SWIFT\",\"CINDER\",\"MANILA\",\"KARBOR\",\"FREEZER\"],\"NETWORKING AND CONTENT DELIVERY\":[\"NEUTRON\",\"DESIGNATE\",\"DRAGONFLOW\",\"KURYR\",\"OCTAVIA\",\"TACKER\",\"TRICIRCLE\"],\"DATA AND ANALYTICS\":[\"TROVE\",\"SAHARA\",\"SEARCHLIGHT\"],\"SECURITY AND IDENTITY COMPLIANCE\":[\"KEYSTONE\",\"BARBICAN\",\"CONGRESS\",\"MISTRAL\"],\"MANAGEMENT TOOLS\":[\"HORIZON\",\"OSCLIENT (CLI)\",\n",
    "\"RALLY\",\"SENLIN\",\"VITRAGE\",\"WATCHER\"],\"DEPLOYMENT TOOLS\":[\"CHEF OPENSTACK\",\"KOLLA\",\"OPENSTACK CHARMS\",\"OPENSTACK-ANSIBLE\",\"PUPPET OPENSTACK\",\"TRIPLEO\"],\"APPLICATION SERVICES\":[\"HEAT\",\"ZAQAR\",\"MURANO\",\"SOLUM\"],\"MONITORING AND METERING\":[\"CEILOMETER\",\n",
    "\"CLOUDKITTY\",\"MONASCA\",\"AODH\",\"PANKO\"]}"
   ]
  },
  {
   "cell_type": "code",
   "execution_count": null,
   "metadata": {
    "collapsed": true
   },
   "outputs": [],
   "source": [
    "Project_OpenStack=[\"NOVA\",\"GLANCE\",\"IRONIC\",\"MAGNUM\",\"STORLETS\",\"ZUN\",\"SWIFT\",\"CINDER\",\"MANILA\",\"KARBOR\",\"FREEZER\",\n",
    "\"NEUTRON\",\"DESIGNATE\",\"DRAGONFLOW\",\"KURYR\",\"OCTAVIA\",\"TACKER\",\"TRICIRCLE\",\"TROVE\",\"SAHARA\",\"SEARCHLIGHT\",\"KEYSTONE\",\"BARBICAN\",\"CONGRESS\",\"MISTRAL\",\"HORIZON\",\"OSCLIENT (CLI)\",\"RALLY\",\"SENLIN\",\"VITRAGE\",\"WATCHER\",\"CHEF OPENSTACK\",\"KOLLA\",\"OPENSTACK CHARMS\",\"OPENSTACK-ANSIBLE\",\"PUPPET OPENSTACK\",\"TRIPLEO\",\"HEAT\",\"ZAQAR\",\"MURANO\",\"SOLUM\",\"CEILOMETER\",\"CLOUDKITTY\",\"MONASCA\",\"AODH\",\"PANKO\"]"
   ]
  },
  {
   "cell_type": "code",
   "execution_count": null,
   "metadata": {
    "collapsed": false
   },
   "outputs": [],
   "source": [
    "len(Project)"
   ]
  },
  {
   "cell_type": "code",
   "execution_count": null,
   "metadata": {
    "collapsed": false
   },
   "outputs": [],
   "source": [
    "filename = \"buglist.xlsx\"\n",
    "df_launchpad=pd.read_excel(filename)\n",
    "df=pd.DataFrame(df_launchpad)\n",
    "del(df_launchpad)\n",
    "field=[]\n",
    "for i in df.project:\n",
    "    if i.upper() in Project:\n",
    "        field.append(i.upper())\n",
    "    else:\n",
    "        field.append(i.upper())\n",
    "df=df.drop(['project','component','version','fault_class','fault_type','fault_symptom','severity','priority','status','mitigation','log','repro','submitter','assignee','created','deployment'], axis=1)\n",
    "df=df.assign(Project=pd.Series(field))\n",
    "field=[]\n",
    "count=0\n",
    "for i in df.Project:\n",
    "    count=count+1\n",
    "    for k,v in Category.items():\n",
    "        if i in v:\n",
    "            field.append(k)\n",
    "            break\n",
    "    if len(field)<count:\n",
    "        field.append('Others')\n",
    "#df.set_index=df.bug\n",
    "df=df.assign(Category=pd.Series(field))"
   ]
  },
  {
   "cell_type": "code",
   "execution_count": null,
   "metadata": {
    "collapsed": false
   },
   "outputs": [],
   "source": [
    "len(df)"
   ]
  },
  {
   "cell_type": "code",
   "execution_count": null,
   "metadata": {
    "collapsed": false
   },
   "outputs": [],
   "source": [
    "df.head()"
   ]
  },
  {
   "cell_type": "code",
   "execution_count": null,
   "metadata": {
    "collapsed": false
   },
   "outputs": [],
   "source": [
    "filename = \"ask_os.csv\"\n",
    "df_ask_os = pd.read_csv(filename)\n",
    "df_ask=pd.DataFrame(df_ask_os)\n",
    "del(df_ask_os)"
   ]
  },
  {
   "cell_type": "code",
   "execution_count": null,
   "metadata": {
    "collapsed": false
   },
   "outputs": [],
   "source": [
    "#Add Project column into ask_os\n",
    "field=[]\n",
    "for i in df_ask.answer:\n",
    "    if type(i)== int or type(i)== float:  \n",
    "        continue\n",
    "    i = re.sub(r'[^\\x00-\\x7f]','',i)\n",
    "    if type(i) == type(u''):\n",
    "        i = i.encode(\"utf-8\",'ignore')\n",
    "    data=str(i).split()\n",
    "    for j in data:\n",
    "        if j.upper() in Project:\n",
    "            field.append(j.upper())\n",
    "            \n",
    "df_ask=df_ask.assign(Project=pd.Series(field))\n",
    "field=[]\n",
    "count=0\n",
    "for i in df_ask.Project:\n",
    "    count= count +1\n",
    "    for k,v in Category.items():\n",
    "        if i in v:\n",
    "            field.append(k)\n",
    "            break\n",
    "    if len(field)< count:\n",
    "        field.append('Other')\n",
    "#df.set_index=df.bug\n",
    "df_ask=df_ask.assign(Category=pd.Series(field))"
   ]
  },
  {
   "cell_type": "code",
   "execution_count": null,
   "metadata": {
    "collapsed": false
   },
   "outputs": [],
   "source": [
    "df_ask.head()"
   ]
  },
  {
   "cell_type": "code",
   "execution_count": null,
   "metadata": {
    "collapsed": false
   },
   "outputs": [],
   "source": [
    "#df_ask.set_index=df_ask.url\n",
    "df_ask=df_ask.drop(['answer'],axis=1)"
   ]
  },
  {
   "cell_type": "code",
   "execution_count": null,
   "metadata": {
    "collapsed": true
   },
   "outputs": [],
   "source": [
    "filename = \"report.xlsx\"\n",
    "df_stackoverflow = pd.read_excel(filename)\n",
    "df_st=pd.DataFrame(df_stackoverflow)\n",
    "del(df_stackoverflow)"
   ]
  },
  {
   "cell_type": "code",
   "execution_count": null,
   "metadata": {
    "collapsed": false
   },
   "outputs": [],
   "source": [
    "field=[]\n",
    "for i in df_st.Project:\n",
    "    if i.upper() in Project:\n",
    "        field.append(i.upper())\n",
    "df_st=df_st.drop(['Project','answers','link','date','votes','fetch_url'],axis=1)\n",
    "df_st=df_st.assign(Project=pd.Series(field))\n",
    "#df_st.set_index=df_st.id\n",
    "field=[]\n",
    "count=0\n",
    "for i in df_st.Project:\n",
    "    count = count + 1\n",
    "    for k,v in Category.items():\n",
    "        if i in v:\n",
    "            field.append(k)\n",
    "            break\n",
    "    if len(field)<count:\n",
    "        field.append('Other')\n",
    "#df.set_index=df.bug\n",
    "df_st=df_st.assign(Category=pd.Series(field))"
   ]
  },
  {
   "cell_type": "code",
   "execution_count": null,
   "metadata": {
    "collapsed": false
   },
   "outputs": [],
   "source": [
    "df_st.head()"
   ]
  },
  {
   "cell_type": "code",
   "execution_count": null,
   "metadata": {
    "collapsed": false
   },
   "outputs": [],
   "source": [
    "stop_words=stopwords.words('english')\n",
    "stop_word_dict=[]\n",
    "for i in stop_words:\n",
    "    stop_word_dict.append(str(i.encode(\"utf-8\")))\n",
    "common_words=['',\"aren't\",'ffffffffff','hi','Hi','hello','the']\n",
    "stop_word_dict=stop_word_dict + common_words"
   ]
  },
  {
   "cell_type": "code",
   "execution_count": null,
   "metadata": {
    "collapsed": false
   },
   "outputs": [],
   "source": [
    "print stop_word_dict"
   ]
  },
  {
   "cell_type": "code",
   "execution_count": null,
   "metadata": {
    "collapsed": true
   },
   "outputs": [],
   "source": [
    "#Create tokens and filter out unwanted characters from string"
   ]
  },
  {
   "cell_type": "code",
   "execution_count": null,
   "metadata": {
    "collapsed": false
   },
   "outputs": [],
   "source": [
    "def create_dict(dataframe,field,stop_word_dict):\n",
    "    corpus=[]\n",
    "    for i in field:\n",
    "        \n",
    "        if type(i)== int or type(i)== float:  \n",
    "            continue\n",
    "        i = re.sub(r'[^\\x00-\\x7f]','',i)\n",
    "        for k in i:\n",
    "            if type(k) == type(u''):\n",
    "                k = k.encode(\"utf-8\",'ignore')\n",
    "        corpus.append(str(i).strip())\n",
    "    dataframe['field_corpus']=pd.Series(corpus)\n",
    "    dataframe['field_corpus']=pd.Series( str(i).lower()  if len(str(i)) >0 else '' for i in dataframe.field_corpus)\n",
    "    corpus=[]\n",
    "    for i in dataframe.field_corpus:\n",
    "        data=(str(i))\n",
    "        data=re.sub(r'[^\\x00-\\x7f]','',data) or re.sub(r'[0-9]','',data)\n",
    "        corpus.append(data) \n",
    "    dataframe.field_corpus_new=pd.Series(corpus)\n",
    "    corpus=[]\n",
    "    new_corpus=[]\n",
    "    row_corpus=[]\n",
    "    for i in dataframe.field_corpus_new:\n",
    "        substr=re.split('[^A-Za-z]',i)\n",
    "        for j in substr:\n",
    "            j=j.strip()\n",
    "            if j not in stop_word_dict and len(j)>1:\n",
    "                corpus.append(ps.stem(j))   \n",
    "        new_corpus.append(corpus)\n",
    "        corpus=[]\n",
    "    dataframe.field_words_bag=pd.Series(new_corpus)\n",
    "    field_words_count={}\n",
    "    for i in new_corpus:\n",
    "        for w in i:\n",
    "            field_words_count[w]=field_words_count.get(w,0)+1 \n",
    "    return field_words_count,dataframe.field_words_bag"
   ]
  },
  {
   "cell_type": "code",
   "execution_count": null,
   "metadata": {
    "collapsed": false
   },
   "outputs": [],
   "source": [
    "#Complie and Run piece of script for each project seprately\n",
    "#For testing it's generated for only 3 project Nova, Neutron and Horizon\n",
    "#Extend script to run for all project available on Project field\n",
    "for i in range(0,len(Project)):\n",
    "        globals() ['%s'%Project[i]]= {}"
   ]
  },
  {
   "cell_type": "code",
   "execution_count": null,
   "metadata": {
    "collapsed": false
   },
   "outputs": [],
   "source": [
    "def Project_dict(dataframe,Project):\n",
    "    \n",
    "    for i in range(0,len(Project)):\n",
    "        for j in range(0,len(dataframe)):\n",
    "            if Project[i]==dataframe.Project[j]:\n",
    "                for word in dataframe.field_words_bag[j]:\n",
    "                    #dict[key]=dic.get(key,0)+1\n",
    "                    exec ('%s'%Project[i]+'[\"'+'%s'%word+'\"] = '+'%s'%Project[i]+'.get(\"'+'%s'%word+'\",0)+1')\n",
    "                    #vars()['%s'%Project[i]][word] = vars()['%s'%Project[i]].get(word,0)+1"
   ]
  },
  {
   "cell_type": "code",
   "execution_count": null,
   "metadata": {
    "collapsed": false
   },
   "outputs": [],
   "source": [
    "type(NOVA)"
   ]
  },
  {
   "cell_type": "code",
   "execution_count": null,
   "metadata": {
    "collapsed": false
   },
   "outputs": [],
   "source": [
    "len( NOVA)"
   ]
  },
  {
   "cell_type": "code",
   "execution_count": null,
   "metadata": {
    "collapsed": false
   },
   "outputs": [],
   "source": [
    "Fault_Details_lp= pd.Series(df.fault_description+df.req)\n",
    "#df=df.drop(['fault_description','req'],axis=1)\n",
    "df=df.assign(Fault_Details_lp=Fault_Details_lp.values)\n",
    "launchpad_words_count={}\n",
    "launchpad_words_count,df['field_words_bag']=create_dict(df,df.Fault_Details_lp,stop_word_dict)\n",
    "#df=df.drop(['Fault_Details_lp'],axis=1)\n",
    "Project_dict(df,Project)\n",
    "'''\n",
    "for j in range(0,len(df)):\n",
    "    if df.Project[j] == 'HORIZON':\n",
    "        for k in df.field_words_bag[j]:\n",
    "            HORIZON[k]=HORIZON.get(k,0)+1 \n",
    "my_words_count={}\n",
    "for k,v in launchpad_words_count.items():\n",
    "    my_words_count[k]=my_words_count.get(k,1)+v '''\n",
    "del(launchpad_words_count)"
   ]
  },
  {
   "cell_type": "code",
   "execution_count": null,
   "metadata": {
    "collapsed": false
   },
   "outputs": [],
   "source": [
    "Fault_Details_st= pd.Series(df_st.title+df_st.tags+ df_st.longtext.to_string())\n",
    "#df_st=df_st.drop(['tags','title','longtext'],axis=1)\n",
    "df_st=df_st.assign(Fault_Details_st=Fault_Details_st.values)\n",
    "stackoverflow_words_count={}\n",
    "stackoverflow_words_count,df_st['field_words_bag']=create_dict(df_st,df_st.Fault_Details_st,stop_word_dict)\n",
    "#df_st=df_st.drop(['Fault_Details_st'],axis=1)\n",
    "'''for k,v in stackoverflow_words_count.items():\n",
    "    my_words_count[k]=my_words_count.get(k,1)+v\n",
    "for j in range(0,len(df_st)):\n",
    "    if df_st.Project[j] == 'HORIZON':\n",
    "        for k in df_st.field_words_bag[j]:\n",
    "            HORIZON[k]=HORIZON.get(k,0)+1'''\n",
    "Project_dict(df_st,Project)\n",
    "del(stackoverflow_words_count)"
   ]
  },
  {
   "cell_type": "code",
   "execution_count": null,
   "metadata": {
    "collapsed": false
   },
   "outputs": [],
   "source": [
    "Fault_Details_ask = pd.Series(df_ask.summary+df_ask.title)\n",
    "#df_ask=df_ask.drop(['summary','title'],axis=1)\n",
    "df_ask=df_ask.assign(Fault_Details_ask=Fault_Details_ask.values)\n",
    "ask_words_count={}\n",
    "ask_words_count,df_ask['field_words_bag']=create_dict(df_ask,df_ask.Fault_Details_ask,stop_word_dict)\n",
    "#df_ask=df_ask.drop(['Fault_Details_ask'],axis=1)\n",
    "'''for k,v in ask_words_count.items():\n",
    "    my_words_count[k]=my_words_count.get(k,1)+v\n",
    "for j in range(0,len(df_ask)):\n",
    "    if df_ask.Project[j] == 'HORIZON':\n",
    "        for k in df_ask.field_words_bag[j]:\n",
    "            HORIZON[k]=HORIZON.get(k,0)+1'''\n",
    "Project_dict(df_ask,Project)\n",
    "del(ask_words_count)"
   ]
  },
  {
   "cell_type": "code",
   "execution_count": null,
   "metadata": {
    "collapsed": true
   },
   "outputs": [],
   "source": [
    "#Create combined unique wordlist from all 3 data scources for each project"
   ]
  },
  {
   "cell_type": "code",
   "execution_count": null,
   "metadata": {
    "collapsed": false
   },
   "outputs": [],
   "source": [
    "for i in Project:\n",
    "    mylist=[]\n",
    "    for key, value in sorted(eval('%s'%i).iteritems(), key=lambda (k,v): (v,k), reverse=True):\n",
    "        mylist.append([key,value])\n",
    "    exec('df_wordcount_'+'%s'%i+'=pd.DataFrame('+'%s'%mylist+')')\n",
    "    eval('df_wordcount_'+'%s'%i).to_csv(eval('\"'+'%s'%i+'.csv\"'))\n",
    "    print df_wordcount_NOVA[0]\n",
    "    exec('%s'%i+'_mydict'+'=set(df_wordcount_'+'%s'%i+'[0])')\n",
    "    #del (df_wordcount_+eval('%s'%i))"
   ]
  },
  {
   "cell_type": "code",
   "execution_count": null,
   "metadata": {
    "collapsed": true
   },
   "outputs": [],
   "source": [
    "#Topic Modeling: This script loads a gensim dictionary and associated corpus and applies an LDA model."
   ]
  },
  {
   "cell_type": "code",
   "execution_count": null,
   "metadata": {
    "collapsed": false
   },
   "outputs": [],
   "source": [
    "NOVA.keys()"
   ]
  },
  {
   "cell_type": "markdown",
   "metadata": {},
   "source": [
    "<a href=\"http://radimrehurek.com/topic_modeling_tutorial/2%20-%20Topic%20Modeling.html\"> Topic Modeling for Fun and Profit </a>"
   ]
  },
  {
   "cell_type": "code",
   "execution_count": null,
   "metadata": {
    "collapsed": false
   },
   "outputs": [],
   "source": [
    "from gensim import corpora, models , similarities\n",
    "import pyLDAvis.gensim\n",
    "from optparse import OptionParser\n",
    "from gensim.models.coherencemodel import CoherenceModel"
   ]
  },
  {
   "cell_type": "code",
   "execution_count": null,
   "metadata": {
    "collapsed": false
   },
   "outputs": [],
   "source": [
    "pyLDAvis.enable_notebook()"
   ]
  },
  {
   "cell_type": "code",
   "execution_count": null,
   "metadata": {
    "collapsed": true
   },
   "outputs": [],
   "source": [
    "#build Dictinoary"
   ]
  },
  {
   "cell_type": "code",
   "execution_count": null,
   "metadata": {
    "collapsed": false
   },
   "outputs": [],
   "source": [
    "opts= \"open_stack\"\n",
    "for i in Project:\n",
    "    exec('dictionary_'+'%s'%i+'= corpora.Dictionary(['+'%s'%i+'_mydict])')\n",
    "    eval('dictionary_'+'%s'%i).compactify()\n",
    "    print eval('dictionary_'+'%s'%i)"
   ]
  },
  {
   "cell_type": "code",
   "execution_count": null,
   "metadata": {
    "collapsed": true
   },
   "outputs": [],
   "source": [
    "#Save dictionary for future use\n",
    "# "
   ]
  },
  {
   "cell_type": "code",
   "execution_count": null,
   "metadata": {
    "collapsed": false
   },
   "outputs": [],
   "source": [
    "#dictionary_NOVA.save(\"open_stack_NOVA.dict\")\n",
    "for i in Project:\n",
    "    eval('dictionary_'+'%s'%i+'.save(\"open_stack_'+'%s'%i+'.dict\")')"
   ]
  },
  {
   "cell_type": "code",
   "execution_count": null,
   "metadata": {
    "collapsed": true
   },
   "outputs": [],
   "source": [
    "#build Corpus"
   ]
  },
  {
   "cell_type": "code",
   "execution_count": null,
   "metadata": {
    "collapsed": false
   },
   "outputs": [],
   "source": [
    "for i in Project:\n",
    "    exec('corpus_'+'%s'%i+'=[dictionary_'+'%s'%i+'.doc2bow(df.field_words_bag.loc[j]) for j in range(0,len(df)) if df.Project[j]==\"'+'%s'%i+'\"]') \n",
    "    #exec('corpus_'+'%s'%i+'=corpus_'+'%s'%i+'+[dictionary_'+'%s'%i+'.doc2bow(df_st.field_words_bag.loc[j]) for j in range(0,len(df_st)) if df_st.Project[j]==\"'+'%s'%i+'\"]') \n",
    "    #exec('corpus_'+'%s'%i+'=corpus_'+'%s'%i+'+[dictionary_'+'%s'%i+'.doc2bow(df_ask.field_words_bag.loc[j]) for j in range(0,len(df_ask)) if df_ask.Project[j]==\"'+'%s'%i+'\"]') "
   ]
  },
  {
   "cell_type": "code",
   "execution_count": null,
   "metadata": {
    "collapsed": true
   },
   "outputs": [],
   "source": [
    "#Save corpus for future use"
   ]
  },
  {
   "cell_type": "code",
   "execution_count": null,
   "metadata": {
    "collapsed": false
   },
   "outputs": [],
   "source": [
    "for i in Project:\n",
    "#corpora.MmCorpus.serialize(\"open_stack_HORIZON.mm\", corpus_HORIZON)\n",
    "    eval('corpora.MmCorpus.serialize(\"open_stack_'+'%s'%i+'.mm\", corpus_'+'%s'%i+')')"
   ]
  },
  {
   "cell_type": "code",
   "execution_count": null,
   "metadata": {
    "collapsed": true
   },
   "outputs": [],
   "source": [
    "# Load the corpus and Dictionary"
   ]
  },
  {
   "cell_type": "code",
   "execution_count": null,
   "metadata": {
    "collapsed": false
   },
   "outputs": [],
   "source": [
    "for i in Project:\n",
    "    exec('corpus_'+'%s'%i+' = corpora.MmCorpus(\"open_stack_'+'%s'%i+'.mm\")')\n",
    "    exec('dictionary_'+'%s'%i+' = corpora.Dictionary.load(\"open_stack_'+'%s'%i+'.dict\")')"
   ]
  },
  {
   "cell_type": "code",
   "execution_count": null,
   "metadata": {
    "collapsed": true
   },
   "outputs": [],
   "source": [
    "# Initialize Parameters"
   ]
  },
  {
   "cell_type": "code",
   "execution_count": 60,
   "metadata": {
    "collapsed": false
   },
   "outputs": [
    {
     "data": {
      "text/plain": [
       "{u'brqc': 0,\n",
       " u'reinst': 1,\n",
       " u'req': 2,\n",
       " u'entropi': 3,\n",
       " u'use': 1551,\n",
       " u'dcb': 3878,\n",
       " u'attachdeviceflag': 7,\n",
       " u'four': 8,\n",
       " u'secondli': 9,\n",
       " u'prefix': 10,\n",
       " u'sleep': 11,\n",
       " u'ret': 12,\n",
       " u'racey': 1436,\n",
       " u'storageoth': 14,\n",
       " u'adminsocketconfigob': 15,\n",
       " u'fddfc': 16,\n",
       " u'configfilevalueerror': 17,\n",
       " u'creta': 18,\n",
       " u'forget': 5168,\n",
       " u'disappear': 20,\n",
       " u'whose': 21,\n",
       " u'xenial': 22,\n",
       " u'typeerror': 23,\n",
       " u'imagepropertiesfilt': 24,\n",
       " u'ecda': 25,\n",
       " u'aug': 26,\n",
       " u'spew': 27,\n",
       " u'invalidbdm': 28,\n",
       " u'xapi': 29,\n",
       " u'bcf': 30,\n",
       " u'uitw': 31,\n",
       " u'concret': 32,\n",
       " u'virdomaingetxmldesc': 33,\n",
       " u'swap': 34,\n",
       " u'migratel': 2540,\n",
       " u'processsom': 36,\n",
       " u'aux': 37,\n",
       " u'worth': 38,\n",
       " u'vxlan': 39,\n",
       " u'ramdisk': 40,\n",
       " u'statsd': 41,\n",
       " u'virtio': 42,\n",
       " u'everi': 43,\n",
       " u'risk': 44,\n",
       " u'aggregateimagepropertiesisol': 45,\n",
       " u'vastli': 46,\n",
       " u'dell': 47,\n",
       " u'initctl': 48,\n",
       " u'lscpu': 49,\n",
       " u'upstream': 50,\n",
       " u'aciv': 5207,\n",
       " u'affect': 320,\n",
       " u'hbhl': 52,\n",
       " u'vhostus': 53,\n",
       " u'look': 54,\n",
       " u'kpxe': 55,\n",
       " u'runninglibvirt': 56,\n",
       " u'qlen': 57,\n",
       " u'rtstool': 58,\n",
       " u'microverion': 59,\n",
       " u'ref': 60,\n",
       " u'cmd': 61,\n",
       " u'upload': 62,\n",
       " u'rabbitmq': 63,\n",
       " u'correct': 64,\n",
       " u'interact': 3073,\n",
       " u'determin': 65,\n",
       " u'bodi': 66,\n",
       " u'honor': 67,\n",
       " u'verif': 68,\n",
       " u'flag': 2752,\n",
       " u'cmt': 70,\n",
       " u'cdcb': 71,\n",
       " u'cmp': 72,\n",
       " u'cindercli': 73,\n",
       " u'erron': 4468,\n",
       " u'repres': 75,\n",
       " u'ifac': 76,\n",
       " u'speci': 77,\n",
       " u'enti': 78,\n",
       " u'pin': 79,\n",
       " u'matchhelp': 80,\n",
       " u'direct': 81,\n",
       " u'histor': 82,\n",
       " u'consequ': 83,\n",
       " u'second': 84,\n",
       " u'fece': 85,\n",
       " u'aggreg': 86,\n",
       " u'higherord': 87,\n",
       " u'blockinfo': 88,\n",
       " u'even': 90,\n",
       " u'aim': 846,\n",
       " u'oldest': 92,\n",
       " u'hide': 93,\n",
       " u'insid': 94,\n",
       " u'eventlet': 96,\n",
       " u'neg': 97,\n",
       " u'ned': 98,\n",
       " u'introspect': 99,\n",
       " u'messagingv': 100,\n",
       " u'calcul': 101,\n",
       " u'rerais': 102,\n",
       " u'ceil': 4206,\n",
       " u'nonetyp': 103,\n",
       " u'conduct': 104,\n",
       " u'new': 105,\n",
       " u'net': 106,\n",
       " u'ever': 107,\n",
       " u'openstackcomput': 108,\n",
       " u'liberti': 109,\n",
       " u'metadata': 110,\n",
       " u'getsiz': 111,\n",
       " u'ongo': 112,\n",
       " u'oshv': 114,\n",
       " u'behavior': 115,\n",
       " u'uefi': 116,\n",
       " u'mem': 117,\n",
       " u'internalerror': 118,\n",
       " u'never': 119,\n",
       " u'journalctl': 120,\n",
       " u'restat': 121,\n",
       " u'met': 122,\n",
       " u'accur': 123,\n",
       " u'additionalitem': 124,\n",
       " u'becb': 125,\n",
       " u'path': 126,\n",
       " u'enrol': 127,\n",
       " u'interpret': 128,\n",
       " u'incom': 129,\n",
       " u'instanceinfocachenotfound': 130,\n",
       " u'cdea': 131,\n",
       " u'forum': 132,\n",
       " u'quiesc': 133,\n",
       " u'fixtur': 134,\n",
       " u'anymor': 135,\n",
       " u'ty': 2560,\n",
       " u'everyon': 136,\n",
       " u'precis': 137,\n",
       " u'datetim': 138,\n",
       " u'aki': 139,\n",
       " u'keymap': 140,\n",
       " u'smallfakedriv': 141,\n",
       " u'sdc': 5092,\n",
       " u'jichen': 142,\n",
       " u'dcdf': 143,\n",
       " u'aka': 144,\n",
       " u'apart': 145,\n",
       " u'sorri': 146,\n",
       " u'niscsiadm': 147,\n",
       " u'theori': 1718,\n",
       " u'guestf': 148,\n",
       " u'succes': 149,\n",
       " u'imposs': 1744,\n",
       " u'novncproxi': 150,\n",
       " u'macvtap': 151,\n",
       " u'ofctl': 969,\n",
       " u'guesto': 152,\n",
       " u'brq': 153,\n",
       " u'brought': 154,\n",
       " u'terraform': 155,\n",
       " u'unix': 156,\n",
       " u'insta': 157,\n",
       " u'neutronv': 158,\n",
       " u'mempag': 159,\n",
       " u'total': 161,\n",
       " u'edc': 3895,\n",
       " u'byte': 162,\n",
       " u'unit': 163,\n",
       " u'syntaxpi': 164,\n",
       " u'plot': 165,\n",
       " u'httpsconnectionpool': 166,\n",
       " u'describ': 167,\n",
       " u'would': 168,\n",
       " u'requestsexcept': 169,\n",
       " u'armv': 170,\n",
       " u'bbcb': 171,\n",
       " u'bbce': 172,\n",
       " u'wmi': 1153,\n",
       " u'seafail': 174,\n",
       " u'noarch': 175,\n",
       " u'readi': 176,\n",
       " u'datadir': 177,\n",
       " u'tm': 178,\n",
       " u'call': 179,\n",
       " u'tenant': 180,\n",
       " u'libvirterror': 181,\n",
       " u'recommend': 182,\n",
       " u'vcenter': 183,\n",
       " u'type': 184,\n",
       " u'tell': 185,\n",
       " u'genindex': 186,\n",
       " u'duplicatenam': 4924,\n",
       " u'harden': 188,\n",
       " u'relay': 189,\n",
       " u'winlogon': 190,\n",
       " u'wart': 191,\n",
       " u'relat': 192,\n",
       " u'describedbi': 193,\n",
       " u'notic': 194,\n",
       " u'hurt': 195,\n",
       " u'warn': 196,\n",
       " u'effect': 197,\n",
       " u'moid': 198,\n",
       " u'libvirtconfigguestcontrol': 199,\n",
       " u'wholedisk': 200,\n",
       " u'indent': 201,\n",
       " u'ward': 202,\n",
       " u'vpn': 203,\n",
       " u'unpack': 204,\n",
       " u'overlap': 205,\n",
       " u'servicetooold': 3935,\n",
       " u'must': 206,\n",
       " u'shoot': 207,\n",
       " u'md': 208,\n",
       " u'mg': 209,\n",
       " u'join': 210,\n",
       " u'room': 211,\n",
       " u'err': 212,\n",
       " u'mb': 213,\n",
       " u'ml': 214,\n",
       " u'setup': 215,\n",
       " u'work': 216,\n",
       " u'mi': 217,\n",
       " u'mh': 218,\n",
       " u'mk': 219,\n",
       " u'spec': 220,\n",
       " u'wors': 221,\n",
       " u'mq': 222,\n",
       " u'ms': 223,\n",
       " u'socket': 224,\n",
       " u'snapshotid': 225,\n",
       " u'rework': 226,\n",
       " u'root': 227,\n",
       " u'privsep': 228,\n",
       " u'overrid': 229,\n",
       " u'defer': 230,\n",
       " u'rpodolyaka': 231,\n",
       " u'repoz': 232,\n",
       " u'conf': 233,\n",
       " u'give': 234,\n",
       " u'cmoput': 235,\n",
       " u'cachegl': 236,\n",
       " u'documentpars': 237,\n",
       " u'uat': 238,\n",
       " u'indic': 239,\n",
       " u'fqdn': 5060,\n",
       " u'aaac': 241,\n",
       " u'definit': 2322,\n",
       " u'unavail': 242,\n",
       " u'want': 243,\n",
       " u'ic': 244,\n",
       " u'instancenotfound': 4408,\n",
       " u'ib': 246,\n",
       " u'end': 247,\n",
       " u'downstream': 248,\n",
       " u'turn': 249,\n",
       " u'ordinari': 250,\n",
       " u'faulti': 251,\n",
       " u'vagrant': 252,\n",
       " u'construt': 253,\n",
       " u'march': 254,\n",
       " u'fals': 255,\n",
       " u'hot': 256,\n",
       " u'rebind': 2546,\n",
       " u'addfloatingip': 259,\n",
       " u'env': 260,\n",
       " u'answer': 261,\n",
       " u'gate': 262,\n",
       " u'config': 264,\n",
       " u'updat': 265,\n",
       " u'dialect': 266,\n",
       " u'lan': 267,\n",
       " u'subcommand': 268,\n",
       " u'lah': 269,\n",
       " u'rebas': 270,\n",
       " u'mess': 271,\n",
       " u'earlier': 272,\n",
       " u'openvswitch': 273,\n",
       " u'lab': 274,\n",
       " u'less': 275,\n",
       " u'badli': 276,\n",
       " u'wrong': 277,\n",
       " u'bdab': 278,\n",
       " u'ovf': 279,\n",
       " u'reprodu': 280,\n",
       " u'arch': 281,\n",
       " u'parallel': 282,\n",
       " u'demonstr': 283,\n",
       " u'initiatornam': 284,\n",
       " u'computedriv': 817,\n",
       " u'attempt': 286,\n",
       " u'third': 287,\n",
       " u'move': 4237,\n",
       " u'cbeca': 288,\n",
       " u'bootstrap': 289,\n",
       " u'credenti': 290,\n",
       " u'lost': 291,\n",
       " u'bs': 292,\n",
       " u'exclud': 293,\n",
       " u'like': 294,\n",
       " u'alias': 295,\n",
       " u'unpaus': 296,\n",
       " u'maintain': 297,\n",
       " u'environ': 298,\n",
       " u'addmemb': 299,\n",
       " u'rhbz': 300,\n",
       " u'enter': 301,\n",
       " u'exclus': 302,\n",
       " u'mechan': 303,\n",
       " u'first': 304,\n",
       " u'order': 305,\n",
       " u'pythonhashse': 306,\n",
       " u'instancedel': 307,\n",
       " u'origin': 308,\n",
       " u'conflictingrequest': 309,\n",
       " u'statedir': 310,\n",
       " u'feedback': 311,\n",
       " u'cffc': 312,\n",
       " u'softwar': 4422,\n",
       " u'ksip': 313,\n",
       " u'offici': 314,\n",
       " u'failur': 315,\n",
       " u'cffi': 316,\n",
       " u'openstackcomputeshel': 317,\n",
       " u'fab': 318,\n",
       " u'redhat': 319,\n",
       " u'cyit': 3679,\n",
       " u'appar': 51,\n",
       " u'storagefail': 321,\n",
       " u'confignova': 322,\n",
       " u'flexibl': 323,\n",
       " u'vari': 324,\n",
       " u'scsidisk': 325,\n",
       " u'digest': 326,\n",
       " u'publicurl': 327,\n",
       " u'fip': 328,\n",
       " u'clo': 329,\n",
       " u'uow': 330,\n",
       " u'uuid': 331,\n",
       " u'img': 332,\n",
       " u'hdb': 2127,\n",
       " u'fix': 334,\n",
       " u'cla': 335,\n",
       " u'imo': 336,\n",
       " u'virmacaddr': 337,\n",
       " u'better': 338,\n",
       " u'cfba': 339,\n",
       " u'offic': 340,\n",
       " u'dal': 4286,\n",
       " u'vmdk': 341,\n",
       " u'persist': 342,\n",
       " u'hidden': 343,\n",
       " u'novalidhost': 344,\n",
       " u'easier': 345,\n",
       " u'displaynam': 346,\n",
       " u'iser': 347,\n",
       " u'grace': 3253,\n",
       " u'recours': 348,\n",
       " u'cgmanag': 349,\n",
       " u'pfsp': 350,\n",
       " u'fragment': 351,\n",
       " u'jsonutil': 352,\n",
       " u'libvirtbasevolumedriv': 353,\n",
       " u'icdecd': 354,\n",
       " u'unquiesc': 356,\n",
       " u'break': 357,\n",
       " u'suppos': 358,\n",
       " u'externalnet': 359,\n",
       " u'mgmt': 361,\n",
       " u'interrupt': 362,\n",
       " u'one': 363,\n",
       " u'pcidevicelist': 364,\n",
       " u'choic': 365,\n",
       " u'versionscontrol': 366,\n",
       " u'afcf': 367,\n",
       " u'changelog': 368,\n",
       " u'pbr': 369,\n",
       " u'rdo': 4248,\n",
       " u'neutron': 370,\n",
       " u'timeout': 371,\n",
       " u'enginefacad': 1276,\n",
       " u'went': 373,\n",
       " u'higher': 374,\n",
       " u'side': 375,\n",
       " u'hv': 376,\n",
       " u'mean': 377,\n",
       " u'stevedor': 378,\n",
       " u'mdk': 379,\n",
       " u'linuxovsinterfacedriv': 381,\n",
       " u'reqir': 382,\n",
       " u'jitest': 383,\n",
       " u'resum': 384,\n",
       " u'transient': 4116,\n",
       " u'overflow': 386,\n",
       " u'autowrap': 387,\n",
       " u'runtest': 388,\n",
       " u'logg': 389,\n",
       " u'member': 390,\n",
       " u'illegalargumentexcept': 391,\n",
       " u'dfcd': 392,\n",
       " u'distrib': 393,\n",
       " u'gioijtzxnzywdlolwirxjyb': 394,\n",
       " u'mdq': 395,\n",
       " u'extract': 396,\n",
       " u'osic': 397,\n",
       " u'unshar': 398,\n",
       " u'rt': 399,\n",
       " u'admincli': 400,\n",
       " u'rv': 401,\n",
       " u'rw': 402,\n",
       " u'unbound': 403,\n",
       " u'network': 404,\n",
       " u'smx': 405,\n",
       " u'vcpu': 406,\n",
       " u'open': 407,\n",
       " u'newli': 408,\n",
       " u'domblklist': 409,\n",
       " u'versionsv': 410,\n",
       " u'somewher': 4305,\n",
       " u'smp': 412,\n",
       " u'content': 413,\n",
       " u're': 414,\n",
       " u'rf': 415,\n",
       " u'daniel': 416,\n",
       " u'adapt': 417,\n",
       " u'rc': 418,\n",
       " u'got': 419,\n",
       " u'ro': 420,\n",
       " u'forth': 421,\n",
       " u'smb': 422,\n",
       " u'prioriti': 424,\n",
       " u'strato': 425,\n",
       " u'streamhandl': 427,\n",
       " u'beeab': 428,\n",
       " u'noqueu': 429,\n",
       " u'situat': 430,\n",
       " u'testflavor': 431,\n",
       " u'omiss': 432,\n",
       " u'veth': 433,\n",
       " u'fingerprint': 4297,\n",
       " u'aforesaid': 434,\n",
       " u'fixm': 435,\n",
       " u'pika': 436,\n",
       " u'element': 4219,\n",
       " u'fcfa': 437,\n",
       " u'fcff': 438,\n",
       " u'fcfe': 439,\n",
       " u'standart': 440,\n",
       " u'reconfigur': 442,\n",
       " u'sigkil': 443,\n",
       " u'volumeattachmentnotfound': 444,\n",
       " u'workaround': 445,\n",
       " u'puzzl': 446,\n",
       " u'reginst': 447,\n",
       " u'openssh': 448,\n",
       " u'connectionfairi': 2467,\n",
       " u'traceback': 449,\n",
       " u'openssl': 450,\n",
       " u'filter': 451,\n",
       " u'bookmark': 452,\n",
       " u'hostbind': 453,\n",
       " u'pagin': 454,\n",
       " u'unabl': 455,\n",
       " u'unknown': 456,\n",
       " u'regress': 457,\n",
       " u'softlay': 458,\n",
       " u'subtl': 459,\n",
       " u'confus': 460,\n",
       " u'caught': 461,\n",
       " u'user': 462,\n",
       " u'semaphor': 463,\n",
       " u'rang': 464,\n",
       " u'perfectli': 465,\n",
       " u'dynamicvendordata': 466,\n",
       " u'render': 467,\n",
       " u'fakeinst': 468,\n",
       " u'independ': 469,\n",
       " u'wordsiz': 470,\n",
       " u'capac': 471,\n",
       " u'restrict': 472,\n",
       " u'hook': 473,\n",
       " u'instruct': 474,\n",
       " u'alreadi': 475,\n",
       " u'jichenvm': 476,\n",
       " u'messag': 477,\n",
       " u'netev': 478,\n",
       " u'agre': 479,\n",
       " u'payload': 480,\n",
       " u'badrequest': 481,\n",
       " u'configoptionsconsist': 482,\n",
       " u'clinet': 483,\n",
       " u'tox': 484,\n",
       " u'virdomaincreatewithflag': 4815,\n",
       " u'attach': 4460,\n",
       " u'easili': 486,\n",
       " u'eddfb': 487,\n",
       " u'top': 488,\n",
       " u'managebl': 489,\n",
       " u'sometim': 490,\n",
       " u'tot': 491,\n",
       " u'downsid': 492,\n",
       " u'sessioncli': 493,\n",
       " u'informtaion': 494,\n",
       " u'master': 495,\n",
       " u'nit': 496,\n",
       " u'libvirtd': 497,\n",
       " u'ioerror': 498,\n",
       " u'recent': 499,\n",
       " u'eqe': 500,\n",
       " u'outag': 501,\n",
       " u'listen': 502,\n",
       " u'iptabl': 503,\n",
       " u'gnu': 504,\n",
       " u'consol': 505,\n",
       " u'rslvyzb': 506,\n",
       " u'namespac': 507,\n",
       " u'vsaienko': 508,\n",
       " u'tool': 509,\n",
       " u'took': 510,\n",
       " u'esxi': 511,\n",
       " u'febd': 512,\n",
       " u'somewhat': 513,\n",
       " u'happili': 514,\n",
       " u'oversubscript': 515,\n",
       " u'peterdelet': 516,\n",
       " u'technic': 517,\n",
       " u'computefilt': 518,\n",
       " u'libvirtconfigbasetest': 519,\n",
       " u'unind': 520,\n",
       " u'target': 521,\n",
       " u'keyword': 522,\n",
       " u'syslog': 523,\n",
       " u'provid': 524,\n",
       " u'iommu': 525,\n",
       " u'tree': 526,\n",
       " u'zero': 527,\n",
       " u'thekelley': 528,\n",
       " u'errorclass': 529,\n",
       " u'project': 530,\n",
       " u'matter': 531,\n",
       " u'ccbc': 532,\n",
       " u'iron': 535,\n",
       " u'ideasmultipl': 536,\n",
       " u'minut': 537,\n",
       " u'thu': 539,\n",
       " u'recheck': 540,\n",
       " u'provis': 541,\n",
       " u'mini': 543,\n",
       " u'jiddtkfq': 544,\n",
       " u'imageref': 545,\n",
       " u'mvolumepathnotremov': 546,\n",
       " u'runner': 547,\n",
       " u'ram': 549,\n",
       " u'lxc': 550,\n",
       " u'invpcid': 551,\n",
       " u'bootprequest': 552,\n",
       " u'unicast': 553,\n",
       " u'raw': 554,\n",
       " u'abeeba': 555,\n",
       " u'shell': 4474,\n",
       " u'increment': 556,\n",
       " u'serversadmintestjson': 557,\n",
       " u'seen': 558,\n",
       " u'seem': 559,\n",
       " u'incompat': 560,\n",
       " u'rax': 561,\n",
       " u'dozen': 562,\n",
       " u'computemanag': 563,\n",
       " u'resourceclassexist': 926,\n",
       " u'wili': 565,\n",
       " u'latter': 566,\n",
       " u'gioijtzxnzywdlolwix': 567,\n",
       " u'preserveephemeralnotsupport': 568,\n",
       " u'vncserver': 569,\n",
       " u'xfail': 570,\n",
       " u'contact': 571,\n",
       " u'testinst': 572,\n",
       " u'newconnectionerror': 573,\n",
       " u'castellan': 574,\n",
       " u'limitshost': 575,\n",
       " u'await': 4196,\n",
       " u'picki': 577,\n",
       " u'feel': 3050,\n",
       " u'bfcf': 578,\n",
       " u'cde': 579,\n",
       " u'endhead': 580,\n",
       " u'though': 581,\n",
       " u'usernam': 582,\n",
       " u'object': 583,\n",
       " u'quotatest': 584,\n",
       " u'rsa': 585,\n",
       " u'doit': 586,\n",
       " u'consistencynova': 587,\n",
       " u'szx': 588,\n",
       " u'commanderror': 589,\n",
       " u'letter': 590,\n",
       " u'breakpoint': 591,\n",
       " u'phase': 592,\n",
       " u'instancefaultadd': 593,\n",
       " u'retyp': 594,\n",
       " u'iiwidgltzsi': 595,\n",
       " u'abe': 596,\n",
       " u'tradit': 597,\n",
       " u'pni': 598,\n",
       " u'netlink': 599,\n",
       " u'doi': 600,\n",
       " u'flagfil': 601,\n",
       " u'nano': 602,\n",
       " u'dom': 603,\n",
       " u'doc': 604,\n",
       " u'abliti': 605,\n",
       " u'flow': 606,\n",
       " u'instancelist': 607,\n",
       " u'miranti': 608,\n",
       " u'dummi': 610,\n",
       " u'declar': 611,\n",
       " u'place': 612,\n",
       " u'conducutor': 613,\n",
       " u'versionedobject': 614,\n",
       " u'hup': 615,\n",
       " u'unchang': 616,\n",
       " u'section': 617,\n",
       " u'came': 618,\n",
       " u'libxenlight': 619,\n",
       " u'prim': 620,\n",
       " u'prio': 621,\n",
       " u'mock': 622,\n",
       " u'abl': 623,\n",
       " u'whitelist': 624,\n",
       " u'random': 625,\n",
       " u'abcf': 626,\n",
       " u'syntax': 627,\n",
       " u'effc': 628,\n",
       " u'effb': 629,\n",
       " u'rxtx': 1751,\n",
       " u'eth': 631,\n",
       " u'buildabortexcept': 632,\n",
       " u'shelv': 633,\n",
       " u'identifi': 634,\n",
       " u'emptyl': 635,\n",
       " u'bail': 636,\n",
       " u'clientexcept': 637,\n",
       " u'involv': 638,\n",
       " u'despit': 639,\n",
       " u'dispatcherl': 640,\n",
       " u'exactli': 641,\n",
       " u'latent': 642,\n",
       " u'acquir': 643,\n",
       " u'spite': 644,\n",
       " u'async': 645,\n",
       " u'listserversnegativetestjson': 646,\n",
       " u'menu': 647,\n",
       " u'configur': 648,\n",
       " u'apach': 649,\n",
       " u'bust': 650,\n",
       " u'discard': 651,\n",
       " u'apirouterv': 652,\n",
       " u'theme': 653,\n",
       " u'busi': 654,\n",
       " u'ldap': 655,\n",
       " u'wbcau': 656,\n",
       " u'folder': 657,\n",
       " u'rarp': 658,\n",
       " u'oct': 659,\n",
       " u'benunet': 660,\n",
       " u'pcirequestaliasnotdefin': 661,\n",
       " u'dn': 662,\n",
       " u'serv': 663,\n",
       " u'vexpress': 664,\n",
       " u'dm': 665,\n",
       " u'dk': 666,\n",
       " u'dh': 667,\n",
       " u'computecapabilitiesfilt': 668,\n",
       " u'df': 669,\n",
       " u'twiddl': 670,\n",
       " u'dd': 671,\n",
       " u'de': 672,\n",
       " u'stop': 673,\n",
       " u'dc': 674,\n",
       " u'compli': 675,\n",
       " u'da': 676,\n",
       " u'next': 677,\n",
       " u'cryptographi': 678,\n",
       " u'assertrais': 679,\n",
       " u'report': 680,\n",
       " u'defdf': 681,\n",
       " u'recalcul': 682,\n",
       " u'vsan': 683,\n",
       " u'ds': 684,\n",
       " u'dbcea': 685,\n",
       " u'vcpucount': 686,\n",
       " u'qote': 687,\n",
       " u'bar': 688,\n",
       " u'impli': 3974,\n",
       " u'emc': 689,\n",
       " u'sendtarget': 2465,\n",
       " u'baz': 690,\n",
       " u'chenl': 691,\n",
       " u'emu': 692,\n",
       " u'twice': 693,\n",
       " u'bad': 694,\n",
       " u'bae': 695,\n",
       " u'bab': 696,\n",
       " u'bac': 697,\n",
       " u'corrent': 698,\n",
       " u'cgmf': 699,\n",
       " u'gaug': 700,\n",
       " u'osadmin': 701,\n",
       " u'bak': 702,\n",
       " u'us': 703,\n",
       " u'respond': 704,\n",
       " u'bea': 4497,\n",
       " u'cirro': 705,\n",
       " u'esacp': 706,\n",
       " u'mysql': 707,\n",
       " u'aggregateinstanceextraspecsfilt': 709,\n",
       " u'fdab': 710,\n",
       " u'pymysql': 711,\n",
       " u'num': 712,\n",
       " u'mandatori': 713,\n",
       " u'result': 714,\n",
       " u'respons': 716,\n",
       " u'testint': 717,\n",
       " u'keystoneauth': 718,\n",
       " u'charact': 719,\n",
       " u'cirru': 720,\n",
       " u'best': 721,\n",
       " u'subject': 722,\n",
       " u'awar': 723,\n",
       " u'connectivi': 724,\n",
       " u'said': 725,\n",
       " u'databas': 726,\n",
       " u'away': 727,\n",
       " u'irt': 728,\n",
       " u'urllib': 729,\n",
       " u'discoveri': 730,\n",
       " u'figur': 731,\n",
       " u'dafcfca': 732,\n",
       " u'mul': 733,\n",
       " u'irc': 734,\n",
       " u'approach': 735,\n",
       " u'xvd': 736,\n",
       " u'attribut': 737,\n",
       " u'yjwhpzxsdmtumy': 738,\n",
       " u'accord': 739,\n",
       " u'wc': 740,\n",
       " u'extend': 741,\n",
       " u'cdfba': 742,\n",
       " u'wl': 744,\n",
       " u'wk': 745,\n",
       " u'wj': 746,\n",
       " u'deba': 747,\n",
       " u'ww': 748,\n",
       " u'extens': 749,\n",
       " u'lazi': 750,\n",
       " u'imagepath': 751,\n",
       " u'ws': 752,\n",
       " u'wtf': 753,\n",
       " u'wp': 754,\n",
       " u'tripleo': 755,\n",
       " u'toler': 756,\n",
       " u'advertis': 757,\n",
       " u'infomiss': 758,\n",
       " u'protect': 759,\n",
       " u'ile': 760,\n",
       " u'easi': 761,\n",
       " u'cow': 762,\n",
       " u'fault': 763,\n",
       " u'howev': 764,\n",
       " u'danplanet': 765,\n",
       " u'parseobject': 766,\n",
       " u'mutli': 767,\n",
       " u'unc': 768,\n",
       " u'logic': 769,\n",
       " u'diskimag': 770,\n",
       " u'login': 771,\n",
       " u'browser': 772,\n",
       " u'com': 773,\n",
       " u'ctxt': 774,\n",
       " u'con': 775,\n",
       " u'compromis': 776,\n",
       " u'pre': 777,\n",
       " u'assur': 778,\n",
       " u'solari': 779,\n",
       " u'ead': 780,\n",
       " u'testsnap': 781,\n",
       " u'foobar': 782,\n",
       " u'compuet': 783,\n",
       " u'trunk': 784,\n",
       " u'correctlli': 4006,\n",
       " u'strutil': 785,\n",
       " u'loader': 786,\n",
       " u'genmask': 787,\n",
       " u'ingress': 788,\n",
       " u'openstackdocsthem': 789,\n",
       " u'aftermath': 790,\n",
       " u'dprinc': 791,\n",
       " u'diff': 792,\n",
       " u'guid': 793,\n",
       " u'assum': 794,\n",
       " u'summar': 5091,\n",
       " u'notabl': 2335,\n",
       " u'duplic': 796,\n",
       " u'degener': 798,\n",
       " u'testenv': 799,\n",
       " u'chrome': 801,\n",
       " u'modifi': 802,\n",
       " u'fri': 803,\n",
       " u'ostack': 804,\n",
       " u'numpi': 805,\n",
       " u'three': 806,\n",
       " u'attemp': 807,\n",
       " u'asdf': 3410,\n",
       " u'much': 808,\n",
       " u'valu': 809,\n",
       " u'interest': 810,\n",
       " u'basic': 811,\n",
       " u'zvwiieforcbtzxnzywdlolwit': 812,\n",
       " u'futur': 813,\n",
       " u'efbbb': 814,\n",
       " u'langhelp': 815,\n",
       " u'tini': 816,\n",
       " u'neutroncli': 240,\n",
       " u'life': 819,\n",
       " u'rather': 820,\n",
       " u'deeper': 821,\n",
       " u'spit': 822,\n",
       " u'nonemetadata': 823,\n",
       " u'mce': 825,\n",
       " u'xxx': 826,\n",
       " u'worker': 827,\n",
       " u'telnet': 828,\n",
       " u'argument': 829,\n",
       " u'multithread': 830,\n",
       " u'pytz': 831,\n",
       " u'hypervisorunavail': 832,\n",
       " u'child': 833,\n",
       " u'cdrom': 834,\n",
       " u'keystonecli': 835,\n",
       " u'spin': 836,\n",
       " u'novaa': 4243,\n",
       " u'ugli': 837,\n",
       " u'ident': 838,\n",
       " u'falloc': 839,\n",
       " u'launcher': 840,\n",
       " u'igag': 841,\n",
       " u'servic': 842,\n",
       " u'properti': 843,\n",
       " u'createwithflag': 844,\n",
       " u'say': 845,\n",
       " u'sll': 91,\n",
       " u'discoveryfailur': 847,\n",
       " u'aio': 848,\n",
       " u'dashboard': 849,\n",
       " u'petrut': 850,\n",
       " u'lahf': 851,\n",
       " u'xshell': 852,\n",
       " u'sle': 853,\n",
       " u'htmlwrong': 854,\n",
       " u'sla': 855,\n",
       " u'occat': 856,\n",
       " u'spawn': 857,\n",
       " u'opt': 858,\n",
       " u'killmod': 859,\n",
       " u'printabl': 860,\n",
       " u'deivc': 861,\n",
       " u'qwn': 862,\n",
       " u'cann': 863,\n",
       " u'ip': 864,\n",
       " u'lvmcreation': 865,\n",
       " u'disprov': 866,\n",
       " u'iv': 867,\n",
       " u'ii': 868,\n",
       " u'cmdline': 869,\n",
       " u'cant': 870,\n",
       " u'kwarg': 871,\n",
       " u'im': 872,\n",
       " u'io': 873,\n",
       " u'in': 874,\n",
       " u'ffffffff': 875,\n",
       " u'tkurek': 876,\n",
       " u'nnya': 877,\n",
       " u'fbcf': 878,\n",
       " u'ie': 879,\n",
       " u'id': 880,\n",
       " u'conn': 881,\n",
       " u'rpcapi': 882,\n",
       " u'mako': 883,\n",
       " u'disabl': 5151,\n",
       " u'ing': 5259,\n",
       " u'inventori': 884,\n",
       " u'incorrectli': 885,\n",
       " u'receiv': 886,\n",
       " u'suggest': 887,\n",
       " u'make': 888,\n",
       " u'floatingiplist': 2472,\n",
       " u'cpuallocationpolici': 889,\n",
       " u'errorvalu': 890,\n",
       " u'baebdb': 891,\n",
       " u'complex': 892,\n",
       " u'upon': 893,\n",
       " u'split': 894,\n",
       " u'oidcpassword': 895,\n",
       " u'volumebackendapiexcept': 896,\n",
       " u'lithium': 897,\n",
       " u'rebound': 898,\n",
       " u'complet': 899,\n",
       " u'fusr': 900,\n",
       " u'serverdiskconfigtestjson': 901,\n",
       " u'nic': 902,\n",
       " u'hang': 903,\n",
       " u'decfb': 904,\n",
       " u'evil': 905,\n",
       " u'hand': 906,\n",
       " u'topo': 907,\n",
       " u'fairli': 908,\n",
       " u'rais': 910,\n",
       " u'portal': 911,\n",
       " u'cachetool': 912,\n",
       " u'ownership': 913,\n",
       " u'kib': 914,\n",
       " u'slowpath': 915,\n",
       " u'protocolerror': 916,\n",
       " u'tune': 917,\n",
       " u'formatmount': 918,\n",
       " u'jan': 4634,\n",
       " u'redefin': 919,\n",
       " u'kept': 920,\n",
       " u'maxcpu': 921,\n",
       " u'scenario': 922,\n",
       " u'thx': 923,\n",
       " u'dade': 924,\n",
       " u'flavorref': 925,\n",
       " u'dada': 548,\n",
       " u'inherit': 927,\n",
       " u'dadb': 928,\n",
       " u'bugzilla': 929,\n",
       " u'client': 930,\n",
       " u'shortli': 931,\n",
       " u'eph': 932,\n",
       " u'epi': 933,\n",
       " u'gzip': 934,\n",
       " u'everyth': 935,\n",
       " u'left': 936,\n",
       " u'oixz': 938,\n",
       " u'bellow': 939,\n",
       " u'protocol': 940,\n",
       " u'unreserv': 3317,\n",
       " u'newton': 941,\n",
       " u'ordin': 942,\n",
       " u'datapath': 943,\n",
       " u'bandwidth': 944,\n",
       " u'netconfig': 946,\n",
       " u'unbuff': 947,\n",
       " u'yet': 948,\n",
       " u'previous': 949,\n",
       " u'bffdf': 950,\n",
       " u'shoud': 951,\n",
       " u'cctxt': 952,\n",
       " u'clflush': 953,\n",
       " u'expos': 954,\n",
       " u'drvie': 955,\n",
       " u'openco': 956,\n",
       " u'ptte': 957,\n",
       " u'boot': 958,\n",
       " u'xr': 960,\n",
       " u'liyong': 2846,\n",
       " u'dfwiiiwizmllbgrzijpbxswib': 961,\n",
       " u'spread': 962,\n",
       " u'board': 963,\n",
       " u'lspci': 964,\n",
       " u'els': 965,\n",
       " u'save': 966,\n",
       " u'hat': 967,\n",
       " u'nrbd': 968,\n",
       " u'gave': 4781,\n",
       " u'sanit': 970,\n",
       " u'applic': 971,\n",
       " u'dirver': 973,\n",
       " u'mayb': 974,\n",
       " u'preserv': 975,\n",
       " u'vbd': 976,\n",
       " u'credit': 977,\n",
       " u'securitygroupcannotbeappli': 978,\n",
       " u'igroup': 979,\n",
       " u'ope': 980,\n",
       " u'openstacki': 981,\n",
       " u'qcow': 982,\n",
       " u'background': 983,\n",
       " u'shadow': 984,\n",
       " u'zonecfg': 985,\n",
       " u'opk': 986,\n",
       " u'measur': 987,\n",
       " u'daemon': 988,\n",
       " u'scan': 989,\n",
       " u'desktoplayout': 990,\n",
       " u'specif': 991,\n",
       " u'arbitrari': 992,\n",
       " u'mexit': 993,\n",
       " u'lefthandnetwork': 994,\n",
       " ...}"
      ]
     },
     "execution_count": 60,
     "metadata": {},
     "output_type": "execute_result"
    }
   ],
   "source": [
    "dictionary_NOVA.token2id"
   ]
  },
  {
   "cell_type": "code",
   "execution_count": 61,
   "metadata": {
    "collapsed": false
   },
   "outputs": [
    {
     "ename": "KeyError",
     "evalue": "u'obnam'",
     "output_type": "error",
     "traceback": [
      "\u001b[0;31m---------------------------------------------------------------------------\u001b[0m",
      "\u001b[0;31mKeyError\u001b[0m                                  Traceback (most recent call last)",
      "\u001b[0;32m<ipython-input-61-ce9478769b11>\u001b[0m in \u001b[0;36m<module>\u001b[0;34m()\u001b[0m\n\u001b[0;32m----> 1\u001b[0;31m \u001b[0mcm\u001b[0m \u001b[1;33m=\u001b[0m \u001b[0mCoherenceModel\u001b[0m\u001b[1;33m(\u001b[0m\u001b[0mtopics\u001b[0m\u001b[1;33m=\u001b[0m\u001b[0mdf\u001b[0m\u001b[1;33m.\u001b[0m\u001b[0mfield_words_bag\u001b[0m\u001b[1;33m,\u001b[0m \u001b[0mcorpus\u001b[0m\u001b[1;33m=\u001b[0m\u001b[0mcorpus_NOVA\u001b[0m\u001b[1;33m,\u001b[0m \u001b[0mdictionary\u001b[0m\u001b[1;33m=\u001b[0m\u001b[0mdictionary_NOVA\u001b[0m\u001b[1;33m,\u001b[0m \u001b[0mcoherence\u001b[0m\u001b[1;33m=\u001b[0m\u001b[1;34m'u_mass'\u001b[0m\u001b[1;33m)\u001b[0m \u001b[1;31m# note that a dictionary has to be provided.\u001b[0m\u001b[1;33m\u001b[0m\u001b[0m\n\u001b[0m\u001b[1;32m      2\u001b[0m \u001b[0mcm\u001b[0m\u001b[1;33m.\u001b[0m\u001b[0mget_coherence\u001b[0m\u001b[1;33m(\u001b[0m\u001b[1;33m)\u001b[0m\u001b[1;33m\u001b[0m\u001b[0m\n",
      "\u001b[0;32mC:\\Users\\zaina\\Anaconda2\\lib\\site-packages\\gensim\\models\\coherencemodel.pyc\u001b[0m in \u001b[0;36m__init__\u001b[0;34m(self, model, topics, texts, corpus, dictionary, window_size, coherence, topn)\u001b[0m\n\u001b[1;32m    165\u001b[0m                 \u001b[0mt_i\u001b[0m \u001b[1;33m=\u001b[0m \u001b[1;33m[\u001b[0m\u001b[1;33m]\u001b[0m\u001b[1;33m\u001b[0m\u001b[0m\n\u001b[1;32m    166\u001b[0m                 \u001b[1;32mfor\u001b[0m \u001b[0mn\u001b[0m\u001b[1;33m,\u001b[0m \u001b[0m_\u001b[0m \u001b[1;32min\u001b[0m \u001b[0menumerate\u001b[0m\u001b[1;33m(\u001b[0m\u001b[0mtopic\u001b[0m\u001b[1;33m)\u001b[0m\u001b[1;33m:\u001b[0m\u001b[1;33m\u001b[0m\u001b[0m\n\u001b[0;32m--> 167\u001b[0;31m                     \u001b[0mt_i\u001b[0m\u001b[1;33m.\u001b[0m\u001b[0mappend\u001b[0m\u001b[1;33m(\u001b[0m\u001b[0mdictionary\u001b[0m\u001b[1;33m.\u001b[0m\u001b[0mtoken2id\u001b[0m\u001b[1;33m[\u001b[0m\u001b[0mtopic\u001b[0m\u001b[1;33m[\u001b[0m\u001b[0mn\u001b[0m\u001b[1;33m]\u001b[0m\u001b[1;33m]\u001b[0m\u001b[1;33m)\u001b[0m\u001b[1;33m\u001b[0m\u001b[0m\n\u001b[0m\u001b[1;32m    168\u001b[0m                 \u001b[0mself\u001b[0m\u001b[1;33m.\u001b[0m\u001b[0mtopics\u001b[0m\u001b[1;33m.\u001b[0m\u001b[0mappend\u001b[0m\u001b[1;33m(\u001b[0m\u001b[0mnp\u001b[0m\u001b[1;33m.\u001b[0m\u001b[0marray\u001b[0m\u001b[1;33m(\u001b[0m\u001b[0mt_i\u001b[0m\u001b[1;33m)\u001b[0m\u001b[1;33m)\u001b[0m\u001b[1;33m\u001b[0m\u001b[0m\n\u001b[1;32m    169\u001b[0m         \u001b[0mself\u001b[0m\u001b[1;33m.\u001b[0m\u001b[0mcoherence\u001b[0m \u001b[1;33m=\u001b[0m \u001b[0mcoherence\u001b[0m\u001b[1;33m\u001b[0m\u001b[0m\n",
      "\u001b[0;31mKeyError\u001b[0m: u'obnam'"
     ]
    }
   ],
   "source": [
    "cm = CoherenceModel(topics=df.field_words_bag, corpus=corpus_NOVA, dictionary=dictionary_NOVA, coherence='u_mass') # note that a dictionary has to be provided.\n",
    "cm.get_coherence()"
   ]
  },
  {
   "cell_type": "code",
   "execution_count": null,
   "metadata": {
    "collapsed": true
   },
   "outputs": [],
   "source": [
    "num_topics,passes,alpha=5,20,0.05"
   ]
  },
  {
   "cell_type": "code",
   "execution_count": null,
   "metadata": {
    "collapsed": true
   },
   "outputs": [],
   "source": [
    "#Apply LDA"
   ]
  },
  {
   "cell_type": "code",
   "execution_count": null,
   "metadata": {
    "collapsed": false
   },
   "outputs": [],
   "source": [
    "for i in Project:\n",
    "    exec('lda_'+'%s'%i+'= models.LdaModel(corpus_'+'%s'%i+', id2word=dictionary_'+'%s'%i+',num_topics='+'%s'%num_topics+',passes='+'%s'%passes+',alpha ='+'%s'%alpha+')')"
   ]
  },
  {
   "cell_type": "code",
   "execution_count": null,
   "metadata": {
    "collapsed": true
   },
   "outputs": [],
   "source": [
    "#Save lda results for future reference"
   ]
  },
  {
   "cell_type": "code",
   "execution_count": null,
   "metadata": {
    "collapsed": false
   },
   "outputs": [],
   "source": [
    "for i in Project:\n",
    "     exec('lda_'+'%s'%i+'= models.LdaModel.load(\"open_stack_'+'%s'%i+'.lda\",mmap=\"r\")')"
   ]
  },
  {
   "cell_type": "code",
   "execution_count": null,
   "metadata": {
    "collapsed": false
   },
   "outputs": [],
   "source": [
    "#lda_HORIZON=models.LdaModel.load('open_stack_HORIZON.lda',mmap='r')"
   ]
  },
  {
   "cell_type": "code",
   "execution_count": null,
   "metadata": {
    "collapsed": false
   },
   "outputs": [],
   "source": [
    "for i in Project:\n",
    "    exec('top_words_'+'%s'%i+'= [[word for word in lda_'+'%s'%i+'.show_topic(topicno, topn=5)] for topicno in range(5)]')"
   ]
  },
  {
   "cell_type": "code",
   "execution_count": null,
   "metadata": {
    "collapsed": true
   },
   "outputs": [],
   "source": [
    "# First LDA model with 5 topics, 20 passes, alpha = 0.001"
   ]
  },
  {
   "cell_type": "code",
   "execution_count": null,
   "metadata": {
    "collapsed": false
   },
   "outputs": [],
   "source": [
    "for i in Project:\n",
    "    exec('openstack_data_'+'%s'%i +'=  pyLDAvis.gensim.prepare(lda_'+'%s'%i+', corpus_'+'%s'%i+', dictionary_'+'%s'%i+')')\n",
    "    pyLDAvis.display(eval('openstack_data_'+'%s'%i))"
   ]
  },
  {
   "cell_type": "code",
   "execution_count": null,
   "metadata": {
    "collapsed": false
   },
   "outputs": [],
   "source": [
    "for i in Project:\n",
    "    pyLDAvis.save_html(eval('openstack_data_'+'%s'%i),eval('\"openstack_'+'%s'%i+'.html\"'))\n",
    "#pyLDAvis.save_html(vis_data,outpth+'LDA_Visualization.html')"
   ]
  },
  {
   "cell_type": "code",
   "execution_count": null,
   "metadata": {
    "collapsed": false
   },
   "outputs": [],
   "source": [
    "for i in Project:\n",
    "    print(eval('lda_'+'%s'%i))"
   ]
  },
  {
   "cell_type": "code",
   "execution_count": null,
   "metadata": {
    "collapsed": true
   },
   "outputs": [],
   "source": [
    "#Assign cluster no with highest probability to each record (document)"
   ]
  },
  {
   "cell_type": "code",
   "execution_count": null,
   "metadata": {
    "collapsed": false
   },
   "outputs": [],
   "source": [
    "topic=[]\n",
    "j=0\n",
    "for j in range(0,len(df.field_words_bag)):\n",
    "    for i in Project:\n",
    "        print df.Project[j]\n",
    "        if df.Project[j]==i:\n",
    "            exec('bow_vector =dictionary_'+'%s'%i +'.doc2bow(df.field_words_bag[j])')\n",
    "            print bow_vector\n",
    "            lda_vector = lda[bow_vector]\n",
    "            lda_vector=sorted(lda_vector, key=lambda x: x[1],reverse=True)\n",
    "    print lda_vector\n",
    "    topic.append(lda_vector[0][-2])"
   ]
  },
  {
   "cell_type": "code",
   "execution_count": null,
   "metadata": {
    "collapsed": true
   },
   "outputs": [],
   "source": [
    "df['Cluster']=pd.Series(topic)"
   ]
  },
  {
   "cell_type": "code",
   "execution_count": null,
   "metadata": {
    "collapsed": true
   },
   "outputs": [],
   "source": [
    "#Write dataset with Cluster no to csv"
   ]
  },
  {
   "cell_type": "code",
   "execution_count": null,
   "metadata": {
    "collapsed": true
   },
   "outputs": [],
   "source": [
    "df.to_csv('df.csv', encoding='utf-8')"
   ]
  },
  {
   "cell_type": "code",
   "execution_count": null,
   "metadata": {
    "collapsed": true
   },
   "outputs": [],
   "source": [
    "del(df)"
   ]
  },
  {
   "cell_type": "code",
   "execution_count": null,
   "metadata": {
    "collapsed": true
   },
   "outputs": [],
   "source": [
    "topic=[]\n",
    "for i in df_st.field_words_bag:\n",
    "    bow_vector = dictionary.doc2bow(i)\n",
    "    lda_vector = lda[bow_vector]\n",
    "    lda_vector=sorted(lda_vector, key=lambda x: x[1],reverse=True)\n",
    "    topic.append(lda_vector[0][-2])"
   ]
  },
  {
   "cell_type": "code",
   "execution_count": null,
   "metadata": {
    "collapsed": true
   },
   "outputs": [],
   "source": [
    "df_st['Cluster']=pd.Series(topic)"
   ]
  },
  {
   "cell_type": "code",
   "execution_count": null,
   "metadata": {
    "collapsed": false
   },
   "outputs": [],
   "source": [
    "df_st.to_csv('df_st.csv', encoding='utf-8')"
   ]
  },
  {
   "cell_type": "code",
   "execution_count": null,
   "metadata": {
    "collapsed": true
   },
   "outputs": [],
   "source": [
    "del(df_st)"
   ]
  },
  {
   "cell_type": "code",
   "execution_count": null,
   "metadata": {
    "collapsed": true
   },
   "outputs": [],
   "source": [
    "topic=[]\n",
    "for i in df_ask.field_words_bag:\n",
    "    bow_vector = dictionary.doc2bow(i)\n",
    "    lda_vector = lda[bow_vector]\n",
    "    lda_vector=sorted(lda_vector, key=lambda x: x[1],reverse=True)\n",
    "    topic.append(lda_vector[0][-2])"
   ]
  },
  {
   "cell_type": "code",
   "execution_count": null,
   "metadata": {
    "collapsed": true
   },
   "outputs": [],
   "source": [
    "df_ask['Cluster']=pd.Series(topic)"
   ]
  },
  {
   "cell_type": "code",
   "execution_count": null,
   "metadata": {
    "collapsed": false
   },
   "outputs": [],
   "source": [
    "df_ask.to_csv('df_ask.csv', encoding='utf-8')"
   ]
  }
 ],
 "metadata": {
  "anaconda-cloud": {
   "environment": null,
   "summary": "ML_FaultGenes",
   "url": "https://anaconda.org/zainabsayyed/openstack_ml"
  },
  "kernelspec": {
   "display_name": "Python [default]",
   "language": "python",
   "name": "python2"
  },
  "language_info": {
   "codemirror_mode": {
    "name": "ipython",
    "version": 2
   },
   "file_extension": ".py",
   "mimetype": "text/x-python",
   "name": "python",
   "nbconvert_exporter": "python",
   "pygments_lexer": "ipython2",
   "version": "2.7.12"
  }
 },
 "nbformat": 4,
 "nbformat_minor": 1
}
