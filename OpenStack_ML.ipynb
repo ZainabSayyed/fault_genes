{
 "cells": [
  {
   "cell_type": "markdown",
   "metadata": {},
   "source": [
    "# OpenStack_WordCount"
   ]
  },
  {
   "cell_type": "code",
   "execution_count": 1,
   "metadata": {
    "collapsed": true
   },
   "outputs": [],
   "source": [
    "import pandas as pd\n",
    "from nltk.corpus import stopwords \n",
    "import nltk\n",
    "from nltk.corpus import treebank\n",
    "import nltk.stem \n",
    "from nltk import stem\n",
    "import numpy as np\n",
    "import string\n",
    "import re\n",
    "import random\n",
    "from nltk.stem.porter import PorterStemmer\n",
    "from nltk.stem.snowball import SnowballStemmer\n",
    "from nltk.stem.wordnet import WordNetLemmatizer"
   ]
  },
  {
   "cell_type": "code",
   "execution_count": 2,
   "metadata": {
    "collapsed": true
   },
   "outputs": [],
   "source": [
    "#Randomly select 1000 from bugslist and report (launch pad and stack over flow)"
   ]
  },
  {
   "cell_type": "code",
   "execution_count": 3,
   "metadata": {
    "collapsed": false
   },
   "outputs": [],
   "source": [
    "filename = \"buglist.xlsx\"\n",
    "df_launchpad=pd.read_excel(filename)\n",
    "df=pd.DataFrame(df_launchpad)\n",
    "del(df_launchpad)\n",
    "df.set_index=df.bug\n",
    "df=df.drop(['project','component','version','fault_class','fault_type','fault_symptom','severity','priority','status','mitigation','log','repro','submitter','assignee','created','deployment'], axis=1)"
   ]
  },
  {
   "cell_type": "code",
   "execution_count": 4,
   "metadata": {
    "collapsed": false
   },
   "outputs": [
    {
     "data": {
      "text/plain": [
       "17326"
      ]
     },
     "execution_count": 4,
     "metadata": {},
     "output_type": "execute_result"
    }
   ],
   "source": [
    "len(df)"
   ]
  },
  {
   "cell_type": "code",
   "execution_count": 5,
   "metadata": {
    "collapsed": false
   },
   "outputs": [],
   "source": [
    "\n",
    "filename = \"ask_os.csv\"\n",
    "df_ask_os = pd.read_csv(filename)\n",
    "df_ask=pd.DataFrame(df_ask_os)\n",
    "del(df_ask_os)\n",
    "df_ask.set_index=df_ask.url\n",
    "df_ask=df_ask.drop(['Serial','answer'],axis=1)\n"
   ]
  },
  {
   "cell_type": "code",
   "execution_count": 6,
   "metadata": {
    "collapsed": true
   },
   "outputs": [],
   "source": [
    "filename = \"report.xlsx\"\n",
    "df_stackoverflow = pd.read_excel(filename)\n",
    "\n",
    "df_st=pd.DataFrame(df_stackoverflow)\n",
    "del(df_stackoverflow)\n",
    "df_st.set_index=df_st.id\n",
    "df_st=df_st.drop(['answers','link','Creator','date','votes','fetch_url'],axis=1)\n"
   ]
  },
  {
   "cell_type": "code",
   "execution_count": 7,
   "metadata": {
    "collapsed": false
   },
   "outputs": [],
   "source": [
    "stop_words=stopwords.words('english')\n",
    "stop_word_dict=[]\n",
    "for i in stop_words:\n",
    "    stop_word_dict.append(str(i.encode(\"utf-8\")))\n",
    "common_words=['',\"aren't\",'ffffffffff']\n",
    "stop_word_dict=stop_word_dict + common_words"
   ]
  },
  {
   "cell_type": "code",
   "execution_count": 8,
   "metadata": {
    "collapsed": false
   },
   "outputs": [],
   "source": [
    "def create_dict(dataframe,field,stop_word_dict):\n",
    "    corpus=[]\n",
    "    for i in field:\n",
    "        \n",
    "        if type(i)== int or type(i)== float:  \n",
    "            continue\n",
    "        i = re.sub(r'[^\\x00-\\x7f]','',i)\n",
    "        for k in i:\n",
    "            if type(k) == type(u''):\n",
    "                k = k.encode(\"utf-8\",'ignore')\n",
    "        corpus.append(str(i).strip())\n",
    "    dataframe['field_corpus']=pd.Series(corpus)\n",
    "    dataframe['field_corpus']=pd.Series( str(i).lower()  if len(str(i)) >0 else '' for i in dataframe.field_corpus)\n",
    "    corpus=[]\n",
    "    for i in dataframe.field_corpus:\n",
    "        data=(str(i))\n",
    "        data=re.sub(r'[^\\x00-\\x7f]','',data) or re.sub(r'[0-9]','',data)\n",
    "        corpus.append(data) \n",
    "    dataframe.field_corpus_new=pd.Series(corpus)\n",
    "    corpus=[]\n",
    "    new_corpus=[]\n",
    "    row_corpus=[]\n",
    "    for i in dataframe.field_corpus_new:\n",
    "        substr=re.split('[^A-Za-z]',i)\n",
    "        for j in substr:\n",
    "            j=j.strip()\n",
    "            if j not in stop_word_dict and len(j)>1:\n",
    "                corpus.append(j)   \n",
    "        new_corpus.append(corpus)\n",
    "        corpus=[]\n",
    "    dataframe.field_words_bag=pd.Series(new_corpus)\n",
    "    field_words_count={}\n",
    "    for i in new_corpus:\n",
    "        for w in i:\n",
    "            field_words_count[w]=field_words_count.get(w,0)+1 \n",
    "    return field_words_count,dataframe.field_words_bag"
   ]
  },
  {
   "cell_type": "code",
   "execution_count": 9,
   "metadata": {
    "collapsed": true
   },
   "outputs": [],
   "source": [
    "my_words_count={}"
   ]
  },
  {
   "cell_type": "code",
   "execution_count": 10,
   "metadata": {
    "collapsed": false
   },
   "outputs": [],
   "source": [
    "\n",
    "Fault_Details_lp= pd.Series(df.fault_description+df.req)\n",
    "#df=df.drop(['fault_description','req'],axis=1)\n",
    "df=df.assign(Fault_Details_lp=Fault_Details_lp.values)\n",
    "launchpad_words_count={}\n",
    "launchpad_words_count,df['field_words_bag']=create_dict(df,df.Fault_Details_lp,stop_word_dict)\n",
    "#df=df.drop(['Fault_Details_lp'],axis=1)\n",
    "for k,v in launchpad_words_count.items():\n",
    "    my_words_count[k]=my_words_count.get(k,1)+v\n",
    "del(launchpad_words_count)\n"
   ]
  },
  {
   "cell_type": "code",
   "execution_count": 11,
   "metadata": {
    "collapsed": false
   },
   "outputs": [
    {
     "data": {
      "text/plain": [
       "38120"
      ]
     },
     "execution_count": 11,
     "metadata": {},
     "output_type": "execute_result"
    }
   ],
   "source": [
    "len(my_words_count)"
   ]
  },
  {
   "cell_type": "code",
   "execution_count": 12,
   "metadata": {
    "collapsed": false
   },
   "outputs": [],
   "source": [
    "\n",
    "Fault_Details_st= pd.Series(df_st.title+df_st.tags+ df_st.longtext.to_string())\n",
    "#df_st=df_st.drop(['tags','title','longtext'],axis=1)\n",
    "df_st=df_st.assign(Fault_Details_st=Fault_Details_st.values)\n",
    "stackoverflow_words_count={}\n",
    "stackoverflow_words_count,df_st['field_words_bag']=create_dict(df_st,df_st.Fault_Details_st,stop_word_dict)\n",
    "#df_st=df_st.drop(['Fault_Details_st'],axis=1)\n",
    "for k,v in stackoverflow_words_count.items():\n",
    "    my_words_count[k]=my_words_count.get(k,1)+v\n",
    "del(stackoverflow_words_count)\n",
    "\n"
   ]
  },
  {
   "cell_type": "code",
   "execution_count": 13,
   "metadata": {
    "collapsed": false
   },
   "outputs": [
    {
     "data": {
      "text/plain": [
       "38570"
      ]
     },
     "execution_count": 13,
     "metadata": {},
     "output_type": "execute_result"
    }
   ],
   "source": [
    "len(my_words_count)"
   ]
  },
  {
   "cell_type": "code",
   "execution_count": 14,
   "metadata": {
    "collapsed": false
   },
   "outputs": [],
   "source": [
    "Fault_Details_ask = pd.Series(df_ask.summary+df_ask.title)\n",
    "#df_ask=df_ask.drop(['summary','title'],axis=1)\n",
    "df_ask=df_ask.assign(Fault_Details_ask=Fault_Details_ask.values)\n",
    "ask_words_count={}\n",
    "ask_words_count,df_ask['field_words_bag']=create_dict(df_ask,df_ask.Fault_Details_ask,stop_word_dict)\n",
    "#df_ask=df_ask.drop(['Fault_Details_ask'],axis=1)\n",
    "for k,v in ask_words_count.items():\n",
    "    my_words_count[k]=my_words_count.get(k,1)+v\n",
    "del(ask_words_count)"
   ]
  },
  {
   "cell_type": "code",
   "execution_count": 15,
   "metadata": {
    "collapsed": false
   },
   "outputs": [
    {
     "data": {
      "text/html": [
       "<div>\n",
       "<table border=\"1\" class=\"dataframe\">\n",
       "  <thead>\n",
       "    <tr style=\"text-align: right;\">\n",
       "      <th></th>\n",
       "      <th>summary</th>\n",
       "      <th>title</th>\n",
       "      <th>url</th>\n",
       "      <th>Fault_Details_ask</th>\n",
       "      <th>field_corpus</th>\n",
       "      <th>field_words_bag</th>\n",
       "    </tr>\n",
       "  </thead>\n",
       "  <tbody>\n",
       "    <tr>\n",
       "      <th>0</th>\n",
       "      <td>&lt;p&gt;Hi \\nam trying to install Magnum-api and ma...</td>\n",
       "      <td>Unable to locate package Magnum-api</td>\n",
       "      <td>https://ask.openstack.org/en/question/103555/u...</td>\n",
       "      <td>&lt;p&gt;Hi \\nam trying to install Magnum-api and ma...</td>\n",
       "      <td>&lt;p&gt;hi \\nam trying to install magnum-api and ma...</td>\n",
       "      <td>[hi, trying, install, magnum, api, magnum, con...</td>\n",
       "    </tr>\n",
       "    <tr>\n",
       "      <th>1</th>\n",
       "      <td>&lt;p&gt;Hello\\nbased with these documentation\\nhttp...</td>\n",
       "      <td>detailed documentation how to install Mitaka w...</td>\n",
       "      <td>https://ask.openstack.org/en/question/103553/d...</td>\n",
       "      <td>&lt;p&gt;Hello\\nbased with these documentation\\nhttp...</td>\n",
       "      <td>&lt;p&gt;hello\\nbased with these documentation\\nhttp...</td>\n",
       "      <td>[hello, based, documentation, https, docs, ope...</td>\n",
       "    </tr>\n",
       "    <tr>\n",
       "      <th>2</th>\n",
       "      <td>&lt;div class=\"snippet\"&gt;&lt;p&gt;These controller nodes...</td>\n",
       "      <td>Galera breaks then all the controllers go down</td>\n",
       "      <td>https://ask.openstack.org/en/question/103510/g...</td>\n",
       "      <td>&lt;div class=\"snippet\"&gt;&lt;p&gt;These controller nodes...</td>\n",
       "      <td>&lt;div class=\"snippet\"&gt;&lt;p&gt;these controller nodes...</td>\n",
       "      <td>[div, class, snippet, controller, nodes, reboo...</td>\n",
       "    </tr>\n",
       "    <tr>\n",
       "      <th>3</th>\n",
       "      <td>&lt;p&gt;Hi, i'm now including new compute nodes to ...</td>\n",
       "      <td>Run kolla-ansible bootstrap-servers to specifi...</td>\n",
       "      <td>https://ask.openstack.org/en/question/103552/r...</td>\n",
       "      <td>&lt;p&gt;Hi, i'm now including new compute nodes to ...</td>\n",
       "      <td>&lt;p&gt;hi, i'm now including new compute nodes to ...</td>\n",
       "      <td>[hi, including, new, compute, nodes, existing,...</td>\n",
       "    </tr>\n",
       "    <tr>\n",
       "      <th>4</th>\n",
       "      <td>&lt;p&gt;Hi all,&lt;/p&gt;\\n\\n&lt;p&gt;I am new to OpenStack Hea...</td>\n",
       "      <td>How to use heat template to create MySQL serve...</td>\n",
       "      <td>https://ask.openstack.org/en/question/103384/h...</td>\n",
       "      <td>&lt;p&gt;Hi all,&lt;/p&gt;\\n\\n&lt;p&gt;I am new to OpenStack Hea...</td>\n",
       "      <td>&lt;p&gt;hi all,&lt;/p&gt;\\n\\n&lt;p&gt;i am new to openstack hea...</td>\n",
       "      <td>[hi, new, openstack, heat, would, like, use, s...</td>\n",
       "    </tr>\n",
       "  </tbody>\n",
       "</table>\n",
       "</div>"
      ],
      "text/plain": [
       "                                             summary  \\\n",
       "0  <p>Hi \\nam trying to install Magnum-api and ma...   \n",
       "1  <p>Hello\\nbased with these documentation\\nhttp...   \n",
       "2  <div class=\"snippet\"><p>These controller nodes...   \n",
       "3  <p>Hi, i'm now including new compute nodes to ...   \n",
       "4  <p>Hi all,</p>\\n\\n<p>I am new to OpenStack Hea...   \n",
       "\n",
       "                                               title  \\\n",
       "0                Unable to locate package Magnum-api   \n",
       "1  detailed documentation how to install Mitaka w...   \n",
       "2     Galera breaks then all the controllers go down   \n",
       "3  Run kolla-ansible bootstrap-servers to specifi...   \n",
       "4  How to use heat template to create MySQL serve...   \n",
       "\n",
       "                                                 url  \\\n",
       "0  https://ask.openstack.org/en/question/103555/u...   \n",
       "1  https://ask.openstack.org/en/question/103553/d...   \n",
       "2  https://ask.openstack.org/en/question/103510/g...   \n",
       "3  https://ask.openstack.org/en/question/103552/r...   \n",
       "4  https://ask.openstack.org/en/question/103384/h...   \n",
       "\n",
       "                                   Fault_Details_ask  \\\n",
       "0  <p>Hi \\nam trying to install Magnum-api and ma...   \n",
       "1  <p>Hello\\nbased with these documentation\\nhttp...   \n",
       "2  <div class=\"snippet\"><p>These controller nodes...   \n",
       "3  <p>Hi, i'm now including new compute nodes to ...   \n",
       "4  <p>Hi all,</p>\\n\\n<p>I am new to OpenStack Hea...   \n",
       "\n",
       "                                        field_corpus  \\\n",
       "0  <p>hi \\nam trying to install magnum-api and ma...   \n",
       "1  <p>hello\\nbased with these documentation\\nhttp...   \n",
       "2  <div class=\"snippet\"><p>these controller nodes...   \n",
       "3  <p>hi, i'm now including new compute nodes to ...   \n",
       "4  <p>hi all,</p>\\n\\n<p>i am new to openstack hea...   \n",
       "\n",
       "                                     field_words_bag  \n",
       "0  [hi, trying, install, magnum, api, magnum, con...  \n",
       "1  [hello, based, documentation, https, docs, ope...  \n",
       "2  [div, class, snippet, controller, nodes, reboo...  \n",
       "3  [hi, including, new, compute, nodes, existing,...  \n",
       "4  [hi, new, openstack, heat, would, like, use, s...  "
      ]
     },
     "execution_count": 15,
     "metadata": {},
     "output_type": "execute_result"
    }
   ],
   "source": [
    "df_ask.head()"
   ]
  },
  {
   "cell_type": "code",
   "execution_count": 16,
   "metadata": {
    "collapsed": false
   },
   "outputs": [
    {
     "data": {
      "text/plain": [
       "66886"
      ]
     },
     "execution_count": 16,
     "metadata": {},
     "output_type": "execute_result"
    }
   ],
   "source": [
    "len(my_words_count)\n"
   ]
  },
  {
   "cell_type": "code",
   "execution_count": 17,
   "metadata": {
    "collapsed": true
   },
   "outputs": [],
   "source": [
    "#Remove non-ascii character to process data using NLTK\n",
    "#NLTK coverts string into meaningful words called token, removes punctuations and special characters.\n",
    "#Analyzing Fault_desc and Req field from data set\n",
    "#write process data to csv file"
   ]
  },
  {
   "cell_type": "code",
   "execution_count": 18,
   "metadata": {
    "collapsed": false
   },
   "outputs": [],
   "source": [
    "#launchpad_words_count={}\n",
    "#launchpad_words_count,df['field_words_bag']=create_dict(df,df.Fault_Details_lp,stop_word_dict)"
   ]
  },
  {
   "cell_type": "code",
   "execution_count": 19,
   "metadata": {
    "collapsed": false
   },
   "outputs": [],
   "source": [
    "mylist=[]\n",
    "for key, value in sorted(my_words_count.iteritems(), key=lambda (k,v): (v,k), reverse=True):\n",
    "    mylist.append([key,value])\n",
    "df_wordcount=pd.DataFrame(mylist, columns =['Key','Count'])\n",
    "#del (mylist)"
   ]
  },
  {
   "cell_type": "code",
   "execution_count": 20,
   "metadata": {
    "collapsed": true
   },
   "outputs": [],
   "source": [
    "#del (my_words_count)\n"
   ]
  },
  {
   "cell_type": "code",
   "execution_count": 21,
   "metadata": {
    "collapsed": false
   },
   "outputs": [
    {
     "data": {
      "text/plain": [
       "66886"
      ]
     },
     "execution_count": 21,
     "metadata": {},
     "output_type": "execute_result"
    }
   ],
   "source": [
    "len(df_wordcount)"
   ]
  },
  {
   "cell_type": "code",
   "execution_count": 22,
   "metadata": {
    "collapsed": false
   },
   "outputs": [],
   "source": [
    "df_wordcount.to_csv('dictionary.csv')"
   ]
  },
  {
   "cell_type": "code",
   "execution_count": 23,
   "metadata": {
    "collapsed": false
   },
   "outputs": [
    {
     "name": "stdout",
     "output_type": "stream",
     "text": [
      "dictionary created\n"
     ]
    }
   ],
   "source": [
    "print \"dictionary created\""
   ]
  },
  {
   "cell_type": "code",
   "execution_count": 24,
   "metadata": {
    "collapsed": false
   },
   "outputs": [],
   "source": [
    "mydict=set(df_wordcount.Key)"
   ]
  },
  {
   "cell_type": "code",
   "execution_count": 25,
   "metadata": {
    "collapsed": false
   },
   "outputs": [],
   "source": [
    "del (df_wordcount)"
   ]
  },
  {
   "cell_type": "code",
   "execution_count": 26,
   "metadata": {
    "collapsed": true
   },
   "outputs": [],
   "source": [
    "#Topic Modeling: This script loads a gensim dictionary and associated corpus and applies an LDA model."
   ]
  },
  {
   "cell_type": "markdown",
   "metadata": {},
   "source": [
    "<a href=\"http://radimrehurek.com/topic_modeling_tutorial/2%20-%20Topic%20Modeling.html\"> Topic Modeling for Fun and Profit </a>"
   ]
  },
  {
   "cell_type": "code",
   "execution_count": 27,
   "metadata": {
    "collapsed": false
   },
   "outputs": [
    {
     "name": "stderr",
     "output_type": "stream",
     "text": [
      "C:\\Users\\zaina\\Anaconda2\\lib\\site-packages\\gensim\\utils.py:855: UserWarning: detected Windows; aliasing chunkize to chunkize_serial\n",
      "  warnings.warn(\"detected Windows; aliasing chunkize to chunkize_serial\")\n"
     ]
    }
   ],
   "source": [
    "from gensim import corpora, models , similarities\n",
    "import pyLDAvis.gensim\n",
    "from optparse import OptionParser"
   ]
  },
  {
   "cell_type": "code",
   "execution_count": 28,
   "metadata": {
    "collapsed": true
   },
   "outputs": [],
   "source": [
    "pyLDAvis.enable_notebook()"
   ]
  },
  {
   "cell_type": "code",
   "execution_count": 29,
   "metadata": {
    "collapsed": true
   },
   "outputs": [],
   "source": [
    "#build Dictinoary"
   ]
  },
  {
   "cell_type": "code",
   "execution_count": 30,
   "metadata": {
    "collapsed": false
   },
   "outputs": [],
   "source": [
    "opts= \"open_stack\"\n",
    "dictionary = corpora.Dictionary([mydict])\n",
    "dictionary.compactify()"
   ]
  },
  {
   "cell_type": "code",
   "execution_count": 31,
   "metadata": {
    "collapsed": false
   },
   "outputs": [
    {
     "name": "stdout",
     "output_type": "stream",
     "text": [
      "Dictionary: \n",
      "Dictionary(66886 unique tokens: [u'swdhome', u'mjflmwmilcaichvibgljvvjmijogimh', u'pkmgksasi', u'owqyndiwytkyiiwginb', u'mmeua']...)\n"
     ]
    }
   ],
   "source": [
    "print(\"Dictionary: \")\n",
    "print(dictionary)"
   ]
  },
  {
   "cell_type": "code",
   "execution_count": 32,
   "metadata": {
    "collapsed": true
   },
   "outputs": [],
   "source": [
    "#Save dictionary for future use"
   ]
  },
  {
   "cell_type": "code",
   "execution_count": 33,
   "metadata": {
    "collapsed": true
   },
   "outputs": [],
   "source": [
    "del(mydict)"
   ]
  },
  {
   "cell_type": "code",
   "execution_count": 45,
   "metadata": {
    "collapsed": false
   },
   "outputs": [],
   "source": [
    "dictionary.save(\"open_stack.dict\")"
   ]
  },
  {
   "cell_type": "code",
   "execution_count": 46,
   "metadata": {
    "collapsed": true
   },
   "outputs": [],
   "source": [
    "#build Corpus"
   ]
  },
  {
   "cell_type": "code",
   "execution_count": 47,
   "metadata": {
    "collapsed": false
   },
   "outputs": [],
   "source": [
    "corpus =[dictionary.doc2bow(df.field_words_bag.loc[i]) for i in range(0,len(df))] \n",
    "corpus= corpus + [dictionary.doc2bow(df_st.field_words_bag.loc[i]) for i in range(0,len(df_st))] \n",
    "corpus= corpus +[dictionary.doc2bow(df_ask.field_words_bag.loc[i]) for i in range(0,len(df_ask))]"
   ]
  },
  {
   "cell_type": "code",
   "execution_count": 48,
   "metadata": {
    "collapsed": true
   },
   "outputs": [],
   "source": [
    "#Save corpus for future use"
   ]
  },
  {
   "cell_type": "code",
   "execution_count": 49,
   "metadata": {
    "collapsed": false
   },
   "outputs": [],
   "source": [
    "corpora.MmCorpus.serialize(\"open_stack.mm\", corpus)"
   ]
  },
  {
   "cell_type": "code",
   "execution_count": 50,
   "metadata": {
    "collapsed": true
   },
   "outputs": [],
   "source": [
    "# Load the corpus and Dictionary"
   ]
  },
  {
   "cell_type": "code",
   "execution_count": 51,
   "metadata": {
    "collapsed": false
   },
   "outputs": [],
   "source": [
    "corpus = corpora.MmCorpus(\"open_stack.mm\")\n",
    "dictionary = corpora.Dictionary.load(\"open_stack.dict\")"
   ]
  },
  {
   "cell_type": "code",
   "execution_count": 52,
   "metadata": {
    "collapsed": true
   },
   "outputs": [],
   "source": [
    "# Initialize Parameters"
   ]
  },
  {
   "cell_type": "code",
   "execution_count": 53,
   "metadata": {
    "collapsed": true
   },
   "outputs": [],
   "source": [
    "num_topics,passes,alpha=5,20,0.001"
   ]
  },
  {
   "cell_type": "code",
   "execution_count": 54,
   "metadata": {
    "collapsed": true
   },
   "outputs": [],
   "source": [
    "#Apply LDA\n"
   ]
  },
  {
   "cell_type": "code",
   "execution_count": 55,
   "metadata": {
    "collapsed": false
   },
   "outputs": [],
   "source": [
    "lda = models.LdaModel(corpus, id2word=dictionary,\n",
    "                        num_topics=num_topics,\n",
    "                        passes=passes,\n",
    "                        alpha =alpha)"
   ]
  },
  {
   "cell_type": "code",
   "execution_count": 56,
   "metadata": {
    "collapsed": true
   },
   "outputs": [],
   "source": [
    "#Save lda results for future reference"
   ]
  },
  {
   "cell_type": "code",
   "execution_count": 57,
   "metadata": {
    "collapsed": false
   },
   "outputs": [],
   "source": [
    "lda.save(\"open_stack.lda\")"
   ]
  },
  {
   "cell_type": "code",
   "execution_count": 58,
   "metadata": {
    "collapsed": false
   },
   "outputs": [
    {
     "name": "stdout",
     "output_type": "stream",
     "text": [
      "[(u'swift', 0.013902566157680575), (u'code', 0.012680531653593187), (u'http', 0.011099397950276268), (u'org', 0.0074803779540344902), (u'openstack', 0.0074053721990101377)]\n",
      "[(u'python', 0.028415357600445272), (u'py', 0.028154164211237665), (u'file', 0.027758179060301452), (u'lib', 0.025165830140804684), (u'usr', 0.024494514189551283)]\n",
      "[(u'network', 0.023643550972314326), (u'neutron', 0.020873216673183377), (u'code', 0.018680352817829107), (u'br', 0.015545587338382821), (u'pre', 0.015481279304711607)]\n",
      "[(u'nova', 0.20197000663241363), (u'instance', 0.05416904427423809), (u'compute', 0.047250233775930107), (u'cinder', 0.031111820391361573), (u'openstack', 0.020521381257753268)]\n",
      "[(u'openstack', 0.072862880266830896), (u'trying', 0.019233349763175405), (u'using', 0.016751722040887311), (u'install', 0.012142452858553908), (u'installed', 0.0093471309894398984)]\n"
     ]
    }
   ],
   "source": [
    "top_words = [[word for word in lda.show_topic(topicno, topn=5)] for topicno in range(5)]\n",
    "for i in top_words:\n",
    "    print i"
   ]
  },
  {
   "cell_type": "code",
   "execution_count": 59,
   "metadata": {
    "collapsed": true
   },
   "outputs": [],
   "source": [
    "# First LDA model with 5 topics, 20 passes, alpha = 0.001"
   ]
  },
  {
   "cell_type": "code",
   "execution_count": 60,
   "metadata": {
    "collapsed": false
   },
   "outputs": [
    {
     "data": {
      "text/html": [
       "\n",
       "<link rel=\"stylesheet\" type=\"text/css\" href=\"https://cdn.rawgit.com/bmabey/pyLDAvis/files/ldavis.v1.0.0.css\">\n",
       "\n",
       "\n",
       "<div id=\"ldavis_el631616110025281478374575\"></div>\n",
       "<script type=\"text/javascript\">\n",
       "\n",
       "var ldavis_el631616110025281478374575_data = {\"plot.opts\": {\"xlab\": \"PC1\", \"ylab\": \"PC2\"}, \"topic.order\": [5, 2, 1, 4, 3], \"token.table\": {\"Topic\": [1, 2, 3, 2, 5, 1, 2, 4, 5, 1, 2, 3, 5, 2, 1, 2, 3, 4, 5, 1, 1, 4, 2, 3, 1, 2, 3, 1, 4, 1, 2, 3, 4, 5, 3, 5, 1, 2, 4, 3, 4, 5, 2, 3, 1, 2, 1, 2, 1, 1, 3, 4, 5, 4, 1, 4, 5, 5, 4, 5, 5, 3, 1, 2, 5, 2, 3, 4, 5, 5, 4, 1, 1, 2, 3, 4, 1, 3, 4, 5, 1, 4, 1, 2, 3, 4, 5, 5, 1, 2, 3, 4, 5, 1, 2, 3, 4, 5, 1, 2, 3, 4, 1, 3, 4, 5, 2, 3, 4, 5, 1, 1, 2, 3, 4, 5, 2, 2, 1, 2, 3, 1, 2, 3, 4, 5, 1, 2, 3, 4, 5, 1, 2, 3, 4, 5, 1, 2, 3, 4, 5, 2, 3, 3, 4, 5, 1, 4, 5, 3, 1, 4, 5, 2, 2, 3, 2, 2, 2, 4, 1, 3, 4, 5, 2, 3, 5, 1, 2, 4, 5, 5, 2, 3, 2, 5, 5, 2, 3, 2, 3, 5, 3, 1, 2, 3, 4, 5, 1, 2, 3, 4, 5, 1, 5, 5, 2, 2, 1, 3, 5, 2, 2, 3, 4, 5, 1, 2, 5, 1, 2, 4, 5, 1, 2, 3, 4, 5, 4, 2, 5, 1, 2, 5, 5, 2, 5, 3, 1, 2, 3, 4, 5, 4, 1, 2, 4, 2, 5, 2, 3, 5, 4, 3, 1, 2, 1, 2, 3, 5, 1, 2, 3, 5, 1, 2, 3, 4, 1, 2, 3, 4, 5, 1, 2, 3, 5, 1, 2, 3, 5, 1, 2, 3, 4, 5, 1, 2, 3, 4, 5, 5, 1, 4, 5, 3, 1, 2, 3, 4, 5, 5, 3, 1, 2, 3, 4, 5, 2, 3, 5, 2, 5, 2, 3, 5, 1, 1, 3, 4, 5, 1, 3, 4, 5, 1, 3, 4, 1, 1, 2, 4, 5, 2, 3, 4, 5, 4, 1, 2, 5, 1, 4, 1, 5, 2, 1, 1, 4, 1, 4, 5, 5, 2, 3, 4, 5, 1, 4, 5, 3, 1, 2, 3, 5, 1, 2, 4, 5, 1, 1, 2, 4, 1, 5, 3, 4, 5, 2, 4, 1, 2, 3, 4, 5, 1, 3, 4, 5, 1, 2, 4, 1, 2, 3, 4, 5, 5, 2, 1, 2, 3, 4, 5, 2, 3, 1, 2, 3, 4, 5, 1, 2, 3, 4, 5, 1, 3, 4, 5, 5, 2, 5, 3, 1, 2, 3, 2, 4, 5, 3, 3, 1, 4, 5, 1, 2, 4, 4, 5, 2, 4, 3, 1, 5, 5, 3, 3, 3, 1, 2, 3, 4, 5, 4, 1, 3, 4, 5, 1, 3, 4, 5, 1, 2, 4, 5, 4, 1, 2, 3, 4, 5, 1, 2, 5, 2, 3, 1, 1, 2, 3, 4, 5, 4, 1, 4, 4, 1, 2, 3, 1, 2, 3, 4, 5, 1, 2, 4, 1, 1, 1, 1, 1, 1, 2, 3, 4, 5, 2, 4, 5, 1, 2, 3, 4, 5, 2, 2, 2, 3, 5, 4, 5, 1, 2, 3, 4, 5, 2, 3, 5, 3, 3, 3, 5, 4, 5, 2, 2, 1, 4, 5, 1, 1, 2, 4, 5, 1, 3, 4, 5, 3, 1, 2, 3, 5, 1, 2, 3, 4, 5, 1, 2, 1, 4, 1, 2, 4, 2, 1, 2, 3, 4, 2, 2, 5, 1, 3, 4, 5, 2, 3, 3, 2, 3, 2, 4, 4, 3, 3, 2, 4, 5, 1, 2, 3, 5, 1, 4, 2, 3, 4, 1, 2, 3, 4, 5, 3, 5, 1, 2, 3, 1, 2, 3, 4, 5, 2, 1, 5, 1, 2, 4, 3, 1, 2, 3, 4, 5, 1, 1, 2, 3, 4, 5, 2, 3, 5, 3, 2, 4, 1, 4, 5, 4, 2, 4, 5, 4, 2, 3, 2, 3, 1, 2, 1, 1, 2, 4, 1, 2, 3, 4, 5, 1, 2, 3, 4, 5, 2, 3, 1, 2, 3, 4, 5, 1, 2, 3, 4, 4, 3, 1, 4, 5, 1, 2, 4, 1, 2, 3, 4, 5, 1, 2, 3, 4, 2, 4, 5, 4, 4, 1, 2, 3, 4, 5, 4, 2, 3, 2, 3, 4, 5, 1, 2, 3, 4, 5, 1, 2, 3, 4, 5, 2, 3, 5, 1, 2, 3, 4, 5, 1, 2, 3, 5, 3, 2, 3, 4, 1, 2, 3, 5, 1, 2, 5, 1, 2, 3, 4, 5, 3, 1, 4, 1, 2, 3, 5, 2, 3, 1, 2, 2, 4, 2, 5, 1, 2, 3, 4, 5, 1, 2, 3, 4, 5, 1, 4, 5, 5, 2, 5, 5, 1, 2, 3, 4, 5, 1, 1, 2, 3, 4, 5, 4, 5, 3, 2, 3, 4, 2, 1, 2, 3, 4, 5, 1, 2, 3, 5, 1, 2, 3, 4, 1, 2, 3, 4, 5, 1, 2, 4, 2, 3, 4, 5, 1, 4, 5, 4, 4, 2, 4, 2, 3, 4, 5, 5, 1, 4, 5, 2, 2, 3, 5, 1, 3, 4, 5, 4, 1, 3, 4, 5, 4, 5, 2, 3, 4], \"Freq\": [0.2239932735972118, 0.015793424036684767, 0.76021039161196091, 0.033400639296283008, 0.96639183030578835, 0.59007538347146238, 0.0073686705790061025, 0.0013573866856063873, 0.40114008432729714, 0.21396743942511781, 0.36786417467164489, 0.2373435773661749, 0.18080914552837279, 0.99908718541331265, 0.18300632890063454, 0.069289847088227371, 0.034154202247454857, 0.00215917370529887, 0.71141502114286714, 0.99973936347530945, 0.99919765201214095, 0.00073855077450851194, 0.061264857743759817, 0.93751354678937726, 0.99970718999999564, 0.95704387062507335, 0.042795424734187154, 0.99864587767080493, 0.0013532834798853249, 0.66441604301275159, 0.16988300582720042, 0.0059514120283245733, 0.15872789737343077, 0.0010306350201852402, 0.99490335569528554, 0.0040942524925731919, 0.078644481213124479, 0.81124609460531838, 0.11012797450922823, 0.99795143092084337, 0.97209659912890867, 0.027724112153487971, 0.99966093479838913, 0.99821761594409142, 0.35751927467126643, 0.64242532571395405, 0.99975436809699259, 0.99967266456880699, 0.99985928710645944, 0.57468097045055366, 0.011094938226274408, 0.399325701969727, 0.014916016536568082, 0.99930171518261768, 0.076709687515969099, 0.0099865258425653608, 0.9133281464258266, 0.99852622894053378, 0.22553329579128326, 0.77425675875315014, 0.99945400054591649, 0.99940526639362015, 0.99984751798695659, 0.015181858438232717, 0.98448512795616772, 0.7854319806049529, 0.034485486636848604, 0.17988867303707043, 9.0990729912529298e-05, 0.99865932716495032, 0.9989994678699976, 0.99985264939649443, 0.24459774608483337, 0.0033853243707780271, 8.0602961209000644e-05, 0.75192890452652528, 0.87846354077206901, 0.030749318198036054, 0.079445408275177432, 0.011352106781287523, 0.99780243665059409, 0.0021581883993884513, 0.36076531472961082, 0.12905352293112943, 0.2512916127943457, 0.00021985267961010125, 0.25866314381656674, 0.99906414999689008, 0.62038969520179787, 0.00076068679974631366, 0.30179421946457008, 0.041110160525420339, 0.03595071962279317, 0.86784639697169619, 0.038171918395452892, 0.049104092000716512, 0.03380234674327362, 0.011080574151941401, 0.0027367398456161238, 0.60188004456550159, 0.014038461800660486, 0.38131908515584656, 0.98522270998560768, 0.012165774705337369, 0.0013669409781277941, 0.0012302468803150148, 0.00032338106853842859, 0.0089123822489190919, 0.91633259581049131, 0.074442321977546258, 0.99983232928102095, 0.26401328372897048, 0.1992131937463513, 0.33948550909085845, 0.059777908627669137, 0.13748221459175713, 0.99931007696429885, 0.99859207029997787, 0.41617562909179984, 0.075392763030740245, 0.50842757782539405, 0.46294751641985549, 0.097543004465293764, 0.14074647341517568, 0.0017132410100815247, 0.29702384903043827, 0.75503392032432037, 0.043514690798617868, 0.039632995116632694, 0.11743232192460255, 0.044385866818154311, 0.16927010111955934, 0.77240275125713798, 0.035902170585682125, 0.0075019460925305932, 0.014944352930358564, 0.28671697774311877, 0.00026671346766801745, 0.10275136341910372, 0.5741007391554076, 0.036072996502099365, 0.012919337335692187, 0.98539309314961321, 0.027200455933680701, 0.67665627602420675, 0.29608954454680625, 0.79650581041957225, 0.19684307880243224, 0.0066506033081383366, 0.99886908453824796, 0.45523226326339167, 0.014244019089268721, 0.53040445649172896, 0.99939722460704883, 0.082479202579337205, 0.91713716169559645, 0.99918562565240965, 0.9996353794774876, 0.77928689314415034, 0.22070205665730844, 0.95591107512943585, 0.025262947706205869, 0.01799499198149741, 0.00081618754127742036, 0.0041625097193347532, 0.94567017686136423, 0.049950116632017039, 0.0033664852799470237, 0.077683235799532263, 0.78350180996502894, 0.1354216342801331, 0.9996322617345792, 0.023466901783053277, 0.97628740705661365, 0.68685875934257701, 0.31307607664605031, 0.99933214232287204, 0.96297491352455311, 0.036783566726207223, 0.0027520348608042855, 0.97009228843351059, 0.026832339892841783, 0.99791785233873243, 0.29350230744868444, 0.30197570997796919, 0.099409140665281975, 0.29932919149362153, 0.0057814502512144109, 0.57520834060148684, 0.029672156089189373, 0.17351118366497092, 0.13934682864594411, 0.082248615932484087, 0.35369222430558228, 0.64620525305560439, 0.99937922505490517, 0.99956689814564004, 0.99928925986281625, 0.27647002051696401, 0.0091628050139465449, 0.71434637551037106, 0.99946018503190148, 0.17000047738737148, 0.38162962057030986, 0.29193693967744588, 0.1563923950097546, 0.99985835490076158, 0.18263581668486192, 0.81709261589950632, 0.036179357413772741, 0.040383296831570277, 0.15019529010858471, 0.7731426765640379, 0.30071090356645819, 0.54534656635270395, 0.050438649076814938, 0.10126907919130998, 0.0022369433441734514, 0.99931583175788197, 0.00086560702547622249, 0.99891050739956078, 0.99978798371259414, 0.0014625695612207272, 0.99820372553314629, 0.99858114579039969, 0.99966426494962368, 0.99966413190698111, 0.99840962629563346, 0.70179760402869373, 0.16428860613175508, 0.087666071686189576, 0.0089542193842897921, 0.037295034387899072, 0.99954095558638223, 0.86039783890364097, 0.13952431728101011, 6.3529877643661841e-05, 0.99866037704442145, 0.99934377003405428, 0.33740612143350229, 0.077253378446948476, 0.585333716387472, 0.99931762882344066, 0.9982915651119374, 0.9596905832024385, 0.040305250410004573, 0.54896087876284605, 0.03129329687742885, 0.32129080582850861, 0.098415151049305219, 0.37328812278200324, 0.047059972546466843, 0.42557698116696641, 0.15401445560661875, 0.96013830319402971, 0.025684700761410835, 0.014043731545352052, 0.00013808978903984319, 0.0019985480596429539, 0.043515555864678652, 0.057580809190090385, 0.58598937446889632, 0.31090620286332366, 0.99987519891965682, 0.13817055629574768, 0.68732638677049429, 0.17439624738952839, 0.21609671967786531, 0.11036132167034712, 0.60282393789036315, 0.070578378170018399, 0.43524212256846712, 0.25790656054851341, 0.25958544098763858, 3.0525098893184213e-05, 0.04723759053720257, 0.71188076949679346, 0.0062540176891479546, 0.26293805471073239, 0.0085880529989735069, 0.010323617716536096, 0.99861639875754515, 0.95727551480586104, 0.018179671383979908, 0.024532027601162076, 0.99866432688453988, 0.37863425342282864, 0.25341964026713992, 0.044880132648084069, 0.00052631285621420546, 0.32251016430107743, 0.99944295622762491, 0.99760560143995292, 0.63423780602763424, 0.062001285103839184, 0.084255502628589468, 0.21609510625029951, 0.0034009767645797788, 0.084439068892974214, 0.8066851927574078, 0.10886798190603594, 0.99955906128194094, 0.99979008588743312, 0.68021790380560887, 0.13675520285743875, 0.18301063911804305, 0.99989512511326117, 0.93029192928468385, 0.052386424881091985, 0.015359321641928167, 0.0019655439029889793, 0.96313291396938139, 0.017522493416005057, 0.015017481785412378, 0.0043302713614265364, 0.96542151350604521, 0.023720264736964921, 0.01084932563253225, 0.9999205955974827, 0.041304989524212632, 0.0015318851014664674, 0.90809477916347603, 0.049076231462308946, 6.3552647536114482e-05, 0.066158306085095181, 0.76053453306468199, 0.17318096453591197, 0.99907981826631764, 0.39666612940555057, 0.0054377030726590631, 0.59771804564465547, 0.99661689866148184, 0.0032716651642724671, 0.48233201661922814, 0.51764070016193564, 0.99920301261728062, 0.99993156631920599, 0.99846929414778096, 0.0014629586727440014, 0.73122164047431049, 0.0087468623177388381, 0.26003057481101771, 0.99886762773606064, 0.01756088075785011, 0.98190410408893325, 0.99075711141074474, 0.0088460456375959347, 0.95854927689983149, 0.016775572046665053, 0.024645119574276807, 0.99929162379959624, 0.66149954940685907, 0.21413695752817771, 0.11753257174567984, 0.0068303085312114136, 0.96040947192481074, 0.0078928807992264642, 0.01732697500895277, 0.014384658497998528, 0.99986175953994172, 0.010421599175529898, 0.78146439190839112, 0.20812089099789557, 0.99992805770943638, 0.99920331413756147, 0.38887382456113428, 0.37539124942052621, 0.23571783054815931, 0.78584920617205256, 0.21413441726423355, 0.99972957094507475, 0.00052247217599214887, 0.0013584276575795869, 0.92895552891404065, 0.069175316101360504, 0.91052950340870231, 0.065879126624435541, 0.0085714128090085898, 0.015004921268426123, 0.09510114983628247, 0.76369105171560159, 0.14121079824175276, 0.80957326648193795, 0.064247072784659021, 0.061728316859221824, 0.011860708872767653, 0.052611924144020064, 0.99934251581804101, 0.99876547221504419, 0.29920809701914997, 0.27082967542528186, 0.032747254904838402, 0.34251653158007311, 0.05466740116944601, 0.0032049830116003919, 0.99514722510192166, 0.063084337316068578, 0.22000058051956445, 0.248778922789162, 0.41236289715476154, 0.055760197386711216, 0.088728878987798521, 0.030593071521576636, 0.15359336787372199, 0.71557284004720012, 0.011573332041886764, 0.96567184962653896, 0.016933993765933013, 0.012429117219226474, 0.0049933571361084521, 0.99906356259226525, 0.40655307195219426, 0.59340086918006418, 0.99875083008188648, 0.99979924519046048, 0.43025517059289703, 0.56957938433409927, 0.57581060547810314, 0.4006260076454552, 0.023570055231004899, 0.99900583861794834, 0.99765781691062971, 0.97912245680723775, 0.017346532159940642, 0.0035075708411644682, 0.18317904495320292, 0.78147837741856796, 0.035288432477849949, 0.9995015984287714, 0.99951925003072895, 0.00046981738386097261, 0.99883175808842772, 0.99903210834135703, 0.99977427359044591, 0.99973593376327397, 0.99931400707085583, 0.99928964971860312, 0.99818617226985196, 0.99750419218104613, 0.40927931180001692, 0.26383782906725978, 0.12622001742577707, 0.0029831263873204839, 0.19764619451086565, 0.99812874661604523, 0.95322016860648562, 0.040287834738549515, 0.001654955984125269, 0.0048441940785333391, 0.52186520219351229, 0.0020178377062381966, 0.086166291058751704, 0.38993558422457975, 0.75072253257639121, 0.010379870281317548, 0.0026636734326802667, 0.23623189502766381, 0.99967347023677733, 0.82300909088798413, 0.019647168007056168, 0.049490967511445286, 0.098899035579822825, 0.0089531398513167347, 0.99984310151907108, 0.015844172608577751, 0.98309318614175289, 0.0039310308293179141, 0.99573010906622761, 0.99986048590653087, 0.52577710420687962, 0.0053296594721583745, 0.15726922070335775, 0.15409975543586157, 0.15751711184159767, 0.99574645112906368, 0.0026185939082106835, 0.997377952948442, 0.99907591439757515, 0.33868671746084422, 0.22450531840798557, 0.43682100097113896, 0.84753899439396085, 0.0028206900063032811, 0.085208343940411616, 0.014044685656385088, 0.050400245737627379, 0.98909200598480196, 0.0041894035991414513, 0.0066768619861316877, 0.99990795430510382, 0.99993930080464166, 0.99993812449414976, 0.9999205367459012, 0.99992740244771272, 0.91816020131810405, 0.013585530772689768, 0.017467990671695275, 0.047363855556186531, 0.0034221682614945445, 0.34589434864697788, 0.62808552405373197, 0.025990277702125208, 0.57325992025092398, 0.012778587903163096, 0.35723945011233021, 0.024341651591147262, 0.032351644496300715, 0.99901188278165287, 0.99990193995071153, 0.0054876122990436512, 0.99325782612690083, 0.99931632547356375, 0.18110727241871155, 0.81885508532736528, 0.20667690319095763, 0.77503210040741033, 0.0031181331056915375, 0.015163179538161268, 0.99963238123050635, 0.065941577893306277, 0.92698641230782486, 0.0063405363358948353, 0.99905724483957303, 0.99789769356554769, 0.140718487468872, 0.8591424363459409, 0.94820226035593436, 0.051463265638332013, 0.99878973783259251, 0.99988380279506828, 0.39476669522823271, 0.0076536400095269606, 0.59752101828763116, 0.99988139584945424, 0.25604488089624999, 0.053836866419147936, 0.0017441749379853541, 0.68836770885821985, 0.9320516542723849, 0.036586559301014725, 0.022579823727028887, 0.0087743343538187121, 0.99778109920217961, 0.041768938978504075, 0.23246133811840078, 0.28393282578112661, 0.44183914008148278, 0.48334835198946263, 0.18969388521175679, 0.32112557850020457, 0.00091136389600706758, 0.0048823065857521476, 0.0024655538655919888, 0.99772746427622472, 0.99799612872592558, 0.0018338774875522336, 0.11503379837029659, 0.78115891690836314, 0.10378922226893322, 0.9996043817317487, 0.37531105836726858, 0.58892504689872061, 0.00017332304649287714, 0.035584554699191466, 0.99948774336723334, 0.09070659533159614, 0.90914433684238094, 0.94323933506050339, 0.036255840621597778, 0.00041962778497219651, 0.020058208121670994, 0.98440899081620592, 0.015409717167472838, 0.99877355281431512, 0.97324271261246598, 0.026571070884022878, 0.99928412719276916, 0.99969608465546334, 0.99121308416384979, 0.99871554905282478, 0.99819545951172317, 0.68216699053526098, 0.20525121076792885, 0.11256337066677628, 0.47310617416945133, 0.43419777746178656, 0.021016875520787497, 0.071656674728202197, 0.013199550975675853, 0.98666643543177002, 0.99954763490633158, 0.0046480538139028887, 0.99468351617521822, 0.087943528518556788, 0.80956091395170271, 0.010757937574122743, 0.073947765072610694, 0.017755819297095788, 0.98724992186910743, 0.012630062966342526, 0.00054440268545056082, 0.060156496742286972, 0.93909463240221747, 0.17760198879148884, 0.12673865929827419, 0.24399290237091592, 0.27173272150871697, 0.17995210962615882, 0.99932160902722922, 0.6064884013240347, 0.39343969126561301, 0.031108939750684267, 0.43488593172018214, 0.53401904280926338, 0.9991352225716098, 0.73595079141783137, 0.073969334582984464, 0.10449760565061091, 0.082767276630073217, 0.0028216117032979506, 0.99982018991113741, 0.71101818488590085, 0.0044142428880949635, 0.063305033666478161, 0.16524324733806653, 0.056016400060553924, 0.0431462169191816, 0.95683081050185081, 0.99954733198070822, 0.99912903828004096, 0.004516328207896895, 0.99359220573731699, 0.9921685004621712, 0.00018693707027078119, 0.0076644198811020295, 0.99953424082743869, 0.071840181782090881, 0.91033465730469587, 0.017771559211461764, 0.98952195787912134, 0.0031944350812239666, 0.99666374534187763, 0.013443590228268902, 0.98496704405783486, 0.99995108869865856, 0.99914259933377547, 0.99987821871420268, 0.28108545500629434, 0.69879599560666106, 0.020123406527487942, 0.59413592403116544, 0.16845331990370171, 0.17755192864012076, 0.010276265540955563, 0.049574511785488926, 0.62738015117352242, 0.14850379793277127, 0.058309172800977326, 0.14109243520540019, 0.024695324311725279, 0.95405392534976197, 0.045609161008099905, 0.8950075857346651, 0.012644136583831411, 0.033287258864668226, 0.033107909409578418, 0.025951866151495109, 0.5072791093034773, 0.00088015807981864727, 0.047352504694243222, 0.44447983030841687, 0.99894790007912326, 0.99893674767491913, 0.99693540594181429, 0.0012806597530491601, 0.0017463542087034001, 0.26145363203765898, 0.7378815496304324, 0.00058464586770496187, 0.018604099543076368, 0.03969664552185085, 0.20014219189971966, 0.68064934888809336, 0.060907688949944291, 0.010051327461169825, 0.00015463580709492038, 0.056751341203835778, 0.93307246001074962, 0.0030756970645925809, 0.97617892988530686, 0.020583511124581119, 0.99965713486149965, 0.99390648191623643, 0.21464594414406071, 0.11779040280003848, 0.0010872248490969773, 0.66202740332566801, 0.0044414291707791419, 0.99967203495959356, 0.0041281068039034025, 0.99569936110150059, 0.011988631144388563, 0.070951584319934827, 0.60614217465245068, 0.31087500759945941, 0.10415426155385892, 0.11435940000777027, 0.13681070460637526, 0.54464514681905085, 0.10001035684833127, 0.49305004214516085, 0.022233214792497496, 0.42093461467718818, 0.062566546755810262, 0.0012826854687979325, 0.14761789600947622, 0.34153190292690777, 0.51082657967930378, 0.00041394277702779843, 0.0077269318378522375, 0.14460401010837759, 0.75544556807573215, 0.091895296500171253, 0.47003514471702312, 0.054401389042334027, 0.4755489498435953, 0.9995721506702967, 0.99829409067898245, 0.11230384385695613, 0.021707893840506604, 0.86605712882761032, 0.93631874224387257, 0.03777036411526967, 0.022032712400573976, 0.003898645538413252, 0.42503357250025359, 0.20938074576229132, 0.36551552749707839, 0.39112447317504451, 0.091943257685171878, 0.31107631351488957, 0.18417901778079498, 0.021645178373391472, 0.99768389854964179, 0.99894317826894274, 0.0010205198843961762, 0.18878574867245154, 0.0070173329398123445, 0.64783627848517578, 0.15633058382581946, 0.10487479476382423, 0.89490437710920834, 0.34575782874424182, 0.65420046569253121, 0.79686253723473977, 0.2031336880170872, 0.99970155534201643, 0.99929825349921819, 0.26902079098866682, 0.18110159073225504, 0.073624854092274095, 0.11824235299790892, 0.35795674390110516, 0.89254684361659042, 0.013685203520535975, 0.040097113816978946, 0.044383724258236321, 0.0092920934409864882, 0.98438455893673815, 0.013199241621455412, 0.0024072515510470552, 0.99954668810141578, 0.037484747218572784, 0.96210851194336822, 0.99862233967673075, 0.46786647078225307, 0.16874193009421182, 0.052491700368944322, 0.0011071450450025476, 0.30980523406335997, 0.99979880422282785, 0.78685884585440047, 0.0059681666589657296, 0.093354850556359878, 0.097626482530543471, 0.0161776700298868, 0.98636222818174712, 0.013064400373268174, 0.99875137539912828, 0.1886993702514288, 0.8089325462417809, 0.0020622881994691671, 0.99879244227722652, 0.86191991144331515, 0.0087624758108185517, 0.079186818438508402, 0.027297095427117876, 0.022825708593613759, 0.57018251428363176, 0.1554813761835844, 0.253994981905099, 0.02034382941622874, 0.0012251917267392934, 0.17642760865045826, 0.82240994657375066, 0.99946572597278083, 0.9403234591875218, 0.001625231797929178, 0.02501622615546684, 0.018789599689139017, 0.014249922683952877, 0.0081925556588999804, 0.76457828878415335, 0.22720286098150316, 0.96720896135557233, 0.03279723285466752, 0.99989697565354962, 0.99964359567258687, 0.66244308440543964, 0.19813673923047745, 0.1394060668465395, 0.99567473322094535, 0.99973441082057468, 0.015873712559960139, 0.98410591267477587, 0.00091270330108258015, 0.0081002417971078981, 0.99096760915041138, 0.99925964535871692, 0.99906332213484883, 0.99281424231395388, 0.002074124461658678, 0.0051023461756803477, 0.99916846292765071, 0.012513370722631449, 0.84867467865275426, 0.13854089014341961, 0.94528852855085299, 0.022867480240102035, 0.01043125579672901, 0.021404395011469915, 0.9939253413565734, 0.90153551174480329, 0.085673773523570432, 0.00097386470671954103, 0.0117916591516312, 0.99659983274360964, 0.0033491112958258609, 0.99889220037703241, 0.99742060650930697, 0.99891353016606077], \"Term\": [\"account\", \"account\", \"account\", \"addr\", \"addr\", \"address\", \"address\", \"address\", \"address\", \"admin\", \"admin\", \"admin\", \"admin\", \"adminurl\", \"agent\", \"agent\", \"agent\", \"agent\", \"agent\", \"aka\", \"al\", \"al\", \"amd\", \"amd\", \"among\", \"amqp\", \"amqp\", \"answer\", \"answer\", \"api\", \"api\", \"api\", \"api\", \"api\", \"applying\", \"applying\", \"args\", \"args\", \"args\", \"astute\", \"attach\", \"attach\", \"audit\", \"auditor\", \"auth\", \"auth\", \"autoscaling\", \"body\", \"book\", \"boot\", \"boot\", \"boot\", \"boot\", \"bootable\", \"br\", \"br\", \"br\", \"brd\", \"bridge\", \"bridge\", \"broadcast\", \"builder\", \"builders\", \"bytes\", \"bytes\", \"call\", \"call\", \"call\", \"call\", \"carrier\", \"cells\", \"chef\", \"cinder\", \"cinder\", \"cinder\", \"cinder\", \"cloud\", \"cloud\", \"cloud\", \"cloud\", \"co\", \"co\", \"code\", \"code\", \"code\", \"code\", \"code\", \"collisions\", \"com\", \"com\", \"com\", \"com\", \"com\", \"command\", \"command\", \"command\", \"command\", \"command\", \"common\", \"common\", \"common\", \"common\", \"components\", \"components\", \"components\", \"components\", \"compute\", \"compute\", \"compute\", \"compute\", \"con\", \"config\", \"config\", \"config\", \"config\", \"config\", \"conn\", \"connectionpool\", \"container\", \"container\", \"container\", \"controller\", \"controller\", \"controller\", \"controller\", \"controller\", \"create\", \"create\", \"create\", \"create\", \"create\", \"debug\", \"debug\", \"debug\", \"debug\", \"debug\", \"dev\", \"dev\", \"dev\", \"dev\", \"dev\", \"development\", \"development\", \"device\", \"device\", \"device\", \"devstack\", \"devstack\", \"devstack\", \"dha\", \"dhcp\", \"dhcp\", \"dhcp\", \"dhcpbridge\", \"directory\", \"directory\", \"dispatch\", \"dispatcher\", \"dist\", \"dist\", \"docker\", \"docker\", \"docker\", \"docker\", \"done\", \"done\", \"done\", \"driver\", \"driver\", \"driver\", \"driver\", \"dropped\", \"el\", \"el\", \"em\", \"em\", \"encap\", \"engine\", \"engine\", \"entries\", \"entries\", \"entries\", \"epel\", \"error\", \"error\", \"error\", \"error\", \"error\", \"etc\", \"etc\", \"etc\", \"etc\", \"etc\", \"eth\", \"eth\", \"ethernet\", \"eventlet\", \"exc\", \"external\", \"external\", \"external\", \"factory\", \"failed\", \"failed\", \"failed\", \"failed\", \"familiar\", \"fe\", \"fe\", \"ff\", \"ff\", \"ff\", \"ff\", \"file\", \"file\", \"file\", \"file\", \"file\", \"fits\", \"flat\", \"flat\", \"fo\", \"forever\", \"forever\", \"frame\", \"func\", \"gateway\", \"gems\", \"get\", \"get\", \"get\", \"get\", \"get\", \"getid\", \"glance\", \"glance\", \"glance\", \"gmt\", \"gre\", \"gt\", \"gt\", \"gt\", \"guests\", \"hash\", \"heat\", \"heat\", \"help\", \"help\", \"help\", \"help\", \"hi\", \"hi\", \"hi\", \"hi\", \"horizon\", \"horizon\", \"horizon\", \"horizon\", \"host\", \"host\", \"host\", \"host\", \"host\", \"hot\", \"href\", \"href\", \"href\", \"html\", \"html\", \"html\", \"html\", \"http\", \"http\", \"http\", \"http\", \"http\", \"https\", \"https\", \"https\", \"https\", \"https\", \"hwaddr\", \"icehouse\", \"icehouse\", \"icehouse\", \"icjodhrwoi\", \"id\", \"id\", \"id\", \"id\", \"id\", \"iface\", \"ift\", \"image\", \"image\", \"image\", \"image\", \"image\", \"img\", \"img\", \"img\", \"impl\", \"inet\", \"info\", \"info\", \"info\", \"insta\", \"install\", \"install\", \"install\", \"install\", \"installed\", \"installed\", \"installed\", \"installed\", \"installing\", \"installing\", \"installing\", \"instan\", \"instance\", \"instance\", \"instance\", \"instance\", \"instances\", \"instances\", \"instances\", \"instances\", \"instantiate\", \"int\", \"int\", \"int\", \"integrate\", \"integrate\", \"interface\", \"interface\", \"internalurl\", \"intervals\", \"introduce\", \"introduce\", \"ip\", \"ip\", \"ip\", \"ipv\", \"ironic\", \"ironic\", \"iscsi\", \"iscsi\", \"juno\", \"juno\", \"juno\", \"kcg\", \"keystone\", \"keystone\", \"keystone\", \"keystone\", \"kilo\", \"kilo\", \"kilo\", \"kilo\", \"kubernetes\", \"kwargs\", \"kwargs\", \"kwargs\", \"late\", \"lft\", \"li\", \"li\", \"li\", \"lib\", \"lib\", \"libcloud\", \"libvirt\", \"libvirt\", \"libvirt\", \"libvirt\", \"like\", \"like\", \"like\", \"like\", \"line\", \"line\", \"line\", \"list\", \"list\", \"list\", \"list\", \"list\", \"lo\", \"loadwsgi\", \"local\", \"local\", \"local\", \"local\", \"local\", \"localdomain\", \"localdomain\", \"log\", \"log\", \"log\", \"log\", \"log\", \"logs\", \"logs\", \"logs\", \"logs\", \"logs\", \"looking\", \"looking\", \"looking\", \"looking\", \"loopback\", \"lt\", \"lt\", \"ly\", \"maas\", \"main\", \"main\", \"manager\", \"manager\", \"manager\", \"manifests\", \"mariadb\", \"means\", \"means\", \"means\", \"messaging\", \"messaging\", \"messaging\", \"mig\", \"ml\", \"mo\", \"mo\", \"mos\", \"mostly\", \"mtu\", \"multicast\", \"murano\", \"nagios\", \"nailgun\", \"name\", \"name\", \"name\", \"name\", \"name\", \"nbd\", \"need\", \"need\", \"need\", \"need\", \"network\", \"network\", \"network\", \"network\", \"neutron\", \"neutron\", \"neutron\", \"neutron\", \"neutronv\", \"new\", \"new\", \"new\", \"new\", \"new\", \"newbie\", \"nic\", \"nic\", \"noarch\", \"noarch\", \"nod\", \"node\", \"node\", \"node\", \"node\", \"node\", \"nosuid\", \"nova\", \"nova\", \"novadocker\", \"object\", \"object\", \"object\", \"one\", \"one\", \"one\", \"one\", \"one\", \"op\", \"op\", \"op\", \"ope\", \"opens\", \"openst\", \"opensta\", \"openstac\", \"openstack\", \"openstack\", \"openstack\", \"openstack\", \"openstack\", \"opt\", \"opt\", \"opt\", \"org\", \"org\", \"org\", \"org\", \"org\", \"osapi\", \"oslo\", \"overcloud\", \"overcloud\", \"overruns\", \"ovs\", \"ovs\", \"packages\", \"packages\", \"packages\", \"packages\", \"packets\", \"page\", \"page\", \"page\", \"partition\", \"partitions\", \"patch\", \"patch\", \"pci\", \"pci\", \"periodic\", \"pid\", \"ping\", \"ping\", \"ping\", \"play\", \"port\", \"port\", \"port\", \"port\", \"possible\", \"possible\", \"possible\", \"possible\", \"ppa\", \"pre\", \"pre\", \"pre\", \"pre\", \"proxy\", \"proxy\", \"proxy\", \"proxy\", \"proxy\", \"publicurl\", \"publicurl\", \"pulling\", \"pulling\", \"py\", \"py\", \"py\", \"pymodules\", \"python\", \"python\", \"python\", \"python\", \"qpid\", \"quantum\", \"quantum\", \"question\", \"question\", \"question\", \"question\", \"raise\", \"raise\", \"rb\", \"recent\", \"recent\", \"regionone\", \"rejoin\", \"relatime\", \"replicator\", \"repos\", \"req\", \"req\", \"req\", \"request\", \"request\", \"request\", \"request\", \"resize\", \"resize\", \"resp\", \"resume\", \"resume\", \"return\", \"return\", \"return\", \"return\", \"return\", \"ring\", \"ring\", \"role\", \"role\", \"role\", \"root\", \"root\", \"root\", \"root\", \"root\", \"rootwrap\", \"router\", \"router\", \"rpc\", \"rpc\", \"rpc\", \"ruby\", \"run\", \"run\", \"run\", \"run\", \"run\", \"runnin\", \"running\", \"running\", \"running\", \"running\", \"running\", \"rw\", \"rw\", \"rx\", \"saio\", \"salvatore\", \"salvatore\", \"say\", \"say\", \"say\", \"sc\", \"scheduler\", \"scheduler\", \"scheduler\", \"screenrc\", \"sda\", \"sda\", \"sdb\", \"sdb\", \"se\", \"secret\", \"seeking\", \"self\", \"self\", \"self\", \"server\", \"server\", \"server\", \"server\", \"server\", \"service\", \"service\", \"service\", \"service\", \"service\", \"session\", \"session\", \"setup\", \"setup\", \"setup\", \"setup\", \"setup\", \"sh\", \"sh\", \"sh\", \"sh\", \"shutoff\", \"sicj\", \"simply\", \"simply\", \"simply\", \"site\", \"site\", \"site\", \"size\", \"size\", \"size\", \"size\", \"size\", \"snapshot\", \"snapshot\", \"snapshot\", \"snapshot\", \"spawn\", \"spawn\", \"spawn\", \"spice\", \"spinner\", \"stack\", \"stack\", \"stack\", \"stack\", \"stack\", \"stackoverflow\", \"stage\", \"stage\", \"state\", \"state\", \"state\", \"state\", \"status\", \"status\", \"status\", \"status\", \"status\", \"storage\", \"storage\", \"storage\", \"storage\", \"storage\", \"strong\", \"strong\", \"strong\", \"sudo\", \"sudo\", \"sudo\", \"sudo\", \"sudo\", \"swift\", \"swift\", \"swift\", \"tap\", \"tar\", \"tempest\", \"tempest\", \"tempest\", \"template\", \"template\", \"template\", \"template\", \"tenant\", \"tenant\", \"tenant\", \"test\", \"test\", \"test\", \"test\", \"test\", \"tester\", \"th\", \"th\", \"thanks\", \"thanks\", \"thanks\", \"thanks\", \"tmp\", \"tmp\", \"token\", \"token\", \"trace\", \"trace\", \"traceback\", \"traffic\", \"true\", \"true\", \"true\", \"true\", \"true\", \"try\", \"try\", \"try\", \"try\", \"try\", \"trying\", \"trying\", \"trying\", \"tun\", \"tx\", \"tx\", \"txqueuelen\", \"type\", \"type\", \"type\", \"type\", \"type\", \"ubu\", \"ubuntu\", \"ubuntu\", \"ubuntu\", \"ubuntu\", \"ubuntu\", \"unbound\", \"unbound\", \"undercloud\", \"upgrade\", \"upgrade\", \"upgrade\", \"urllib\", \"use\", \"use\", \"use\", \"use\", \"use\", \"user\", \"user\", \"user\", \"user\", \"users\", \"users\", \"users\", \"usg\", \"using\", \"using\", \"using\", \"using\", \"using\", \"usr\", \"usr\", \"usr\", \"utils\", \"utils\", \"virt\", \"vlan\", \"vm\", \"vm\", \"vm\", \"vncproxy\", \"vol\", \"volume\", \"volume\", \"volumes\", \"volumes\", \"volumes\", \"vsctl\", \"vxlan\", \"want\", \"want\", \"want\", \"webob\", \"wiki\", \"wiki\", \"wiki\", \"working\", \"working\", \"working\", \"working\", \"worlddump\", \"would\", \"would\", \"would\", \"would\", \"xen\", \"xen\", \"xenapi\", \"xpbmtzijogw\", \"xvdb\"]}, \"mdsDat\": {\"y\": [-0.17386520476167175, 0.27490511868630346, -0.050339462490538903, -0.03077482765542874, -0.019925623778664345], \"cluster\": [1, 1, 1, 1, 1], \"Freq\": [59.134208172417466, 11.230190134863982, 11.069771037187346, 10.830811945000013, 7.7350187105311896], \"topics\": [1, 2, 3, 4, 5], \"x\": [-0.040132395580607008, -0.023969451666754831, -0.14383723016575642, 0.32128396578708668, -0.11334488837396865]}, \"R\": 30, \"lambda.step\": 0.01, \"tinfo\": {\"Category\": [\"Default\", \"Default\", \"Default\", \"Default\", \"Default\", \"Default\", \"Default\", \"Default\", \"Default\", \"Default\", \"Default\", \"Default\", \"Default\", \"Default\", \"Default\", \"Default\", \"Default\", \"Default\", \"Default\", \"Default\", \"Default\", \"Default\", \"Default\", \"Default\", \"Default\", \"Default\", \"Default\", \"Default\", \"Default\", \"Default\", \"Topic1\", \"Topic1\", \"Topic1\", \"Topic1\", \"Topic1\", \"Topic1\", \"Topic1\", \"Topic1\", \"Topic1\", \"Topic1\", \"Topic1\", \"Topic1\", \"Topic1\", \"Topic1\", \"Topic1\", \"Topic1\", \"Topic1\", \"Topic1\", \"Topic1\", \"Topic1\", \"Topic1\", \"Topic1\", \"Topic1\", \"Topic1\", \"Topic1\", \"Topic1\", \"Topic1\", \"Topic1\", \"Topic1\", \"Topic1\", \"Topic1\", \"Topic1\", \"Topic1\", \"Topic1\", \"Topic1\", \"Topic1\", \"Topic1\", \"Topic1\", \"Topic1\", \"Topic1\", \"Topic1\", \"Topic1\", \"Topic1\", \"Topic1\", \"Topic1\", \"Topic1\", \"Topic1\", \"Topic1\", \"Topic1\", \"Topic1\", \"Topic1\", \"Topic1\", \"Topic1\", \"Topic1\", \"Topic1\", \"Topic1\", \"Topic1\", \"Topic1\", \"Topic1\", \"Topic1\", \"Topic1\", \"Topic1\", \"Topic1\", \"Topic1\", \"Topic1\", \"Topic1\", \"Topic1\", \"Topic1\", \"Topic1\", \"Topic1\", \"Topic1\", \"Topic1\", \"Topic1\", \"Topic1\", \"Topic1\", \"Topic1\", \"Topic1\", \"Topic1\", \"Topic1\", \"Topic1\", \"Topic1\", \"Topic1\", \"Topic1\", \"Topic1\", \"Topic2\", \"Topic2\", \"Topic2\", \"Topic2\", \"Topic2\", \"Topic2\", \"Topic2\", \"Topic2\", \"Topic2\", \"Topic2\", \"Topic2\", \"Topic2\", \"Topic2\", \"Topic2\", \"Topic2\", \"Topic2\", \"Topic2\", \"Topic2\", \"Topic2\", \"Topic2\", \"Topic2\", \"Topic2\", \"Topic2\", \"Topic2\", \"Topic2\", \"Topic2\", \"Topic2\", \"Topic2\", \"Topic2\", \"Topic2\", \"Topic2\", \"Topic2\", \"Topic2\", \"Topic2\", \"Topic2\", \"Topic2\", \"Topic2\", \"Topic2\", \"Topic2\", \"Topic2\", \"Topic2\", \"Topic2\", \"Topic2\", \"Topic2\", \"Topic2\", \"Topic2\", \"Topic2\", \"Topic2\", \"Topic2\", \"Topic2\", \"Topic2\", \"Topic2\", \"Topic2\", \"Topic2\", \"Topic2\", \"Topic2\", \"Topic2\", \"Topic2\", \"Topic2\", \"Topic2\", \"Topic2\", \"Topic2\", \"Topic2\", \"Topic2\", \"Topic2\", \"Topic2\", \"Topic2\", \"Topic2\", \"Topic2\", \"Topic2\", \"Topic2\", \"Topic2\", \"Topic2\", \"Topic2\", \"Topic2\", \"Topic3\", \"Topic3\", \"Topic3\", \"Topic3\", \"Topic3\", \"Topic3\", \"Topic3\", \"Topic3\", \"Topic3\", \"Topic3\", \"Topic3\", \"Topic3\", \"Topic3\", \"Topic3\", \"Topic3\", \"Topic3\", \"Topic3\", \"Topic3\", \"Topic3\", \"Topic3\", \"Topic3\", \"Topic3\", \"Topic3\", \"Topic3\", \"Topic3\", \"Topic3\", \"Topic3\", \"Topic3\", \"Topic3\", \"Topic3\", \"Topic3\", \"Topic3\", \"Topic3\", \"Topic3\", \"Topic3\", \"Topic3\", \"Topic3\", \"Topic3\", \"Topic3\", \"Topic3\", \"Topic3\", \"Topic3\", \"Topic3\", \"Topic3\", \"Topic3\", \"Topic3\", \"Topic3\", \"Topic3\", \"Topic3\", \"Topic3\", \"Topic3\", \"Topic3\", \"Topic3\", \"Topic3\", \"Topic3\", \"Topic3\", \"Topic3\", \"Topic3\", \"Topic3\", \"Topic3\", \"Topic3\", \"Topic3\", \"Topic3\", \"Topic3\", \"Topic3\", \"Topic3\", \"Topic3\", \"Topic3\", \"Topic3\", \"Topic3\", \"Topic3\", \"Topic3\", \"Topic3\", \"Topic3\", \"Topic3\", \"Topic3\", \"Topic3\", \"Topic3\", \"Topic3\", \"Topic3\", \"Topic3\", \"Topic3\", \"Topic3\", \"Topic3\", \"Topic3\", \"Topic3\", \"Topic3\", \"Topic3\", \"Topic3\", \"Topic3\", \"Topic3\", \"Topic4\", \"Topic4\", \"Topic4\", \"Topic4\", \"Topic4\", \"Topic4\", \"Topic4\", \"Topic4\", \"Topic4\", \"Topic4\", \"Topic4\", \"Topic4\", \"Topic4\", \"Topic4\", \"Topic4\", \"Topic4\", \"Topic4\", \"Topic4\", \"Topic4\", \"Topic4\", \"Topic4\", \"Topic4\", \"Topic4\", \"Topic4\", \"Topic4\", \"Topic4\", \"Topic4\", \"Topic4\", \"Topic4\", \"Topic4\", \"Topic4\", \"Topic4\", \"Topic4\", \"Topic4\", \"Topic4\", \"Topic4\", \"Topic4\", \"Topic4\", \"Topic4\", \"Topic4\", \"Topic4\", \"Topic4\", \"Topic4\", \"Topic4\", \"Topic4\", \"Topic4\", \"Topic4\", \"Topic4\", \"Topic4\", \"Topic4\", \"Topic4\", \"Topic4\", \"Topic4\", \"Topic4\", \"Topic4\", \"Topic4\", \"Topic4\", \"Topic4\", \"Topic4\", \"Topic4\", \"Topic4\", \"Topic4\", \"Topic4\", \"Topic4\", \"Topic4\", \"Topic4\", \"Topic4\", \"Topic4\", \"Topic4\", \"Topic4\", \"Topic4\", \"Topic4\", \"Topic4\", \"Topic4\", \"Topic5\", \"Topic5\", \"Topic5\", \"Topic5\", \"Topic5\", \"Topic5\", \"Topic5\", \"Topic5\", \"Topic5\", \"Topic5\", \"Topic5\", \"Topic5\", \"Topic5\", \"Topic5\", \"Topic5\", \"Topic5\", \"Topic5\", \"Topic5\", \"Topic5\", \"Topic5\", \"Topic5\", \"Topic5\", \"Topic5\", \"Topic5\", \"Topic5\", \"Topic5\", \"Topic5\", \"Topic5\", \"Topic5\", \"Topic5\", \"Topic5\", \"Topic5\", \"Topic5\", \"Topic5\", \"Topic5\", \"Topic5\", \"Topic5\", \"Topic5\", \"Topic5\", \"Topic5\", \"Topic5\", \"Topic5\", \"Topic5\", \"Topic5\", \"Topic5\", \"Topic5\", \"Topic5\", \"Topic5\", \"Topic5\", \"Topic5\", \"Topic5\", \"Topic5\", \"Topic5\", \"Topic5\", \"Topic5\", \"Topic5\", \"Topic5\", \"Topic5\", \"Topic5\", \"Topic5\", \"Topic5\", \"Topic5\", \"Topic5\", \"Topic5\", \"Topic5\", \"Topic5\", \"Topic5\", \"Topic5\", \"Topic5\", \"Topic5\", \"Topic5\", \"Topic5\"], \"Term\": [\"nova\", \"instance\", \"compute\", \"neutron\", \"cinder\", \"python\", \"network\", \"py\", \"file\", \"ip\", \"lib\", \"usr\", \"code\", \"line\", \"error\", \"packages\", \"volume\", \"stack\", \"openstack\", \"api\", \"swift\", \"trace\", \"trying\", \"http\", \"pre\", \"devstack\", \"id\", \"glance\", \"br\", \"auth\", \"openst\", \"insta\", \"ope\", \"openstac\", \"opens\", \"se\", \"kubernetes\", \"opensta\", \"newbie\", \"instan\", \"chef\", \"hot\", \"late\", \"intervals\", \"runnin\", \"maas\", \"play\", \"familiar\", \"mostly\", \"con\", \"seeking\", \"nod\", \"ubu\", \"builders\", \"fo\", \"autoscaling\", \"among\", \"book\", \"aka\", \"libcloud\", \"want\", \"trying\", \"answer\", \"al\", \"th\", \"co\", \"introduce\", \"pulling\", \"integrate\", \"simply\", \"installed\", \"heat\", \"horizon\", \"openstack\", \"op\", \"say\", \"components\", \"using\", \"need\", \"install\", \"installing\", \"means\", \"icehouse\", \"juno\", \"working\", \"docker\", \"kilo\", \"like\", \"looking\", \"setup\", \"use\", \"template\", \"glance\", \"command\", \"question\", \"cloud\", \"would\", \"try\", \"possible\", \"one\", \"new\", \"devstack\", \"neutron\", \"create\", \"ubuntu\", \"list\", \"api\", \"ip\", \"get\", \"running\", \"keystone\", \"service\", \"image\", \"run\", \"oslo\", \"pid\", \"traceback\", \"pymodules\", \"dispatcher\", \"body\", \"resp\", \"rootwrap\", \"eventlet\", \"func\", \"impl\", \"audit\", \"dhcpbridge\", \"regionone\", \"factory\", \"webob\", \"xenapi\", \"conn\", \"qpid\", \"dispatch\", \"periodic\", \"gmt\", \"adminurl\", \"loadwsgi\", \"connectionpool\", \"internalurl\", \"urllib\", \"osapi\", \"secret\", \"exc\", \"publicurl\", \"recent\", \"raise\", \"utils\", \"amqp\", \"engine\", \"session\", \"py\", \"lib\", \"trace\", \"usr\", \"packages\", \"line\", \"dist\", \"debug\", \"return\", \"call\", \"site\", \"self\", \"python\", \"args\", \"file\", \"auth\", \"em\", \"info\", \"common\", \"token\", \"kwargs\", \"req\", \"messaging\", \"manager\", \"error\", \"http\", \"request\", \"api\", \"keystone\", \"rpc\", \"id\", \"get\", \"name\", \"glance\", \"server\", \"service\", \"code\", \"openstack\", \"builder\", \"ly\", \"dha\", \"partition\", \"replicator\", \"icjodhrwoi\", \"rb\", \"ruby\", \"tar\", \"manifests\", \"kcg\", \"murano\", \"gems\", \"saio\", \"repos\", \"mos\", \"ppa\", \"nailgun\", \"partitions\", \"tester\", \"astute\", \"nagios\", \"ift\", \"auditor\", \"xpbmtzijogw\", \"hash\", \"undercloud\", \"sicj\", \"epel\", \"mariadb\", \"noarch\", \"stage\", \"ring\", \"overcloud\", \"applying\", \"sda\", \"el\", \"ironic\", \"sdb\", \"localdomain\", \"done\", \"role\", \"entries\", \"development\", \"directory\", \"rw\", \"tmp\", \"page\", \"amd\", \"account\", \"users\", \"wiki\", \"thanks\", \"swift\", \"href\", \"html\", \"container\", \"upgrade\", \"org\", \"img\", \"li\", \"code\", \"hi\", \"http\", \"object\", \"storage\", \"main\", \"pre\", \"com\", \"failed\", \"user\", \"https\", \"test\", \"server\", \"log\", \"config\", \"node\", \"help\", \"proxy\", \"root\", \"error\", \"keystone\", \"etc\", \"openstack\", \"use\", \"ubuntu\", \"get\", \"admin\", \"image\", \"install\", \"run\", \"virt\", \"vol\", \"rejoin\", \"sc\", \"stackoverflow\", \"getid\", \"bootable\", \"neutronv\", \"spice\", \"guests\", \"cells\", \"novadocker\", \"usg\", \"shutoff\", \"mig\", \"instantiate\", \"mo\", \"xvdb\", \"fits\", \"nova\", \"nbd\", \"vncproxy\", \"xen\", \"worlddump\", \"spinner\", \"resume\", \"nosuid\", \"salvatore\", \"relatime\", \"screenrc\", \"volume\", \"volumes\", \"iscsi\", \"resize\", \"spawn\", \"attach\", \"unbound\", \"compute\", \"instance\", \"libvirt\", \"snapshot\", \"scheduler\", \"pci\", \"cinder\", \"tempest\", \"driver\", \"instances\", \"stack\", \"logs\", \"sudo\", \"host\", \"opt\", \"state\", \"size\", \"dev\", \"device\", \"rpc\", \"status\", \"error\", \"log\", \"sh\", \"image\", \"boot\", \"api\", \"devstack\", \"openstack\", \"usr\", \"local\", \"lib\", \"create\", \"service\", \"running\", \"vm\", \"node\", \"vlan\", \"inet\", \"packets\", \"gateway\", \"ml\", \"gre\", \"mtu\", \"dropped\", \"tun\", \"rx\", \"broadcast\", \"overruns\", \"tap\", \"ethernet\", \"multicast\", \"iface\", \"lft\", \"vxlan\", \"ipv\", \"vsctl\", \"lo\", \"traffic\", \"frame\", \"encap\", \"brd\", \"carrier\", \"txqueuelen\", \"loopback\", \"collisions\", \"hwaddr\", \"flat\", \"forever\", \"bytes\", \"br\", \"tx\", \"addr\", \"quantum\", \"nic\", \"ovs\", \"agent\", \"ff\", \"port\", \"bridge\", \"fe\", \"gt\", \"lt\", \"eth\", \"patch\", \"network\", \"pre\", \"external\", \"interface\", \"dhcp\", \"code\", \"id\", \"neutron\", \"ip\", \"ping\", \"strong\", \"type\", \"int\", \"host\", \"controller\", \"address\", \"true\", \"node\", \"tenant\", \"name\", \"vm\", \"compute\", \"router\", \"li\"], \"loglift\": [30.0, 29.0, 28.0, 27.0, 26.0, 25.0, 24.0, 23.0, 22.0, 21.0, 20.0, 19.0, 18.0, 17.0, 16.0, 15.0, 14.0, 13.0, 12.0, 11.0, 10.0, 9.0, 8.0, 7.0, 6.0, 5.0, 4.0, 3.0, 2.0, 1.0, 0.52529999999999999, 0.52529999999999999, 0.52529999999999999, 0.52529999999999999, 0.52529999999999999, 0.52529999999999999, 0.52529999999999999, 0.52529999999999999, 0.52529999999999999, 0.52529999999999999, 0.5252, 0.5252, 0.5252, 0.5252, 0.5252, 0.5252, 0.5252, 0.5252, 0.5252, 0.5252, 0.5252, 0.5252, 0.5252, 0.5252, 0.5252, 0.5252, 0.5252, 0.52510000000000001, 0.52510000000000001, 0.52510000000000001, 0.51819999999999999, 0.50960000000000005, 0.52400000000000002, 0.52459999999999996, 0.52429999999999999, 0.5232, 0.52380000000000004, 0.52339999999999998, 0.52200000000000002, 0.5222, 0.48780000000000001, 0.48420000000000002, 0.48470000000000002, 0.44, 0.51439999999999997, 0.51749999999999996, 0.51049999999999995, 0.46379999999999999, 0.47739999999999999, 0.4531, 0.49020000000000002, 0.50419999999999998, 0.48170000000000002, 0.48299999999999998, 0.46910000000000002, 0.4803, 0.48499999999999999, 0.43159999999999998, 0.4904, 0.41439999999999999, 0.37680000000000002, 0.45950000000000002, 0.375, 0.3836, 0.46689999999999998, 0.39579999999999999, 0.42170000000000002, 0.41170000000000001, 0.45500000000000002, 0.3599, 0.3306, 0.29780000000000001, 0.23860000000000001, 0.24440000000000001, 0.28570000000000001, 0.31409999999999999, 0.11650000000000001, 0.21229999999999999, 0.17130000000000001, 0.18429999999999999, 0.11210000000000001, 0.059200000000000003, 0.070000000000000007, 0.21879999999999999, 2.1863999999999999, 2.1863999999999999, 2.1863999999999999, 2.1863000000000001, 2.1861999999999999, 2.1861999999999999, 2.1861000000000002, 2.1861000000000002, 2.1861000000000002, 2.1861000000000002, 2.1859999999999999, 2.1859999999999999, 2.1859999999999999, 2.1859999999999999, 2.1859000000000002, 2.1858, 2.1858, 2.1857000000000002, 2.1857000000000002, 2.1857000000000002, 2.1856, 2.1856, 2.1856, 2.1856, 2.1856, 2.1856, 2.1855000000000002, 2.1855000000000002, 2.1855000000000002, 2.1855000000000002, 2.1839, 2.1595, 2.1707999999999998, 2.1530999999999998, 2.1427, 2.1488999999999998, 2.1396000000000002, 1.9396, 1.9456, 1.9595, 1.9180999999999999, 1.9317, 1.917, 1.9372, 1.9282999999999999, 1.9753000000000001, 1.9450000000000001, 1.8826000000000001, 1.8282, 1.6571, 1.9773000000000001, 1.5802, 1.7441, 1.8109999999999999, 1.8011999999999999, 1.6789000000000001, 1.7622, 1.9399999999999999, 1.8041, 1.9399999999999999, 1.6346000000000001, 0.98919999999999997, 0.83140000000000003, 1.3523000000000001, 0.41389999999999999, 0.64539999999999997, 1.3539000000000001, 0.81379999999999997, 0.38040000000000002, 0.85409999999999997, 0.21709999999999999, 0.40550000000000003, 0.27950000000000003, 0.13900000000000001, -2.1122000000000001, 2.2004999999999999, 2.2000999999999999, 2.2000999999999999, 2.1999, 2.1999, 2.1999, 2.1999, 2.1999, 2.1997, 2.1997, 2.1997, 2.1996000000000002, 2.1996000000000002, 2.1995, 2.1995, 2.1993999999999998, 2.1993, 2.1993, 2.1991999999999998, 2.1991999999999998, 2.1991000000000001, 2.1989999999999998, 2.1989000000000001, 2.1989000000000001, 2.1989000000000001, 2.1989000000000001, 2.1989000000000001, 2.1987999999999999, 2.1987999999999999, 2.1987999999999999, 2.1966999999999999, 2.1962999999999999, 2.1879, 2.1943000000000001, 2.1958000000000002, 2.1968999999999999, 2.177, 2.1825999999999999, 2.1863000000000001, 2.1964999999999999, 2.1452, 2.1381000000000001, 2.1707000000000001, 2.1865999999999999, 2.1143000000000001, 2.1564000000000001, 2.0897999999999999, 2.1252, 2.1366999999999998, 1.9268000000000001, 2.0053000000000001, 2.0369999999999999, 1.7667999999999999, 1.4577, 1.8261000000000001, 1.6949000000000001, 1.5245, 1.9890000000000001, 1.1716, 1.986, 1.2565, 0.81979999999999997, 1.3467, 0.85229999999999995, 1.3727, 1.3355999999999999, 1.6379999999999999, 0.94199999999999995, 1.0028999999999999, 1.2376, 0.83050000000000002, 0.86509999999999998, 1.0331999999999999, 0.47249999999999998, 0.80979999999999996, 1.1206, 0.35120000000000001, 1.0656000000000001, 1.0649999999999999, 0.79039999999999999, -0.1075, 0.059900000000000002, 0.44950000000000001, -1.8464, -0.33489999999999998, -0.1704, -0.23330000000000001, 0.76280000000000003, -0.27289999999999998, -0.74819999999999998, -0.057599999999999998, 2.2227000000000001, 2.2225999999999999, 2.2223000000000002, 2.2223000000000002, 2.2223000000000002, 2.2223000000000002, 2.2222, 2.2222, 2.2221000000000002, 2.2221000000000002, 2.2221000000000002, 2.222, 2.222, 2.222, 2.2219000000000002, 2.2218, 2.2218, 2.2218, 2.2218, 2.2202000000000002, 2.2199, 2.2197, 2.2191999999999998, 2.2187000000000001, 2.2181000000000002, 2.2174999999999998, 2.2161, 2.2155, 2.2149000000000001, 2.2147000000000001, 2.2067999999999999, 2.2136999999999998, 2.2136, 2.2094, 2.1987999999999999, 2.1945000000000001, 2.2092000000000001, 2.1354000000000002, 2.1263999999999998, 2.1490999999999998, 2.1535000000000002, 2.1288, 2.1695000000000002, 1.9377, 2.0789, 1.9787999999999999, 1.9491000000000001, 1.8103, 1.8880999999999999, 1.9422999999999999, 1.6882999999999999, 1.7577, 1.7221, 1.8381000000000001, 1.6678999999999999, 1.8322000000000001, 1.5953999999999999, 1.6152, 1.0165, 1.3369, 1.4118999999999999, 0.69069999999999998, 1.3048, 0.38219999999999998, 0.59740000000000004, -0.82709999999999995, 0.7409, 1.1513, 0.68159999999999998, 0.0809, 0.26440000000000002, 0.42249999999999999, 0.60399999999999998, 0.35260000000000002, 2.5590999999999999, 2.5590999999999999, 2.5590999999999999, 2.5590000000000002, 2.5590000000000002, 2.5589, 2.5589, 2.5589, 2.5589, 2.5589, 2.5589, 2.5589, 2.5587, 2.5587, 2.5586000000000002, 2.5586000000000002, 2.5586000000000002, 2.5585, 2.5585, 2.5585, 2.5585, 2.5583999999999998, 2.5583999999999998, 2.5583999999999998, 2.5583999999999998, 2.5583, 2.5583, 2.5583, 2.5583, 2.5583, 2.5581999999999998, 2.5575999999999999, 2.5438999999999998, 2.4687000000000001, 2.5207000000000002, 2.5251999999999999, 2.4641999999999999, 2.5425, 2.3595000000000002, 2.2189000000000001, 2.3022, 2.1859999999999999, 2.3035999999999999, 2.3574999999999999, 2.0238, 2.0375000000000001, 2.1227999999999998, 2.4074, 1.6176999999999999, 1.7425999999999999, 2.2229999999999999, 1.9009, 1.9254, 1.2072000000000001, 1.4278, 1.1165, 1.2123999999999999, 2.0445000000000002, 1.8875999999999999, 1.3875999999999999, 2.0447000000000002, 1.3912, 1.3454999999999999, 1.6459999999999999, 1.5321, 0.71120000000000005, 1.5529999999999999, 0.93820000000000003, 0.58899999999999997, -0.038399999999999997, 1.6265000000000001, 1.1142000000000001], \"Freq\": [303598.0, 89432.0, 77308.0, 94606.0, 62032.0, 75004.0, 64920.0, 56027.0, 79125.0, 62308.0, 49781.0, 49801.0, 77324.0, 46497.0, 88040.0, 39767.0, 31120.0, 43229.0, 649588.0, 98968.0, 44796.0, 33052.0, 159933.0, 65519.0, 37515.0, 67663.0, 41800.0, 78703.0, 18224.0, 25780.0, 21730.460032263352, 12225.40520438221, 12203.247371741827, 12139.006141705495, 11289.801034694645, 10992.647417745573, 9651.4589433165856, 9605.8860531415503, 8472.4489596357489, 8087.7657447466763, 7634.2188303807543, 7279.0264557083256, 6867.6115874005473, 6751.5865661883809, 6738.3375679917954, 5710.2581126987834, 5594.7761904283252, 5526.9025832898133, 5544.3679803019359, 5595.0397739137179, 5437.7853676850964, 5423.8799926630381, 5421.2139883823429, 5411.9497231688956, 5413.2712267923316, 4553.2332565576262, 4253.3560682868201, 4177.7029265063147, 4119.195293459652, 4091.2315749537925, 71800.288381843158, 157436.33985065072, 25827.508998061843, 16235.166392154, 13704.145594678248, 11096.070600316658, 8189.584452769539, 8163.3074242863022, 8834.0349437554305, 8562.5743627539159, 76511.793795770544, 74407.885461628743, 69529.561470450091, 596425.75637808023, 15110.328456384668, 10614.779897714157, 14415.319860685957, 137122.74963991248, 55293.919898907181, 99393.156075178907, 28652.70620883931, 15352.694491791792, 27275.970011243091, 24970.296637467636, 34888.624684163166, 24595.254914145775, 20563.702015533425, 45997.383185294057, 17791.792385839926, 49902.859425950082, 71708.168056507871, 26177.640163221953, 67716.030579947474, 52631.500352372037, 22478.288234706586, 45423.746939636825, 34252.24832912143, 33523.104931554946, 23157.364539366707, 43267.67493005882, 49639.2933928415, 53893.545795137135, 71022.837942286555, 68468.096027249063, 51946.35442295055, 43070.004401837112, 65755.816378162068, 45561.372642892158, 49377.492608771361, 41556.675533056696, 43871.857118807857, 45373.153452518374, 42892.380334025758, 37558.534131927037, 7555.7083419123583, 6217.6672123057187, 4990.4543512299851, 3814.3954430532685, 2589.9134404571464, 2592.8098532812328, 2316.0152284506139, 2259.4385717470909, 2125.8853525588725, 2075.665148897107, 1858.780734773836, 1802.5451002139905, 1903.9989584798616, 1720.192295578973, 1653.8534753290812, 1292.0429603767554, 1336.4013300371753, 1276.8305769188039, 1294.5787349261534, 1157.9119989440501, 1139.3364315848544, 1119.4633458011465, 1108.9691146254052, 1071.2908508870505, 1066.4683739559262, 1070.8116192438713, 1009.1855880426496, 1029.9607996094592, 1017.808982083134, 931.63099787938688, 1213.5165921183925, 4725.101529962215, 2171.816583359855, 4688.5695355802554, 4987.3638492338378, 3063.2876800336639, 2552.1746449161801, 43766.419409512615, 39120.972246492165, 26337.762987192222, 38077.39321291088, 30820.907087828411, 35509.604655052266, 16658.719695970696, 12972.77177515949, 7751.19293339469, 8631.7429237405468, 12621.262622863776, 16320.745895434524, 44172.451687128203, 6312.7608590409263, 43150.849646340743, 16562.411867003328, 8565.401578414012, 8793.8095325688009, 11876.470557649944, 8836.0338827281448, 5024.0711150555608, 7035.8927421640847, 4872.0230327592644, 8867.6692869690341, 26585.888988084051, 16898.179416693059, 9585.6434030627061, 16812.785479857834, 14201.971402878222, 8163.9486948372742, 10592.823794383123, 11558.501260498504, 9374.8035308556591, 10981.493341154923, 10442.017953793491, 10740.450508903607, 9979.0864726756954, 8825.0542295280193, 2112.2428046918135, 1188.4889396054693, 1169.3274940822948, 988.91800371941918, 934.20489216821568, 923.23852085284568, 916.13113702612179, 904.79183129844535, 812.38140827279369, 798.7968279364876, 789.5643599067846, 755.54261583046639, 733.17295796254677, 694.60266157041565, 671.21829250295639, 635.62483045394004, 702.41246697258771, 587.47678651584522, 562.19023594960538, 564.29499460993497, 521.07815702385767, 509.93165897330215, 495.19171026019023, 492.88295804749288, 480.24503807100263, 477.816815685427, 484.5885998623117, 472.50727640148756, 468.98373293073115, 461.08155518080673, 2533.0380458101395, 1205.5361834960706, 1875.5830345979809, 905.11627501124963, 728.93484766360677, 623.5601648141311, 3037.0363102212591, 1956.8425110031701, 1099.4953716962334, 621.25222861519308, 3635.3331774141548, 3450.1097517595822, 1410.1044088277704, 839.27716440500421, 2323.6674209772477, 1130.5297832408266, 2192.7281139635406, 1462.1173373936244, 1163.3187221400296, 5006.1746656583055, 2684.5375445555937, 1899.3041654142739, 6646.7805228980415, 21303.201630022249, 4288.2304381256627, 4561.4040121624284, 5367.7870287455717, 1569.1226053628127, 11462.344290700077, 1518.8438483966929, 7701.0408485366906, 19430.651832801133, 6267.3947350090821, 17007.846596432915, 5662.0652060877128, 5906.6807949249651, 3106.7729141566865, 10652.208025341306, 9125.0584741196089, 5692.9353265140089, 10062.725048320397, 8787.3001901654625, 6381.0364534129312, 11006.349911976202, 7201.475380255084, 4866.9691773483701, 8882.4463117963096, 4959.1478774920834, 4933.0327651698444, 5814.2153556798985, 8752.3779267064147, 7795.0933038708945, 5871.3251534030196, 11347.411356407722, 6588.3753208414419, 6163.0674014796641, 6167.9110584268119, 5168.3116631792273, 5698.0449147572126, 5596.7321741741316, 5333.3034938099045, 10892.150822931831, 5185.3887073143414, 2281.6633271133237, 2164.9513974670322, 2163.64174272631, 2104.8926895575387, 1645.174629588075, 1565.5396730271141, 1575.5438114115159, 1457.9818927411718, 1360.385271560071, 1391.2689553069981, 1331.7240206469623, 1240.2921173950176, 1084.5374560729847, 1121.9823872028744, 2126.3816031702695, 1074.093784450904, 1061.6552708223712, 302802.2962745484, 344.65296668311981, 328.40421977116921, 2082.7093390474179, 239.49036234228862, 208.2917418738507, 1284.0791029502218, 146.64058138993607, 219.81753096494347, 124.11184653046341, 119.2886803855978, 30625.948676477859, 8685.9659350286929, 3696.3671097817237, 2990.0688164281578, 4126.3598555461476, 6101.3316262494081, 1057.1504752565656, 70839.623790776721, 81212.608083385465, 8890.0549055009251, 6034.126177775529, 8452.1373314123757, 2818.7848295288932, 46644.206300054131, 6901.6882832392021, 12335.141259843191, 11967.384473502689, 28619.417687992984, 7975.8956264756935, 5474.945762320941, 15539.783502841901, 8143.7850314650577, 8038.5995176049055, 5744.0916747602205, 8610.4851005553901, 5646.9662787647221, 10024.731389284392, 8806.2919958923467, 26352.576054868066, 11935.848717289125, 10099.655016992376, 14614.159267985709, 8673.8139989991614, 15708.586912706754, 13318.618262855047, 30766.555248386638, 11315.356224323876, 9015.9781334759027, 10660.056770310279, 10649.141981624041, 10204.049778260161, 9658.3711307562571, 9372.3874110775505, 8702.749118785574, 3706.2553631252658, 3409.6545951532921, 3128.0895456226131, 2920.9100091776318, 2871.3166343546027, 2239.4065803006597, 2234.5259184706815, 2159.7265458783509, 2083.883439357614, 2076.8799222255307, 1954.0064029470964, 1945.2704107747736, 1559.6040678226918, 1486.8168338446799, 1375.8841570412194, 1275.6467125786519, 1244.9324281122567, 1229.0902467704793, 1199.2926315656794, 1185.8162408196099, 1140.684126293811, 1107.7083775289755, 1085.4780958395295, 1023.623729474445, 999.41406540598416, 992.27140980806234, 959.26277422041505, 1017.8287049271104, 941.82157408036392, 918.21123076260676, 2307.7533738153038, 1364.9518458306579, 4215.3446364362871, 16644.84567571454, 2463.8519718703578, 2169.9087967055175, 6124.3117354343685, 1303.242465404792, 5497.5375275668039, 10873.16146327728, 6069.3904092118119, 11840.036109669585, 4868.0722703024376, 3427.4609678305183, 14698.516002363298, 11467.913403170813, 7774.188092328518, 2374.635928150507, 25315.431871035504, 16575.990297473338, 4053.8563584687977, 9411.5682201646323, 6442.4578691329261, 20001.276442798615, 13481.350985034358, 22349.201912948221, 16201.732154691334, 4450.0548969721831, 5207.6239270696788, 9514.3674400911004, 4176.8320618041362, 8245.06100099996, 7975.1681584248108, 6206.3475151493885, 5985.0041756339351, 8895.8183127600223, 5478.2761672469078, 7023.3068283864059, 6593.503795807429, 5754.5746951612846, 4577.7108850781087, 4667.7428137772522], \"Total\": [303598.0, 89432.0, 77308.0, 94606.0, 62032.0, 75004.0, 64920.0, 56027.0, 79125.0, 62308.0, 49781.0, 49801.0, 77324.0, 46497.0, 88040.0, 39767.0, 31120.0, 43229.0, 649588.0, 98968.0, 44796.0, 33052.0, 159933.0, 65519.0, 37515.0, 67663.0, 41800.0, 78703.0, 18224.0, 25780.0, 21731.344637942278, 12226.282229964105, 12204.123337013154, 12139.881325669301, 11290.685335514911, 10993.537708235655, 9652.3343431402318, 9606.7633846799035, 8473.3294525195106, 8088.6422738069277, 7635.1250402825262, 7279.9085404506477, 6868.4941352008091, 6752.46209583564, 6739.2117782687146, 5711.1465401359173, 5595.663668936194, 5527.7829833692476, 5545.2517097585178, 5595.9382749939305, 5438.6623272912348, 5424.7568300314324, 5422.0909017928843, 5412.8253585069178, 5414.1478875345811, 4554.1186368272856, 4254.2456856792423, 4178.5879812057492, 4120.0738417275761, 4092.106624527124, 72319.671636312967, 159933.43106686996, 25863.021695177897, 16248.036579456188, 13718.498006811064, 11120.437866685174, 8202.555700013163, 8179.3904455532829, 8863.9877688855249, 8589.3227875786524, 79440.748924953019, 77533.323033872337, 72416.65056867231, 649588.16461852216, 15276.637470096159, 10698.787549751205, 14631.20962793334, 145825.35260630414, 58007.585048094821, 106840.65600399741, 29679.264030426624, 15680.367550820645, 28493.364322111251, 26049.782313496406, 36908.307830081852, 25729.380734154267, 21411.700531010516, 50516.759564411041, 18424.478260271153, 55757.069320297691, 83195.664757207473, 27958.427850397238, 78703.126551650668, 60646.676858550731, 23830.643151197852, 51708.46357502498, 37992.957075767059, 37558.813007690616, 24845.189527696009, 51051.338388199008, 60314.036077587058, 67663.034336950368, 94606.191925873645, 90682.018591416359, 66016.923205070038, 53200.867399147151, 98968.109953868174, 62308.057472761109, 70357.891957096464, 58447.168980169998, 66322.040641355416, 72321.38268182255, 67627.630507619353, 51034.66215131239, 7556.7410143963316, 6218.7225981841548, 4991.4896834314004, 3815.5094852550528, 2590.9447116145498, 2593.8490587000792, 2317.0481517041799, 2260.5335255373702, 2126.9211735043223, 2076.6972200457885, 1859.8200666760206, 1803.6115419110859, 1905.148376561312, 1721.2321833149658, 1654.8933361934837, 1293.0752399993964, 1337.4816616805358, 1277.881639980322, 1295.6637123304763, 1158.9438141125117, 1140.3801589628549, 1120.5010489268923, 1110.0132362734864, 1072.3238135422878, 1067.5029691351072, 1071.8542543168046, 1010.2198988405444, 1031.0187673965036, 1018.8735828887674, 932.66288094394827, 1216.7651422532149, 4854.9040632595425, 2206.4000027053016, 4847.9699706547653, 5210.8374057532437, 3180.7682183424836, 2674.9012107092599, 56027.011985237492, 49781.815255069319, 33052.124763447566, 49801.309504289944, 39767.3850977248, 46497.860516013898, 21377.236222704523, 16795.641883571181, 9574.325867790616, 10990.130543642352, 17104.371299595743, 23355.886557178812, 75004.451300907909, 7781.8556440279144, 79125.830549544538, 25780.428225792559, 12469.812583008974, 12928.210137957689, 19731.506480786065, 13506.563298829638, 6428.9557554004959, 10314.190070204389, 6234.3375591446547, 15400.897301356203, 88040.193702796809, 65519.853252517038, 22077.496702165081, 98968.109953868174, 66322.040641355416, 18772.738790853662, 41800.232960766138, 70357.891957096464, 35533.191101303542, 78703.126551650668, 61987.499005476951, 72321.38268182255, 77324.506711261056, 649588.16461852216, 2113.2568248526513, 1189.4858699667836, 1170.3235369832266, 989.93326469376836, 935.20122009294778, 924.23447514082704, 917.12480513618107, 905.78330095367755, 813.38756542946589, 799.79512542725297, 790.56001389883681, 756.53740655963691, 734.1676008469849, 695.60584606410157, 672.21303563955905, 636.61617548601009, 703.5611323579044, 588.4687047946361, 563.18398531611058, 565.30931372141117, 522.06949542549955, 510.92673307652814, 496.18807200512163, 493.88028434434295, 481.24131070428319, 478.81802942650563, 485.60634002249134, 473.50345364802507, 469.97856476948067, 462.08228130517062, 2543.8620133475606, 1211.2089724210052, 1900.2280561828454, 911.1430851030367, 732.73448705029273, 626.08879164753228, 3110.7642872872661, 1993.0663206829311, 1115.7733719418427, 624.02826871812658, 3843.8348685843066, 3673.7511651779446, 1453.4699603445413, 851.43685888674463, 2533.9721222324106, 1182.027154212142, 2450.5411484118604, 1577.1536460391103, 1240.5154079989852, 6585.01916737182, 3264.7951440592396, 2237.6065267018521, 10260.308384616194, 44796.65028596195, 6238.6663491093495, 7566.056543742493, 10558.042549461188, 1939.5931184737417, 32084.922301822749, 1883.0146054965517, 19803.338547383606, 77324.506711261056, 14725.890443640492, 65519.853252517038, 12961.831018683308, 14033.058327906905, 5454.9024867401467, 37515.915853319602, 30235.834258817715, 14917.605167786354, 39618.892958128883, 33418.517565541792, 20512.651470953526, 61987.499005476951, 28945.378166553062, 14336.399845265316, 56476.403712543906, 15434.615339247845, 15361.591633526188, 23828.561993010793, 88040.193702796809, 66322.040641355416, 33836.435646339603, 649588.16461852216, 83195.664757207473, 66016.923205070038, 70357.891957096464, 21774.341051693104, 67627.630507619353, 106840.65600399741, 51034.66215131239, 10893.122256801311, 5186.3774457300015, 2282.6937456561827, 2166.008838484373, 2164.7099491859531, 2105.9667322637106, 1646.1494811898567, 1566.5115126333058, 1576.5405407908697, 1458.9955765281504, 1361.3620865081184, 1392.2865919941109, 1332.7120334252215, 1241.3059779211546, 1085.5410353576553, 1123.0333948162252, 2128.4865872394325, 1075.1681377480759, 1062.7270841209943, 303598.04836758098, 345.64679273055015, 329.42485036146348, 2090.1067124058841, 240.4607167715408, 209.27522235188485, 1290.8628514698512, 147.62794266885777, 221.41880615573484, 125.09923646195787, 120.26009029153538, 31120.634075614158, 8765.1704453254424, 3730.4804148589401, 3030.4061156104508, 4226.684139233339, 6276.1252384455192, 1071.6144331159821, 77308.174263235065, 89432.294803866462, 9569.8876031154141, 6466.8075188185112, 9284.4976648747452, 2972.994389342427, 62032.46040843556, 7969.451171591073, 15743.422469631007, 15734.98569720072, 43229.328357457118, 11146.314607851651, 7247.378542369237, 26519.252186243946, 12966.387041429871, 13262.565015558264, 8439.0002126401505, 14997.367905616466, 8345.448346655081, 18772.738790853662, 16168.325471053256, 88040.193702796809, 28945.378166553062, 22723.190820586358, 67627.630507619353, 21721.617109077488, 98968.109953868174, 67663.034336950368, 649588.16461852216, 49801.309504289944, 26322.817057641056, 49781.815255069319, 90682.018591416359, 72321.38268182255, 58447.168980169998, 47300.667389596347, 56476.403712543906, 3707.32130535634, 3410.715957413418, 3129.150334395491, 2921.9814003207625, 2872.3808970279811, 2240.4702637248665, 2235.5903439289823, 2160.7946068606575, 2084.9451304355216, 2077.9406172634226, 1955.0674657690063, 1946.330656690001, 1560.6677306424449, 1487.9236657319, 1376.9445742417533, 1276.7111840141768, 1245.992664740701, 1230.1522563893257, 1200.3592535254552, 1186.8787111624492, 1141.7506830138225, 1108.7780811385826, 1086.541644185759, 1024.6843433053093, 1000.4744703200926, 993.33173287045224, 960.32299889309797, 1018.9541868173037, 942.88239649369086, 919.27190575095085, 2310.5172914922678, 1367.4563268845202, 4281.4257730337849, 18224.556053744454, 2561.0416802393247, 2245.4660024530244, 6736.0041214904722, 1325.4084336742819, 6714.2527396065288, 15283.624434205576, 7849.7801039409014, 17200.109545578111, 6287.3199942604879, 4194.1389914867186, 25112.170354235561, 19325.890128617422, 12030.233371270762, 2764.3844600450934, 64920.979321087201, 37515.915853319602, 5675.118036545764, 18182.496077019459, 12145.448480221161, 77324.506711261056, 41800.232960766138, 94606.191925873645, 62308.057472761109, 7447.4367659111958, 10195.2408257017, 30709.616733118975, 6988.2447592744002, 26519.252186243946, 26849.695827565491, 15470.904660169581, 16719.897311540837, 56476.403712543906, 14987.051405206819, 35533.191101303542, 47300.667389596347, 77308.174263235065, 11635.836702884586, 19803.338547383606], \"logprob\": [30.0, 29.0, 28.0, 27.0, 26.0, 25.0, 24.0, 23.0, 22.0, 21.0, 20.0, 19.0, 18.0, 17.0, 16.0, 15.0, 14.0, 13.0, 12.0, 11.0, 10.0, 9.0, 8.0, 7.0, 6.0, 5.0, 4.0, 3.0, 2.0, 1.0, -5.9314, -6.5065999999999997, -6.5084, -6.5137, -6.5861999999999998, -6.6128999999999998, -6.7430000000000003, -6.7477999999999998, -6.8733000000000004, -6.9198000000000004, -6.9775, -7.0251000000000001, -7.0833000000000004, -7.1003999999999996, -7.1022999999999996, -7.2679, -7.2882999999999996, -7.3005000000000004, -7.2972999999999999, -7.2882999999999996, -7.3167999999999997, -7.3193000000000001, -7.3197999999999999, -7.3215000000000003, -7.3212999999999999, -7.4943, -7.5624000000000002, -7.5804, -7.5945, -7.6013000000000002, -4.7362000000000002, -3.9510999999999998, -5.7587000000000002, -6.2229999999999999, -6.3924000000000003, -6.6035000000000004, -6.9073000000000002, -6.9104999999999999, -6.8315000000000001, -6.8627000000000002, -4.6726999999999999, -4.7005999999999997, -4.7683999999999997, -2.6192000000000002, -6.2948000000000004, -6.6478999999999999, -6.3418000000000001, -4.0892999999999997, -4.9974999999999996, -4.4109999999999996, -5.6548999999999996, -6.2788000000000004, -5.7041000000000004, -5.7923999999999998, -5.4580000000000002, -5.8075999999999999, -5.9866000000000001, -5.1814999999999998, -6.1314000000000002, -5.1001000000000003, -4.7374999999999998, -5.7451999999999996, -4.7948000000000004, -5.0468000000000002, -5.8975999999999997, -5.1940999999999997, -5.4763999999999999, -5.4978999999999996, -5.8677999999999999, -5.2427000000000001, -5.1052999999999997, -5.0231000000000003, -4.7470999999999997, -4.7838000000000003, -5.0598999999999998, -5.2473000000000001, -4.8242000000000003, -5.1910999999999996, -5.1105999999999998, -5.2831000000000001, -5.2289000000000003, -5.1951999999999998, -5.2514000000000003, -5.3841999999999999, -5.3266, -5.5214999999999996, -5.7413999999999996, -6.0101000000000004, -6.3973000000000004, -6.3962000000000003, -6.5091000000000001, -6.5338000000000003, -6.5946999999999996, -6.6185999999999998, -6.7290000000000001, -6.7596999999999996, -6.7050000000000001, -6.8064999999999998, -6.8457999999999997, -7.0926999999999998, -7.0589000000000004, -7.1044999999999998, -7.0907, -7.2023000000000001, -7.2184999999999997, -7.2361000000000004, -7.2454999999999998, -7.2801, -7.2846000000000002, -7.2805, -7.3398000000000003, -7.3193999999999999, -7.3312999999999997, -7.4196999999999997, -7.1554000000000002, -5.7960000000000003, -6.5734000000000004, -5.8037999999999998, -5.742, -6.2294, -6.4119999999999999, -3.5701000000000001, -3.6823000000000001, -4.0778999999999996, -3.7092999999999998, -3.9207000000000001, -3.7791000000000001, -4.5359999999999996, -4.7861000000000002, -5.3010999999999999, -5.1935000000000002, -4.8135000000000003, -4.5564999999999998, -3.5608, -5.5064000000000002, -3.5842000000000001, -4.5418000000000003, -5.2012, -5.1749000000000001, -4.8743999999999996, -5.1700999999999997, -5.7347000000000001, -5.3978999999999999, -5.7653999999999996, -5.1665000000000001, -4.0685000000000002, -4.5217000000000001, -5.0887000000000002, -4.5267999999999997, -4.6955, -5.2492000000000001, -4.9888000000000003, -4.9015000000000004, -5.1109, -4.9527000000000001, -5.0030999999999999, -4.9748999999999999, -5.0484, -5.1712999999999996, -6.5868000000000002, -7.1619000000000002, -7.1780999999999997, -7.3456999999999999, -7.4025999999999996, -7.4143999999999997, -7.4221000000000004, -7.4345999999999997, -7.5423, -7.5591999999999997, -7.5708000000000002, -7.6148999999999996, -7.6448999999999998, -7.6989999999999998, -7.7332000000000001, -7.7877000000000001, -7.6878000000000002, -7.8665000000000003, -7.9104999999999999, -7.9066999999999998, -7.9863999999999997, -8.0079999999999991, -8.0373000000000001, -8.0419999999999998, -8.0679999999999996, -8.0731000000000002, -8.0589999999999993, -8.0841999999999992, -8.0916999999999994, -8.1087000000000007, -6.4051, -7.1475999999999997, -6.7055999999999996, -7.4341999999999997, -7.6506999999999996, -7.8068, -6.2237, -6.6631999999999998, -7.2397, -7.8106, -6.0438000000000001, -6.0960999999999999, -6.9908999999999999, -7.5098000000000003, -6.4913999999999996, -7.2119, -6.5494000000000003, -6.9546999999999999, -7.1833, -5.7239000000000004, -6.3470000000000004, -6.6931000000000003, -5.4404000000000003, -4.2756999999999996, -5.8787000000000003, -5.8169000000000004, -5.6540999999999997, -6.8840000000000003, -4.8955000000000002, -6.9165999999999999, -5.2931999999999997, -4.3677000000000001, -5.4992000000000001, -4.5008999999999997, -5.6007999999999996, -5.5585000000000004, -6.2009999999999996, -4.9687999999999999, -5.1234999999999999, -5.5952999999999999, -5.0256999999999996, -5.1612, -5.4812000000000003, -4.9360999999999997, -5.3602999999999996, -5.7521000000000004, -5.1505000000000001, -5.7332999999999998, -5.7385999999999999, -5.5742000000000003, -5.1651999999999996, -5.2809999999999997, -5.5644999999999998, -4.9055, -5.4492000000000003, -5.516, -5.5152000000000001, -5.6920000000000002, -5.5944000000000003, -5.6124000000000001, -5.6605999999999996, -4.9246999999999996, -5.6669, -6.4878, -6.5403000000000002, -6.5408999999999997, -6.5685000000000002, -6.8148999999999997, -6.8644999999999996, -6.8581000000000003, -6.9356999999999998, -7.0049000000000001, -6.9824999999999999, -7.0262000000000002, -7.0974000000000004, -7.2316000000000003, -7.1976000000000004, -6.5583, -7.2412000000000001, -7.2529000000000003, -1.5995999999999999, -8.3779000000000003, -8.4261999999999997, -6.5789999999999997, -8.7420000000000009, -8.8815000000000008, -7.0627000000000004, -9.2324999999999999, -8.8277000000000001, -9.3993000000000002, -9.4389000000000003, -3.8908999999999998, -5.1509999999999998, -6.0053999999999998, -6.2173999999999996, -5.8952999999999998, -5.5042, -7.2571000000000003, -3.0522999999999998, -2.9156, -5.1277999999999997, -5.5152999999999999, -5.1783000000000001, -6.2763999999999998, -3.4702000000000002, -5.3810000000000002, -4.8003, -4.8304999999999998, -3.9586000000000001, -5.2363, -5.6124999999999998, -4.5693000000000001, -5.2154999999999996, -5.2285000000000004, -5.5644999999999998, -5.1597, -5.5815999999999999, -5.0076999999999998, -5.1372, -4.0411999999999999, -4.8331999999999997, -5.0002000000000004, -4.6307, -5.1524000000000001, -4.5585000000000004, -4.7236000000000002, -3.8862999999999999, -4.8865999999999996, -5.1136999999999997, -4.9462000000000002, -4.9471999999999996, -4.9898999999999996, -5.0449000000000002, -5.0749000000000004, -5.1490999999999998, -5.6661000000000001, -5.7495000000000003, -5.8357000000000001, -5.9042000000000003, -5.9212999999999996, -6.1699000000000002, -6.1719999999999997, -6.2061000000000002, -6.2417999999999996, -6.2451999999999996, -6.3061999999999996, -6.3106999999999998, -6.5316000000000001, -6.5793999999999997, -6.657, -6.7325999999999997, -6.7569999999999997, -6.7698, -6.7942999999999998, -6.8056000000000001, -6.8445, -6.8738000000000001, -6.8940999999999999, -6.9527000000000001, -6.9767000000000001, -6.9837999999999996, -7.0176999999999996, -6.9584000000000001, -7.0359999999999996, -7.0613999999999999, -6.1398000000000001, -6.665, -5.5373000000000001, -4.1639999999999997, -6.0743999999999998, -6.2013999999999996, -5.1638000000000002, -6.7111999999999998, -5.2717999999999998, -4.5898000000000003, -5.1727999999999996, -4.5045999999999999, -5.3933999999999997, -5.7443, -4.2882999999999996, -4.5365000000000002, -4.9253, -6.1112000000000002, -3.7446999999999999, -4.1680999999999999, -5.5763999999999996, -4.7340999999999998, -5.1132, -3.9803000000000002, -4.3747999999999996, -3.8693, -4.1909999999999998, -5.4832000000000001, -5.3259999999999996, -4.7233000000000001, -5.5465, -4.8665000000000003, -4.8997000000000002, -5.1505000000000001, -5.1867999999999999, -4.7904999999999998, -5.2752999999999997, -5.0267999999999997, -5.0899999999999999, -5.2260999999999997, -5.4549000000000003, -5.4353999999999996]}};\n",
       "\n",
       "function LDAvis_load_lib(url, callback){\n",
       "  var s = document.createElement('script');\n",
       "  s.src = url;\n",
       "  s.async = true;\n",
       "  s.onreadystatechange = s.onload = callback;\n",
       "  s.onerror = function(){console.warn(\"failed to load library \" + url);};\n",
       "  document.getElementsByTagName(\"head\")[0].appendChild(s);\n",
       "}\n",
       "\n",
       "if(typeof(LDAvis) !== \"undefined\"){\n",
       "   // already loaded: just create the visualization\n",
       "   !function(LDAvis){\n",
       "       new LDAvis(\"#\" + \"ldavis_el631616110025281478374575\", ldavis_el631616110025281478374575_data);\n",
       "   }(LDAvis);\n",
       "}else if(typeof define === \"function\" && define.amd){\n",
       "   // require.js is available: use it to load d3/LDAvis\n",
       "   require.config({paths: {d3: \"https://cdnjs.cloudflare.com/ajax/libs/d3/3.5.5/d3.min\"}});\n",
       "   require([\"d3\"], function(d3){\n",
       "      window.d3 = d3;\n",
       "      LDAvis_load_lib(\"https://cdn.rawgit.com/bmabey/pyLDAvis/files/ldavis.v1.0.0.js\", function(){\n",
       "        new LDAvis(\"#\" + \"ldavis_el631616110025281478374575\", ldavis_el631616110025281478374575_data);\n",
       "      });\n",
       "    });\n",
       "}else{\n",
       "    // require.js not available: dynamically load d3 & LDAvis\n",
       "    LDAvis_load_lib(\"https://cdnjs.cloudflare.com/ajax/libs/d3/3.5.5/d3.min.js\", function(){\n",
       "         LDAvis_load_lib(\"https://cdn.rawgit.com/bmabey/pyLDAvis/files/ldavis.v1.0.0.js\", function(){\n",
       "                 new LDAvis(\"#\" + \"ldavis_el631616110025281478374575\", ldavis_el631616110025281478374575_data);\n",
       "            })\n",
       "         });\n",
       "}\n",
       "</script>"
      ],
      "text/plain": [
       "<IPython.core.display.HTML object>"
      ]
     },
     "execution_count": 60,
     "metadata": {},
     "output_type": "execute_result"
    }
   ],
   "source": [
    "openstack_data =  pyLDAvis.gensim.prepare(lda, corpus, dictionary)\n",
    "pyLDAvis.display(openstack_data)"
   ]
  },
  {
   "cell_type": "code",
   "execution_count": 61,
   "metadata": {
    "collapsed": false
   },
   "outputs": [],
   "source": [
    "pyLDAvis.save_html(openstack_data,\"openstack.html\")\n",
    "#pyLDAvis.save_html(vis_data,outpth+'LDA_Visualization.html')"
   ]
  },
  {
   "cell_type": "code",
   "execution_count": 62,
   "metadata": {
    "collapsed": false
   },
   "outputs": [
    {
     "name": "stdout",
     "output_type": "stream",
     "text": [
      "LdaModel(num_terms=38120, num_topics=5, decay=0.5, chunksize=2000)\n"
     ]
    }
   ],
   "source": [
    "print(lda)"
   ]
  },
  {
   "cell_type": "code",
   "execution_count": 63,
   "metadata": {
    "collapsed": false
   },
   "outputs": [],
   "source": [
    "token_table=pd.DataFrame(openstack_data.token_table )\n",
    "token_table.to_csv(\"open_stack_token_table.csv\")"
   ]
  },
  {
   "cell_type": "code",
   "execution_count": 64,
   "metadata": {
    "collapsed": false
   },
   "outputs": [],
   "source": [
    "topic=[]\n",
    "for i in df.field_words_bag:\n",
    "    bow_vector = dictionary.doc2bow(i)\n",
    "    lda_vector = lda[bow_vector]\n",
    "    topic.append(lda_vector[0][-2])\n"
   ]
  },
  {
   "cell_type": "code",
   "execution_count": 65,
   "metadata": {
    "collapsed": true
   },
   "outputs": [],
   "source": [
    "df['Cluster']=pd.Series(topic)"
   ]
  },
  {
   "cell_type": "code",
   "execution_count": 66,
   "metadata": {
    "collapsed": true
   },
   "outputs": [],
   "source": [
    "df.to_csv('df.csv', encoding='utf-8')"
   ]
  },
  {
   "cell_type": "code",
   "execution_count": 67,
   "metadata": {
    "collapsed": true
   },
   "outputs": [],
   "source": [
    "del(df)"
   ]
  },
  {
   "cell_type": "code",
   "execution_count": 68,
   "metadata": {
    "collapsed": true
   },
   "outputs": [],
   "source": [
    "topic=[]\n",
    "for i in df_st.field_words_bag:\n",
    "    bow_vector = dictionary.doc2bow(i)\n",
    "    lda_vector = lda[bow_vector]\n",
    "    topic.append(lda_vector[0][-2])"
   ]
  },
  {
   "cell_type": "code",
   "execution_count": 69,
   "metadata": {
    "collapsed": true
   },
   "outputs": [],
   "source": [
    "df_st['Cluster']=pd.Series(topic)"
   ]
  },
  {
   "cell_type": "code",
   "execution_count": 70,
   "metadata": {
    "collapsed": false
   },
   "outputs": [],
   "source": [
    "df_st.to_csv('df_st.csv', encoding='utf-8')\n"
   ]
  },
  {
   "cell_type": "code",
   "execution_count": 71,
   "metadata": {
    "collapsed": true
   },
   "outputs": [],
   "source": [
    "del(df_st)"
   ]
  },
  {
   "cell_type": "code",
   "execution_count": 72,
   "metadata": {
    "collapsed": true
   },
   "outputs": [],
   "source": [
    "topic=[]\n",
    "for i in df_ask.field_words_bag:\n",
    "    bow_vector = dictionary.doc2bow(i)\n",
    "    lda_vector = lda[bow_vector]\n",
    "    topic.append(lda_vector[0][-2])"
   ]
  },
  {
   "cell_type": "code",
   "execution_count": 73,
   "metadata": {
    "collapsed": true
   },
   "outputs": [],
   "source": [
    "df_ask['Cluster']=pd.Series(topic)"
   ]
  },
  {
   "cell_type": "code",
   "execution_count": 74,
   "metadata": {
    "collapsed": false
   },
   "outputs": [],
   "source": [
    "df_ask.to_csv('df_ask.csv', encoding='utf-8')"
   ]
  },
  {
   "cell_type": "code",
   "execution_count": null,
   "metadata": {
    "collapsed": true
   },
   "outputs": [],
   "source": []
  }
 ],
 "metadata": {
  "anaconda-cloud": {
   "environment": null,
   "summary": "ML_FaultGenes",
   "url": "https://anaconda.org/zainabsayyed/openstack_ml"
  },
  "kernelspec": {
   "display_name": "Python [default]",
   "language": "python",
   "name": "python2"
  },
  "language_info": {
   "codemirror_mode": {
    "name": "ipython",
    "version": 2
   },
   "file_extension": ".py",
   "mimetype": "text/x-python",
   "name": "python",
   "nbconvert_exporter": "python",
   "pygments_lexer": "ipython2",
   "version": "2.7.12"
  }
 },
 "nbformat": 4,
 "nbformat_minor": 1
}
